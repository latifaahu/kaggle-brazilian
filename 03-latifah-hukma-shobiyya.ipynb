{
 "cells": [
  {
   "cell_type": "markdown",
   "id": "88940518",
   "metadata": {
    "papermill": {
     "duration": 0.030383,
     "end_time": "2022-10-02T08:13:02.521842",
     "exception": false,
     "start_time": "2022-10-02T08:13:02.491459",
     "status": "completed"
    },
    "tags": []
   },
   "source": [
    "# # Assignment 3 - Chapter 3: Reproducible Research (Insight-as-a-Code)\n",
    "\n",
    "Customer 360 Degree View Dataset Using Case Study: Brazilian E-Commerce Public Dataset by Olist\n",
    "\n",
    "> Name: Latifah Hukma S\n",
    "\n",
    "> ID: DS03083"
   ]
  },
  {
   "cell_type": "markdown",
   "id": "574ffa9e",
   "metadata": {
    "papermill": {
     "duration": 0.01801,
     "end_time": "2022-10-02T08:13:02.558311",
     "exception": false,
     "start_time": "2022-10-02T08:13:02.540301",
     "status": "completed"
    },
    "tags": []
   },
   "source": [
    "# List Feature Yang Dibuat\n",
    "Berikut merupakan fitur baru yang dibuat. Untuk penjelasan lebih lanjut, lihat **Conclusion Feature** di halaman paling bawah\n",
    "\n",
    "1. order_count\n",
    "2. approved\n",
    "3. canceled\n",
    "4. created\n",
    "5. delivered\n",
    "6. invoiced\n",
    "7. processing\n",
    "8. shipped\n",
    "9. unavailable\n",
    "10. total_items\n",
    "11. total_prices\n",
    "12. total_freight_value\n",
    "13. pay_boleto\n",
    "14. pay_credit_card\n",
    "15. pay_debit_card\n",
    "16. pay_not_defined\n",
    "17. pay_voucher\n",
    "18. boleto_freq\n",
    "19. credit_card_freq\n",
    "20. debit_card_freq\n",
    "21. not_defined_freq\n",
    "22. voucher_freq\n",
    "23. morning\n",
    "24. noon\n",
    "25. evening\n",
    "26. night\n",
    "27. midnight\n",
    "28. beginning_month\n",
    "29. middle_month\n",
    "30. end_month\n",
    "31. fav_category_product\n"
   ]
  },
  {
   "cell_type": "markdown",
   "id": "916d84ea",
   "metadata": {
    "papermill": {
     "duration": 0.018122,
     "end_time": "2022-10-02T08:13:02.594668",
     "exception": false,
     "start_time": "2022-10-02T08:13:02.576546",
     "status": "completed"
    },
    "tags": []
   },
   "source": [
    "# 1 Import & Load Data"
   ]
  },
  {
   "cell_type": "code",
   "execution_count": 1,
   "id": "7cfdc9f9",
   "metadata": {
    "execution": {
     "iopub.execute_input": "2022-10-02T08:13:02.641517Z",
     "iopub.status.busy": "2022-10-02T08:13:02.640517Z",
     "iopub.status.idle": "2022-10-02T08:13:03.728149Z",
     "shell.execute_reply": "2022-10-02T08:13:03.727119Z"
    },
    "papermill": {
     "duration": 1.113012,
     "end_time": "2022-10-02T08:13:03.730980",
     "exception": false,
     "start_time": "2022-10-02T08:13:02.617968",
     "status": "completed"
    },
    "tags": []
   },
   "outputs": [],
   "source": [
    "import numpy as np\n",
    "import pandas as pd\n",
    "import matplotlib.pyplot as plt\n",
    "import seaborn as sns\n",
    "plt.style.use('fivethirtyeight')\n",
    "import warnings\n",
    "warnings.filterwarnings('ignore')\n",
    "%matplotlib inline\n",
    "\n",
    "\n",
    "# import geoviews as gv\n",
    "# import geoviews.tile_sources as gvts\n",
    "# from geoviews import dim, opts\n",
    "# gv.extension('bokeh')"
   ]
  },
  {
   "cell_type": "code",
   "execution_count": 2,
   "id": "0d99c637",
   "metadata": {
    "execution": {
     "iopub.execute_input": "2022-10-02T08:13:03.769869Z",
     "iopub.status.busy": "2022-10-02T08:13:03.769430Z",
     "iopub.status.idle": "2022-10-02T08:13:07.600113Z",
     "shell.execute_reply": "2022-10-02T08:13:07.598969Z"
    },
    "papermill": {
     "duration": 3.853403,
     "end_time": "2022-10-02T08:13:07.603169",
     "exception": false,
     "start_time": "2022-10-02T08:13:03.749766",
     "status": "completed"
    },
    "tags": []
   },
   "outputs": [],
   "source": [
    "cust = pd.read_csv('../input/brazilian-ecommerce/olist_customers_dataset.csv')\n",
    "geo = pd.read_csv('../input/brazilian-ecommerce/olist_geolocation_dataset.csv')\n",
    "items = pd.read_csv('../input/brazilian-ecommerce/olist_order_items_dataset.csv')\n",
    "payments = pd.read_csv('../input/brazilian-ecommerce/olist_order_payments_dataset.csv')\n",
    "reviews = pd.read_csv('../input/brazilian-ecommerce/olist_order_reviews_dataset.csv')\n",
    "orders = pd.read_csv('../input/brazilian-ecommerce/olist_orders_dataset.csv')\n",
    "products = pd.read_csv('../input/brazilian-ecommerce/olist_products_dataset.csv')\n",
    "sellers = pd.read_csv('../input/brazilian-ecommerce/olist_sellers_dataset.csv')\n",
    "cat = pd.read_csv('../input/brazilian-ecommerce/product_category_name_translation.csv')"
   ]
  },
  {
   "cell_type": "markdown",
   "id": "61aa9849",
   "metadata": {
    "papermill": {
     "duration": 0.018139,
     "end_time": "2022-10-02T08:13:07.640269",
     "exception": false,
     "start_time": "2022-10-02T08:13:07.622130",
     "status": "completed"
    },
    "tags": []
   },
   "source": [
    "# 2 Exploratory Data Analysis"
   ]
  },
  {
   "cell_type": "code",
   "execution_count": 3,
   "id": "93a7edac",
   "metadata": {
    "execution": {
     "iopub.execute_input": "2022-10-02T08:13:07.679698Z",
     "iopub.status.busy": "2022-10-02T08:13:07.678507Z",
     "iopub.status.idle": "2022-10-02T08:13:07.700873Z",
     "shell.execute_reply": "2022-10-02T08:13:07.699699Z"
    },
    "papermill": {
     "duration": 0.045132,
     "end_time": "2022-10-02T08:13:07.704045",
     "exception": false,
     "start_time": "2022-10-02T08:13:07.658913",
     "status": "completed"
    },
    "tags": []
   },
   "outputs": [
    {
     "data": {
      "text/html": [
       "<div>\n",
       "<style scoped>\n",
       "    .dataframe tbody tr th:only-of-type {\n",
       "        vertical-align: middle;\n",
       "    }\n",
       "\n",
       "    .dataframe tbody tr th {\n",
       "        vertical-align: top;\n",
       "    }\n",
       "\n",
       "    .dataframe thead th {\n",
       "        text-align: right;\n",
       "    }\n",
       "</style>\n",
       "<table border=\"1\" class=\"dataframe\">\n",
       "  <thead>\n",
       "    <tr style=\"text-align: right;\">\n",
       "      <th></th>\n",
       "      <th>customer_id</th>\n",
       "      <th>customer_unique_id</th>\n",
       "      <th>customer_zip_code_prefix</th>\n",
       "      <th>customer_city</th>\n",
       "      <th>customer_state</th>\n",
       "    </tr>\n",
       "  </thead>\n",
       "  <tbody>\n",
       "    <tr>\n",
       "      <th>0</th>\n",
       "      <td>06b8999e2fba1a1fbc88172c00ba8bc7</td>\n",
       "      <td>861eff4711a542e4b93843c6dd7febb0</td>\n",
       "      <td>14409</td>\n",
       "      <td>franca</td>\n",
       "      <td>SP</td>\n",
       "    </tr>\n",
       "    <tr>\n",
       "      <th>1</th>\n",
       "      <td>18955e83d337fd6b2def6b18a428ac77</td>\n",
       "      <td>290c77bc529b7ac935b93aa66c333dc3</td>\n",
       "      <td>9790</td>\n",
       "      <td>sao bernardo do campo</td>\n",
       "      <td>SP</td>\n",
       "    </tr>\n",
       "    <tr>\n",
       "      <th>2</th>\n",
       "      <td>4e7b3e00288586ebd08712fdd0374a03</td>\n",
       "      <td>060e732b5b29e8181a18229c7b0b2b5e</td>\n",
       "      <td>1151</td>\n",
       "      <td>sao paulo</td>\n",
       "      <td>SP</td>\n",
       "    </tr>\n",
       "    <tr>\n",
       "      <th>3</th>\n",
       "      <td>b2b6027bc5c5109e529d4dc6358b12c3</td>\n",
       "      <td>259dac757896d24d7702b9acbbff3f3c</td>\n",
       "      <td>8775</td>\n",
       "      <td>mogi das cruzes</td>\n",
       "      <td>SP</td>\n",
       "    </tr>\n",
       "    <tr>\n",
       "      <th>4</th>\n",
       "      <td>4f2d8ab171c80ec8364f7c12e35b23ad</td>\n",
       "      <td>345ecd01c38d18a9036ed96c73b8d066</td>\n",
       "      <td>13056</td>\n",
       "      <td>campinas</td>\n",
       "      <td>SP</td>\n",
       "    </tr>\n",
       "  </tbody>\n",
       "</table>\n",
       "</div>"
      ],
      "text/plain": [
       "                        customer_id                customer_unique_id  \\\n",
       "0  06b8999e2fba1a1fbc88172c00ba8bc7  861eff4711a542e4b93843c6dd7febb0   \n",
       "1  18955e83d337fd6b2def6b18a428ac77  290c77bc529b7ac935b93aa66c333dc3   \n",
       "2  4e7b3e00288586ebd08712fdd0374a03  060e732b5b29e8181a18229c7b0b2b5e   \n",
       "3  b2b6027bc5c5109e529d4dc6358b12c3  259dac757896d24d7702b9acbbff3f3c   \n",
       "4  4f2d8ab171c80ec8364f7c12e35b23ad  345ecd01c38d18a9036ed96c73b8d066   \n",
       "\n",
       "   customer_zip_code_prefix          customer_city customer_state  \n",
       "0                     14409                 franca             SP  \n",
       "1                      9790  sao bernardo do campo             SP  \n",
       "2                      1151              sao paulo             SP  \n",
       "3                      8775        mogi das cruzes             SP  \n",
       "4                     13056               campinas             SP  "
      ]
     },
     "execution_count": 3,
     "metadata": {},
     "output_type": "execute_result"
    }
   ],
   "source": [
    "cust.head()"
   ]
  },
  {
   "cell_type": "code",
   "execution_count": 4,
   "id": "97aa092c",
   "metadata": {
    "execution": {
     "iopub.execute_input": "2022-10-02T08:13:07.743660Z",
     "iopub.status.busy": "2022-10-02T08:13:07.742668Z",
     "iopub.status.idle": "2022-10-02T08:13:07.788043Z",
     "shell.execute_reply": "2022-10-02T08:13:07.786365Z"
    },
    "papermill": {
     "duration": 0.067682,
     "end_time": "2022-10-02T08:13:07.790442",
     "exception": false,
     "start_time": "2022-10-02T08:13:07.722760",
     "status": "completed"
    },
    "tags": []
   },
   "outputs": [
    {
     "name": "stdout",
     "output_type": "stream",
     "text": [
      "<class 'pandas.core.frame.DataFrame'>\n",
      "RangeIndex: 99441 entries, 0 to 99440\n",
      "Data columns (total 5 columns):\n",
      " #   Column                    Non-Null Count  Dtype \n",
      "---  ------                    --------------  ----- \n",
      " 0   customer_id               99441 non-null  object\n",
      " 1   customer_unique_id        99441 non-null  object\n",
      " 2   customer_zip_code_prefix  99441 non-null  int64 \n",
      " 3   customer_city             99441 non-null  object\n",
      " 4   customer_state            99441 non-null  object\n",
      "dtypes: int64(1), object(4)\n",
      "memory usage: 3.8+ MB\n"
     ]
    }
   ],
   "source": [
    "cust.info()"
   ]
  },
  {
   "cell_type": "code",
   "execution_count": 5,
   "id": "9eb5198d",
   "metadata": {
    "execution": {
     "iopub.execute_input": "2022-10-02T08:13:07.829637Z",
     "iopub.status.busy": "2022-10-02T08:13:07.828753Z",
     "iopub.status.idle": "2022-10-02T08:13:07.982560Z",
     "shell.execute_reply": "2022-10-02T08:13:07.981483Z"
    },
    "papermill": {
     "duration": 0.176119,
     "end_time": "2022-10-02T08:13:07.985231",
     "exception": false,
     "start_time": "2022-10-02T08:13:07.809112",
     "status": "completed"
    },
    "tags": []
   },
   "outputs": [
    {
     "data": {
      "text/html": [
       "<div>\n",
       "<style scoped>\n",
       "    .dataframe tbody tr th:only-of-type {\n",
       "        vertical-align: middle;\n",
       "    }\n",
       "\n",
       "    .dataframe tbody tr th {\n",
       "        vertical-align: top;\n",
       "    }\n",
       "\n",
       "    .dataframe thead th {\n",
       "        text-align: right;\n",
       "    }\n",
       "</style>\n",
       "<table border=\"1\" class=\"dataframe\">\n",
       "  <thead>\n",
       "    <tr style=\"text-align: right;\">\n",
       "      <th></th>\n",
       "      <th>customer_id</th>\n",
       "      <th>customer_unique_id</th>\n",
       "      <th>customer_city</th>\n",
       "      <th>customer_state</th>\n",
       "    </tr>\n",
       "  </thead>\n",
       "  <tbody>\n",
       "    <tr>\n",
       "      <th>count</th>\n",
       "      <td>99441</td>\n",
       "      <td>99441</td>\n",
       "      <td>99441</td>\n",
       "      <td>99441</td>\n",
       "    </tr>\n",
       "    <tr>\n",
       "      <th>unique</th>\n",
       "      <td>99441</td>\n",
       "      <td>96096</td>\n",
       "      <td>4119</td>\n",
       "      <td>27</td>\n",
       "    </tr>\n",
       "    <tr>\n",
       "      <th>top</th>\n",
       "      <td>06b8999e2fba1a1fbc88172c00ba8bc7</td>\n",
       "      <td>8d50f5eadf50201ccdcedfb9e2ac8455</td>\n",
       "      <td>sao paulo</td>\n",
       "      <td>SP</td>\n",
       "    </tr>\n",
       "    <tr>\n",
       "      <th>freq</th>\n",
       "      <td>1</td>\n",
       "      <td>17</td>\n",
       "      <td>15540</td>\n",
       "      <td>41746</td>\n",
       "    </tr>\n",
       "  </tbody>\n",
       "</table>\n",
       "</div>"
      ],
      "text/plain": [
       "                             customer_id                customer_unique_id  \\\n",
       "count                              99441                             99441   \n",
       "unique                             99441                             96096   \n",
       "top     06b8999e2fba1a1fbc88172c00ba8bc7  8d50f5eadf50201ccdcedfb9e2ac8455   \n",
       "freq                                   1                                17   \n",
       "\n",
       "       customer_city customer_state  \n",
       "count          99441          99441  \n",
       "unique          4119             27  \n",
       "top        sao paulo             SP  \n",
       "freq           15540          41746  "
      ]
     },
     "execution_count": 5,
     "metadata": {},
     "output_type": "execute_result"
    }
   ],
   "source": [
    "cust.describe(include=object)"
   ]
  },
  {
   "cell_type": "code",
   "execution_count": 6,
   "id": "27df9b24",
   "metadata": {
    "execution": {
     "iopub.execute_input": "2022-10-02T08:13:08.026289Z",
     "iopub.status.busy": "2022-10-02T08:13:08.025348Z",
     "iopub.status.idle": "2022-10-02T08:13:08.052397Z",
     "shell.execute_reply": "2022-10-02T08:13:08.051313Z"
    },
    "papermill": {
     "duration": 0.050048,
     "end_time": "2022-10-02T08:13:08.054770",
     "exception": false,
     "start_time": "2022-10-02T08:13:08.004722",
     "status": "completed"
    },
    "tags": []
   },
   "outputs": [
    {
     "data": {
      "text/plain": [
       "customer_id                 0\n",
       "customer_unique_id          0\n",
       "customer_zip_code_prefix    0\n",
       "customer_city               0\n",
       "customer_state              0\n",
       "dtype: int64"
      ]
     },
     "execution_count": 6,
     "metadata": {},
     "output_type": "execute_result"
    }
   ],
   "source": [
    "cust.isna().sum()"
   ]
  },
  {
   "cell_type": "code",
   "execution_count": 7,
   "id": "212e9441",
   "metadata": {
    "execution": {
     "iopub.execute_input": "2022-10-02T08:13:08.094458Z",
     "iopub.status.busy": "2022-10-02T08:13:08.094051Z",
     "iopub.status.idle": "2022-10-02T08:13:08.106777Z",
     "shell.execute_reply": "2022-10-02T08:13:08.106020Z"
    },
    "papermill": {
     "duration": 0.034914,
     "end_time": "2022-10-02T08:13:08.108780",
     "exception": false,
     "start_time": "2022-10-02T08:13:08.073866",
     "status": "completed"
    },
    "tags": []
   },
   "outputs": [
    {
     "data": {
      "text/html": [
       "<div>\n",
       "<style scoped>\n",
       "    .dataframe tbody tr th:only-of-type {\n",
       "        vertical-align: middle;\n",
       "    }\n",
       "\n",
       "    .dataframe tbody tr th {\n",
       "        vertical-align: top;\n",
       "    }\n",
       "\n",
       "    .dataframe thead th {\n",
       "        text-align: right;\n",
       "    }\n",
       "</style>\n",
       "<table border=\"1\" class=\"dataframe\">\n",
       "  <thead>\n",
       "    <tr style=\"text-align: right;\">\n",
       "      <th></th>\n",
       "      <th>geolocation_zip_code_prefix</th>\n",
       "      <th>geolocation_lat</th>\n",
       "      <th>geolocation_lng</th>\n",
       "      <th>geolocation_city</th>\n",
       "      <th>geolocation_state</th>\n",
       "    </tr>\n",
       "  </thead>\n",
       "  <tbody>\n",
       "    <tr>\n",
       "      <th>0</th>\n",
       "      <td>1037</td>\n",
       "      <td>-23.545621</td>\n",
       "      <td>-46.639292</td>\n",
       "      <td>sao paulo</td>\n",
       "      <td>SP</td>\n",
       "    </tr>\n",
       "    <tr>\n",
       "      <th>1</th>\n",
       "      <td>1046</td>\n",
       "      <td>-23.546081</td>\n",
       "      <td>-46.644820</td>\n",
       "      <td>sao paulo</td>\n",
       "      <td>SP</td>\n",
       "    </tr>\n",
       "    <tr>\n",
       "      <th>2</th>\n",
       "      <td>1046</td>\n",
       "      <td>-23.546129</td>\n",
       "      <td>-46.642951</td>\n",
       "      <td>sao paulo</td>\n",
       "      <td>SP</td>\n",
       "    </tr>\n",
       "    <tr>\n",
       "      <th>3</th>\n",
       "      <td>1041</td>\n",
       "      <td>-23.544392</td>\n",
       "      <td>-46.639499</td>\n",
       "      <td>sao paulo</td>\n",
       "      <td>SP</td>\n",
       "    </tr>\n",
       "    <tr>\n",
       "      <th>4</th>\n",
       "      <td>1035</td>\n",
       "      <td>-23.541578</td>\n",
       "      <td>-46.641607</td>\n",
       "      <td>sao paulo</td>\n",
       "      <td>SP</td>\n",
       "    </tr>\n",
       "  </tbody>\n",
       "</table>\n",
       "</div>"
      ],
      "text/plain": [
       "   geolocation_zip_code_prefix  geolocation_lat  geolocation_lng  \\\n",
       "0                         1037       -23.545621       -46.639292   \n",
       "1                         1046       -23.546081       -46.644820   \n",
       "2                         1046       -23.546129       -46.642951   \n",
       "3                         1041       -23.544392       -46.639499   \n",
       "4                         1035       -23.541578       -46.641607   \n",
       "\n",
       "  geolocation_city geolocation_state  \n",
       "0        sao paulo                SP  \n",
       "1        sao paulo                SP  \n",
       "2        sao paulo                SP  \n",
       "3        sao paulo                SP  \n",
       "4        sao paulo                SP  "
      ]
     },
     "execution_count": 7,
     "metadata": {},
     "output_type": "execute_result"
    }
   ],
   "source": [
    "geo.head()"
   ]
  },
  {
   "cell_type": "code",
   "execution_count": 8,
   "id": "ca9ab38f",
   "metadata": {
    "execution": {
     "iopub.execute_input": "2022-10-02T08:13:08.149838Z",
     "iopub.status.busy": "2022-10-02T08:13:08.149158Z",
     "iopub.status.idle": "2022-10-02T08:13:08.250294Z",
     "shell.execute_reply": "2022-10-02T08:13:08.248911Z"
    },
    "papermill": {
     "duration": 0.124352,
     "end_time": "2022-10-02T08:13:08.252769",
     "exception": false,
     "start_time": "2022-10-02T08:13:08.128417",
     "status": "completed"
    },
    "tags": []
   },
   "outputs": [
    {
     "name": "stdout",
     "output_type": "stream",
     "text": [
      "<class 'pandas.core.frame.DataFrame'>\n",
      "RangeIndex: 1000163 entries, 0 to 1000162\n",
      "Data columns (total 5 columns):\n",
      " #   Column                       Non-Null Count    Dtype  \n",
      "---  ------                       --------------    -----  \n",
      " 0   geolocation_zip_code_prefix  1000163 non-null  int64  \n",
      " 1   geolocation_lat              1000163 non-null  float64\n",
      " 2   geolocation_lng              1000163 non-null  float64\n",
      " 3   geolocation_city             1000163 non-null  object \n",
      " 4   geolocation_state            1000163 non-null  object \n",
      "dtypes: float64(2), int64(1), object(2)\n",
      "memory usage: 38.2+ MB\n"
     ]
    }
   ],
   "source": [
    "geo.info()"
   ]
  },
  {
   "cell_type": "code",
   "execution_count": 9,
   "id": "2a06eb30",
   "metadata": {
    "execution": {
     "iopub.execute_input": "2022-10-02T08:13:08.292804Z",
     "iopub.status.busy": "2022-10-02T08:13:08.292372Z",
     "iopub.status.idle": "2022-10-02T08:13:08.431772Z",
     "shell.execute_reply": "2022-10-02T08:13:08.430620Z"
    },
    "papermill": {
     "duration": 0.162081,
     "end_time": "2022-10-02T08:13:08.434057",
     "exception": false,
     "start_time": "2022-10-02T08:13:08.271976",
     "status": "completed"
    },
    "tags": []
   },
   "outputs": [
    {
     "data": {
      "text/html": [
       "<div>\n",
       "<style scoped>\n",
       "    .dataframe tbody tr th:only-of-type {\n",
       "        vertical-align: middle;\n",
       "    }\n",
       "\n",
       "    .dataframe tbody tr th {\n",
       "        vertical-align: top;\n",
       "    }\n",
       "\n",
       "    .dataframe thead th {\n",
       "        text-align: right;\n",
       "    }\n",
       "</style>\n",
       "<table border=\"1\" class=\"dataframe\">\n",
       "  <thead>\n",
       "    <tr style=\"text-align: right;\">\n",
       "      <th></th>\n",
       "      <th>geolocation_zip_code_prefix</th>\n",
       "      <th>geolocation_lat</th>\n",
       "      <th>geolocation_lng</th>\n",
       "    </tr>\n",
       "  </thead>\n",
       "  <tbody>\n",
       "    <tr>\n",
       "      <th>count</th>\n",
       "      <td>1.000163e+06</td>\n",
       "      <td>1.000163e+06</td>\n",
       "      <td>1.000163e+06</td>\n",
       "    </tr>\n",
       "    <tr>\n",
       "      <th>mean</th>\n",
       "      <td>3.657417e+04</td>\n",
       "      <td>-2.117615e+01</td>\n",
       "      <td>-4.639054e+01</td>\n",
       "    </tr>\n",
       "    <tr>\n",
       "      <th>std</th>\n",
       "      <td>3.054934e+04</td>\n",
       "      <td>5.715866e+00</td>\n",
       "      <td>4.269748e+00</td>\n",
       "    </tr>\n",
       "    <tr>\n",
       "      <th>min</th>\n",
       "      <td>1.001000e+03</td>\n",
       "      <td>-3.660537e+01</td>\n",
       "      <td>-1.014668e+02</td>\n",
       "    </tr>\n",
       "    <tr>\n",
       "      <th>25%</th>\n",
       "      <td>1.107500e+04</td>\n",
       "      <td>-2.360355e+01</td>\n",
       "      <td>-4.857317e+01</td>\n",
       "    </tr>\n",
       "    <tr>\n",
       "      <th>50%</th>\n",
       "      <td>2.653000e+04</td>\n",
       "      <td>-2.291938e+01</td>\n",
       "      <td>-4.663788e+01</td>\n",
       "    </tr>\n",
       "    <tr>\n",
       "      <th>75%</th>\n",
       "      <td>6.350400e+04</td>\n",
       "      <td>-1.997962e+01</td>\n",
       "      <td>-4.376771e+01</td>\n",
       "    </tr>\n",
       "    <tr>\n",
       "      <th>max</th>\n",
       "      <td>9.999000e+04</td>\n",
       "      <td>4.506593e+01</td>\n",
       "      <td>1.211054e+02</td>\n",
       "    </tr>\n",
       "  </tbody>\n",
       "</table>\n",
       "</div>"
      ],
      "text/plain": [
       "       geolocation_zip_code_prefix  geolocation_lat  geolocation_lng\n",
       "count                 1.000163e+06     1.000163e+06     1.000163e+06\n",
       "mean                  3.657417e+04    -2.117615e+01    -4.639054e+01\n",
       "std                   3.054934e+04     5.715866e+00     4.269748e+00\n",
       "min                   1.001000e+03    -3.660537e+01    -1.014668e+02\n",
       "25%                   1.107500e+04    -2.360355e+01    -4.857317e+01\n",
       "50%                   2.653000e+04    -2.291938e+01    -4.663788e+01\n",
       "75%                   6.350400e+04    -1.997962e+01    -4.376771e+01\n",
       "max                   9.999000e+04     4.506593e+01     1.211054e+02"
      ]
     },
     "execution_count": 9,
     "metadata": {},
     "output_type": "execute_result"
    }
   ],
   "source": [
    "geo.describe()"
   ]
  },
  {
   "cell_type": "code",
   "execution_count": 10,
   "id": "d2176e62",
   "metadata": {
    "execution": {
     "iopub.execute_input": "2022-10-02T08:13:08.475265Z",
     "iopub.status.busy": "2022-10-02T08:13:08.474831Z",
     "iopub.status.idle": "2022-10-02T08:13:08.693008Z",
     "shell.execute_reply": "2022-10-02T08:13:08.692180Z"
    },
    "papermill": {
     "duration": 0.241053,
     "end_time": "2022-10-02T08:13:08.695074",
     "exception": false,
     "start_time": "2022-10-02T08:13:08.454021",
     "status": "completed"
    },
    "tags": []
   },
   "outputs": [
    {
     "data": {
      "text/html": [
       "<div>\n",
       "<style scoped>\n",
       "    .dataframe tbody tr th:only-of-type {\n",
       "        vertical-align: middle;\n",
       "    }\n",
       "\n",
       "    .dataframe tbody tr th {\n",
       "        vertical-align: top;\n",
       "    }\n",
       "\n",
       "    .dataframe thead th {\n",
       "        text-align: right;\n",
       "    }\n",
       "</style>\n",
       "<table border=\"1\" class=\"dataframe\">\n",
       "  <thead>\n",
       "    <tr style=\"text-align: right;\">\n",
       "      <th></th>\n",
       "      <th>geolocation_city</th>\n",
       "      <th>geolocation_state</th>\n",
       "    </tr>\n",
       "  </thead>\n",
       "  <tbody>\n",
       "    <tr>\n",
       "      <th>count</th>\n",
       "      <td>1000163</td>\n",
       "      <td>1000163</td>\n",
       "    </tr>\n",
       "    <tr>\n",
       "      <th>unique</th>\n",
       "      <td>8011</td>\n",
       "      <td>27</td>\n",
       "    </tr>\n",
       "    <tr>\n",
       "      <th>top</th>\n",
       "      <td>sao paulo</td>\n",
       "      <td>SP</td>\n",
       "    </tr>\n",
       "    <tr>\n",
       "      <th>freq</th>\n",
       "      <td>135800</td>\n",
       "      <td>404268</td>\n",
       "    </tr>\n",
       "  </tbody>\n",
       "</table>\n",
       "</div>"
      ],
      "text/plain": [
       "       geolocation_city geolocation_state\n",
       "count           1000163           1000163\n",
       "unique             8011                27\n",
       "top           sao paulo                SP\n",
       "freq             135800            404268"
      ]
     },
     "execution_count": 10,
     "metadata": {},
     "output_type": "execute_result"
    }
   ],
   "source": [
    "geo.describe(include=object)"
   ]
  },
  {
   "cell_type": "code",
   "execution_count": 11,
   "id": "62bc785e",
   "metadata": {
    "execution": {
     "iopub.execute_input": "2022-10-02T08:13:08.735888Z",
     "iopub.status.busy": "2022-10-02T08:13:08.735473Z",
     "iopub.status.idle": "2022-10-02T08:13:08.748841Z",
     "shell.execute_reply": "2022-10-02T08:13:08.747780Z"
    },
    "papermill": {
     "duration": 0.036378,
     "end_time": "2022-10-02T08:13:08.751066",
     "exception": false,
     "start_time": "2022-10-02T08:13:08.714688",
     "status": "completed"
    },
    "tags": []
   },
   "outputs": [
    {
     "data": {
      "text/html": [
       "<div>\n",
       "<style scoped>\n",
       "    .dataframe tbody tr th:only-of-type {\n",
       "        vertical-align: middle;\n",
       "    }\n",
       "\n",
       "    .dataframe tbody tr th {\n",
       "        vertical-align: top;\n",
       "    }\n",
       "\n",
       "    .dataframe thead th {\n",
       "        text-align: right;\n",
       "    }\n",
       "</style>\n",
       "<table border=\"1\" class=\"dataframe\">\n",
       "  <thead>\n",
       "    <tr style=\"text-align: right;\">\n",
       "      <th></th>\n",
       "      <th>order_id</th>\n",
       "      <th>order_item_id</th>\n",
       "      <th>product_id</th>\n",
       "      <th>seller_id</th>\n",
       "      <th>shipping_limit_date</th>\n",
       "      <th>price</th>\n",
       "      <th>freight_value</th>\n",
       "    </tr>\n",
       "  </thead>\n",
       "  <tbody>\n",
       "    <tr>\n",
       "      <th>0</th>\n",
       "      <td>00010242fe8c5a6d1ba2dd792cb16214</td>\n",
       "      <td>1</td>\n",
       "      <td>4244733e06e7ecb4970a6e2683c13e61</td>\n",
       "      <td>48436dade18ac8b2bce089ec2a041202</td>\n",
       "      <td>2017-09-19 09:45:35</td>\n",
       "      <td>58.90</td>\n",
       "      <td>13.29</td>\n",
       "    </tr>\n",
       "    <tr>\n",
       "      <th>1</th>\n",
       "      <td>00018f77f2f0320c557190d7a144bdd3</td>\n",
       "      <td>1</td>\n",
       "      <td>e5f2d52b802189ee658865ca93d83a8f</td>\n",
       "      <td>dd7ddc04e1b6c2c614352b383efe2d36</td>\n",
       "      <td>2017-05-03 11:05:13</td>\n",
       "      <td>239.90</td>\n",
       "      <td>19.93</td>\n",
       "    </tr>\n",
       "    <tr>\n",
       "      <th>2</th>\n",
       "      <td>000229ec398224ef6ca0657da4fc703e</td>\n",
       "      <td>1</td>\n",
       "      <td>c777355d18b72b67abbeef9df44fd0fd</td>\n",
       "      <td>5b51032eddd242adc84c38acab88f23d</td>\n",
       "      <td>2018-01-18 14:48:30</td>\n",
       "      <td>199.00</td>\n",
       "      <td>17.87</td>\n",
       "    </tr>\n",
       "    <tr>\n",
       "      <th>3</th>\n",
       "      <td>00024acbcdf0a6daa1e931b038114c75</td>\n",
       "      <td>1</td>\n",
       "      <td>7634da152a4610f1595efa32f14722fc</td>\n",
       "      <td>9d7a1d34a5052409006425275ba1c2b4</td>\n",
       "      <td>2018-08-15 10:10:18</td>\n",
       "      <td>12.99</td>\n",
       "      <td>12.79</td>\n",
       "    </tr>\n",
       "    <tr>\n",
       "      <th>4</th>\n",
       "      <td>00042b26cf59d7ce69dfabb4e55b4fd9</td>\n",
       "      <td>1</td>\n",
       "      <td>ac6c3623068f30de03045865e4e10089</td>\n",
       "      <td>df560393f3a51e74553ab94004ba5c87</td>\n",
       "      <td>2017-02-13 13:57:51</td>\n",
       "      <td>199.90</td>\n",
       "      <td>18.14</td>\n",
       "    </tr>\n",
       "  </tbody>\n",
       "</table>\n",
       "</div>"
      ],
      "text/plain": [
       "                           order_id  order_item_id  \\\n",
       "0  00010242fe8c5a6d1ba2dd792cb16214              1   \n",
       "1  00018f77f2f0320c557190d7a144bdd3              1   \n",
       "2  000229ec398224ef6ca0657da4fc703e              1   \n",
       "3  00024acbcdf0a6daa1e931b038114c75              1   \n",
       "4  00042b26cf59d7ce69dfabb4e55b4fd9              1   \n",
       "\n",
       "                         product_id                         seller_id  \\\n",
       "0  4244733e06e7ecb4970a6e2683c13e61  48436dade18ac8b2bce089ec2a041202   \n",
       "1  e5f2d52b802189ee658865ca93d83a8f  dd7ddc04e1b6c2c614352b383efe2d36   \n",
       "2  c777355d18b72b67abbeef9df44fd0fd  5b51032eddd242adc84c38acab88f23d   \n",
       "3  7634da152a4610f1595efa32f14722fc  9d7a1d34a5052409006425275ba1c2b4   \n",
       "4  ac6c3623068f30de03045865e4e10089  df560393f3a51e74553ab94004ba5c87   \n",
       "\n",
       "   shipping_limit_date   price  freight_value  \n",
       "0  2017-09-19 09:45:35   58.90          13.29  \n",
       "1  2017-05-03 11:05:13  239.90          19.93  \n",
       "2  2018-01-18 14:48:30  199.00          17.87  \n",
       "3  2018-08-15 10:10:18   12.99          12.79  \n",
       "4  2017-02-13 13:57:51  199.90          18.14  "
      ]
     },
     "execution_count": 11,
     "metadata": {},
     "output_type": "execute_result"
    }
   ],
   "source": [
    "items.head()"
   ]
  },
  {
   "cell_type": "code",
   "execution_count": 12,
   "id": "1ec9e2fd",
   "metadata": {
    "execution": {
     "iopub.execute_input": "2022-10-02T08:13:08.792564Z",
     "iopub.status.busy": "2022-10-02T08:13:08.792140Z",
     "iopub.status.idle": "2022-10-02T08:13:08.826821Z",
     "shell.execute_reply": "2022-10-02T08:13:08.825337Z"
    },
    "papermill": {
     "duration": 0.058132,
     "end_time": "2022-10-02T08:13:08.829148",
     "exception": false,
     "start_time": "2022-10-02T08:13:08.771016",
     "status": "completed"
    },
    "tags": []
   },
   "outputs": [
    {
     "name": "stdout",
     "output_type": "stream",
     "text": [
      "<class 'pandas.core.frame.DataFrame'>\n",
      "RangeIndex: 112650 entries, 0 to 112649\n",
      "Data columns (total 7 columns):\n",
      " #   Column               Non-Null Count   Dtype  \n",
      "---  ------               --------------   -----  \n",
      " 0   order_id             112650 non-null  object \n",
      " 1   order_item_id        112650 non-null  int64  \n",
      " 2   product_id           112650 non-null  object \n",
      " 3   seller_id            112650 non-null  object \n",
      " 4   shipping_limit_date  112650 non-null  object \n",
      " 5   price                112650 non-null  float64\n",
      " 6   freight_value        112650 non-null  float64\n",
      "dtypes: float64(2), int64(1), object(4)\n",
      "memory usage: 6.0+ MB\n"
     ]
    }
   ],
   "source": [
    "items.info()"
   ]
  },
  {
   "cell_type": "code",
   "execution_count": 13,
   "id": "e741618d",
   "metadata": {
    "execution": {
     "iopub.execute_input": "2022-10-02T08:13:08.870632Z",
     "iopub.status.busy": "2022-10-02T08:13:08.869947Z",
     "iopub.status.idle": "2022-10-02T08:13:08.896955Z",
     "shell.execute_reply": "2022-10-02T08:13:08.895845Z"
    },
    "papermill": {
     "duration": 0.050327,
     "end_time": "2022-10-02T08:13:08.899392",
     "exception": false,
     "start_time": "2022-10-02T08:13:08.849065",
     "status": "completed"
    },
    "tags": []
   },
   "outputs": [
    {
     "data": {
      "text/html": [
       "<div>\n",
       "<style scoped>\n",
       "    .dataframe tbody tr th:only-of-type {\n",
       "        vertical-align: middle;\n",
       "    }\n",
       "\n",
       "    .dataframe tbody tr th {\n",
       "        vertical-align: top;\n",
       "    }\n",
       "\n",
       "    .dataframe thead th {\n",
       "        text-align: right;\n",
       "    }\n",
       "</style>\n",
       "<table border=\"1\" class=\"dataframe\">\n",
       "  <thead>\n",
       "    <tr style=\"text-align: right;\">\n",
       "      <th></th>\n",
       "      <th>price</th>\n",
       "      <th>freight_value</th>\n",
       "    </tr>\n",
       "  </thead>\n",
       "  <tbody>\n",
       "    <tr>\n",
       "      <th>count</th>\n",
       "      <td>112650.000000</td>\n",
       "      <td>112650.000000</td>\n",
       "    </tr>\n",
       "    <tr>\n",
       "      <th>mean</th>\n",
       "      <td>120.653739</td>\n",
       "      <td>19.990320</td>\n",
       "    </tr>\n",
       "    <tr>\n",
       "      <th>std</th>\n",
       "      <td>183.633928</td>\n",
       "      <td>15.806405</td>\n",
       "    </tr>\n",
       "    <tr>\n",
       "      <th>min</th>\n",
       "      <td>0.850000</td>\n",
       "      <td>0.000000</td>\n",
       "    </tr>\n",
       "    <tr>\n",
       "      <th>25%</th>\n",
       "      <td>39.900000</td>\n",
       "      <td>13.080000</td>\n",
       "    </tr>\n",
       "    <tr>\n",
       "      <th>50%</th>\n",
       "      <td>74.990000</td>\n",
       "      <td>16.260000</td>\n",
       "    </tr>\n",
       "    <tr>\n",
       "      <th>75%</th>\n",
       "      <td>134.900000</td>\n",
       "      <td>21.150000</td>\n",
       "    </tr>\n",
       "    <tr>\n",
       "      <th>max</th>\n",
       "      <td>6735.000000</td>\n",
       "      <td>409.680000</td>\n",
       "    </tr>\n",
       "  </tbody>\n",
       "</table>\n",
       "</div>"
      ],
      "text/plain": [
       "               price  freight_value\n",
       "count  112650.000000  112650.000000\n",
       "mean      120.653739      19.990320\n",
       "std       183.633928      15.806405\n",
       "min         0.850000       0.000000\n",
       "25%        39.900000      13.080000\n",
       "50%        74.990000      16.260000\n",
       "75%       134.900000      21.150000\n",
       "max      6735.000000     409.680000"
      ]
     },
     "execution_count": 13,
     "metadata": {},
     "output_type": "execute_result"
    }
   ],
   "source": [
    "items.iloc[:,5:].describe()"
   ]
  },
  {
   "cell_type": "code",
   "execution_count": 14,
   "id": "f8cfbc18",
   "metadata": {
    "execution": {
     "iopub.execute_input": "2022-10-02T08:13:08.941432Z",
     "iopub.status.busy": "2022-10-02T08:13:08.941026Z",
     "iopub.status.idle": "2022-10-02T08:13:09.017555Z",
     "shell.execute_reply": "2022-10-02T08:13:09.016347Z"
    },
    "papermill": {
     "duration": 0.100729,
     "end_time": "2022-10-02T08:13:09.020177",
     "exception": false,
     "start_time": "2022-10-02T08:13:08.919448",
     "status": "completed"
    },
    "tags": []
   },
   "outputs": [
    {
     "data": {
      "text/html": [
       "<div>\n",
       "<style scoped>\n",
       "    .dataframe tbody tr th:only-of-type {\n",
       "        vertical-align: middle;\n",
       "    }\n",
       "\n",
       "    .dataframe tbody tr th {\n",
       "        vertical-align: top;\n",
       "    }\n",
       "\n",
       "    .dataframe thead th {\n",
       "        text-align: right;\n",
       "    }\n",
       "</style>\n",
       "<table border=\"1\" class=\"dataframe\">\n",
       "  <thead>\n",
       "    <tr style=\"text-align: right;\">\n",
       "      <th></th>\n",
       "      <th>shipping_limit_date</th>\n",
       "    </tr>\n",
       "  </thead>\n",
       "  <tbody>\n",
       "    <tr>\n",
       "      <th>count</th>\n",
       "      <td>112650</td>\n",
       "    </tr>\n",
       "    <tr>\n",
       "      <th>unique</th>\n",
       "      <td>93318</td>\n",
       "    </tr>\n",
       "    <tr>\n",
       "      <th>top</th>\n",
       "      <td>2017-07-21 18:25:23</td>\n",
       "    </tr>\n",
       "    <tr>\n",
       "      <th>freq</th>\n",
       "      <td>21</td>\n",
       "    </tr>\n",
       "  </tbody>\n",
       "</table>\n",
       "</div>"
      ],
      "text/plain": [
       "        shipping_limit_date\n",
       "count                112650\n",
       "unique                93318\n",
       "top     2017-07-21 18:25:23\n",
       "freq                     21"
      ]
     },
     "execution_count": 14,
     "metadata": {},
     "output_type": "execute_result"
    }
   ],
   "source": [
    "items.iloc[:,4:].describe(include=object)"
   ]
  },
  {
   "cell_type": "code",
   "execution_count": 15,
   "id": "96911d41",
   "metadata": {
    "execution": {
     "iopub.execute_input": "2022-10-02T08:13:09.062139Z",
     "iopub.status.busy": "2022-10-02T08:13:09.061765Z",
     "iopub.status.idle": "2022-10-02T08:13:09.092134Z",
     "shell.execute_reply": "2022-10-02T08:13:09.091099Z"
    },
    "papermill": {
     "duration": 0.054115,
     "end_time": "2022-10-02T08:13:09.094490",
     "exception": false,
     "start_time": "2022-10-02T08:13:09.040375",
     "status": "completed"
    },
    "tags": []
   },
   "outputs": [
    {
     "data": {
      "text/plain": [
       "order_id               0\n",
       "order_item_id          0\n",
       "product_id             0\n",
       "seller_id              0\n",
       "shipping_limit_date    0\n",
       "price                  0\n",
       "freight_value          0\n",
       "dtype: int64"
      ]
     },
     "execution_count": 15,
     "metadata": {},
     "output_type": "execute_result"
    }
   ],
   "source": [
    "items.isna().sum()"
   ]
  },
  {
   "cell_type": "code",
   "execution_count": 16,
   "id": "be3b35c6",
   "metadata": {
    "execution": {
     "iopub.execute_input": "2022-10-02T08:13:09.136916Z",
     "iopub.status.busy": "2022-10-02T08:13:09.136485Z",
     "iopub.status.idle": "2022-10-02T08:13:09.148944Z",
     "shell.execute_reply": "2022-10-02T08:13:09.147848Z"
    },
    "papermill": {
     "duration": 0.036457,
     "end_time": "2022-10-02T08:13:09.151189",
     "exception": false,
     "start_time": "2022-10-02T08:13:09.114732",
     "status": "completed"
    },
    "tags": []
   },
   "outputs": [
    {
     "data": {
      "text/html": [
       "<div>\n",
       "<style scoped>\n",
       "    .dataframe tbody tr th:only-of-type {\n",
       "        vertical-align: middle;\n",
       "    }\n",
       "\n",
       "    .dataframe tbody tr th {\n",
       "        vertical-align: top;\n",
       "    }\n",
       "\n",
       "    .dataframe thead th {\n",
       "        text-align: right;\n",
       "    }\n",
       "</style>\n",
       "<table border=\"1\" class=\"dataframe\">\n",
       "  <thead>\n",
       "    <tr style=\"text-align: right;\">\n",
       "      <th></th>\n",
       "      <th>order_id</th>\n",
       "      <th>payment_sequential</th>\n",
       "      <th>payment_type</th>\n",
       "      <th>payment_installments</th>\n",
       "      <th>payment_value</th>\n",
       "    </tr>\n",
       "  </thead>\n",
       "  <tbody>\n",
       "    <tr>\n",
       "      <th>0</th>\n",
       "      <td>b81ef226f3fe1789b1e8b2acac839d17</td>\n",
       "      <td>1</td>\n",
       "      <td>credit_card</td>\n",
       "      <td>8</td>\n",
       "      <td>99.33</td>\n",
       "    </tr>\n",
       "    <tr>\n",
       "      <th>1</th>\n",
       "      <td>a9810da82917af2d9aefd1278f1dcfa0</td>\n",
       "      <td>1</td>\n",
       "      <td>credit_card</td>\n",
       "      <td>1</td>\n",
       "      <td>24.39</td>\n",
       "    </tr>\n",
       "    <tr>\n",
       "      <th>2</th>\n",
       "      <td>25e8ea4e93396b6fa0d3dd708e76c1bd</td>\n",
       "      <td>1</td>\n",
       "      <td>credit_card</td>\n",
       "      <td>1</td>\n",
       "      <td>65.71</td>\n",
       "    </tr>\n",
       "    <tr>\n",
       "      <th>3</th>\n",
       "      <td>ba78997921bbcdc1373bb41e913ab953</td>\n",
       "      <td>1</td>\n",
       "      <td>credit_card</td>\n",
       "      <td>8</td>\n",
       "      <td>107.78</td>\n",
       "    </tr>\n",
       "    <tr>\n",
       "      <th>4</th>\n",
       "      <td>42fdf880ba16b47b59251dd489d4441a</td>\n",
       "      <td>1</td>\n",
       "      <td>credit_card</td>\n",
       "      <td>2</td>\n",
       "      <td>128.45</td>\n",
       "    </tr>\n",
       "  </tbody>\n",
       "</table>\n",
       "</div>"
      ],
      "text/plain": [
       "                           order_id  payment_sequential payment_type  \\\n",
       "0  b81ef226f3fe1789b1e8b2acac839d17                   1  credit_card   \n",
       "1  a9810da82917af2d9aefd1278f1dcfa0                   1  credit_card   \n",
       "2  25e8ea4e93396b6fa0d3dd708e76c1bd                   1  credit_card   \n",
       "3  ba78997921bbcdc1373bb41e913ab953                   1  credit_card   \n",
       "4  42fdf880ba16b47b59251dd489d4441a                   1  credit_card   \n",
       "\n",
       "   payment_installments  payment_value  \n",
       "0                     8          99.33  \n",
       "1                     1          24.39  \n",
       "2                     1          65.71  \n",
       "3                     8         107.78  \n",
       "4                     2         128.45  "
      ]
     },
     "execution_count": 16,
     "metadata": {},
     "output_type": "execute_result"
    }
   ],
   "source": [
    "payments.head()"
   ]
  },
  {
   "cell_type": "code",
   "execution_count": 17,
   "id": "875fb1e2",
   "metadata": {
    "execution": {
     "iopub.execute_input": "2022-10-02T08:13:09.194078Z",
     "iopub.status.busy": "2022-10-02T08:13:09.193039Z",
     "iopub.status.idle": "2022-10-02T08:13:09.216154Z",
     "shell.execute_reply": "2022-10-02T08:13:09.214974Z"
    },
    "papermill": {
     "duration": 0.047839,
     "end_time": "2022-10-02T08:13:09.219345",
     "exception": false,
     "start_time": "2022-10-02T08:13:09.171506",
     "status": "completed"
    },
    "tags": []
   },
   "outputs": [
    {
     "name": "stdout",
     "output_type": "stream",
     "text": [
      "<class 'pandas.core.frame.DataFrame'>\n",
      "RangeIndex: 103886 entries, 0 to 103885\n",
      "Data columns (total 5 columns):\n",
      " #   Column                Non-Null Count   Dtype  \n",
      "---  ------                --------------   -----  \n",
      " 0   order_id              103886 non-null  object \n",
      " 1   payment_sequential    103886 non-null  int64  \n",
      " 2   payment_type          103886 non-null  object \n",
      " 3   payment_installments  103886 non-null  int64  \n",
      " 4   payment_value         103886 non-null  float64\n",
      "dtypes: float64(1), int64(2), object(2)\n",
      "memory usage: 4.0+ MB\n"
     ]
    }
   ],
   "source": [
    "payments.info()"
   ]
  },
  {
   "cell_type": "code",
   "execution_count": 18,
   "id": "0adee58a",
   "metadata": {
    "execution": {
     "iopub.execute_input": "2022-10-02T08:13:09.263472Z",
     "iopub.status.busy": "2022-10-02T08:13:09.262823Z",
     "iopub.status.idle": "2022-10-02T08:13:09.292118Z",
     "shell.execute_reply": "2022-10-02T08:13:09.290820Z"
    },
    "papermill": {
     "duration": 0.054084,
     "end_time": "2022-10-02T08:13:09.294479",
     "exception": false,
     "start_time": "2022-10-02T08:13:09.240395",
     "status": "completed"
    },
    "tags": []
   },
   "outputs": [
    {
     "data": {
      "text/html": [
       "<div>\n",
       "<style scoped>\n",
       "    .dataframe tbody tr th:only-of-type {\n",
       "        vertical-align: middle;\n",
       "    }\n",
       "\n",
       "    .dataframe tbody tr th {\n",
       "        vertical-align: top;\n",
       "    }\n",
       "\n",
       "    .dataframe thead th {\n",
       "        text-align: right;\n",
       "    }\n",
       "</style>\n",
       "<table border=\"1\" class=\"dataframe\">\n",
       "  <thead>\n",
       "    <tr style=\"text-align: right;\">\n",
       "      <th></th>\n",
       "      <th>payment_sequential</th>\n",
       "      <th>payment_installments</th>\n",
       "      <th>payment_value</th>\n",
       "    </tr>\n",
       "  </thead>\n",
       "  <tbody>\n",
       "    <tr>\n",
       "      <th>count</th>\n",
       "      <td>103886.000000</td>\n",
       "      <td>103886.000000</td>\n",
       "      <td>103886.000000</td>\n",
       "    </tr>\n",
       "    <tr>\n",
       "      <th>mean</th>\n",
       "      <td>1.092679</td>\n",
       "      <td>2.853349</td>\n",
       "      <td>154.100380</td>\n",
       "    </tr>\n",
       "    <tr>\n",
       "      <th>std</th>\n",
       "      <td>0.706584</td>\n",
       "      <td>2.687051</td>\n",
       "      <td>217.494064</td>\n",
       "    </tr>\n",
       "    <tr>\n",
       "      <th>min</th>\n",
       "      <td>1.000000</td>\n",
       "      <td>0.000000</td>\n",
       "      <td>0.000000</td>\n",
       "    </tr>\n",
       "    <tr>\n",
       "      <th>25%</th>\n",
       "      <td>1.000000</td>\n",
       "      <td>1.000000</td>\n",
       "      <td>56.790000</td>\n",
       "    </tr>\n",
       "    <tr>\n",
       "      <th>50%</th>\n",
       "      <td>1.000000</td>\n",
       "      <td>1.000000</td>\n",
       "      <td>100.000000</td>\n",
       "    </tr>\n",
       "    <tr>\n",
       "      <th>75%</th>\n",
       "      <td>1.000000</td>\n",
       "      <td>4.000000</td>\n",
       "      <td>171.837500</td>\n",
       "    </tr>\n",
       "    <tr>\n",
       "      <th>max</th>\n",
       "      <td>29.000000</td>\n",
       "      <td>24.000000</td>\n",
       "      <td>13664.080000</td>\n",
       "    </tr>\n",
       "  </tbody>\n",
       "</table>\n",
       "</div>"
      ],
      "text/plain": [
       "       payment_sequential  payment_installments  payment_value\n",
       "count       103886.000000         103886.000000  103886.000000\n",
       "mean             1.092679              2.853349     154.100380\n",
       "std              0.706584              2.687051     217.494064\n",
       "min              1.000000              0.000000       0.000000\n",
       "25%              1.000000              1.000000      56.790000\n",
       "50%              1.000000              1.000000     100.000000\n",
       "75%              1.000000              4.000000     171.837500\n",
       "max             29.000000             24.000000   13664.080000"
      ]
     },
     "execution_count": 18,
     "metadata": {},
     "output_type": "execute_result"
    }
   ],
   "source": [
    "payments.describe()"
   ]
  },
  {
   "cell_type": "code",
   "execution_count": 19,
   "id": "64cf07eb",
   "metadata": {
    "execution": {
     "iopub.execute_input": "2022-10-02T08:13:09.337968Z",
     "iopub.status.busy": "2022-10-02T08:13:09.337583Z",
     "iopub.status.idle": "2022-10-02T08:13:09.424943Z",
     "shell.execute_reply": "2022-10-02T08:13:09.423813Z"
    },
    "papermill": {
     "duration": 0.11203,
     "end_time": "2022-10-02T08:13:09.427296",
     "exception": false,
     "start_time": "2022-10-02T08:13:09.315266",
     "status": "completed"
    },
    "tags": []
   },
   "outputs": [
    {
     "data": {
      "text/html": [
       "<div>\n",
       "<style scoped>\n",
       "    .dataframe tbody tr th:only-of-type {\n",
       "        vertical-align: middle;\n",
       "    }\n",
       "\n",
       "    .dataframe tbody tr th {\n",
       "        vertical-align: top;\n",
       "    }\n",
       "\n",
       "    .dataframe thead th {\n",
       "        text-align: right;\n",
       "    }\n",
       "</style>\n",
       "<table border=\"1\" class=\"dataframe\">\n",
       "  <thead>\n",
       "    <tr style=\"text-align: right;\">\n",
       "      <th></th>\n",
       "      <th>order_id</th>\n",
       "      <th>payment_type</th>\n",
       "    </tr>\n",
       "  </thead>\n",
       "  <tbody>\n",
       "    <tr>\n",
       "      <th>count</th>\n",
       "      <td>103886</td>\n",
       "      <td>103886</td>\n",
       "    </tr>\n",
       "    <tr>\n",
       "      <th>unique</th>\n",
       "      <td>99440</td>\n",
       "      <td>5</td>\n",
       "    </tr>\n",
       "    <tr>\n",
       "      <th>top</th>\n",
       "      <td>fa65dad1b0e818e3ccc5cb0e39231352</td>\n",
       "      <td>credit_card</td>\n",
       "    </tr>\n",
       "    <tr>\n",
       "      <th>freq</th>\n",
       "      <td>29</td>\n",
       "      <td>76795</td>\n",
       "    </tr>\n",
       "  </tbody>\n",
       "</table>\n",
       "</div>"
      ],
      "text/plain": [
       "                                order_id payment_type\n",
       "count                             103886       103886\n",
       "unique                             99440            5\n",
       "top     fa65dad1b0e818e3ccc5cb0e39231352  credit_card\n",
       "freq                                  29        76795"
      ]
     },
     "execution_count": 19,
     "metadata": {},
     "output_type": "execute_result"
    }
   ],
   "source": [
    "payments.describe(include=object)"
   ]
  },
  {
   "cell_type": "code",
   "execution_count": 20,
   "id": "a64012e0",
   "metadata": {
    "execution": {
     "iopub.execute_input": "2022-10-02T08:13:09.471898Z",
     "iopub.status.busy": "2022-10-02T08:13:09.471422Z",
     "iopub.status.idle": "2022-10-02T08:13:09.489662Z",
     "shell.execute_reply": "2022-10-02T08:13:09.488698Z"
    },
    "papermill": {
     "duration": 0.043538,
     "end_time": "2022-10-02T08:13:09.491892",
     "exception": false,
     "start_time": "2022-10-02T08:13:09.448354",
     "status": "completed"
    },
    "tags": []
   },
   "outputs": [
    {
     "data": {
      "text/plain": [
       "order_id                0\n",
       "payment_sequential      0\n",
       "payment_type            0\n",
       "payment_installments    0\n",
       "payment_value           0\n",
       "dtype: int64"
      ]
     },
     "execution_count": 20,
     "metadata": {},
     "output_type": "execute_result"
    }
   ],
   "source": [
    "payments.isna().sum()"
   ]
  },
  {
   "cell_type": "code",
   "execution_count": 21,
   "id": "dd1667c8",
   "metadata": {
    "execution": {
     "iopub.execute_input": "2022-10-02T08:13:09.536072Z",
     "iopub.status.busy": "2022-10-02T08:13:09.535338Z",
     "iopub.status.idle": "2022-10-02T08:13:09.548306Z",
     "shell.execute_reply": "2022-10-02T08:13:09.547147Z"
    },
    "papermill": {
     "duration": 0.037396,
     "end_time": "2022-10-02T08:13:09.550409",
     "exception": false,
     "start_time": "2022-10-02T08:13:09.513013",
     "status": "completed"
    },
    "tags": []
   },
   "outputs": [
    {
     "data": {
      "text/html": [
       "<div>\n",
       "<style scoped>\n",
       "    .dataframe tbody tr th:only-of-type {\n",
       "        vertical-align: middle;\n",
       "    }\n",
       "\n",
       "    .dataframe tbody tr th {\n",
       "        vertical-align: top;\n",
       "    }\n",
       "\n",
       "    .dataframe thead th {\n",
       "        text-align: right;\n",
       "    }\n",
       "</style>\n",
       "<table border=\"1\" class=\"dataframe\">\n",
       "  <thead>\n",
       "    <tr style=\"text-align: right;\">\n",
       "      <th></th>\n",
       "      <th>review_id</th>\n",
       "      <th>order_id</th>\n",
       "      <th>review_score</th>\n",
       "      <th>review_comment_title</th>\n",
       "      <th>review_comment_message</th>\n",
       "      <th>review_creation_date</th>\n",
       "      <th>review_answer_timestamp</th>\n",
       "    </tr>\n",
       "  </thead>\n",
       "  <tbody>\n",
       "    <tr>\n",
       "      <th>0</th>\n",
       "      <td>7bc2406110b926393aa56f80a40eba40</td>\n",
       "      <td>73fc7af87114b39712e6da79b0a377eb</td>\n",
       "      <td>4</td>\n",
       "      <td>NaN</td>\n",
       "      <td>NaN</td>\n",
       "      <td>2018-01-18 00:00:00</td>\n",
       "      <td>2018-01-18 21:46:59</td>\n",
       "    </tr>\n",
       "    <tr>\n",
       "      <th>1</th>\n",
       "      <td>80e641a11e56f04c1ad469d5645fdfde</td>\n",
       "      <td>a548910a1c6147796b98fdf73dbeba33</td>\n",
       "      <td>5</td>\n",
       "      <td>NaN</td>\n",
       "      <td>NaN</td>\n",
       "      <td>2018-03-10 00:00:00</td>\n",
       "      <td>2018-03-11 03:05:13</td>\n",
       "    </tr>\n",
       "    <tr>\n",
       "      <th>2</th>\n",
       "      <td>228ce5500dc1d8e020d8d1322874b6f0</td>\n",
       "      <td>f9e4b658b201a9f2ecdecbb34bed034b</td>\n",
       "      <td>5</td>\n",
       "      <td>NaN</td>\n",
       "      <td>NaN</td>\n",
       "      <td>2018-02-17 00:00:00</td>\n",
       "      <td>2018-02-18 14:36:24</td>\n",
       "    </tr>\n",
       "    <tr>\n",
       "      <th>3</th>\n",
       "      <td>e64fb393e7b32834bb789ff8bb30750e</td>\n",
       "      <td>658677c97b385a9be170737859d3511b</td>\n",
       "      <td>5</td>\n",
       "      <td>NaN</td>\n",
       "      <td>Recebi bem antes do prazo estipulado.</td>\n",
       "      <td>2017-04-21 00:00:00</td>\n",
       "      <td>2017-04-21 22:02:06</td>\n",
       "    </tr>\n",
       "    <tr>\n",
       "      <th>4</th>\n",
       "      <td>f7c4243c7fe1938f181bec41a392bdeb</td>\n",
       "      <td>8e6bfb81e283fa7e4f11123a3fb894f1</td>\n",
       "      <td>5</td>\n",
       "      <td>NaN</td>\n",
       "      <td>Parabéns lojas lannister adorei comprar pela I...</td>\n",
       "      <td>2018-03-01 00:00:00</td>\n",
       "      <td>2018-03-02 10:26:53</td>\n",
       "    </tr>\n",
       "  </tbody>\n",
       "</table>\n",
       "</div>"
      ],
      "text/plain": [
       "                          review_id                          order_id  \\\n",
       "0  7bc2406110b926393aa56f80a40eba40  73fc7af87114b39712e6da79b0a377eb   \n",
       "1  80e641a11e56f04c1ad469d5645fdfde  a548910a1c6147796b98fdf73dbeba33   \n",
       "2  228ce5500dc1d8e020d8d1322874b6f0  f9e4b658b201a9f2ecdecbb34bed034b   \n",
       "3  e64fb393e7b32834bb789ff8bb30750e  658677c97b385a9be170737859d3511b   \n",
       "4  f7c4243c7fe1938f181bec41a392bdeb  8e6bfb81e283fa7e4f11123a3fb894f1   \n",
       "\n",
       "   review_score review_comment_title  \\\n",
       "0             4                  NaN   \n",
       "1             5                  NaN   \n",
       "2             5                  NaN   \n",
       "3             5                  NaN   \n",
       "4             5                  NaN   \n",
       "\n",
       "                              review_comment_message review_creation_date  \\\n",
       "0                                                NaN  2018-01-18 00:00:00   \n",
       "1                                                NaN  2018-03-10 00:00:00   \n",
       "2                                                NaN  2018-02-17 00:00:00   \n",
       "3              Recebi bem antes do prazo estipulado.  2017-04-21 00:00:00   \n",
       "4  Parabéns lojas lannister adorei comprar pela I...  2018-03-01 00:00:00   \n",
       "\n",
       "  review_answer_timestamp  \n",
       "0     2018-01-18 21:46:59  \n",
       "1     2018-03-11 03:05:13  \n",
       "2     2018-02-18 14:36:24  \n",
       "3     2017-04-21 22:02:06  \n",
       "4     2018-03-02 10:26:53  "
      ]
     },
     "execution_count": 21,
     "metadata": {},
     "output_type": "execute_result"
    }
   ],
   "source": [
    "reviews.head()"
   ]
  },
  {
   "cell_type": "code",
   "execution_count": 22,
   "id": "3bb81377",
   "metadata": {
    "execution": {
     "iopub.execute_input": "2022-10-02T08:13:09.595210Z",
     "iopub.status.busy": "2022-10-02T08:13:09.594499Z",
     "iopub.status.idle": "2022-10-02T08:13:09.633133Z",
     "shell.execute_reply": "2022-10-02T08:13:09.631577Z"
    },
    "papermill": {
     "duration": 0.064164,
     "end_time": "2022-10-02T08:13:09.635989",
     "exception": false,
     "start_time": "2022-10-02T08:13:09.571825",
     "status": "completed"
    },
    "tags": []
   },
   "outputs": [
    {
     "name": "stdout",
     "output_type": "stream",
     "text": [
      "<class 'pandas.core.frame.DataFrame'>\n",
      "RangeIndex: 99224 entries, 0 to 99223\n",
      "Data columns (total 7 columns):\n",
      " #   Column                   Non-Null Count  Dtype \n",
      "---  ------                   --------------  ----- \n",
      " 0   review_id                99224 non-null  object\n",
      " 1   order_id                 99224 non-null  object\n",
      " 2   review_score             99224 non-null  int64 \n",
      " 3   review_comment_title     11568 non-null  object\n",
      " 4   review_comment_message   40977 non-null  object\n",
      " 5   review_creation_date     99224 non-null  object\n",
      " 6   review_answer_timestamp  99224 non-null  object\n",
      "dtypes: int64(1), object(6)\n",
      "memory usage: 5.3+ MB\n"
     ]
    }
   ],
   "source": [
    "reviews.info()"
   ]
  },
  {
   "cell_type": "code",
   "execution_count": 23,
   "id": "8996dff2",
   "metadata": {
    "execution": {
     "iopub.execute_input": "2022-10-02T08:13:09.682106Z",
     "iopub.status.busy": "2022-10-02T08:13:09.681438Z",
     "iopub.status.idle": "2022-10-02T08:13:09.696910Z",
     "shell.execute_reply": "2022-10-02T08:13:09.696095Z"
    },
    "papermill": {
     "duration": 0.041349,
     "end_time": "2022-10-02T08:13:09.698940",
     "exception": false,
     "start_time": "2022-10-02T08:13:09.657591",
     "status": "completed"
    },
    "tags": []
   },
   "outputs": [
    {
     "data": {
      "text/html": [
       "<div>\n",
       "<style scoped>\n",
       "    .dataframe tbody tr th:only-of-type {\n",
       "        vertical-align: middle;\n",
       "    }\n",
       "\n",
       "    .dataframe tbody tr th {\n",
       "        vertical-align: top;\n",
       "    }\n",
       "\n",
       "    .dataframe thead th {\n",
       "        text-align: right;\n",
       "    }\n",
       "</style>\n",
       "<table border=\"1\" class=\"dataframe\">\n",
       "  <thead>\n",
       "    <tr style=\"text-align: right;\">\n",
       "      <th></th>\n",
       "      <th>review_score</th>\n",
       "    </tr>\n",
       "  </thead>\n",
       "  <tbody>\n",
       "    <tr>\n",
       "      <th>count</th>\n",
       "      <td>99224.000000</td>\n",
       "    </tr>\n",
       "    <tr>\n",
       "      <th>mean</th>\n",
       "      <td>4.086421</td>\n",
       "    </tr>\n",
       "    <tr>\n",
       "      <th>std</th>\n",
       "      <td>1.347579</td>\n",
       "    </tr>\n",
       "    <tr>\n",
       "      <th>min</th>\n",
       "      <td>1.000000</td>\n",
       "    </tr>\n",
       "    <tr>\n",
       "      <th>25%</th>\n",
       "      <td>4.000000</td>\n",
       "    </tr>\n",
       "    <tr>\n",
       "      <th>50%</th>\n",
       "      <td>5.000000</td>\n",
       "    </tr>\n",
       "    <tr>\n",
       "      <th>75%</th>\n",
       "      <td>5.000000</td>\n",
       "    </tr>\n",
       "    <tr>\n",
       "      <th>max</th>\n",
       "      <td>5.000000</td>\n",
       "    </tr>\n",
       "  </tbody>\n",
       "</table>\n",
       "</div>"
      ],
      "text/plain": [
       "       review_score\n",
       "count  99224.000000\n",
       "mean       4.086421\n",
       "std        1.347579\n",
       "min        1.000000\n",
       "25%        4.000000\n",
       "50%        5.000000\n",
       "75%        5.000000\n",
       "max        5.000000"
      ]
     },
     "execution_count": 23,
     "metadata": {},
     "output_type": "execute_result"
    }
   ],
   "source": [
    "reviews.describe()"
   ]
  },
  {
   "cell_type": "code",
   "execution_count": 24,
   "id": "69df86d8",
   "metadata": {
    "execution": {
     "iopub.execute_input": "2022-10-02T08:13:09.744149Z",
     "iopub.status.busy": "2022-10-02T08:13:09.743313Z",
     "iopub.status.idle": "2022-10-02T08:13:09.873754Z",
     "shell.execute_reply": "2022-10-02T08:13:09.872683Z"
    },
    "papermill": {
     "duration": 0.15566,
     "end_time": "2022-10-02T08:13:09.876217",
     "exception": false,
     "start_time": "2022-10-02T08:13:09.720557",
     "status": "completed"
    },
    "tags": []
   },
   "outputs": [
    {
     "data": {
      "text/html": [
       "<div>\n",
       "<style scoped>\n",
       "    .dataframe tbody tr th:only-of-type {\n",
       "        vertical-align: middle;\n",
       "    }\n",
       "\n",
       "    .dataframe tbody tr th {\n",
       "        vertical-align: top;\n",
       "    }\n",
       "\n",
       "    .dataframe thead th {\n",
       "        text-align: right;\n",
       "    }\n",
       "</style>\n",
       "<table border=\"1\" class=\"dataframe\">\n",
       "  <thead>\n",
       "    <tr style=\"text-align: right;\">\n",
       "      <th></th>\n",
       "      <th>review_comment_title</th>\n",
       "      <th>review_comment_message</th>\n",
       "      <th>review_creation_date</th>\n",
       "      <th>review_answer_timestamp</th>\n",
       "    </tr>\n",
       "  </thead>\n",
       "  <tbody>\n",
       "    <tr>\n",
       "      <th>count</th>\n",
       "      <td>11568</td>\n",
       "      <td>40977</td>\n",
       "      <td>99224</td>\n",
       "      <td>99224</td>\n",
       "    </tr>\n",
       "    <tr>\n",
       "      <th>unique</th>\n",
       "      <td>4527</td>\n",
       "      <td>36159</td>\n",
       "      <td>636</td>\n",
       "      <td>98248</td>\n",
       "    </tr>\n",
       "    <tr>\n",
       "      <th>top</th>\n",
       "      <td>Recomendo</td>\n",
       "      <td>Muito bom</td>\n",
       "      <td>2017-12-19 00:00:00</td>\n",
       "      <td>2017-06-15 23:21:05</td>\n",
       "    </tr>\n",
       "    <tr>\n",
       "      <th>freq</th>\n",
       "      <td>423</td>\n",
       "      <td>230</td>\n",
       "      <td>463</td>\n",
       "      <td>4</td>\n",
       "    </tr>\n",
       "  </tbody>\n",
       "</table>\n",
       "</div>"
      ],
      "text/plain": [
       "       review_comment_title review_comment_message review_creation_date  \\\n",
       "count                 11568                  40977                99224   \n",
       "unique                 4527                  36159                  636   \n",
       "top               Recomendo              Muito bom  2017-12-19 00:00:00   \n",
       "freq                    423                    230                  463   \n",
       "\n",
       "       review_answer_timestamp  \n",
       "count                    99224  \n",
       "unique                   98248  \n",
       "top        2017-06-15 23:21:05  \n",
       "freq                         4  "
      ]
     },
     "execution_count": 24,
     "metadata": {},
     "output_type": "execute_result"
    }
   ],
   "source": [
    "reviews.iloc[:,2:].describe(include=object)"
   ]
  },
  {
   "cell_type": "code",
   "execution_count": 25,
   "id": "b158e23d",
   "metadata": {
    "execution": {
     "iopub.execute_input": "2022-10-02T08:13:09.922117Z",
     "iopub.status.busy": "2022-10-02T08:13:09.921744Z",
     "iopub.status.idle": "2022-10-02T08:13:09.955889Z",
     "shell.execute_reply": "2022-10-02T08:13:09.954877Z"
    },
    "papermill": {
     "duration": 0.059644,
     "end_time": "2022-10-02T08:13:09.958113",
     "exception": false,
     "start_time": "2022-10-02T08:13:09.898469",
     "status": "completed"
    },
    "tags": []
   },
   "outputs": [
    {
     "data": {
      "text/plain": [
       "review_id                      0\n",
       "order_id                       0\n",
       "review_score                   0\n",
       "review_comment_title       87656\n",
       "review_comment_message     58247\n",
       "review_creation_date           0\n",
       "review_answer_timestamp        0\n",
       "dtype: int64"
      ]
     },
     "execution_count": 25,
     "metadata": {},
     "output_type": "execute_result"
    }
   ],
   "source": [
    "reviews.isna().sum()"
   ]
  },
  {
   "cell_type": "code",
   "execution_count": 26,
   "id": "4a3b0ece",
   "metadata": {
    "execution": {
     "iopub.execute_input": "2022-10-02T08:13:10.004203Z",
     "iopub.status.busy": "2022-10-02T08:13:10.003103Z",
     "iopub.status.idle": "2022-10-02T08:13:10.016725Z",
     "shell.execute_reply": "2022-10-02T08:13:10.015771Z"
    },
    "papermill": {
     "duration": 0.038824,
     "end_time": "2022-10-02T08:13:10.018831",
     "exception": false,
     "start_time": "2022-10-02T08:13:09.980007",
     "status": "completed"
    },
    "tags": []
   },
   "outputs": [
    {
     "data": {
      "text/html": [
       "<div>\n",
       "<style scoped>\n",
       "    .dataframe tbody tr th:only-of-type {\n",
       "        vertical-align: middle;\n",
       "    }\n",
       "\n",
       "    .dataframe tbody tr th {\n",
       "        vertical-align: top;\n",
       "    }\n",
       "\n",
       "    .dataframe thead th {\n",
       "        text-align: right;\n",
       "    }\n",
       "</style>\n",
       "<table border=\"1\" class=\"dataframe\">\n",
       "  <thead>\n",
       "    <tr style=\"text-align: right;\">\n",
       "      <th></th>\n",
       "      <th>order_id</th>\n",
       "      <th>customer_id</th>\n",
       "      <th>order_status</th>\n",
       "      <th>order_purchase_timestamp</th>\n",
       "      <th>order_approved_at</th>\n",
       "      <th>order_delivered_carrier_date</th>\n",
       "      <th>order_delivered_customer_date</th>\n",
       "      <th>order_estimated_delivery_date</th>\n",
       "    </tr>\n",
       "  </thead>\n",
       "  <tbody>\n",
       "    <tr>\n",
       "      <th>0</th>\n",
       "      <td>e481f51cbdc54678b7cc49136f2d6af7</td>\n",
       "      <td>9ef432eb6251297304e76186b10a928d</td>\n",
       "      <td>delivered</td>\n",
       "      <td>2017-10-02 10:56:33</td>\n",
       "      <td>2017-10-02 11:07:15</td>\n",
       "      <td>2017-10-04 19:55:00</td>\n",
       "      <td>2017-10-10 21:25:13</td>\n",
       "      <td>2017-10-18 00:00:00</td>\n",
       "    </tr>\n",
       "    <tr>\n",
       "      <th>1</th>\n",
       "      <td>53cdb2fc8bc7dce0b6741e2150273451</td>\n",
       "      <td>b0830fb4747a6c6d20dea0b8c802d7ef</td>\n",
       "      <td>delivered</td>\n",
       "      <td>2018-07-24 20:41:37</td>\n",
       "      <td>2018-07-26 03:24:27</td>\n",
       "      <td>2018-07-26 14:31:00</td>\n",
       "      <td>2018-08-07 15:27:45</td>\n",
       "      <td>2018-08-13 00:00:00</td>\n",
       "    </tr>\n",
       "    <tr>\n",
       "      <th>2</th>\n",
       "      <td>47770eb9100c2d0c44946d9cf07ec65d</td>\n",
       "      <td>41ce2a54c0b03bf3443c3d931a367089</td>\n",
       "      <td>delivered</td>\n",
       "      <td>2018-08-08 08:38:49</td>\n",
       "      <td>2018-08-08 08:55:23</td>\n",
       "      <td>2018-08-08 13:50:00</td>\n",
       "      <td>2018-08-17 18:06:29</td>\n",
       "      <td>2018-09-04 00:00:00</td>\n",
       "    </tr>\n",
       "    <tr>\n",
       "      <th>3</th>\n",
       "      <td>949d5b44dbf5de918fe9c16f97b45f8a</td>\n",
       "      <td>f88197465ea7920adcdbec7375364d82</td>\n",
       "      <td>delivered</td>\n",
       "      <td>2017-11-18 19:28:06</td>\n",
       "      <td>2017-11-18 19:45:59</td>\n",
       "      <td>2017-11-22 13:39:59</td>\n",
       "      <td>2017-12-02 00:28:42</td>\n",
       "      <td>2017-12-15 00:00:00</td>\n",
       "    </tr>\n",
       "    <tr>\n",
       "      <th>4</th>\n",
       "      <td>ad21c59c0840e6cb83a9ceb5573f8159</td>\n",
       "      <td>8ab97904e6daea8866dbdbc4fb7aad2c</td>\n",
       "      <td>delivered</td>\n",
       "      <td>2018-02-13 21:18:39</td>\n",
       "      <td>2018-02-13 22:20:29</td>\n",
       "      <td>2018-02-14 19:46:34</td>\n",
       "      <td>2018-02-16 18:17:02</td>\n",
       "      <td>2018-02-26 00:00:00</td>\n",
       "    </tr>\n",
       "  </tbody>\n",
       "</table>\n",
       "</div>"
      ],
      "text/plain": [
       "                           order_id                       customer_id  \\\n",
       "0  e481f51cbdc54678b7cc49136f2d6af7  9ef432eb6251297304e76186b10a928d   \n",
       "1  53cdb2fc8bc7dce0b6741e2150273451  b0830fb4747a6c6d20dea0b8c802d7ef   \n",
       "2  47770eb9100c2d0c44946d9cf07ec65d  41ce2a54c0b03bf3443c3d931a367089   \n",
       "3  949d5b44dbf5de918fe9c16f97b45f8a  f88197465ea7920adcdbec7375364d82   \n",
       "4  ad21c59c0840e6cb83a9ceb5573f8159  8ab97904e6daea8866dbdbc4fb7aad2c   \n",
       "\n",
       "  order_status order_purchase_timestamp    order_approved_at  \\\n",
       "0    delivered      2017-10-02 10:56:33  2017-10-02 11:07:15   \n",
       "1    delivered      2018-07-24 20:41:37  2018-07-26 03:24:27   \n",
       "2    delivered      2018-08-08 08:38:49  2018-08-08 08:55:23   \n",
       "3    delivered      2017-11-18 19:28:06  2017-11-18 19:45:59   \n",
       "4    delivered      2018-02-13 21:18:39  2018-02-13 22:20:29   \n",
       "\n",
       "  order_delivered_carrier_date order_delivered_customer_date  \\\n",
       "0          2017-10-04 19:55:00           2017-10-10 21:25:13   \n",
       "1          2018-07-26 14:31:00           2018-08-07 15:27:45   \n",
       "2          2018-08-08 13:50:00           2018-08-17 18:06:29   \n",
       "3          2017-11-22 13:39:59           2017-12-02 00:28:42   \n",
       "4          2018-02-14 19:46:34           2018-02-16 18:17:02   \n",
       "\n",
       "  order_estimated_delivery_date  \n",
       "0           2017-10-18 00:00:00  \n",
       "1           2018-08-13 00:00:00  \n",
       "2           2018-09-04 00:00:00  \n",
       "3           2017-12-15 00:00:00  \n",
       "4           2018-02-26 00:00:00  "
      ]
     },
     "execution_count": 26,
     "metadata": {},
     "output_type": "execute_result"
    }
   ],
   "source": [
    "orders.head()"
   ]
  },
  {
   "cell_type": "code",
   "execution_count": 27,
   "id": "4f6b4237",
   "metadata": {
    "execution": {
     "iopub.execute_input": "2022-10-02T08:13:10.065415Z",
     "iopub.status.busy": "2022-10-02T08:13:10.064723Z",
     "iopub.status.idle": "2022-10-02T08:13:10.111370Z",
     "shell.execute_reply": "2022-10-02T08:13:10.110023Z"
    },
    "papermill": {
     "duration": 0.072879,
     "end_time": "2022-10-02T08:13:10.113829",
     "exception": false,
     "start_time": "2022-10-02T08:13:10.040950",
     "status": "completed"
    },
    "tags": []
   },
   "outputs": [
    {
     "name": "stdout",
     "output_type": "stream",
     "text": [
      "<class 'pandas.core.frame.DataFrame'>\n",
      "RangeIndex: 99441 entries, 0 to 99440\n",
      "Data columns (total 8 columns):\n",
      " #   Column                         Non-Null Count  Dtype \n",
      "---  ------                         --------------  ----- \n",
      " 0   order_id                       99441 non-null  object\n",
      " 1   customer_id                    99441 non-null  object\n",
      " 2   order_status                   99441 non-null  object\n",
      " 3   order_purchase_timestamp       99441 non-null  object\n",
      " 4   order_approved_at              99281 non-null  object\n",
      " 5   order_delivered_carrier_date   97658 non-null  object\n",
      " 6   order_delivered_customer_date  96476 non-null  object\n",
      " 7   order_estimated_delivery_date  99441 non-null  object\n",
      "dtypes: object(8)\n",
      "memory usage: 6.1+ MB\n"
     ]
    }
   ],
   "source": [
    "orders.info()"
   ]
  },
  {
   "cell_type": "code",
   "execution_count": 28,
   "id": "ce493e11",
   "metadata": {
    "execution": {
     "iopub.execute_input": "2022-10-02T08:13:10.159951Z",
     "iopub.status.busy": "2022-10-02T08:13:10.159527Z",
     "iopub.status.idle": "2022-10-02T08:13:10.415448Z",
     "shell.execute_reply": "2022-10-02T08:13:10.414373Z"
    },
    "papermill": {
     "duration": 0.281906,
     "end_time": "2022-10-02T08:13:10.418032",
     "exception": false,
     "start_time": "2022-10-02T08:13:10.136126",
     "status": "completed"
    },
    "tags": []
   },
   "outputs": [
    {
     "data": {
      "text/html": [
       "<div>\n",
       "<style scoped>\n",
       "    .dataframe tbody tr th:only-of-type {\n",
       "        vertical-align: middle;\n",
       "    }\n",
       "\n",
       "    .dataframe tbody tr th {\n",
       "        vertical-align: top;\n",
       "    }\n",
       "\n",
       "    .dataframe thead th {\n",
       "        text-align: right;\n",
       "    }\n",
       "</style>\n",
       "<table border=\"1\" class=\"dataframe\">\n",
       "  <thead>\n",
       "    <tr style=\"text-align: right;\">\n",
       "      <th></th>\n",
       "      <th>order_status</th>\n",
       "      <th>order_purchase_timestamp</th>\n",
       "      <th>order_approved_at</th>\n",
       "      <th>order_delivered_carrier_date</th>\n",
       "      <th>order_delivered_customer_date</th>\n",
       "      <th>order_estimated_delivery_date</th>\n",
       "    </tr>\n",
       "  </thead>\n",
       "  <tbody>\n",
       "    <tr>\n",
       "      <th>count</th>\n",
       "      <td>99441</td>\n",
       "      <td>99441</td>\n",
       "      <td>99281</td>\n",
       "      <td>97658</td>\n",
       "      <td>96476</td>\n",
       "      <td>99441</td>\n",
       "    </tr>\n",
       "    <tr>\n",
       "      <th>unique</th>\n",
       "      <td>8</td>\n",
       "      <td>98875</td>\n",
       "      <td>90733</td>\n",
       "      <td>81018</td>\n",
       "      <td>95664</td>\n",
       "      <td>459</td>\n",
       "    </tr>\n",
       "    <tr>\n",
       "      <th>top</th>\n",
       "      <td>delivered</td>\n",
       "      <td>2018-04-11 10:48:14</td>\n",
       "      <td>2018-02-27 04:31:10</td>\n",
       "      <td>2018-05-09 15:48:00</td>\n",
       "      <td>2018-05-08 23:38:46</td>\n",
       "      <td>2017-12-20 00:00:00</td>\n",
       "    </tr>\n",
       "    <tr>\n",
       "      <th>freq</th>\n",
       "      <td>96478</td>\n",
       "      <td>3</td>\n",
       "      <td>9</td>\n",
       "      <td>47</td>\n",
       "      <td>3</td>\n",
       "      <td>522</td>\n",
       "    </tr>\n",
       "  </tbody>\n",
       "</table>\n",
       "</div>"
      ],
      "text/plain": [
       "       order_status order_purchase_timestamp    order_approved_at  \\\n",
       "count         99441                    99441                99281   \n",
       "unique            8                    98875                90733   \n",
       "top       delivered      2018-04-11 10:48:14  2018-02-27 04:31:10   \n",
       "freq          96478                        3                    9   \n",
       "\n",
       "       order_delivered_carrier_date order_delivered_customer_date  \\\n",
       "count                         97658                         96476   \n",
       "unique                        81018                         95664   \n",
       "top             2018-05-09 15:48:00           2018-05-08 23:38:46   \n",
       "freq                             47                             3   \n",
       "\n",
       "       order_estimated_delivery_date  \n",
       "count                          99441  \n",
       "unique                           459  \n",
       "top              2017-12-20 00:00:00  \n",
       "freq                             522  "
      ]
     },
     "execution_count": 28,
     "metadata": {},
     "output_type": "execute_result"
    }
   ],
   "source": [
    "orders.iloc[:,2:].describe()"
   ]
  },
  {
   "cell_type": "code",
   "execution_count": 29,
   "id": "f58ef84f",
   "metadata": {
    "execution": {
     "iopub.execute_input": "2022-10-02T08:13:10.465979Z",
     "iopub.status.busy": "2022-10-02T08:13:10.465516Z",
     "iopub.status.idle": "2022-10-02T08:13:10.508858Z",
     "shell.execute_reply": "2022-10-02T08:13:10.508087Z"
    },
    "papermill": {
     "duration": 0.069967,
     "end_time": "2022-10-02T08:13:10.510898",
     "exception": false,
     "start_time": "2022-10-02T08:13:10.440931",
     "status": "completed"
    },
    "tags": []
   },
   "outputs": [
    {
     "data": {
      "text/plain": [
       "order_id                            0\n",
       "customer_id                         0\n",
       "order_status                        0\n",
       "order_purchase_timestamp            0\n",
       "order_approved_at                 160\n",
       "order_delivered_carrier_date     1783\n",
       "order_delivered_customer_date    2965\n",
       "order_estimated_delivery_date       0\n",
       "dtype: int64"
      ]
     },
     "execution_count": 29,
     "metadata": {},
     "output_type": "execute_result"
    }
   ],
   "source": [
    "orders.isna().sum()"
   ]
  },
  {
   "cell_type": "code",
   "execution_count": 30,
   "id": "c5d9c7a5",
   "metadata": {
    "execution": {
     "iopub.execute_input": "2022-10-02T08:13:10.559423Z",
     "iopub.status.busy": "2022-10-02T08:13:10.558539Z",
     "iopub.status.idle": "2022-10-02T08:13:10.574386Z",
     "shell.execute_reply": "2022-10-02T08:13:10.573650Z"
    },
    "papermill": {
     "duration": 0.042131,
     "end_time": "2022-10-02T08:13:10.576387",
     "exception": false,
     "start_time": "2022-10-02T08:13:10.534256",
     "status": "completed"
    },
    "tags": []
   },
   "outputs": [
    {
     "data": {
      "text/html": [
       "<div>\n",
       "<style scoped>\n",
       "    .dataframe tbody tr th:only-of-type {\n",
       "        vertical-align: middle;\n",
       "    }\n",
       "\n",
       "    .dataframe tbody tr th {\n",
       "        vertical-align: top;\n",
       "    }\n",
       "\n",
       "    .dataframe thead th {\n",
       "        text-align: right;\n",
       "    }\n",
       "</style>\n",
       "<table border=\"1\" class=\"dataframe\">\n",
       "  <thead>\n",
       "    <tr style=\"text-align: right;\">\n",
       "      <th></th>\n",
       "      <th>product_id</th>\n",
       "      <th>product_category_name</th>\n",
       "      <th>product_name_lenght</th>\n",
       "      <th>product_description_lenght</th>\n",
       "      <th>product_photos_qty</th>\n",
       "      <th>product_weight_g</th>\n",
       "      <th>product_length_cm</th>\n",
       "      <th>product_height_cm</th>\n",
       "      <th>product_width_cm</th>\n",
       "    </tr>\n",
       "  </thead>\n",
       "  <tbody>\n",
       "    <tr>\n",
       "      <th>0</th>\n",
       "      <td>1e9e8ef04dbcff4541ed26657ea517e5</td>\n",
       "      <td>perfumaria</td>\n",
       "      <td>40.0</td>\n",
       "      <td>287.0</td>\n",
       "      <td>1.0</td>\n",
       "      <td>225.0</td>\n",
       "      <td>16.0</td>\n",
       "      <td>10.0</td>\n",
       "      <td>14.0</td>\n",
       "    </tr>\n",
       "    <tr>\n",
       "      <th>1</th>\n",
       "      <td>3aa071139cb16b67ca9e5dea641aaa2f</td>\n",
       "      <td>artes</td>\n",
       "      <td>44.0</td>\n",
       "      <td>276.0</td>\n",
       "      <td>1.0</td>\n",
       "      <td>1000.0</td>\n",
       "      <td>30.0</td>\n",
       "      <td>18.0</td>\n",
       "      <td>20.0</td>\n",
       "    </tr>\n",
       "    <tr>\n",
       "      <th>2</th>\n",
       "      <td>96bd76ec8810374ed1b65e291975717f</td>\n",
       "      <td>esporte_lazer</td>\n",
       "      <td>46.0</td>\n",
       "      <td>250.0</td>\n",
       "      <td>1.0</td>\n",
       "      <td>154.0</td>\n",
       "      <td>18.0</td>\n",
       "      <td>9.0</td>\n",
       "      <td>15.0</td>\n",
       "    </tr>\n",
       "    <tr>\n",
       "      <th>3</th>\n",
       "      <td>cef67bcfe19066a932b7673e239eb23d</td>\n",
       "      <td>bebes</td>\n",
       "      <td>27.0</td>\n",
       "      <td>261.0</td>\n",
       "      <td>1.0</td>\n",
       "      <td>371.0</td>\n",
       "      <td>26.0</td>\n",
       "      <td>4.0</td>\n",
       "      <td>26.0</td>\n",
       "    </tr>\n",
       "    <tr>\n",
       "      <th>4</th>\n",
       "      <td>9dc1a7de274444849c219cff195d0b71</td>\n",
       "      <td>utilidades_domesticas</td>\n",
       "      <td>37.0</td>\n",
       "      <td>402.0</td>\n",
       "      <td>4.0</td>\n",
       "      <td>625.0</td>\n",
       "      <td>20.0</td>\n",
       "      <td>17.0</td>\n",
       "      <td>13.0</td>\n",
       "    </tr>\n",
       "  </tbody>\n",
       "</table>\n",
       "</div>"
      ],
      "text/plain": [
       "                         product_id  product_category_name  \\\n",
       "0  1e9e8ef04dbcff4541ed26657ea517e5             perfumaria   \n",
       "1  3aa071139cb16b67ca9e5dea641aaa2f                  artes   \n",
       "2  96bd76ec8810374ed1b65e291975717f          esporte_lazer   \n",
       "3  cef67bcfe19066a932b7673e239eb23d                  bebes   \n",
       "4  9dc1a7de274444849c219cff195d0b71  utilidades_domesticas   \n",
       "\n",
       "   product_name_lenght  product_description_lenght  product_photos_qty  \\\n",
       "0                 40.0                       287.0                 1.0   \n",
       "1                 44.0                       276.0                 1.0   \n",
       "2                 46.0                       250.0                 1.0   \n",
       "3                 27.0                       261.0                 1.0   \n",
       "4                 37.0                       402.0                 4.0   \n",
       "\n",
       "   product_weight_g  product_length_cm  product_height_cm  product_width_cm  \n",
       "0             225.0               16.0               10.0              14.0  \n",
       "1            1000.0               30.0               18.0              20.0  \n",
       "2             154.0               18.0                9.0              15.0  \n",
       "3             371.0               26.0                4.0              26.0  \n",
       "4             625.0               20.0               17.0              13.0  "
      ]
     },
     "execution_count": 30,
     "metadata": {},
     "output_type": "execute_result"
    }
   ],
   "source": [
    "products.head()"
   ]
  },
  {
   "cell_type": "code",
   "execution_count": 31,
   "id": "09fe42a4",
   "metadata": {
    "execution": {
     "iopub.execute_input": "2022-10-02T08:13:10.624164Z",
     "iopub.status.busy": "2022-10-02T08:13:10.623575Z",
     "iopub.status.idle": "2022-10-02T08:13:10.638485Z",
     "shell.execute_reply": "2022-10-02T08:13:10.637110Z"
    },
    "papermill": {
     "duration": 0.041778,
     "end_time": "2022-10-02T08:13:10.641085",
     "exception": false,
     "start_time": "2022-10-02T08:13:10.599307",
     "status": "completed"
    },
    "tags": []
   },
   "outputs": [
    {
     "name": "stdout",
     "output_type": "stream",
     "text": [
      "<class 'pandas.core.frame.DataFrame'>\n",
      "RangeIndex: 32951 entries, 0 to 32950\n",
      "Data columns (total 9 columns):\n",
      " #   Column                      Non-Null Count  Dtype  \n",
      "---  ------                      --------------  -----  \n",
      " 0   product_id                  32951 non-null  object \n",
      " 1   product_category_name       32341 non-null  object \n",
      " 2   product_name_lenght         32341 non-null  float64\n",
      " 3   product_description_lenght  32341 non-null  float64\n",
      " 4   product_photos_qty          32341 non-null  float64\n",
      " 5   product_weight_g            32949 non-null  float64\n",
      " 6   product_length_cm           32949 non-null  float64\n",
      " 7   product_height_cm           32949 non-null  float64\n",
      " 8   product_width_cm            32949 non-null  float64\n",
      "dtypes: float64(7), object(2)\n",
      "memory usage: 2.3+ MB\n"
     ]
    }
   ],
   "source": [
    "products.info()"
   ]
  },
  {
   "cell_type": "code",
   "execution_count": 32,
   "id": "fb23c585",
   "metadata": {
    "execution": {
     "iopub.execute_input": "2022-10-02T08:13:10.688669Z",
     "iopub.status.busy": "2022-10-02T08:13:10.687998Z",
     "iopub.status.idle": "2022-10-02T08:13:10.730803Z",
     "shell.execute_reply": "2022-10-02T08:13:10.729627Z"
    },
    "papermill": {
     "duration": 0.069568,
     "end_time": "2022-10-02T08:13:10.733194",
     "exception": false,
     "start_time": "2022-10-02T08:13:10.663626",
     "status": "completed"
    },
    "tags": []
   },
   "outputs": [
    {
     "data": {
      "text/html": [
       "<div>\n",
       "<style scoped>\n",
       "    .dataframe tbody tr th:only-of-type {\n",
       "        vertical-align: middle;\n",
       "    }\n",
       "\n",
       "    .dataframe tbody tr th {\n",
       "        vertical-align: top;\n",
       "    }\n",
       "\n",
       "    .dataframe thead th {\n",
       "        text-align: right;\n",
       "    }\n",
       "</style>\n",
       "<table border=\"1\" class=\"dataframe\">\n",
       "  <thead>\n",
       "    <tr style=\"text-align: right;\">\n",
       "      <th></th>\n",
       "      <th>product_name_lenght</th>\n",
       "      <th>product_description_lenght</th>\n",
       "      <th>product_photos_qty</th>\n",
       "      <th>product_weight_g</th>\n",
       "      <th>product_length_cm</th>\n",
       "      <th>product_height_cm</th>\n",
       "      <th>product_width_cm</th>\n",
       "    </tr>\n",
       "  </thead>\n",
       "  <tbody>\n",
       "    <tr>\n",
       "      <th>count</th>\n",
       "      <td>32341.000000</td>\n",
       "      <td>32341.000000</td>\n",
       "      <td>32341.000000</td>\n",
       "      <td>32949.000000</td>\n",
       "      <td>32949.000000</td>\n",
       "      <td>32949.000000</td>\n",
       "      <td>32949.000000</td>\n",
       "    </tr>\n",
       "    <tr>\n",
       "      <th>mean</th>\n",
       "      <td>48.476949</td>\n",
       "      <td>771.495285</td>\n",
       "      <td>2.188986</td>\n",
       "      <td>2276.472488</td>\n",
       "      <td>30.815078</td>\n",
       "      <td>16.937661</td>\n",
       "      <td>23.196728</td>\n",
       "    </tr>\n",
       "    <tr>\n",
       "      <th>std</th>\n",
       "      <td>10.245741</td>\n",
       "      <td>635.115225</td>\n",
       "      <td>1.736766</td>\n",
       "      <td>4282.038731</td>\n",
       "      <td>16.914458</td>\n",
       "      <td>13.637554</td>\n",
       "      <td>12.079047</td>\n",
       "    </tr>\n",
       "    <tr>\n",
       "      <th>min</th>\n",
       "      <td>5.000000</td>\n",
       "      <td>4.000000</td>\n",
       "      <td>1.000000</td>\n",
       "      <td>0.000000</td>\n",
       "      <td>7.000000</td>\n",
       "      <td>2.000000</td>\n",
       "      <td>6.000000</td>\n",
       "    </tr>\n",
       "    <tr>\n",
       "      <th>25%</th>\n",
       "      <td>42.000000</td>\n",
       "      <td>339.000000</td>\n",
       "      <td>1.000000</td>\n",
       "      <td>300.000000</td>\n",
       "      <td>18.000000</td>\n",
       "      <td>8.000000</td>\n",
       "      <td>15.000000</td>\n",
       "    </tr>\n",
       "    <tr>\n",
       "      <th>50%</th>\n",
       "      <td>51.000000</td>\n",
       "      <td>595.000000</td>\n",
       "      <td>1.000000</td>\n",
       "      <td>700.000000</td>\n",
       "      <td>25.000000</td>\n",
       "      <td>13.000000</td>\n",
       "      <td>20.000000</td>\n",
       "    </tr>\n",
       "    <tr>\n",
       "      <th>75%</th>\n",
       "      <td>57.000000</td>\n",
       "      <td>972.000000</td>\n",
       "      <td>3.000000</td>\n",
       "      <td>1900.000000</td>\n",
       "      <td>38.000000</td>\n",
       "      <td>21.000000</td>\n",
       "      <td>30.000000</td>\n",
       "    </tr>\n",
       "    <tr>\n",
       "      <th>max</th>\n",
       "      <td>76.000000</td>\n",
       "      <td>3992.000000</td>\n",
       "      <td>20.000000</td>\n",
       "      <td>40425.000000</td>\n",
       "      <td>105.000000</td>\n",
       "      <td>105.000000</td>\n",
       "      <td>118.000000</td>\n",
       "    </tr>\n",
       "  </tbody>\n",
       "</table>\n",
       "</div>"
      ],
      "text/plain": [
       "       product_name_lenght  product_description_lenght  product_photos_qty  \\\n",
       "count         32341.000000                32341.000000        32341.000000   \n",
       "mean             48.476949                  771.495285            2.188986   \n",
       "std              10.245741                  635.115225            1.736766   \n",
       "min               5.000000                    4.000000            1.000000   \n",
       "25%              42.000000                  339.000000            1.000000   \n",
       "50%              51.000000                  595.000000            1.000000   \n",
       "75%              57.000000                  972.000000            3.000000   \n",
       "max              76.000000                 3992.000000           20.000000   \n",
       "\n",
       "       product_weight_g  product_length_cm  product_height_cm  \\\n",
       "count      32949.000000       32949.000000       32949.000000   \n",
       "mean        2276.472488          30.815078          16.937661   \n",
       "std         4282.038731          16.914458          13.637554   \n",
       "min            0.000000           7.000000           2.000000   \n",
       "25%          300.000000          18.000000           8.000000   \n",
       "50%          700.000000          25.000000          13.000000   \n",
       "75%         1900.000000          38.000000          21.000000   \n",
       "max        40425.000000         105.000000         105.000000   \n",
       "\n",
       "       product_width_cm  \n",
       "count      32949.000000  \n",
       "mean          23.196728  \n",
       "std           12.079047  \n",
       "min            6.000000  \n",
       "25%           15.000000  \n",
       "50%           20.000000  \n",
       "75%           30.000000  \n",
       "max          118.000000  "
      ]
     },
     "execution_count": 32,
     "metadata": {},
     "output_type": "execute_result"
    }
   ],
   "source": [
    "products.describe()"
   ]
  },
  {
   "cell_type": "code",
   "execution_count": 33,
   "id": "625cd53d",
   "metadata": {
    "execution": {
     "iopub.execute_input": "2022-10-02T08:13:10.782160Z",
     "iopub.status.busy": "2022-10-02T08:13:10.781803Z",
     "iopub.status.idle": "2022-10-02T08:13:10.799941Z",
     "shell.execute_reply": "2022-10-02T08:13:10.798797Z"
    },
    "papermill": {
     "duration": 0.045346,
     "end_time": "2022-10-02T08:13:10.802286",
     "exception": false,
     "start_time": "2022-10-02T08:13:10.756940",
     "status": "completed"
    },
    "tags": []
   },
   "outputs": [
    {
     "data": {
      "text/html": [
       "<div>\n",
       "<style scoped>\n",
       "    .dataframe tbody tr th:only-of-type {\n",
       "        vertical-align: middle;\n",
       "    }\n",
       "\n",
       "    .dataframe tbody tr th {\n",
       "        vertical-align: top;\n",
       "    }\n",
       "\n",
       "    .dataframe thead th {\n",
       "        text-align: right;\n",
       "    }\n",
       "</style>\n",
       "<table border=\"1\" class=\"dataframe\">\n",
       "  <thead>\n",
       "    <tr style=\"text-align: right;\">\n",
       "      <th></th>\n",
       "      <th>product_category_name</th>\n",
       "    </tr>\n",
       "  </thead>\n",
       "  <tbody>\n",
       "    <tr>\n",
       "      <th>count</th>\n",
       "      <td>32341</td>\n",
       "    </tr>\n",
       "    <tr>\n",
       "      <th>unique</th>\n",
       "      <td>73</td>\n",
       "    </tr>\n",
       "    <tr>\n",
       "      <th>top</th>\n",
       "      <td>cama_mesa_banho</td>\n",
       "    </tr>\n",
       "    <tr>\n",
       "      <th>freq</th>\n",
       "      <td>3029</td>\n",
       "    </tr>\n",
       "  </tbody>\n",
       "</table>\n",
       "</div>"
      ],
      "text/plain": [
       "       product_category_name\n",
       "count                  32341\n",
       "unique                    73\n",
       "top          cama_mesa_banho\n",
       "freq                    3029"
      ]
     },
     "execution_count": 33,
     "metadata": {},
     "output_type": "execute_result"
    }
   ],
   "source": [
    "products.iloc[:,1:].describe(include=object)"
   ]
  },
  {
   "cell_type": "code",
   "execution_count": 34,
   "id": "7789fb33",
   "metadata": {
    "execution": {
     "iopub.execute_input": "2022-10-02T08:13:10.850887Z",
     "iopub.status.busy": "2022-10-02T08:13:10.850477Z",
     "iopub.status.idle": "2022-10-02T08:13:10.863661Z",
     "shell.execute_reply": "2022-10-02T08:13:10.862634Z"
    },
    "papermill": {
     "duration": 0.04026,
     "end_time": "2022-10-02T08:13:10.866052",
     "exception": false,
     "start_time": "2022-10-02T08:13:10.825792",
     "status": "completed"
    },
    "tags": []
   },
   "outputs": [
    {
     "data": {
      "text/plain": [
       "product_id                      0\n",
       "product_category_name         610\n",
       "product_name_lenght           610\n",
       "product_description_lenght    610\n",
       "product_photos_qty            610\n",
       "product_weight_g                2\n",
       "product_length_cm               2\n",
       "product_height_cm               2\n",
       "product_width_cm                2\n",
       "dtype: int64"
      ]
     },
     "execution_count": 34,
     "metadata": {},
     "output_type": "execute_result"
    }
   ],
   "source": [
    "products.isna().sum()"
   ]
  },
  {
   "cell_type": "code",
   "execution_count": 35,
   "id": "4225d413",
   "metadata": {
    "execution": {
     "iopub.execute_input": "2022-10-02T08:13:10.914875Z",
     "iopub.status.busy": "2022-10-02T08:13:10.914453Z",
     "iopub.status.idle": "2022-10-02T08:13:10.925817Z",
     "shell.execute_reply": "2022-10-02T08:13:10.924756Z"
    },
    "papermill": {
     "duration": 0.038504,
     "end_time": "2022-10-02T08:13:10.927912",
     "exception": false,
     "start_time": "2022-10-02T08:13:10.889408",
     "status": "completed"
    },
    "tags": []
   },
   "outputs": [
    {
     "data": {
      "text/html": [
       "<div>\n",
       "<style scoped>\n",
       "    .dataframe tbody tr th:only-of-type {\n",
       "        vertical-align: middle;\n",
       "    }\n",
       "\n",
       "    .dataframe tbody tr th {\n",
       "        vertical-align: top;\n",
       "    }\n",
       "\n",
       "    .dataframe thead th {\n",
       "        text-align: right;\n",
       "    }\n",
       "</style>\n",
       "<table border=\"1\" class=\"dataframe\">\n",
       "  <thead>\n",
       "    <tr style=\"text-align: right;\">\n",
       "      <th></th>\n",
       "      <th>seller_id</th>\n",
       "      <th>seller_zip_code_prefix</th>\n",
       "      <th>seller_city</th>\n",
       "      <th>seller_state</th>\n",
       "    </tr>\n",
       "  </thead>\n",
       "  <tbody>\n",
       "    <tr>\n",
       "      <th>0</th>\n",
       "      <td>3442f8959a84dea7ee197c632cb2df15</td>\n",
       "      <td>13023</td>\n",
       "      <td>campinas</td>\n",
       "      <td>SP</td>\n",
       "    </tr>\n",
       "    <tr>\n",
       "      <th>1</th>\n",
       "      <td>d1b65fc7debc3361ea86b5f14c68d2e2</td>\n",
       "      <td>13844</td>\n",
       "      <td>mogi guacu</td>\n",
       "      <td>SP</td>\n",
       "    </tr>\n",
       "    <tr>\n",
       "      <th>2</th>\n",
       "      <td>ce3ad9de960102d0677a81f5d0bb7b2d</td>\n",
       "      <td>20031</td>\n",
       "      <td>rio de janeiro</td>\n",
       "      <td>RJ</td>\n",
       "    </tr>\n",
       "    <tr>\n",
       "      <th>3</th>\n",
       "      <td>c0f3eea2e14555b6faeea3dd58c1b1c3</td>\n",
       "      <td>4195</td>\n",
       "      <td>sao paulo</td>\n",
       "      <td>SP</td>\n",
       "    </tr>\n",
       "    <tr>\n",
       "      <th>4</th>\n",
       "      <td>51a04a8a6bdcb23deccc82b0b80742cf</td>\n",
       "      <td>12914</td>\n",
       "      <td>braganca paulista</td>\n",
       "      <td>SP</td>\n",
       "    </tr>\n",
       "  </tbody>\n",
       "</table>\n",
       "</div>"
      ],
      "text/plain": [
       "                          seller_id  seller_zip_code_prefix  \\\n",
       "0  3442f8959a84dea7ee197c632cb2df15                   13023   \n",
       "1  d1b65fc7debc3361ea86b5f14c68d2e2                   13844   \n",
       "2  ce3ad9de960102d0677a81f5d0bb7b2d                   20031   \n",
       "3  c0f3eea2e14555b6faeea3dd58c1b1c3                    4195   \n",
       "4  51a04a8a6bdcb23deccc82b0b80742cf                   12914   \n",
       "\n",
       "         seller_city seller_state  \n",
       "0           campinas           SP  \n",
       "1         mogi guacu           SP  \n",
       "2     rio de janeiro           RJ  \n",
       "3          sao paulo           SP  \n",
       "4  braganca paulista           SP  "
      ]
     },
     "execution_count": 35,
     "metadata": {},
     "output_type": "execute_result"
    }
   ],
   "source": [
    "sellers.head()"
   ]
  },
  {
   "cell_type": "code",
   "execution_count": 36,
   "id": "808d07f9",
   "metadata": {
    "execution": {
     "iopub.execute_input": "2022-10-02T08:13:10.977287Z",
     "iopub.status.busy": "2022-10-02T08:13:10.976632Z",
     "iopub.status.idle": "2022-10-02T08:13:10.989369Z",
     "shell.execute_reply": "2022-10-02T08:13:10.987893Z"
    },
    "papermill": {
     "duration": 0.040013,
     "end_time": "2022-10-02T08:13:10.991736",
     "exception": false,
     "start_time": "2022-10-02T08:13:10.951723",
     "status": "completed"
    },
    "tags": []
   },
   "outputs": [
    {
     "name": "stdout",
     "output_type": "stream",
     "text": [
      "<class 'pandas.core.frame.DataFrame'>\n",
      "RangeIndex: 3095 entries, 0 to 3094\n",
      "Data columns (total 4 columns):\n",
      " #   Column                  Non-Null Count  Dtype \n",
      "---  ------                  --------------  ----- \n",
      " 0   seller_id               3095 non-null   object\n",
      " 1   seller_zip_code_prefix  3095 non-null   int64 \n",
      " 2   seller_city             3095 non-null   object\n",
      " 3   seller_state            3095 non-null   object\n",
      "dtypes: int64(1), object(3)\n",
      "memory usage: 96.8+ KB\n"
     ]
    }
   ],
   "source": [
    "sellers.info()"
   ]
  },
  {
   "cell_type": "code",
   "execution_count": 37,
   "id": "e7e62f04",
   "metadata": {
    "execution": {
     "iopub.execute_input": "2022-10-02T08:13:11.042011Z",
     "iopub.status.busy": "2022-10-02T08:13:11.041624Z",
     "iopub.status.idle": "2022-10-02T08:13:11.058220Z",
     "shell.execute_reply": "2022-10-02T08:13:11.057039Z"
    },
    "papermill": {
     "duration": 0.044604,
     "end_time": "2022-10-02T08:13:11.060684",
     "exception": false,
     "start_time": "2022-10-02T08:13:11.016080",
     "status": "completed"
    },
    "tags": []
   },
   "outputs": [
    {
     "data": {
      "text/html": [
       "<div>\n",
       "<style scoped>\n",
       "    .dataframe tbody tr th:only-of-type {\n",
       "        vertical-align: middle;\n",
       "    }\n",
       "\n",
       "    .dataframe tbody tr th {\n",
       "        vertical-align: top;\n",
       "    }\n",
       "\n",
       "    .dataframe thead th {\n",
       "        text-align: right;\n",
       "    }\n",
       "</style>\n",
       "<table border=\"1\" class=\"dataframe\">\n",
       "  <thead>\n",
       "    <tr style=\"text-align: right;\">\n",
       "      <th></th>\n",
       "      <th>seller_city</th>\n",
       "      <th>seller_state</th>\n",
       "    </tr>\n",
       "  </thead>\n",
       "  <tbody>\n",
       "    <tr>\n",
       "      <th>count</th>\n",
       "      <td>3095</td>\n",
       "      <td>3095</td>\n",
       "    </tr>\n",
       "    <tr>\n",
       "      <th>unique</th>\n",
       "      <td>611</td>\n",
       "      <td>23</td>\n",
       "    </tr>\n",
       "    <tr>\n",
       "      <th>top</th>\n",
       "      <td>sao paulo</td>\n",
       "      <td>SP</td>\n",
       "    </tr>\n",
       "    <tr>\n",
       "      <th>freq</th>\n",
       "      <td>694</td>\n",
       "      <td>1849</td>\n",
       "    </tr>\n",
       "  </tbody>\n",
       "</table>\n",
       "</div>"
      ],
      "text/plain": [
       "       seller_city seller_state\n",
       "count         3095         3095\n",
       "unique         611           23\n",
       "top      sao paulo           SP\n",
       "freq           694         1849"
      ]
     },
     "execution_count": 37,
     "metadata": {},
     "output_type": "execute_result"
    }
   ],
   "source": [
    "sellers.iloc[:,2:].describe()"
   ]
  },
  {
   "cell_type": "code",
   "execution_count": 38,
   "id": "62705b30",
   "metadata": {
    "execution": {
     "iopub.execute_input": "2022-10-02T08:13:11.111681Z",
     "iopub.status.busy": "2022-10-02T08:13:11.111015Z",
     "iopub.status.idle": "2022-10-02T08:13:11.120845Z",
     "shell.execute_reply": "2022-10-02T08:13:11.119546Z"
    },
    "papermill": {
     "duration": 0.038028,
     "end_time": "2022-10-02T08:13:11.123016",
     "exception": false,
     "start_time": "2022-10-02T08:13:11.084988",
     "status": "completed"
    },
    "tags": []
   },
   "outputs": [
    {
     "data": {
      "text/plain": [
       "seller_id                 0\n",
       "seller_zip_code_prefix    0\n",
       "seller_city               0\n",
       "seller_state              0\n",
       "dtype: int64"
      ]
     },
     "execution_count": 38,
     "metadata": {},
     "output_type": "execute_result"
    }
   ],
   "source": [
    "sellers.isna().sum()"
   ]
  },
  {
   "cell_type": "code",
   "execution_count": 39,
   "id": "5dde8333",
   "metadata": {
    "execution": {
     "iopub.execute_input": "2022-10-02T08:13:11.173257Z",
     "iopub.status.busy": "2022-10-02T08:13:11.172583Z",
     "iopub.status.idle": "2022-10-02T08:13:11.182725Z",
     "shell.execute_reply": "2022-10-02T08:13:11.181669Z"
    },
    "papermill": {
     "duration": 0.037508,
     "end_time": "2022-10-02T08:13:11.184740",
     "exception": false,
     "start_time": "2022-10-02T08:13:11.147232",
     "status": "completed"
    },
    "tags": []
   },
   "outputs": [
    {
     "data": {
      "text/html": [
       "<div>\n",
       "<style scoped>\n",
       "    .dataframe tbody tr th:only-of-type {\n",
       "        vertical-align: middle;\n",
       "    }\n",
       "\n",
       "    .dataframe tbody tr th {\n",
       "        vertical-align: top;\n",
       "    }\n",
       "\n",
       "    .dataframe thead th {\n",
       "        text-align: right;\n",
       "    }\n",
       "</style>\n",
       "<table border=\"1\" class=\"dataframe\">\n",
       "  <thead>\n",
       "    <tr style=\"text-align: right;\">\n",
       "      <th></th>\n",
       "      <th>product_category_name</th>\n",
       "      <th>product_category_name_english</th>\n",
       "    </tr>\n",
       "  </thead>\n",
       "  <tbody>\n",
       "    <tr>\n",
       "      <th>0</th>\n",
       "      <td>beleza_saude</td>\n",
       "      <td>health_beauty</td>\n",
       "    </tr>\n",
       "    <tr>\n",
       "      <th>1</th>\n",
       "      <td>informatica_acessorios</td>\n",
       "      <td>computers_accessories</td>\n",
       "    </tr>\n",
       "    <tr>\n",
       "      <th>2</th>\n",
       "      <td>automotivo</td>\n",
       "      <td>auto</td>\n",
       "    </tr>\n",
       "    <tr>\n",
       "      <th>3</th>\n",
       "      <td>cama_mesa_banho</td>\n",
       "      <td>bed_bath_table</td>\n",
       "    </tr>\n",
       "    <tr>\n",
       "      <th>4</th>\n",
       "      <td>moveis_decoracao</td>\n",
       "      <td>furniture_decor</td>\n",
       "    </tr>\n",
       "  </tbody>\n",
       "</table>\n",
       "</div>"
      ],
      "text/plain": [
       "    product_category_name product_category_name_english\n",
       "0            beleza_saude                 health_beauty\n",
       "1  informatica_acessorios         computers_accessories\n",
       "2              automotivo                          auto\n",
       "3         cama_mesa_banho                bed_bath_table\n",
       "4        moveis_decoracao               furniture_decor"
      ]
     },
     "execution_count": 39,
     "metadata": {},
     "output_type": "execute_result"
    }
   ],
   "source": [
    "cat.head()"
   ]
  },
  {
   "cell_type": "code",
   "execution_count": 40,
   "id": "0c1610e1",
   "metadata": {
    "execution": {
     "iopub.execute_input": "2022-10-02T08:13:11.235743Z",
     "iopub.status.busy": "2022-10-02T08:13:11.235081Z",
     "iopub.status.idle": "2022-10-02T08:13:11.246616Z",
     "shell.execute_reply": "2022-10-02T08:13:11.245061Z"
    },
    "papermill": {
     "duration": 0.03983,
     "end_time": "2022-10-02T08:13:11.249214",
     "exception": false,
     "start_time": "2022-10-02T08:13:11.209384",
     "status": "completed"
    },
    "tags": []
   },
   "outputs": [
    {
     "name": "stdout",
     "output_type": "stream",
     "text": [
      "<class 'pandas.core.frame.DataFrame'>\n",
      "RangeIndex: 71 entries, 0 to 70\n",
      "Data columns (total 2 columns):\n",
      " #   Column                         Non-Null Count  Dtype \n",
      "---  ------                         --------------  ----- \n",
      " 0   product_category_name          71 non-null     object\n",
      " 1   product_category_name_english  71 non-null     object\n",
      "dtypes: object(2)\n",
      "memory usage: 1.2+ KB\n"
     ]
    }
   ],
   "source": [
    "cat.info()"
   ]
  },
  {
   "cell_type": "code",
   "execution_count": 41,
   "id": "63eb8c84",
   "metadata": {
    "execution": {
     "iopub.execute_input": "2022-10-02T08:13:11.300258Z",
     "iopub.status.busy": "2022-10-02T08:13:11.299076Z",
     "iopub.status.idle": "2022-10-02T08:13:11.313521Z",
     "shell.execute_reply": "2022-10-02T08:13:11.312356Z"
    },
    "papermill": {
     "duration": 0.042334,
     "end_time": "2022-10-02T08:13:11.315875",
     "exception": false,
     "start_time": "2022-10-02T08:13:11.273541",
     "status": "completed"
    },
    "tags": []
   },
   "outputs": [
    {
     "data": {
      "text/html": [
       "<div>\n",
       "<style scoped>\n",
       "    .dataframe tbody tr th:only-of-type {\n",
       "        vertical-align: middle;\n",
       "    }\n",
       "\n",
       "    .dataframe tbody tr th {\n",
       "        vertical-align: top;\n",
       "    }\n",
       "\n",
       "    .dataframe thead th {\n",
       "        text-align: right;\n",
       "    }\n",
       "</style>\n",
       "<table border=\"1\" class=\"dataframe\">\n",
       "  <thead>\n",
       "    <tr style=\"text-align: right;\">\n",
       "      <th></th>\n",
       "      <th>product_category_name</th>\n",
       "      <th>product_category_name_english</th>\n",
       "    </tr>\n",
       "  </thead>\n",
       "  <tbody>\n",
       "    <tr>\n",
       "      <th>count</th>\n",
       "      <td>71</td>\n",
       "      <td>71</td>\n",
       "    </tr>\n",
       "    <tr>\n",
       "      <th>unique</th>\n",
       "      <td>71</td>\n",
       "      <td>71</td>\n",
       "    </tr>\n",
       "    <tr>\n",
       "      <th>top</th>\n",
       "      <td>beleza_saude</td>\n",
       "      <td>health_beauty</td>\n",
       "    </tr>\n",
       "    <tr>\n",
       "      <th>freq</th>\n",
       "      <td>1</td>\n",
       "      <td>1</td>\n",
       "    </tr>\n",
       "  </tbody>\n",
       "</table>\n",
       "</div>"
      ],
      "text/plain": [
       "       product_category_name product_category_name_english\n",
       "count                     71                            71\n",
       "unique                    71                            71\n",
       "top             beleza_saude                 health_beauty\n",
       "freq                       1                             1"
      ]
     },
     "execution_count": 41,
     "metadata": {},
     "output_type": "execute_result"
    }
   ],
   "source": [
    "cat.describe(include=object)"
   ]
  },
  {
   "cell_type": "code",
   "execution_count": 42,
   "id": "eecc52bb",
   "metadata": {
    "execution": {
     "iopub.execute_input": "2022-10-02T08:13:11.368009Z",
     "iopub.status.busy": "2022-10-02T08:13:11.366917Z",
     "iopub.status.idle": "2022-10-02T08:13:11.374802Z",
     "shell.execute_reply": "2022-10-02T08:13:11.374032Z"
    },
    "papermill": {
     "duration": 0.035775,
     "end_time": "2022-10-02T08:13:11.376771",
     "exception": false,
     "start_time": "2022-10-02T08:13:11.340996",
     "status": "completed"
    },
    "tags": []
   },
   "outputs": [
    {
     "data": {
      "text/plain": [
       "product_category_name            0\n",
       "product_category_name_english    0\n",
       "dtype: int64"
      ]
     },
     "execution_count": 42,
     "metadata": {},
     "output_type": "execute_result"
    }
   ],
   "source": [
    "cat.isna().sum()"
   ]
  },
  {
   "cell_type": "markdown",
   "id": "716979e4",
   "metadata": {
    "papermill": {
     "duration": 0.024474,
     "end_time": "2022-10-02T08:13:11.425901",
     "exception": false,
     "start_time": "2022-10-02T08:13:11.401427",
     "status": "completed"
    },
    "tags": []
   },
   "source": [
    "# 2.1 Perbandingan Customer Repurchased vs Tidak"
   ]
  },
  {
   "cell_type": "code",
   "execution_count": 43,
   "id": "1ba77241",
   "metadata": {
    "execution": {
     "iopub.execute_input": "2022-10-02T08:13:11.478165Z",
     "iopub.status.busy": "2022-10-02T08:13:11.477233Z",
     "iopub.status.idle": "2022-10-02T08:13:11.669372Z",
     "shell.execute_reply": "2022-10-02T08:13:11.667802Z"
    },
    "papermill": {
     "duration": 0.222554,
     "end_time": "2022-10-02T08:13:11.673581",
     "exception": false,
     "start_time": "2022-10-02T08:13:11.451027",
     "status": "completed"
    },
    "tags": []
   },
   "outputs": [
    {
     "data": {
      "image/png": "[encoded data removed]",
      "text/plain": [
       "<Figure size 432x288 with 1 Axes>"
      ]
     },
     "metadata": {},
     "output_type": "display_data"
    }
   ],
   "source": [
    "# menghitung total customer asli\n",
    "unique = cust['customer_unique_id'].value_counts()\n",
    "\n",
    "# menghitung total customer asli yang melakukan repurchase\n",
    "repurchase = unique[unique > 1]\n",
    "\n",
    "# menghitung total customer asli yang melakukan tidak repurchase\n",
    "buy_one = unique[unique == 1]\n",
    "\n",
    "# memplot perbandingan customer yang melakukan repurchased dengan yang tidak\n",
    "labels = ['customer_not_repurchase', 'customer_repurchase']\n",
    "data = [buy_one.size, repurchase.size]\n",
    "\n",
    "plt.title(label=\"Customer\", fontsize=20)\n",
    "plt.pie(data, labels = labels, autopct='%1.1f%%')\n",
    "plt.axis('equal')\n",
    "plt.show()"
   ]
  },
  {
   "cell_type": "code",
   "execution_count": 44,
   "id": "34a9fdfc",
   "metadata": {
    "execution": {
     "iopub.execute_input": "2022-10-02T08:13:11.771625Z",
     "iopub.status.busy": "2022-10-02T08:13:11.770861Z",
     "iopub.status.idle": "2022-10-02T08:13:11.930315Z",
     "shell.execute_reply": "2022-10-02T08:13:11.929507Z"
    },
    "papermill": {
     "duration": 0.193081,
     "end_time": "2022-10-02T08:13:11.932398",
     "exception": false,
     "start_time": "2022-10-02T08:13:11.739317",
     "status": "completed"
    },
    "tags": []
   },
   "outputs": [
    {
     "data": {
      "image/png": "[encoded data removed]",
      "text/plain": [
       "<Figure size 432x288 with 1 Axes>"
      ]
     },
     "metadata": {
      "needs_background": "light"
     },
     "output_type": "display_data"
    }
   ],
   "source": [
    "plt.bar(labels, data, color ='olive', width = 0.4)\n",
    "plt.title(\"Customer\")\n",
    "plt.show()"
   ]
  },
  {
   "cell_type": "markdown",
   "id": "fa54258b",
   "metadata": {
    "papermill": {
     "duration": 0.024557,
     "end_time": "2022-10-02T08:13:11.982238",
     "exception": false,
     "start_time": "2022-10-02T08:13:11.957681",
     "status": "completed"
    },
    "tags": []
   },
   "source": [
    "<font size=\"4\">Tampak bahwa **dari total seluruh customer, hanya 3.1% yang melakukan repurchase** product. Dengan kata lain, dari 96096 customer, terdapat 2997 customer yang melakukan pembelian kembali di store, sedangkan sisanya tidak.</font>"
   ]
  },
  {
   "cell_type": "markdown",
   "id": "5827b37f",
   "metadata": {
    "papermill": {
     "duration": 0.024657,
     "end_time": "2022-10-02T08:13:12.032287",
     "exception": false,
     "start_time": "2022-10-02T08:13:12.007630",
     "status": "completed"
    },
    "tags": []
   },
   "source": [
    "# 2.2 Persebaran Lokasi Customer"
   ]
  },
  {
   "cell_type": "code",
   "execution_count": 45,
   "id": "b98c1d33",
   "metadata": {
    "execution": {
     "iopub.execute_input": "2022-10-02T08:13:12.084335Z",
     "iopub.status.busy": "2022-10-02T08:13:12.083658Z",
     "iopub.status.idle": "2022-10-02T08:13:12.460207Z",
     "shell.execute_reply": "2022-10-02T08:13:12.458787Z"
    },
    "papermill": {
     "duration": 0.405104,
     "end_time": "2022-10-02T08:13:12.462451",
     "exception": false,
     "start_time": "2022-10-02T08:13:12.057347",
     "status": "completed"
    },
    "tags": []
   },
   "outputs": [
    {
     "data": {
      "text/plain": [
       "<AxesSubplot:title={'center':'Top 20 Kota Tujuan Order Terbanyak'}>"
      ]
     },
     "execution_count": 45,
     "metadata": {},
     "output_type": "execute_result"
    },
    {
     "data": {
      "image/png": "[encoded data removed]",
      "text/plain": [
       "<Figure size 864x288 with 1 Axes>"
      ]
     },
     "metadata": {
      "needs_background": "light"
     },
     "output_type": "display_data"
    }
   ],
   "source": [
    "a = cust['customer_city'].value_counts().head(20)\n",
    "\n",
    "a.plot(kind='bar', color='olive', width=0.9, figsize=(12,4), title='Top 20 Kota Tujuan Order Terbanyak', grid=True)"
   ]
  },
  {
   "cell_type": "markdown",
   "id": "e0a44a48",
   "metadata": {
    "papermill": {
     "duration": 0.025645,
     "end_time": "2022-10-02T08:13:12.514226",
     "exception": false,
     "start_time": "2022-10-02T08:13:12.488581",
     "status": "completed"
    },
    "tags": []
   },
   "source": [
    "<font size=\"4\">Grafik di atas merupakan data 20 kota yang memiliki total order terbanyak. **Kota Sao Paulo menempati posisi pertama** sebagai kota dengan jumlah order customer terbanyak, yakni mendekati 16000 order. Di posisi kedua terdapat Kota Rio de Janeiro dengan total order mendekati 7000 order, sedangkan di posisi ketiga terdapat Kota Belo Horizonte. Dengan kata lain, **masyarakat Kota Sao Paulo lebih sering melakukan kegiatan belanja di marketplace e-commerce dibandingkan masyarakat kota lain di Brazil**.</font>"
   ]
  },
  {
   "cell_type": "markdown",
   "id": "cc4d81f6",
   "metadata": {
    "papermill": {
     "duration": 0.025183,
     "end_time": "2022-10-02T08:13:12.565154",
     "exception": false,
     "start_time": "2022-10-02T08:13:12.539971",
     "status": "completed"
    },
    "tags": []
   },
   "source": [
    "# 2.3 Product Terlaris"
   ]
  },
  {
   "cell_type": "code",
   "execution_count": 46,
   "id": "c42992de",
   "metadata": {
    "execution": {
     "iopub.execute_input": "2022-10-02T08:13:12.618575Z",
     "iopub.status.busy": "2022-10-02T08:13:12.618153Z",
     "iopub.status.idle": "2022-10-02T08:13:13.074367Z",
     "shell.execute_reply": "2022-10-02T08:13:13.073553Z"
    },
    "papermill": {
     "duration": 0.486079,
     "end_time": "2022-10-02T08:13:13.076892",
     "exception": false,
     "start_time": "2022-10-02T08:13:12.590813",
     "status": "completed"
    },
    "tags": []
   },
   "outputs": [
    {
     "data": {
      "text/plain": [
       "<AxesSubplot:title={'center':'Top 10 Kategori Product dengan Penjualan Terbanyak'}, xlabel='product_category_name_english'>"
      ]
     },
     "execution_count": 46,
     "metadata": {},
     "output_type": "execute_result"
    },
    {
     "data": {
      "image/png": "[encoded data removed]",
      "text/plain": [
       "<Figure size 864x288 with 1 Axes>"
      ]
     },
     "metadata": {
      "needs_background": "light"
     },
     "output_type": "display_data"
    }
   ],
   "source": [
    "# mengambil total product yang terjual\n",
    "items_sold = items[['product_id']].value_counts().rename_axis('product_id').reset_index(name='total')\n",
    "\n",
    "# merging total product dengan kategorinya\n",
    "product_items_sold = items_sold.merge(products, on='product_id')\n",
    "product_items_sold = product_items_sold.iloc[:,:3]\n",
    "total_items_sold = product_items_sold.merge(cat, on='product_category_name')\n",
    "\n",
    "# menjumlahkan total masing-masing kategori yang terjual\n",
    "total_items_sold_eng = total_items_sold.groupby('product_category_name_english').sum().sort_values(by='total', ascending=False)\n",
    "\n",
    "# plot top 10 kategori product yang terlaris\n",
    "total_items_sold_eng.head(10).plot(kind='bar', \n",
    "                                   color='goldenrod', \n",
    "                                   width=0.5, \n",
    "                                   figsize=(12,4), \n",
    "                                   title='Top 10 Kategori Product dengan Penjualan Terbanyak', \n",
    "                                   grid=True)"
   ]
  },
  {
   "cell_type": "markdown",
   "id": "e45c7dc7",
   "metadata": {
    "papermill": {
     "duration": 0.026186,
     "end_time": "2022-10-02T08:13:13.129564",
     "exception": false,
     "start_time": "2022-10-02T08:13:13.103378",
     "status": "completed"
    },
    "tags": []
   },
   "source": [
    "# 3 Feature Engineering"
   ]
  },
  {
   "cell_type": "markdown",
   "id": "30170acc",
   "metadata": {
    "papermill": {
     "duration": 0.028939,
     "end_time": "2022-10-02T08:13:13.184671",
     "exception": false,
     "start_time": "2022-10-02T08:13:13.155732",
     "status": "completed"
    },
    "tags": []
   },
   "source": [
    "# 3.1 Total Seluruh Order Tiap Customer"
   ]
  },
  {
   "cell_type": "code",
   "execution_count": 47,
   "id": "4c933e31",
   "metadata": {
    "execution": {
     "iopub.execute_input": "2022-10-02T08:13:13.239784Z",
     "iopub.status.busy": "2022-10-02T08:13:13.239312Z",
     "iopub.status.idle": "2022-10-02T08:13:13.636769Z",
     "shell.execute_reply": "2022-10-02T08:13:13.635503Z"
    },
    "papermill": {
     "duration": 0.427911,
     "end_time": "2022-10-02T08:13:13.639310",
     "exception": false,
     "start_time": "2022-10-02T08:13:13.211399",
     "status": "completed"
    },
    "tags": []
   },
   "outputs": [
    {
     "data": {
      "text/html": [
       "<div>\n",
       "<style scoped>\n",
       "    .dataframe tbody tr th:only-of-type {\n",
       "        vertical-align: middle;\n",
       "    }\n",
       "\n",
       "    .dataframe tbody tr th {\n",
       "        vertical-align: top;\n",
       "    }\n",
       "\n",
       "    .dataframe thead th {\n",
       "        text-align: right;\n",
       "    }\n",
       "</style>\n",
       "<table border=\"1\" class=\"dataframe\">\n",
       "  <thead>\n",
       "    <tr style=\"text-align: right;\">\n",
       "      <th></th>\n",
       "      <th>customer_unique_id</th>\n",
       "      <th>orders_count</th>\n",
       "    </tr>\n",
       "  </thead>\n",
       "  <tbody>\n",
       "    <tr>\n",
       "      <th>52973</th>\n",
       "      <td>8d50f5eadf50201ccdcedfb9e2ac8455</td>\n",
       "      <td>17</td>\n",
       "    </tr>\n",
       "    <tr>\n",
       "      <th>23472</th>\n",
       "      <td>3e43e6105506432c953e165fb2acf44c</td>\n",
       "      <td>9</td>\n",
       "    </tr>\n",
       "    <tr>\n",
       "      <th>37797</th>\n",
       "      <td>6469f99c1f9dfae7733b25662e7f1782</td>\n",
       "      <td>7</td>\n",
       "    </tr>\n",
       "    <tr>\n",
       "      <th>76082</th>\n",
       "      <td>ca77025e7201e3b30c44b472ff346268</td>\n",
       "      <td>7</td>\n",
       "    </tr>\n",
       "    <tr>\n",
       "      <th>10354</th>\n",
       "      <td>1b6c7548a2a1f9037c1fd3ddfed95f33</td>\n",
       "      <td>7</td>\n",
       "    </tr>\n",
       "  </tbody>\n",
       "</table>\n",
       "</div>"
      ],
      "text/plain": [
       "                     customer_unique_id  orders_count\n",
       "52973  8d50f5eadf50201ccdcedfb9e2ac8455            17\n",
       "23472  3e43e6105506432c953e165fb2acf44c             9\n",
       "37797  6469f99c1f9dfae7733b25662e7f1782             7\n",
       "76082  ca77025e7201e3b30c44b472ff346268             7\n",
       "10354  1b6c7548a2a1f9037c1fd3ddfed95f33             7"
      ]
     },
     "execution_count": 47,
     "metadata": {},
     "output_type": "execute_result"
    }
   ],
   "source": [
    "# total order dari masing-masing customer\n",
    "cust_orders_merge = orders.merge(cust, on='customer_id')\n",
    "\n",
    "cust_orders_freq = cust_orders_merge.iloc[:,[0,8]]\n",
    "cust_orders_freq = cust_orders_freq.groupby('customer_unique_id').count().reset_index()\n",
    "cust_orders_freq = cust_orders_freq.rename({\n",
    "    'order_id' : 'orders_count'\n",
    "}, axis='columns')\n",
    "\n",
    "cust_orders_freq.sort_values(by='orders_count', ascending=False).head()"
   ]
  },
  {
   "cell_type": "markdown",
   "id": "2921952c",
   "metadata": {
    "papermill": {
     "duration": 0.02659,
     "end_time": "2022-10-02T08:13:13.693060",
     "exception": false,
     "start_time": "2022-10-02T08:13:13.666470",
     "status": "completed"
    },
    "tags": []
   },
   "source": [
    "# 3.2 Total Pemrosesan Order Masing-Masing Customer"
   ]
  },
  {
   "cell_type": "code",
   "execution_count": 48,
   "id": "3a617807",
   "metadata": {
    "execution": {
     "iopub.execute_input": "2022-10-02T08:13:13.748003Z",
     "iopub.status.busy": "2022-10-02T08:13:13.747579Z",
     "iopub.status.idle": "2022-10-02T08:13:14.250663Z",
     "shell.execute_reply": "2022-10-02T08:13:14.249556Z"
    },
    "papermill": {
     "duration": 0.533339,
     "end_time": "2022-10-02T08:13:14.253070",
     "exception": false,
     "start_time": "2022-10-02T08:13:13.719731",
     "status": "completed"
    },
    "tags": []
   },
   "outputs": [
    {
     "data": {
      "text/html": [
       "<div>\n",
       "<style scoped>\n",
       "    .dataframe tbody tr th:only-of-type {\n",
       "        vertical-align: middle;\n",
       "    }\n",
       "\n",
       "    .dataframe tbody tr th {\n",
       "        vertical-align: top;\n",
       "    }\n",
       "\n",
       "    .dataframe thead th {\n",
       "        text-align: right;\n",
       "    }\n",
       "</style>\n",
       "<table border=\"1\" class=\"dataframe\">\n",
       "  <thead>\n",
       "    <tr style=\"text-align: right;\">\n",
       "      <th></th>\n",
       "      <th>customer_unique_id</th>\n",
       "      <th>approved</th>\n",
       "      <th>canceled</th>\n",
       "      <th>created</th>\n",
       "      <th>delivered</th>\n",
       "      <th>invoiced</th>\n",
       "      <th>processing</th>\n",
       "      <th>shipped</th>\n",
       "      <th>unavailable</th>\n",
       "    </tr>\n",
       "  </thead>\n",
       "  <tbody>\n",
       "    <tr>\n",
       "      <th>52973</th>\n",
       "      <td>8d50f5eadf50201ccdcedfb9e2ac8455</td>\n",
       "      <td>0.0</td>\n",
       "      <td>0.0</td>\n",
       "      <td>0.0</td>\n",
       "      <td>15.0</td>\n",
       "      <td>0.0</td>\n",
       "      <td>0.0</td>\n",
       "      <td>1.0</td>\n",
       "      <td>1.0</td>\n",
       "    </tr>\n",
       "    <tr>\n",
       "      <th>23472</th>\n",
       "      <td>3e43e6105506432c953e165fb2acf44c</td>\n",
       "      <td>0.0</td>\n",
       "      <td>0.0</td>\n",
       "      <td>0.0</td>\n",
       "      <td>9.0</td>\n",
       "      <td>0.0</td>\n",
       "      <td>0.0</td>\n",
       "      <td>0.0</td>\n",
       "      <td>0.0</td>\n",
       "    </tr>\n",
       "    <tr>\n",
       "      <th>37797</th>\n",
       "      <td>6469f99c1f9dfae7733b25662e7f1782</td>\n",
       "      <td>0.0</td>\n",
       "      <td>0.0</td>\n",
       "      <td>0.0</td>\n",
       "      <td>7.0</td>\n",
       "      <td>0.0</td>\n",
       "      <td>0.0</td>\n",
       "      <td>0.0</td>\n",
       "      <td>0.0</td>\n",
       "    </tr>\n",
       "    <tr>\n",
       "      <th>76082</th>\n",
       "      <td>ca77025e7201e3b30c44b472ff346268</td>\n",
       "      <td>0.0</td>\n",
       "      <td>0.0</td>\n",
       "      <td>0.0</td>\n",
       "      <td>7.0</td>\n",
       "      <td>0.0</td>\n",
       "      <td>0.0</td>\n",
       "      <td>0.0</td>\n",
       "      <td>0.0</td>\n",
       "    </tr>\n",
       "    <tr>\n",
       "      <th>10354</th>\n",
       "      <td>1b6c7548a2a1f9037c1fd3ddfed95f33</td>\n",
       "      <td>0.0</td>\n",
       "      <td>0.0</td>\n",
       "      <td>0.0</td>\n",
       "      <td>7.0</td>\n",
       "      <td>0.0</td>\n",
       "      <td>0.0</td>\n",
       "      <td>0.0</td>\n",
       "      <td>0.0</td>\n",
       "    </tr>\n",
       "  </tbody>\n",
       "</table>\n",
       "</div>"
      ],
      "text/plain": [
       "                     customer_unique_id  approved  canceled  created  \\\n",
       "52973  8d50f5eadf50201ccdcedfb9e2ac8455       0.0       0.0      0.0   \n",
       "23472  3e43e6105506432c953e165fb2acf44c       0.0       0.0      0.0   \n",
       "37797  6469f99c1f9dfae7733b25662e7f1782       0.0       0.0      0.0   \n",
       "76082  ca77025e7201e3b30c44b472ff346268       0.0       0.0      0.0   \n",
       "10354  1b6c7548a2a1f9037c1fd3ddfed95f33       0.0       0.0      0.0   \n",
       "\n",
       "       delivered  invoiced  processing  shipped  unavailable  \n",
       "52973       15.0       0.0         0.0      1.0          1.0  \n",
       "23472        9.0       0.0         0.0      0.0          0.0  \n",
       "37797        7.0       0.0         0.0      0.0          0.0  \n",
       "76082        7.0       0.0         0.0      0.0          0.0  \n",
       "10354        7.0       0.0         0.0      0.0          0.0  "
      ]
     },
     "execution_count": 48,
     "metadata": {},
     "output_type": "execute_result"
    }
   ],
   "source": [
    "# ambil total status order masing-masing customer\n",
    "cust_orders_status = cust_orders_merge.iloc[:,[0,2,8]].groupby(['customer_unique_id','order_status']).count().reset_index()\n",
    "\n",
    "# buat feature baru\n",
    "cust_orders_status = cust_orders_status.pivot_table('order_id', ['customer_unique_id'], 'order_status')\n",
    "\n",
    "# handling NaN\n",
    "cust_orders_status = cust_orders_status.fillna(0)\n",
    "\n",
    "# showing dataframe\n",
    "cust_orders_status = cust_orders_status.rename_axis(None, axis=1).reset_index()\n",
    "cust_orders_status.sort_values(by='delivered', ascending=False).head()"
   ]
  },
  {
   "cell_type": "markdown",
   "id": "6ba29882",
   "metadata": {
    "papermill": {
     "duration": 0.02634,
     "end_time": "2022-10-02T08:13:14.306131",
     "exception": false,
     "start_time": "2022-10-02T08:13:14.279791",
     "status": "completed"
    },
    "tags": []
   },
   "source": [
    "# 3.3 Total Items Yang Diorder Tiap Customer"
   ]
  },
  {
   "cell_type": "code",
   "execution_count": 49,
   "id": "deb932d1",
   "metadata": {
    "execution": {
     "iopub.execute_input": "2022-10-02T08:13:14.361457Z",
     "iopub.status.busy": "2022-10-02T08:13:14.361049Z",
     "iopub.status.idle": "2022-10-02T08:13:14.381416Z",
     "shell.execute_reply": "2022-10-02T08:13:14.380650Z"
    },
    "papermill": {
     "duration": 0.050635,
     "end_time": "2022-10-02T08:13:14.383415",
     "exception": false,
     "start_time": "2022-10-02T08:13:14.332780",
     "status": "completed"
    },
    "tags": []
   },
   "outputs": [
    {
     "data": {
      "text/html": [
       "<div>\n",
       "<style scoped>\n",
       "    .dataframe tbody tr th:only-of-type {\n",
       "        vertical-align: middle;\n",
       "    }\n",
       "\n",
       "    .dataframe tbody tr th {\n",
       "        vertical-align: top;\n",
       "    }\n",
       "\n",
       "    .dataframe thead th {\n",
       "        text-align: right;\n",
       "    }\n",
       "</style>\n",
       "<table border=\"1\" class=\"dataframe\">\n",
       "  <thead>\n",
       "    <tr style=\"text-align: right;\">\n",
       "      <th></th>\n",
       "      <th>order_id</th>\n",
       "      <th>product_id</th>\n",
       "      <th>price</th>\n",
       "      <th>freight_value</th>\n",
       "    </tr>\n",
       "  </thead>\n",
       "  <tbody>\n",
       "    <tr>\n",
       "      <th>0</th>\n",
       "      <td>00010242fe8c5a6d1ba2dd792cb16214</td>\n",
       "      <td>4244733e06e7ecb4970a6e2683c13e61</td>\n",
       "      <td>58.90</td>\n",
       "      <td>13.29</td>\n",
       "    </tr>\n",
       "    <tr>\n",
       "      <th>1</th>\n",
       "      <td>00018f77f2f0320c557190d7a144bdd3</td>\n",
       "      <td>e5f2d52b802189ee658865ca93d83a8f</td>\n",
       "      <td>239.90</td>\n",
       "      <td>19.93</td>\n",
       "    </tr>\n",
       "    <tr>\n",
       "      <th>2</th>\n",
       "      <td>000229ec398224ef6ca0657da4fc703e</td>\n",
       "      <td>c777355d18b72b67abbeef9df44fd0fd</td>\n",
       "      <td>199.00</td>\n",
       "      <td>17.87</td>\n",
       "    </tr>\n",
       "    <tr>\n",
       "      <th>3</th>\n",
       "      <td>00024acbcdf0a6daa1e931b038114c75</td>\n",
       "      <td>7634da152a4610f1595efa32f14722fc</td>\n",
       "      <td>12.99</td>\n",
       "      <td>12.79</td>\n",
       "    </tr>\n",
       "    <tr>\n",
       "      <th>4</th>\n",
       "      <td>00042b26cf59d7ce69dfabb4e55b4fd9</td>\n",
       "      <td>ac6c3623068f30de03045865e4e10089</td>\n",
       "      <td>199.90</td>\n",
       "      <td>18.14</td>\n",
       "    </tr>\n",
       "    <tr>\n",
       "      <th>...</th>\n",
       "      <td>...</td>\n",
       "      <td>...</td>\n",
       "      <td>...</td>\n",
       "      <td>...</td>\n",
       "    </tr>\n",
       "    <tr>\n",
       "      <th>112645</th>\n",
       "      <td>fffc94f6ce00a00581880bf54a75a037</td>\n",
       "      <td>4aa6014eceb682077f9dc4bffebc05b0</td>\n",
       "      <td>299.99</td>\n",
       "      <td>43.41</td>\n",
       "    </tr>\n",
       "    <tr>\n",
       "      <th>112646</th>\n",
       "      <td>fffcd46ef2263f404302a634eb57f7eb</td>\n",
       "      <td>32e07fd915822b0765e448c4dd74c828</td>\n",
       "      <td>350.00</td>\n",
       "      <td>36.53</td>\n",
       "    </tr>\n",
       "    <tr>\n",
       "      <th>112647</th>\n",
       "      <td>fffce4705a9662cd70adb13d4a31832d</td>\n",
       "      <td>72a30483855e2eafc67aee5dc2560482</td>\n",
       "      <td>99.90</td>\n",
       "      <td>16.95</td>\n",
       "    </tr>\n",
       "    <tr>\n",
       "      <th>112648</th>\n",
       "      <td>fffe18544ffabc95dfada21779c9644f</td>\n",
       "      <td>9c422a519119dcad7575db5af1ba540e</td>\n",
       "      <td>55.99</td>\n",
       "      <td>8.72</td>\n",
       "    </tr>\n",
       "    <tr>\n",
       "      <th>112649</th>\n",
       "      <td>fffe41c64501cc87c801fd61db3f6244</td>\n",
       "      <td>350688d9dc1e75ff97be326363655e01</td>\n",
       "      <td>43.00</td>\n",
       "      <td>12.79</td>\n",
       "    </tr>\n",
       "  </tbody>\n",
       "</table>\n",
       "<p>112650 rows × 4 columns</p>\n",
       "</div>"
      ],
      "text/plain": [
       "                                order_id                        product_id  \\\n",
       "0       00010242fe8c5a6d1ba2dd792cb16214  4244733e06e7ecb4970a6e2683c13e61   \n",
       "1       00018f77f2f0320c557190d7a144bdd3  e5f2d52b802189ee658865ca93d83a8f   \n",
       "2       000229ec398224ef6ca0657da4fc703e  c777355d18b72b67abbeef9df44fd0fd   \n",
       "3       00024acbcdf0a6daa1e931b038114c75  7634da152a4610f1595efa32f14722fc   \n",
       "4       00042b26cf59d7ce69dfabb4e55b4fd9  ac6c3623068f30de03045865e4e10089   \n",
       "...                                  ...                               ...   \n",
       "112645  fffc94f6ce00a00581880bf54a75a037  4aa6014eceb682077f9dc4bffebc05b0   \n",
       "112646  fffcd46ef2263f404302a634eb57f7eb  32e07fd915822b0765e448c4dd74c828   \n",
       "112647  fffce4705a9662cd70adb13d4a31832d  72a30483855e2eafc67aee5dc2560482   \n",
       "112648  fffe18544ffabc95dfada21779c9644f  9c422a519119dcad7575db5af1ba540e   \n",
       "112649  fffe41c64501cc87c801fd61db3f6244  350688d9dc1e75ff97be326363655e01   \n",
       "\n",
       "         price  freight_value  \n",
       "0        58.90          13.29  \n",
       "1       239.90          19.93  \n",
       "2       199.00          17.87  \n",
       "3        12.99          12.79  \n",
       "4       199.90          18.14  \n",
       "...        ...            ...  \n",
       "112645  299.99          43.41  \n",
       "112646  350.00          36.53  \n",
       "112647   99.90          16.95  \n",
       "112648   55.99           8.72  \n",
       "112649   43.00          12.79  \n",
       "\n",
       "[112650 rows x 4 columns]"
      ]
     },
     "execution_count": 49,
     "metadata": {},
     "output_type": "execute_result"
    }
   ],
   "source": [
    "# ambil seluruh items yang diorder customer\n",
    "cek_items = items.iloc[:,[0,2,5,6]]\n",
    "cek_items"
   ]
  },
  {
   "cell_type": "code",
   "execution_count": 50,
   "id": "19e3db05",
   "metadata": {
    "execution": {
     "iopub.execute_input": "2022-10-02T08:13:14.439351Z",
     "iopub.status.busy": "2022-10-02T08:13:14.438637Z",
     "iopub.status.idle": "2022-10-02T08:13:15.542642Z",
     "shell.execute_reply": "2022-10-02T08:13:15.541415Z"
    },
    "papermill": {
     "duration": 1.134843,
     "end_time": "2022-10-02T08:13:15.545056",
     "exception": false,
     "start_time": "2022-10-02T08:13:14.410213",
     "status": "completed"
    },
    "tags": []
   },
   "outputs": [
    {
     "data": {
      "text/html": [
       "<div>\n",
       "<style scoped>\n",
       "    .dataframe tbody tr th:only-of-type {\n",
       "        vertical-align: middle;\n",
       "    }\n",
       "\n",
       "    .dataframe tbody tr th {\n",
       "        vertical-align: top;\n",
       "    }\n",
       "\n",
       "    .dataframe thead th {\n",
       "        text-align: right;\n",
       "    }\n",
       "</style>\n",
       "<table border=\"1\" class=\"dataframe\">\n",
       "  <thead>\n",
       "    <tr style=\"text-align: right;\">\n",
       "      <th></th>\n",
       "      <th>customer_unique_id</th>\n",
       "      <th>total_items</th>\n",
       "      <th>total_prices</th>\n",
       "      <th>total_freight_value</th>\n",
       "    </tr>\n",
       "  </thead>\n",
       "  <tbody>\n",
       "    <tr>\n",
       "      <th>74752</th>\n",
       "      <td>c8460e4251689ba205045f3ea17884a1</td>\n",
       "      <td>24</td>\n",
       "      <td>4080.00</td>\n",
       "      <td>575.88</td>\n",
       "    </tr>\n",
       "    <tr>\n",
       "      <th>25885</th>\n",
       "      <td>4546caea018ad8c692964e3382debd19</td>\n",
       "      <td>21</td>\n",
       "      <td>31.80</td>\n",
       "      <td>164.37</td>\n",
       "    </tr>\n",
       "    <tr>\n",
       "      <th>73155</th>\n",
       "      <td>c402f431464c72e27330a67f7b94d4fb</td>\n",
       "      <td>20</td>\n",
       "      <td>2000.00</td>\n",
       "      <td>202.40</td>\n",
       "    </tr>\n",
       "    <tr>\n",
       "      <th>39443</th>\n",
       "      <td>698e1cf81d01a3d389d96145f7fa6df8</td>\n",
       "      <td>20</td>\n",
       "      <td>1974.00</td>\n",
       "      <td>288.80</td>\n",
       "    </tr>\n",
       "    <tr>\n",
       "      <th>5741</th>\n",
       "      <td>0f5ac8d5c31de21d2f25e24be15bbffb</td>\n",
       "      <td>18</td>\n",
       "      <td>1252.35</td>\n",
       "      <td>292.47</td>\n",
       "    </tr>\n",
       "  </tbody>\n",
       "</table>\n",
       "</div>"
      ],
      "text/plain": [
       "                     customer_unique_id  total_items  total_prices  \\\n",
       "74752  c8460e4251689ba205045f3ea17884a1           24       4080.00   \n",
       "25885  4546caea018ad8c692964e3382debd19           21         31.80   \n",
       "73155  c402f431464c72e27330a67f7b94d4fb           20       2000.00   \n",
       "39443  698e1cf81d01a3d389d96145f7fa6df8           20       1974.00   \n",
       "5741   0f5ac8d5c31de21d2f25e24be15bbffb           18       1252.35   \n",
       "\n",
       "       total_freight_value  \n",
       "74752               575.88  \n",
       "25885               164.37  \n",
       "73155               202.40  \n",
       "39443               288.80  \n",
       "5741                292.47  "
      ]
     },
     "execution_count": 50,
     "metadata": {},
     "output_type": "execute_result"
    }
   ],
   "source": [
    "# ambil jumlah item dalam 1 kali order\n",
    "cek_freq_item = cek_items[['order_id']].value_counts().rename_axis('order_id').reset_index(name='total_items')\n",
    "\n",
    "# merging dengan orders dan cust\n",
    "cek_items_a = cek_items.merge(orders, on='order_id')\n",
    "cek_items_a = cek_items_a.iloc[:,:5]\n",
    "\n",
    "cek_items_b = cek_items_a.merge(cust, on='customer_id')\n",
    "cek_items_b = cek_items_b.iloc[:,:6]\n",
    "\n",
    "# merging total prices, total freight, total items, dan total orders masing-masing customer\n",
    "cek_items_b = cek_items_b.groupby(['customer_unique_id','order_id']).sum().reset_index()\n",
    "total_items = cek_items_b.merge(cek_freq_item, on='order_id')\n",
    "total_items_prices = total_items.groupby(['customer_unique_id']).sum().reset_index()\n",
    "\n",
    "# rename columns\n",
    "total_items_prices = total_items_prices.rename({\n",
    "    'price' : 'total_prices',\n",
    "    'freight_value' : 'total_freight_value'\n",
    "}, axis='columns') \n",
    "\n",
    "# change columns position\n",
    "total_items_prices = total_items_prices[['customer_unique_id', 'total_items', 'total_prices', 'total_freight_value']]\n",
    "\n",
    "total_items_prices.sort_values(by='total_items', ascending=False).head()"
   ]
  },
  {
   "cell_type": "markdown",
   "id": "527e25ca",
   "metadata": {
    "papermill": {
     "duration": 0.026638,
     "end_time": "2022-10-02T08:13:15.598947",
     "exception": false,
     "start_time": "2022-10-02T08:13:15.572309",
     "status": "completed"
    },
    "tags": []
   },
   "source": [
    "# 3.4 Total Orders Berhasil Tiap Customer"
   ]
  },
  {
   "cell_type": "code",
   "execution_count": 51,
   "id": "8759b4f5",
   "metadata": {
    "execution": {
     "iopub.execute_input": "2022-10-02T08:13:15.655650Z",
     "iopub.status.busy": "2022-10-02T08:13:15.654791Z",
     "iopub.status.idle": "2022-10-02T08:13:15.825995Z",
     "shell.execute_reply": "2022-10-02T08:13:15.825171Z"
    },
    "papermill": {
     "duration": 0.201808,
     "end_time": "2022-10-02T08:13:15.828262",
     "exception": false,
     "start_time": "2022-10-02T08:13:15.626454",
     "status": "completed"
    },
    "tags": []
   },
   "outputs": [
    {
     "data": {
      "text/html": [
       "<div>\n",
       "<style scoped>\n",
       "    .dataframe tbody tr th:only-of-type {\n",
       "        vertical-align: middle;\n",
       "    }\n",
       "\n",
       "    .dataframe tbody tr th {\n",
       "        vertical-align: top;\n",
       "    }\n",
       "\n",
       "    .dataframe thead th {\n",
       "        text-align: right;\n",
       "    }\n",
       "</style>\n",
       "<table border=\"1\" class=\"dataframe\">\n",
       "  <thead>\n",
       "    <tr style=\"text-align: right;\">\n",
       "      <th></th>\n",
       "      <th>customer_unique_id</th>\n",
       "      <th>total_orders_success</th>\n",
       "    </tr>\n",
       "  </thead>\n",
       "  <tbody>\n",
       "    <tr>\n",
       "      <th>52597</th>\n",
       "      <td>8d50f5eadf50201ccdcedfb9e2ac8455</td>\n",
       "      <td>16</td>\n",
       "    </tr>\n",
       "    <tr>\n",
       "      <th>23302</th>\n",
       "      <td>3e43e6105506432c953e165fb2acf44c</td>\n",
       "      <td>9</td>\n",
       "    </tr>\n",
       "    <tr>\n",
       "      <th>10281</th>\n",
       "      <td>1b6c7548a2a1f9037c1fd3ddfed95f33</td>\n",
       "      <td>7</td>\n",
       "    </tr>\n",
       "    <tr>\n",
       "      <th>37532</th>\n",
       "      <td>6469f99c1f9dfae7733b25662e7f1782</td>\n",
       "      <td>7</td>\n",
       "    </tr>\n",
       "    <tr>\n",
       "      <th>75560</th>\n",
       "      <td>ca77025e7201e3b30c44b472ff346268</td>\n",
       "      <td>7</td>\n",
       "    </tr>\n",
       "    <tr>\n",
       "      <th>...</th>\n",
       "      <td>...</td>\n",
       "      <td>...</td>\n",
       "    </tr>\n",
       "    <tr>\n",
       "      <th>32272</th>\n",
       "      <td>5657f9f721c16800a66c21081d46b18d</td>\n",
       "      <td>1</td>\n",
       "    </tr>\n",
       "    <tr>\n",
       "      <th>32271</th>\n",
       "      <td>5657dfebff5868c4dc7e8355fea865c4</td>\n",
       "      <td>1</td>\n",
       "    </tr>\n",
       "    <tr>\n",
       "      <th>32270</th>\n",
       "      <td>5657596addb4d7b07b32cd330614bdf8</td>\n",
       "      <td>1</td>\n",
       "    </tr>\n",
       "    <tr>\n",
       "      <th>32269</th>\n",
       "      <td>5656eb169546146caeab56c3ffc3d268</td>\n",
       "      <td>1</td>\n",
       "    </tr>\n",
       "    <tr>\n",
       "      <th>95419</th>\n",
       "      <td>ffffd2657e2aad2907e67c3e9daecbeb</td>\n",
       "      <td>1</td>\n",
       "    </tr>\n",
       "  </tbody>\n",
       "</table>\n",
       "<p>95420 rows × 2 columns</p>\n",
       "</div>"
      ],
      "text/plain": [
       "                     customer_unique_id  total_orders_success\n",
       "52597  8d50f5eadf50201ccdcedfb9e2ac8455                    16\n",
       "23302  3e43e6105506432c953e165fb2acf44c                     9\n",
       "10281  1b6c7548a2a1f9037c1fd3ddfed95f33                     7\n",
       "37532  6469f99c1f9dfae7733b25662e7f1782                     7\n",
       "75560  ca77025e7201e3b30c44b472ff346268                     7\n",
       "...                                 ...                   ...\n",
       "32272  5657f9f721c16800a66c21081d46b18d                     1\n",
       "32271  5657dfebff5868c4dc7e8355fea865c4                     1\n",
       "32270  5657596addb4d7b07b32cd330614bdf8                     1\n",
       "32269  5656eb169546146caeab56c3ffc3d268                     1\n",
       "95419  ffffd2657e2aad2907e67c3e9daecbeb                     1\n",
       "\n",
       "[95420 rows x 2 columns]"
      ]
     },
     "execution_count": 51,
     "metadata": {},
     "output_type": "execute_result"
    }
   ],
   "source": [
    "# ambil total order masing-masing customer\n",
    "total_orders = cek_items_b[['order_id','customer_unique_id']].groupby('customer_unique_id').count().rename_axis('customer_unique_id').reset_index()\n",
    "\n",
    "total_orders = total_orders.rename({'order_id': 'total_orders_success'}, axis='columns') \n",
    "total_orders.sort_values(by='total_orders_success', ascending=False)"
   ]
  },
  {
   "cell_type": "markdown",
   "id": "b8924c4e",
   "metadata": {
    "papermill": {
     "duration": 0.026926,
     "end_time": "2022-10-02T08:13:15.882497",
     "exception": false,
     "start_time": "2022-10-02T08:13:15.855571",
     "status": "completed"
    },
    "tags": []
   },
   "source": [
    "# 3.5 Total Order serta Item Tiap Customer"
   ]
  },
  {
   "cell_type": "code",
   "execution_count": 52,
   "id": "704a6422",
   "metadata": {
    "execution": {
     "iopub.execute_input": "2022-10-02T08:13:15.939247Z",
     "iopub.status.busy": "2022-10-02T08:13:15.938224Z",
     "iopub.status.idle": "2022-10-02T08:13:16.060028Z",
     "shell.execute_reply": "2022-10-02T08:13:16.059108Z"
    },
    "papermill": {
     "duration": 0.152268,
     "end_time": "2022-10-02T08:13:16.062202",
     "exception": false,
     "start_time": "2022-10-02T08:13:15.909934",
     "status": "completed"
    },
    "tags": []
   },
   "outputs": [
    {
     "data": {
      "text/html": [
       "<div>\n",
       "<style scoped>\n",
       "    .dataframe tbody tr th:only-of-type {\n",
       "        vertical-align: middle;\n",
       "    }\n",
       "\n",
       "    .dataframe tbody tr th {\n",
       "        vertical-align: top;\n",
       "    }\n",
       "\n",
       "    .dataframe thead th {\n",
       "        text-align: right;\n",
       "    }\n",
       "</style>\n",
       "<table border=\"1\" class=\"dataframe\">\n",
       "  <thead>\n",
       "    <tr style=\"text-align: right;\">\n",
       "      <th></th>\n",
       "      <th>customer_unique_id</th>\n",
       "      <th>total_orders_success</th>\n",
       "      <th>total_items</th>\n",
       "      <th>total_prices</th>\n",
       "      <th>total_freight_value</th>\n",
       "    </tr>\n",
       "  </thead>\n",
       "  <tbody>\n",
       "    <tr>\n",
       "      <th>52597</th>\n",
       "      <td>8d50f5eadf50201ccdcedfb9e2ac8455</td>\n",
       "      <td>16</td>\n",
       "      <td>16</td>\n",
       "      <td>729.62</td>\n",
       "      <td>172.42</td>\n",
       "    </tr>\n",
       "    <tr>\n",
       "      <th>23302</th>\n",
       "      <td>3e43e6105506432c953e165fb2acf44c</td>\n",
       "      <td>9</td>\n",
       "      <td>14</td>\n",
       "      <td>1000.85</td>\n",
       "      <td>171.82</td>\n",
       "    </tr>\n",
       "    <tr>\n",
       "      <th>10281</th>\n",
       "      <td>1b6c7548a2a1f9037c1fd3ddfed95f33</td>\n",
       "      <td>7</td>\n",
       "      <td>9</td>\n",
       "      <td>809.21</td>\n",
       "      <td>149.80</td>\n",
       "    </tr>\n",
       "    <tr>\n",
       "      <th>37532</th>\n",
       "      <td>6469f99c1f9dfae7733b25662e7f1782</td>\n",
       "      <td>7</td>\n",
       "      <td>9</td>\n",
       "      <td>664.20</td>\n",
       "      <td>94.63</td>\n",
       "    </tr>\n",
       "    <tr>\n",
       "      <th>75560</th>\n",
       "      <td>ca77025e7201e3b30c44b472ff346268</td>\n",
       "      <td>7</td>\n",
       "      <td>12</td>\n",
       "      <td>806.61</td>\n",
       "      <td>316.11</td>\n",
       "    </tr>\n",
       "  </tbody>\n",
       "</table>\n",
       "</div>"
      ],
      "text/plain": [
       "                     customer_unique_id  total_orders_success  total_items  \\\n",
       "52597  8d50f5eadf50201ccdcedfb9e2ac8455                    16           16   \n",
       "23302  3e43e6105506432c953e165fb2acf44c                     9           14   \n",
       "10281  1b6c7548a2a1f9037c1fd3ddfed95f33                     7            9   \n",
       "37532  6469f99c1f9dfae7733b25662e7f1782                     7            9   \n",
       "75560  ca77025e7201e3b30c44b472ff346268                     7           12   \n",
       "\n",
       "       total_prices  total_freight_value  \n",
       "52597        729.62               172.42  \n",
       "23302       1000.85               171.82  \n",
       "10281        809.21               149.80  \n",
       "37532        664.20                94.63  \n",
       "75560        806.61               316.11  "
      ]
     },
     "execution_count": 52,
     "metadata": {},
     "output_type": "execute_result"
    }
   ],
   "source": [
    "total_items_prices_orders = total_orders.merge(total_items_prices, on='customer_unique_id')\n",
    "total_items_prices_orders[total_items_prices_orders['customer_unique_id'] == '8d50f5eadf50201ccdcedfb9e2ac8455']\n",
    "total_items_prices_orders.sort_values(by='total_orders_success', ascending=False).head()"
   ]
  },
  {
   "cell_type": "markdown",
   "id": "a096d922",
   "metadata": {
    "papermill": {
     "duration": 0.027317,
     "end_time": "2022-10-02T08:13:16.117099",
     "exception": false,
     "start_time": "2022-10-02T08:13:16.089782",
     "status": "completed"
    },
    "tags": []
   },
   "source": [
    "# 3.6 Waktu Purchase Tiap Customer (Time)"
   ]
  },
  {
   "cell_type": "code",
   "execution_count": 53,
   "id": "6657ed08",
   "metadata": {
    "execution": {
     "iopub.execute_input": "2022-10-02T08:13:16.174910Z",
     "iopub.status.busy": "2022-10-02T08:13:16.173781Z",
     "iopub.status.idle": "2022-10-02T08:13:19.645118Z",
     "shell.execute_reply": "2022-10-02T08:13:19.644227Z"
    },
    "papermill": {
     "duration": 3.502401,
     "end_time": "2022-10-02T08:13:19.647237",
     "exception": false,
     "start_time": "2022-10-02T08:13:16.144836",
     "status": "completed"
    },
    "tags": []
   },
   "outputs": [
    {
     "data": {
      "text/html": [
       "<div>\n",
       "<style scoped>\n",
       "    .dataframe tbody tr th:only-of-type {\n",
       "        vertical-align: middle;\n",
       "    }\n",
       "\n",
       "    .dataframe tbody tr th {\n",
       "        vertical-align: top;\n",
       "    }\n",
       "\n",
       "    .dataframe thead th {\n",
       "        text-align: right;\n",
       "    }\n",
       "</style>\n",
       "<table border=\"1\" class=\"dataframe\">\n",
       "  <thead>\n",
       "    <tr style=\"text-align: right;\">\n",
       "      <th></th>\n",
       "      <th>customer_id</th>\n",
       "      <th>order_purchase_timestamp</th>\n",
       "      <th>customer_unique_id</th>\n",
       "      <th>purchase_time</th>\n",
       "    </tr>\n",
       "  </thead>\n",
       "  <tbody>\n",
       "    <tr>\n",
       "      <th>0</th>\n",
       "      <td>9ef432eb6251297304e76186b10a928d</td>\n",
       "      <td>2017-10-02 10:56:33</td>\n",
       "      <td>7c396fd4830fd04220f754e42b4e5bff</td>\n",
       "      <td>morning</td>\n",
       "    </tr>\n",
       "    <tr>\n",
       "      <th>1</th>\n",
       "      <td>b0830fb4747a6c6d20dea0b8c802d7ef</td>\n",
       "      <td>2018-07-24 20:41:37</td>\n",
       "      <td>af07308b275d755c9edb36a90c618231</td>\n",
       "      <td>night</td>\n",
       "    </tr>\n",
       "    <tr>\n",
       "      <th>2</th>\n",
       "      <td>41ce2a54c0b03bf3443c3d931a367089</td>\n",
       "      <td>2018-08-08 08:38:49</td>\n",
       "      <td>3a653a41f6f9fc3d2a113cf8398680e8</td>\n",
       "      <td>morning</td>\n",
       "    </tr>\n",
       "    <tr>\n",
       "      <th>3</th>\n",
       "      <td>f88197465ea7920adcdbec7375364d82</td>\n",
       "      <td>2017-11-18 19:28:06</td>\n",
       "      <td>7c142cf63193a1473d2e66489a9ae977</td>\n",
       "      <td>night</td>\n",
       "    </tr>\n",
       "    <tr>\n",
       "      <th>4</th>\n",
       "      <td>8ab97904e6daea8866dbdbc4fb7aad2c</td>\n",
       "      <td>2018-02-13 21:18:39</td>\n",
       "      <td>72632f0f9dd73dfee390c9b22eb56dd6</td>\n",
       "      <td>night</td>\n",
       "    </tr>\n",
       "  </tbody>\n",
       "</table>\n",
       "</div>"
      ],
      "text/plain": [
       "                        customer_id order_purchase_timestamp  \\\n",
       "0  9ef432eb6251297304e76186b10a928d      2017-10-02 10:56:33   \n",
       "1  b0830fb4747a6c6d20dea0b8c802d7ef      2018-07-24 20:41:37   \n",
       "2  41ce2a54c0b03bf3443c3d931a367089      2018-08-08 08:38:49   \n",
       "3  f88197465ea7920adcdbec7375364d82      2017-11-18 19:28:06   \n",
       "4  8ab97904e6daea8866dbdbc4fb7aad2c      2018-02-13 21:18:39   \n",
       "\n",
       "                 customer_unique_id purchase_time  \n",
       "0  7c396fd4830fd04220f754e42b4e5bff       morning  \n",
       "1  af07308b275d755c9edb36a90c618231         night  \n",
       "2  3a653a41f6f9fc3d2a113cf8398680e8       morning  \n",
       "3  7c142cf63193a1473d2e66489a9ae977         night  \n",
       "4  72632f0f9dd73dfee390c9b22eb56dd6         night  "
      ]
     },
     "execution_count": 53,
     "metadata": {},
     "output_type": "execute_result"
    }
   ],
   "source": [
    "cust_orders = orders.iloc[:,[1,3]].merge(cust, on='customer_id')\n",
    "cust_orders = cust_orders.iloc[:,:3]\n",
    "\n",
    "# ambil waktunya\n",
    "cust_orders['purchase_time'] = cust_orders['order_purchase_timestamp'].str.split().str.get(1)\n",
    "cust_orders['purchase_time'] = cust_orders['purchase_time'].str.split(':').str.get(0)\n",
    "cust_orders['purchase_time'] = cust_orders['purchase_time'].astype(int)\n",
    "\n",
    "# menentukan waktu\n",
    "def func(row):\n",
    "    if row['purchase_time'] >= 6 and row['purchase_time'] < 12:\n",
    "        return 'morning'\n",
    "    elif row['purchase_time'] >= 12 and row['purchase_time'] < 16:\n",
    "        return 'noon'\n",
    "    elif row['purchase_time'] >= 16 and row['purchase_time'] < 19:\n",
    "        return 'evening'\n",
    "    elif row['purchase_time'] >= 19 and row['purchase_time'] < 24:\n",
    "        return 'night'\n",
    "    else:\n",
    "        return 'midnight'\n",
    "\n",
    "cust_orders['purchase_time'] = cust_orders.apply(func, axis=1)\n",
    "\n",
    "cust_orders.head()"
   ]
  },
  {
   "cell_type": "code",
   "execution_count": 54,
   "id": "6d5d4a09",
   "metadata": {
    "execution": {
     "iopub.execute_input": "2022-10-02T08:13:19.705804Z",
     "iopub.status.busy": "2022-10-02T08:13:19.704610Z",
     "iopub.status.idle": "2022-10-02T08:13:20.213042Z",
     "shell.execute_reply": "2022-10-02T08:13:20.211851Z"
    },
    "papermill": {
     "duration": 0.54023,
     "end_time": "2022-10-02T08:13:20.215424",
     "exception": false,
     "start_time": "2022-10-02T08:13:19.675194",
     "status": "completed"
    },
    "tags": []
   },
   "outputs": [
    {
     "data": {
      "text/html": [
       "<div>\n",
       "<style scoped>\n",
       "    .dataframe tbody tr th:only-of-type {\n",
       "        vertical-align: middle;\n",
       "    }\n",
       "\n",
       "    .dataframe tbody tr th {\n",
       "        vertical-align: top;\n",
       "    }\n",
       "\n",
       "    .dataframe thead th {\n",
       "        text-align: right;\n",
       "    }\n",
       "</style>\n",
       "<table border=\"1\" class=\"dataframe\">\n",
       "  <thead>\n",
       "    <tr style=\"text-align: right;\">\n",
       "      <th></th>\n",
       "      <th>customer_unique_id</th>\n",
       "      <th>morning</th>\n",
       "      <th>noon</th>\n",
       "      <th>evening</th>\n",
       "      <th>night</th>\n",
       "      <th>midnight</th>\n",
       "    </tr>\n",
       "  </thead>\n",
       "  <tbody>\n",
       "    <tr>\n",
       "      <th>52973</th>\n",
       "      <td>8d50f5eadf50201ccdcedfb9e2ac8455</td>\n",
       "      <td>1.0</td>\n",
       "      <td>1.0</td>\n",
       "      <td>1.0</td>\n",
       "      <td>14.0</td>\n",
       "      <td>0.0</td>\n",
       "    </tr>\n",
       "    <tr>\n",
       "      <th>43934</th>\n",
       "      <td>74cb1ad7e6d5674325c1f99b5ea30d82</td>\n",
       "      <td>0.0</td>\n",
       "      <td>0.0</td>\n",
       "      <td>0.0</td>\n",
       "      <td>4.0</td>\n",
       "      <td>1.0</td>\n",
       "    </tr>\n",
       "    <tr>\n",
       "      <th>43352</th>\n",
       "      <td>732d307839b02bc2d3a4c26b515ea2b9</td>\n",
       "      <td>0.0</td>\n",
       "      <td>0.0</td>\n",
       "      <td>0.0</td>\n",
       "      <td>3.0</td>\n",
       "      <td>0.0</td>\n",
       "    </tr>\n",
       "    <tr>\n",
       "      <th>58920</th>\n",
       "      <td>9cc5a07f169a1606fd347a56683e6ea6</td>\n",
       "      <td>0.0</td>\n",
       "      <td>0.0</td>\n",
       "      <td>0.0</td>\n",
       "      <td>3.0</td>\n",
       "      <td>1.0</td>\n",
       "    </tr>\n",
       "    <tr>\n",
       "      <th>70413</th>\n",
       "      <td>bb58670190dba4e9b320f84cb98317a3</td>\n",
       "      <td>0.0</td>\n",
       "      <td>0.0</td>\n",
       "      <td>0.0</td>\n",
       "      <td>3.0</td>\n",
       "      <td>0.0</td>\n",
       "    </tr>\n",
       "  </tbody>\n",
       "</table>\n",
       "</div>"
      ],
      "text/plain": [
       "                     customer_unique_id  morning  noon  evening  night  \\\n",
       "52973  8d50f5eadf50201ccdcedfb9e2ac8455      1.0   1.0      1.0   14.0   \n",
       "43934  74cb1ad7e6d5674325c1f99b5ea30d82      0.0   0.0      0.0    4.0   \n",
       "43352  732d307839b02bc2d3a4c26b515ea2b9      0.0   0.0      0.0    3.0   \n",
       "58920  9cc5a07f169a1606fd347a56683e6ea6      0.0   0.0      0.0    3.0   \n",
       "70413  bb58670190dba4e9b320f84cb98317a3      0.0   0.0      0.0    3.0   \n",
       "\n",
       "       midnight  \n",
       "52973       0.0  \n",
       "43934       1.0  \n",
       "43352       0.0  \n",
       "58920       1.0  \n",
       "70413       0.0  "
      ]
     },
     "execution_count": 54,
     "metadata": {},
     "output_type": "execute_result"
    }
   ],
   "source": [
    "# ambil frequency waktu purchase masing-masing customer\n",
    "cust_orders_time = cust_orders[['customer_unique_id','purchase_time','customer_id']].groupby(['customer_unique_id','purchase_time']).count().reset_index()\n",
    "\n",
    "# buat feature baru\n",
    "cust_orders_time = cust_orders_time.pivot_table('customer_id', ['customer_unique_id'], 'purchase_time')\n",
    "\n",
    "# handling NaN\n",
    "cust_orders_time = cust_orders_time.fillna(0)\n",
    "\n",
    "# showing dataframe\n",
    "cust_orders_time = cust_orders_time.rename_axis(None, axis=1).reset_index()\n",
    "cust_orders_time = cust_orders_time[['customer_unique_id','morning','noon','evening','night','midnight']]\n",
    "cust_orders_time.sort_values(by='night', ascending=False).head()"
   ]
  },
  {
   "cell_type": "markdown",
   "id": "029a02fa",
   "metadata": {
    "papermill": {
     "duration": 0.027535,
     "end_time": "2022-10-02T08:13:20.270905",
     "exception": false,
     "start_time": "2022-10-02T08:13:20.243370",
     "status": "completed"
    },
    "tags": []
   },
   "source": [
    "<font size=\"4\">Data di atas merupakan persebaran waktu pembelian masing-masing customer. Waktu terbagi menjadi morning, noon, evening, night, dan midnight, dengan ketentuan sebagai berikut</font>\n",
    "\n",
    "    morning  = 06:00 - 12:00\n",
    "    noon     = 12:00 - 15:00\n",
    "    evening  = 15:00 - 18:00\n",
    "    night    = 18:00 - 23:00\n",
    "    midnight = 23:00 - 06:00"
   ]
  },
  {
   "cell_type": "markdown",
   "id": "39c6e760",
   "metadata": {
    "papermill": {
     "duration": 0.027286,
     "end_time": "2022-10-02T08:13:20.326096",
     "exception": false,
     "start_time": "2022-10-02T08:13:20.298810",
     "status": "completed"
    },
    "tags": []
   },
   "source": [
    "## 3.6.1 Sebaran Waktu Purchase Seluruh Customer (Time)"
   ]
  },
  {
   "cell_type": "code",
   "execution_count": 55,
   "id": "8f0e8681",
   "metadata": {
    "execution": {
     "iopub.execute_input": "2022-10-02T08:13:20.382821Z",
     "iopub.status.busy": "2022-10-02T08:13:20.382382Z",
     "iopub.status.idle": "2022-10-02T08:13:20.413412Z",
     "shell.execute_reply": "2022-10-02T08:13:20.412154Z"
    },
    "papermill": {
     "duration": 0.062389,
     "end_time": "2022-10-02T08:13:20.415937",
     "exception": false,
     "start_time": "2022-10-02T08:13:20.353548",
     "status": "completed"
    },
    "tags": []
   },
   "outputs": [
    {
     "data": {
      "text/html": [
       "<div>\n",
       "<style scoped>\n",
       "    .dataframe tbody tr th:only-of-type {\n",
       "        vertical-align: middle;\n",
       "    }\n",
       "\n",
       "    .dataframe tbody tr th {\n",
       "        vertical-align: top;\n",
       "    }\n",
       "\n",
       "    .dataframe thead th {\n",
       "        text-align: right;\n",
       "    }\n",
       "</style>\n",
       "<table border=\"1\" class=\"dataframe\">\n",
       "  <thead>\n",
       "    <tr style=\"text-align: right;\">\n",
       "      <th></th>\n",
       "      <th>customer_id</th>\n",
       "    </tr>\n",
       "    <tr>\n",
       "      <th>purchase_time</th>\n",
       "      <th></th>\n",
       "    </tr>\n",
       "  </thead>\n",
       "  <tbody>\n",
       "    <tr>\n",
       "      <th>night</th>\n",
       "      <td>28331</td>\n",
       "    </tr>\n",
       "    <tr>\n",
       "      <th>noon</th>\n",
       "      <td>25536</td>\n",
       "    </tr>\n",
       "    <tr>\n",
       "      <th>morning</th>\n",
       "      <td>22240</td>\n",
       "    </tr>\n",
       "    <tr>\n",
       "      <th>evening</th>\n",
       "      <td>18594</td>\n",
       "    </tr>\n",
       "    <tr>\n",
       "      <th>midnight</th>\n",
       "      <td>4740</td>\n",
       "    </tr>\n",
       "  </tbody>\n",
       "</table>\n",
       "</div>"
      ],
      "text/plain": [
       "               customer_id\n",
       "purchase_time             \n",
       "night                28331\n",
       "noon                 25536\n",
       "morning              22240\n",
       "evening              18594\n",
       "midnight              4740"
      ]
     },
     "execution_count": 55,
     "metadata": {},
     "output_type": "execute_result"
    }
   ],
   "source": [
    "cust_time_purchase = cust_orders[['customer_id','purchase_time']].groupby('purchase_time').count()\n",
    "cust_time_purchase.sort_values(by='customer_id', ascending=False)"
   ]
  },
  {
   "cell_type": "markdown",
   "id": "c5f0050f",
   "metadata": {
    "papermill": {
     "duration": 0.028501,
     "end_time": "2022-10-02T08:13:20.472712",
     "exception": false,
     "start_time": "2022-10-02T08:13:20.444211",
     "status": "completed"
    },
    "tags": []
   },
   "source": [
    "<font size=\"4\">Mayoritas customer membeli pada saat malam hari, yakni antara jam 18:00 - 23:00</font>"
   ]
  },
  {
   "cell_type": "markdown",
   "id": "5f407bd4",
   "metadata": {
    "papermill": {
     "duration": 0.027671,
     "end_time": "2022-10-02T08:13:20.528458",
     "exception": false,
     "start_time": "2022-10-02T08:13:20.500787",
     "status": "completed"
    },
    "tags": []
   },
   "source": [
    "# 3.7 Waktu Purchase Tiap Customer (Month)"
   ]
  },
  {
   "cell_type": "code",
   "execution_count": 56,
   "id": "6156d586",
   "metadata": {
    "execution": {
     "iopub.execute_input": "2022-10-02T08:13:20.586307Z",
     "iopub.status.busy": "2022-10-02T08:13:20.585925Z",
     "iopub.status.idle": "2022-10-02T08:13:22.752160Z",
     "shell.execute_reply": "2022-10-02T08:13:22.751192Z"
    },
    "papermill": {
     "duration": 2.19856,
     "end_time": "2022-10-02T08:13:22.755030",
     "exception": false,
     "start_time": "2022-10-02T08:13:20.556470",
     "status": "completed"
    },
    "tags": []
   },
   "outputs": [
    {
     "data": {
      "text/html": [
       "<div>\n",
       "<style scoped>\n",
       "    .dataframe tbody tr th:only-of-type {\n",
       "        vertical-align: middle;\n",
       "    }\n",
       "\n",
       "    .dataframe tbody tr th {\n",
       "        vertical-align: top;\n",
       "    }\n",
       "\n",
       "    .dataframe thead th {\n",
       "        text-align: right;\n",
       "    }\n",
       "</style>\n",
       "<table border=\"1\" class=\"dataframe\">\n",
       "  <thead>\n",
       "    <tr style=\"text-align: right;\">\n",
       "      <th></th>\n",
       "      <th>customer_id</th>\n",
       "      <th>order_purchase_timestamp</th>\n",
       "      <th>customer_unique_id</th>\n",
       "      <th>purchase_date</th>\n",
       "    </tr>\n",
       "  </thead>\n",
       "  <tbody>\n",
       "    <tr>\n",
       "      <th>0</th>\n",
       "      <td>9ef432eb6251297304e76186b10a928d</td>\n",
       "      <td>2017-10-02 10:56:33</td>\n",
       "      <td>7c396fd4830fd04220f754e42b4e5bff</td>\n",
       "      <td>beginning_month</td>\n",
       "    </tr>\n",
       "    <tr>\n",
       "      <th>1</th>\n",
       "      <td>b0830fb4747a6c6d20dea0b8c802d7ef</td>\n",
       "      <td>2018-07-24 20:41:37</td>\n",
       "      <td>af07308b275d755c9edb36a90c618231</td>\n",
       "      <td>end_month</td>\n",
       "    </tr>\n",
       "    <tr>\n",
       "      <th>2</th>\n",
       "      <td>41ce2a54c0b03bf3443c3d931a367089</td>\n",
       "      <td>2018-08-08 08:38:49</td>\n",
       "      <td>3a653a41f6f9fc3d2a113cf8398680e8</td>\n",
       "      <td>beginning_month</td>\n",
       "    </tr>\n",
       "    <tr>\n",
       "      <th>3</th>\n",
       "      <td>f88197465ea7920adcdbec7375364d82</td>\n",
       "      <td>2017-11-18 19:28:06</td>\n",
       "      <td>7c142cf63193a1473d2e66489a9ae977</td>\n",
       "      <td>middle_month</td>\n",
       "    </tr>\n",
       "    <tr>\n",
       "      <th>4</th>\n",
       "      <td>8ab97904e6daea8866dbdbc4fb7aad2c</td>\n",
       "      <td>2018-02-13 21:18:39</td>\n",
       "      <td>72632f0f9dd73dfee390c9b22eb56dd6</td>\n",
       "      <td>middle_month</td>\n",
       "    </tr>\n",
       "  </tbody>\n",
       "</table>\n",
       "</div>"
      ],
      "text/plain": [
       "                        customer_id order_purchase_timestamp  \\\n",
       "0  9ef432eb6251297304e76186b10a928d      2017-10-02 10:56:33   \n",
       "1  b0830fb4747a6c6d20dea0b8c802d7ef      2018-07-24 20:41:37   \n",
       "2  41ce2a54c0b03bf3443c3d931a367089      2018-08-08 08:38:49   \n",
       "3  f88197465ea7920adcdbec7375364d82      2017-11-18 19:28:06   \n",
       "4  8ab97904e6daea8866dbdbc4fb7aad2c      2018-02-13 21:18:39   \n",
       "\n",
       "                 customer_unique_id    purchase_date  \n",
       "0  7c396fd4830fd04220f754e42b4e5bff  beginning_month  \n",
       "1  af07308b275d755c9edb36a90c618231        end_month  \n",
       "2  3a653a41f6f9fc3d2a113cf8398680e8  beginning_month  \n",
       "3  7c142cf63193a1473d2e66489a9ae977     middle_month  \n",
       "4  72632f0f9dd73dfee390c9b22eb56dd6     middle_month  "
      ]
     },
     "execution_count": 56,
     "metadata": {},
     "output_type": "execute_result"
    }
   ],
   "source": [
    "cust_orders_date = cust_orders.iloc[:,:3]\n",
    "\n",
    "# ambil tanggalnya\n",
    "cust_orders_date['purchase_date'] = cust_orders_date['order_purchase_timestamp'].str.split().str.get(0)\n",
    "cust_orders_date['purchase_date'] = cust_orders_date['purchase_date'].str.split('-').str.get(2)\n",
    "cust_orders_date['purchase_date'] = cust_orders_date['purchase_date'].astype(int)\n",
    "\n",
    "# menentukan waktu\n",
    "def func(row):\n",
    "    if row['purchase_date'] <= 10:\n",
    "        return 'beginning_month'\n",
    "    elif row['purchase_date'] > 10 and row['purchase_date'] <= 20:\n",
    "        return 'middle_month'\n",
    "    else:\n",
    "        return 'end_month'\n",
    "\n",
    "cust_orders_date['purchase_date'] = cust_orders_date.apply(func, axis=1)\n",
    "\n",
    "cust_orders_date.head()"
   ]
  },
  {
   "cell_type": "code",
   "execution_count": 57,
   "id": "6bf37cd5",
   "metadata": {
    "execution": {
     "iopub.execute_input": "2022-10-02T08:13:22.813890Z",
     "iopub.status.busy": "2022-10-02T08:13:22.813450Z",
     "iopub.status.idle": "2022-10-02T08:13:23.323471Z",
     "shell.execute_reply": "2022-10-02T08:13:23.322279Z"
    },
    "papermill": {
     "duration": 0.542476,
     "end_time": "2022-10-02T08:13:23.325947",
     "exception": false,
     "start_time": "2022-10-02T08:13:22.783471",
     "status": "completed"
    },
    "tags": []
   },
   "outputs": [
    {
     "data": {
      "text/html": [
       "<div>\n",
       "<style scoped>\n",
       "    .dataframe tbody tr th:only-of-type {\n",
       "        vertical-align: middle;\n",
       "    }\n",
       "\n",
       "    .dataframe tbody tr th {\n",
       "        vertical-align: top;\n",
       "    }\n",
       "\n",
       "    .dataframe thead th {\n",
       "        text-align: right;\n",
       "    }\n",
       "</style>\n",
       "<table border=\"1\" class=\"dataframe\">\n",
       "  <thead>\n",
       "    <tr style=\"text-align: right;\">\n",
       "      <th></th>\n",
       "      <th>customer_unique_id</th>\n",
       "      <th>beginning_month</th>\n",
       "      <th>middle_month</th>\n",
       "      <th>end_month</th>\n",
       "    </tr>\n",
       "  </thead>\n",
       "  <tbody>\n",
       "    <tr>\n",
       "      <th>52973</th>\n",
       "      <td>8d50f5eadf50201ccdcedfb9e2ac8455</td>\n",
       "      <td>4.0</td>\n",
       "      <td>7.0</td>\n",
       "      <td>6.0</td>\n",
       "    </tr>\n",
       "    <tr>\n",
       "      <th>23472</th>\n",
       "      <td>3e43e6105506432c953e165fb2acf44c</td>\n",
       "      <td>3.0</td>\n",
       "      <td>5.0</td>\n",
       "      <td>1.0</td>\n",
       "    </tr>\n",
       "    <tr>\n",
       "      <th>3966</th>\n",
       "      <td>0a61b571f594b6919601bcf3380da7f7</td>\n",
       "      <td>0.0</td>\n",
       "      <td>3.0</td>\n",
       "      <td>0.0</td>\n",
       "    </tr>\n",
       "    <tr>\n",
       "      <th>21578</th>\n",
       "      <td>394ac4de8f3acb14253c177f0e15bc58</td>\n",
       "      <td>1.0</td>\n",
       "      <td>3.0</td>\n",
       "      <td>1.0</td>\n",
       "    </tr>\n",
       "    <tr>\n",
       "      <th>21638</th>\n",
       "      <td>397b44d5bb99eabf54ea9c2b41ebb905</td>\n",
       "      <td>1.0</td>\n",
       "      <td>3.0</td>\n",
       "      <td>0.0</td>\n",
       "    </tr>\n",
       "  </tbody>\n",
       "</table>\n",
       "</div>"
      ],
      "text/plain": [
       "                     customer_unique_id  beginning_month  middle_month  \\\n",
       "52973  8d50f5eadf50201ccdcedfb9e2ac8455              4.0           7.0   \n",
       "23472  3e43e6105506432c953e165fb2acf44c              3.0           5.0   \n",
       "3966   0a61b571f594b6919601bcf3380da7f7              0.0           3.0   \n",
       "21578  394ac4de8f3acb14253c177f0e15bc58              1.0           3.0   \n",
       "21638  397b44d5bb99eabf54ea9c2b41ebb905              1.0           3.0   \n",
       "\n",
       "       end_month  \n",
       "52973        6.0  \n",
       "23472        1.0  \n",
       "3966         0.0  \n",
       "21578        1.0  \n",
       "21638        0.0  "
      ]
     },
     "execution_count": 57,
     "metadata": {},
     "output_type": "execute_result"
    }
   ],
   "source": [
    "# ambil frequency waktu (tanggal_bulan) purchase masing-masing customer\n",
    "cust_orders_month = cust_orders_date[['customer_unique_id','purchase_date','customer_id']].groupby(['customer_unique_id','purchase_date']).count().reset_index()\n",
    "\n",
    "# buat feature baru\n",
    "cust_orders_month = cust_orders_month.pivot_table('customer_id', ['customer_unique_id'], 'purchase_date')\n",
    "\n",
    "# handling NaN\n",
    "cust_orders_month = cust_orders_month.fillna(0)\n",
    "\n",
    "# showing dataframe\n",
    "cust_orders_month = cust_orders_month.rename_axis(None, axis=1).reset_index()\n",
    "cust_orders_month = cust_orders_month[['customer_unique_id','beginning_month','middle_month','end_month']]\n",
    "cust_orders_month.sort_values(by='middle_month', ascending=False).head()"
   ]
  },
  {
   "cell_type": "markdown",
   "id": "577fd037",
   "metadata": {
    "papermill": {
     "duration": 0.028352,
     "end_time": "2022-10-02T08:13:23.383327",
     "exception": false,
     "start_time": "2022-10-02T08:13:23.354975",
     "status": "completed"
    },
    "tags": []
   },
   "source": [
    "<font size=\"4\">Data di atas merupakan persebaran waktu pembelian masing-masing customer (dalam periode bulan). Waktu terbagi menjadi beginning_month, middle_month, end_month, dengan ketentuan sebagai berikut</font>\n",
    "\n",
    "    beginning_month  = tanggal 1 - 10\n",
    "    middle_month     = tanggal 11 - 20\n",
    "    end_month        = tanggal 21 - 31\n",
    "    \n"
   ]
  },
  {
   "cell_type": "markdown",
   "id": "83a85d5d",
   "metadata": {
    "papermill": {
     "duration": 0.029605,
     "end_time": "2022-10-02T08:13:23.441668",
     "exception": false,
     "start_time": "2022-10-02T08:13:23.412063",
     "status": "completed"
    },
    "tags": []
   },
   "source": [
    "# 3.8 Freq Metode Pembayaran Tiap Customer Yang Order"
   ]
  },
  {
   "cell_type": "code",
   "execution_count": 58,
   "id": "3b93c250",
   "metadata": {
    "execution": {
     "iopub.execute_input": "2022-10-02T08:13:23.501474Z",
     "iopub.status.busy": "2022-10-02T08:13:23.501083Z",
     "iopub.status.idle": "2022-10-02T08:13:24.532993Z",
     "shell.execute_reply": "2022-10-02T08:13:24.531822Z"
    },
    "papermill": {
     "duration": 1.064634,
     "end_time": "2022-10-02T08:13:24.535394",
     "exception": false,
     "start_time": "2022-10-02T08:13:23.470760",
     "status": "completed"
    },
    "tags": []
   },
   "outputs": [
    {
     "data": {
      "text/html": [
       "<div>\n",
       "<style scoped>\n",
       "    .dataframe tbody tr th:only-of-type {\n",
       "        vertical-align: middle;\n",
       "    }\n",
       "\n",
       "    .dataframe tbody tr th {\n",
       "        vertical-align: top;\n",
       "    }\n",
       "\n",
       "    .dataframe thead th {\n",
       "        text-align: right;\n",
       "    }\n",
       "</style>\n",
       "<table border=\"1\" class=\"dataframe\">\n",
       "  <thead>\n",
       "    <tr style=\"text-align: right;\">\n",
       "      <th></th>\n",
       "      <th>customer_unique_id</th>\n",
       "      <th>boleto_freq</th>\n",
       "      <th>credit_card_freq</th>\n",
       "      <th>debit_card_freq</th>\n",
       "      <th>voucher_freq</th>\n",
       "      <th>not_defined_freq</th>\n",
       "    </tr>\n",
       "  </thead>\n",
       "  <tbody>\n",
       "    <tr>\n",
       "      <th>0</th>\n",
       "      <td>0000366f3b9a7992bf8c76cfdf3221e2</td>\n",
       "      <td>0.0</td>\n",
       "      <td>1.0</td>\n",
       "      <td>0.0</td>\n",
       "      <td>0.0</td>\n",
       "      <td>0.0</td>\n",
       "    </tr>\n",
       "    <tr>\n",
       "      <th>1</th>\n",
       "      <td>0000b849f77a49e4a4ce2b2a4ca5be3f</td>\n",
       "      <td>0.0</td>\n",
       "      <td>1.0</td>\n",
       "      <td>0.0</td>\n",
       "      <td>0.0</td>\n",
       "      <td>0.0</td>\n",
       "    </tr>\n",
       "    <tr>\n",
       "      <th>2</th>\n",
       "      <td>0000f46a3911fa3c0805444483337064</td>\n",
       "      <td>0.0</td>\n",
       "      <td>1.0</td>\n",
       "      <td>0.0</td>\n",
       "      <td>0.0</td>\n",
       "      <td>0.0</td>\n",
       "    </tr>\n",
       "    <tr>\n",
       "      <th>3</th>\n",
       "      <td>0000f6ccb0745a6a4b88665a16c9f078</td>\n",
       "      <td>0.0</td>\n",
       "      <td>1.0</td>\n",
       "      <td>0.0</td>\n",
       "      <td>0.0</td>\n",
       "      <td>0.0</td>\n",
       "    </tr>\n",
       "    <tr>\n",
       "      <th>4</th>\n",
       "      <td>0004aac84e0df4da2b147fca70cf8255</td>\n",
       "      <td>0.0</td>\n",
       "      <td>1.0</td>\n",
       "      <td>0.0</td>\n",
       "      <td>0.0</td>\n",
       "      <td>0.0</td>\n",
       "    </tr>\n",
       "  </tbody>\n",
       "</table>\n",
       "</div>"
      ],
      "text/plain": [
       "                 customer_unique_id  boleto_freq  credit_card_freq  \\\n",
       "0  0000366f3b9a7992bf8c76cfdf3221e2          0.0               1.0   \n",
       "1  0000b849f77a49e4a4ce2b2a4ca5be3f          0.0               1.0   \n",
       "2  0000f46a3911fa3c0805444483337064          0.0               1.0   \n",
       "3  0000f6ccb0745a6a4b88665a16c9f078          0.0               1.0   \n",
       "4  0004aac84e0df4da2b147fca70cf8255          0.0               1.0   \n",
       "\n",
       "   debit_card_freq  voucher_freq  not_defined_freq  \n",
       "0              0.0           0.0               0.0  \n",
       "1              0.0           0.0               0.0  \n",
       "2              0.0           0.0               0.0  \n",
       "3              0.0           0.0               0.0  \n",
       "4              0.0           0.0               0.0  "
      ]
     },
     "execution_count": 58,
     "metadata": {},
     "output_type": "execute_result"
    }
   ],
   "source": [
    "# merging dengan data cust\n",
    "cust_payments = payments.iloc[:,[0,2]].merge(orders, on='order_id')\n",
    "cust_payments = cust_payments.iloc[:,:3]\n",
    "\n",
    "# ambil frequency metode pembayaran masing-masing order\n",
    "cust_payments = cust_payments[['order_id','payment_type','customer_id']].groupby(['customer_id','payment_type']).count().reset_index()\n",
    "\n",
    "# buat feature baru\n",
    "cust_payments = cust_payments.pivot_table('order_id', ['customer_id'], 'payment_type')\n",
    "\n",
    "# handling NaN\n",
    "cust_payments = cust_payments.fillna(0)\n",
    "\n",
    "# showing dataframe\n",
    "cust_payments = cust_payments.rename_axis(None, axis=1).reset_index()\n",
    "cust_payments = cust_payments.merge(cust, on='customer_id')\n",
    "cust_payments = cust_payments.iloc[:,:7]\n",
    "cust_payments = cust_payments.groupby('customer_unique_id').sum().reset_index()\n",
    "\n",
    "# rename columns\n",
    "cust_payments = cust_payments.rename({\n",
    "    'boleto' : 'boleto_freq',\n",
    "    'credit_card' : 'credit_card_freq',\n",
    "    'debit_card' : 'debit_card_freq',\n",
    "    'not_defined' : 'not_defined_freq',\n",
    "    'voucher' : 'voucher_freq'\n",
    "}, axis='columns') \n",
    "\n",
    "cust_payments = cust_payments[['customer_unique_id','boleto_freq','credit_card_freq','debit_card_freq','voucher_freq','not_defined_freq']]\n",
    "cust_payments.head()"
   ]
  },
  {
   "cell_type": "code",
   "execution_count": 59,
   "id": "6373aa4c",
   "metadata": {
    "execution": {
     "iopub.execute_input": "2022-10-02T08:13:24.594956Z",
     "iopub.status.busy": "2022-10-02T08:13:24.594529Z",
     "iopub.status.idle": "2022-10-02T08:13:24.855063Z",
     "shell.execute_reply": "2022-10-02T08:13:24.853491Z"
    },
    "papermill": {
     "duration": 0.293733,
     "end_time": "2022-10-02T08:13:24.858298",
     "exception": false,
     "start_time": "2022-10-02T08:13:24.564565",
     "status": "completed"
    },
    "tags": []
   },
   "outputs": [
    {
     "name": "stdout",
     "output_type": "stream",
     "text": [
      "total order yang telah melakukan pembayaran = 99440\n",
      "total order yang masuk = 99441\n"
     ]
    }
   ],
   "source": [
    "# merging dengan data cust\n",
    "cust_payments_all = payments.iloc[:,[0,2]].merge(orders, on='order_id')\n",
    "\n",
    "# cek orderan yang sudah selesai proses pembayaran\n",
    "print(\"total order yang telah melakukan pembayaran =\", cust_payments_all['customer_id'].value_counts().size)\n",
    "print(\"total order yang masuk =\", cust['customer_id'].value_counts().size)"
   ]
  },
  {
   "cell_type": "markdown",
   "id": "83a668ba",
   "metadata": {
    "papermill": {
     "duration": 0.028333,
     "end_time": "2022-10-02T08:13:24.917002",
     "exception": false,
     "start_time": "2022-10-02T08:13:24.888669",
     "status": "completed"
    },
    "tags": []
   },
   "source": [
    "<font size=\"4\">Tampak bahwa ada 1 orderan yang belum menyelesaikan pembayaran</font>"
   ]
  },
  {
   "cell_type": "markdown",
   "id": "81d74c59",
   "metadata": {
    "papermill": {
     "duration": 0.028246,
     "end_time": "2022-10-02T08:13:24.973708",
     "exception": false,
     "start_time": "2022-10-02T08:13:24.945462",
     "status": "completed"
    },
    "tags": []
   },
   "source": [
    "## 3.8.1 Sebaran Metode Pembayaran Seluruh Order"
   ]
  },
  {
   "cell_type": "code",
   "execution_count": 60,
   "id": "2f5e6ccd",
   "metadata": {
    "execution": {
     "iopub.execute_input": "2022-10-02T08:13:25.032835Z",
     "iopub.status.busy": "2022-10-02T08:13:25.032419Z",
     "iopub.status.idle": "2022-10-02T08:13:25.047274Z",
     "shell.execute_reply": "2022-10-02T08:13:25.046434Z"
    },
    "papermill": {
     "duration": 0.046845,
     "end_time": "2022-10-02T08:13:25.049166",
     "exception": false,
     "start_time": "2022-10-02T08:13:25.002321",
     "status": "completed"
    },
    "tags": []
   },
   "outputs": [
    {
     "data": {
      "text/html": [
       "<div>\n",
       "<style scoped>\n",
       "    .dataframe tbody tr th:only-of-type {\n",
       "        vertical-align: middle;\n",
       "    }\n",
       "\n",
       "    .dataframe tbody tr th {\n",
       "        vertical-align: top;\n",
       "    }\n",
       "\n",
       "    .dataframe thead th {\n",
       "        text-align: right;\n",
       "    }\n",
       "</style>\n",
       "<table border=\"1\" class=\"dataframe\">\n",
       "  <thead>\n",
       "    <tr style=\"text-align: right;\">\n",
       "      <th></th>\n",
       "      <th>payment_type</th>\n",
       "    </tr>\n",
       "  </thead>\n",
       "  <tbody>\n",
       "    <tr>\n",
       "      <th>credit_card</th>\n",
       "      <td>76795</td>\n",
       "    </tr>\n",
       "    <tr>\n",
       "      <th>boleto</th>\n",
       "      <td>19784</td>\n",
       "    </tr>\n",
       "    <tr>\n",
       "      <th>voucher</th>\n",
       "      <td>5775</td>\n",
       "    </tr>\n",
       "    <tr>\n",
       "      <th>debit_card</th>\n",
       "      <td>1529</td>\n",
       "    </tr>\n",
       "    <tr>\n",
       "      <th>not_defined</th>\n",
       "      <td>3</td>\n",
       "    </tr>\n",
       "  </tbody>\n",
       "</table>\n",
       "</div>"
      ],
      "text/plain": [
       "             payment_type\n",
       "credit_card         76795\n",
       "boleto              19784\n",
       "voucher              5775\n",
       "debit_card           1529\n",
       "not_defined             3"
      ]
     },
     "execution_count": 60,
     "metadata": {},
     "output_type": "execute_result"
    }
   ],
   "source": [
    "payments['payment_type'].value_counts().to_frame()"
   ]
  },
  {
   "cell_type": "markdown",
   "id": "0195228a",
   "metadata": {
    "papermill": {
     "duration": 0.028518,
     "end_time": "2022-10-02T08:13:25.106465",
     "exception": false,
     "start_time": "2022-10-02T08:13:25.077947",
     "status": "completed"
    },
    "tags": []
   },
   "source": [
    "<font size=\"4\">Credit card merupakan metode pembayaran yang paling banyak dipilih customer dalam melakukan proses pembayaran</font>"
   ]
  },
  {
   "cell_type": "markdown",
   "id": "dbf08cb3",
   "metadata": {
    "papermill": {
     "duration": 0.029005,
     "end_time": "2022-10-02T08:13:25.164323",
     "exception": false,
     "start_time": "2022-10-02T08:13:25.135318",
     "status": "completed"
    },
    "tags": []
   },
   "source": [
    "# 3.9 Total Pengeluaran Tiap Metode Pembayaran Masing-Masing Customer"
   ]
  },
  {
   "cell_type": "code",
   "execution_count": 61,
   "id": "ed9544b2",
   "metadata": {
    "execution": {
     "iopub.execute_input": "2022-10-02T08:13:25.224583Z",
     "iopub.status.busy": "2022-10-02T08:13:25.224201Z",
     "iopub.status.idle": "2022-10-02T08:13:26.223833Z",
     "shell.execute_reply": "2022-10-02T08:13:26.222628Z"
    },
    "papermill": {
     "duration": 1.033115,
     "end_time": "2022-10-02T08:13:26.226491",
     "exception": false,
     "start_time": "2022-10-02T08:13:25.193376",
     "status": "completed"
    },
    "tags": []
   },
   "outputs": [
    {
     "data": {
      "text/html": [
       "<div>\n",
       "<style scoped>\n",
       "    .dataframe tbody tr th:only-of-type {\n",
       "        vertical-align: middle;\n",
       "    }\n",
       "\n",
       "    .dataframe tbody tr th {\n",
       "        vertical-align: top;\n",
       "    }\n",
       "\n",
       "    .dataframe thead th {\n",
       "        text-align: right;\n",
       "    }\n",
       "</style>\n",
       "<table border=\"1\" class=\"dataframe\">\n",
       "  <thead>\n",
       "    <tr style=\"text-align: right;\">\n",
       "      <th></th>\n",
       "      <th>customer_unique_id</th>\n",
       "      <th>pay_boleto</th>\n",
       "      <th>pay_credit_card</th>\n",
       "      <th>pay_debit_card</th>\n",
       "      <th>pay_voucher</th>\n",
       "      <th>pay_not_defined</th>\n",
       "    </tr>\n",
       "  </thead>\n",
       "  <tbody>\n",
       "    <tr>\n",
       "      <th>0</th>\n",
       "      <td>0000366f3b9a7992bf8c76cfdf3221e2</td>\n",
       "      <td>0.0</td>\n",
       "      <td>141.90</td>\n",
       "      <td>0.0</td>\n",
       "      <td>0.0</td>\n",
       "      <td>0.0</td>\n",
       "    </tr>\n",
       "    <tr>\n",
       "      <th>1</th>\n",
       "      <td>0000b849f77a49e4a4ce2b2a4ca5be3f</td>\n",
       "      <td>0.0</td>\n",
       "      <td>27.19</td>\n",
       "      <td>0.0</td>\n",
       "      <td>0.0</td>\n",
       "      <td>0.0</td>\n",
       "    </tr>\n",
       "    <tr>\n",
       "      <th>2</th>\n",
       "      <td>0000f46a3911fa3c0805444483337064</td>\n",
       "      <td>0.0</td>\n",
       "      <td>86.22</td>\n",
       "      <td>0.0</td>\n",
       "      <td>0.0</td>\n",
       "      <td>0.0</td>\n",
       "    </tr>\n",
       "    <tr>\n",
       "      <th>3</th>\n",
       "      <td>0000f6ccb0745a6a4b88665a16c9f078</td>\n",
       "      <td>0.0</td>\n",
       "      <td>43.62</td>\n",
       "      <td>0.0</td>\n",
       "      <td>0.0</td>\n",
       "      <td>0.0</td>\n",
       "    </tr>\n",
       "    <tr>\n",
       "      <th>4</th>\n",
       "      <td>0004aac84e0df4da2b147fca70cf8255</td>\n",
       "      <td>0.0</td>\n",
       "      <td>196.89</td>\n",
       "      <td>0.0</td>\n",
       "      <td>0.0</td>\n",
       "      <td>0.0</td>\n",
       "    </tr>\n",
       "  </tbody>\n",
       "</table>\n",
       "</div>"
      ],
      "text/plain": [
       "                 customer_unique_id  pay_boleto  pay_credit_card  \\\n",
       "0  0000366f3b9a7992bf8c76cfdf3221e2         0.0           141.90   \n",
       "1  0000b849f77a49e4a4ce2b2a4ca5be3f         0.0            27.19   \n",
       "2  0000f46a3911fa3c0805444483337064         0.0            86.22   \n",
       "3  0000f6ccb0745a6a4b88665a16c9f078         0.0            43.62   \n",
       "4  0004aac84e0df4da2b147fca70cf8255         0.0           196.89   \n",
       "\n",
       "   pay_debit_card  pay_voucher  pay_not_defined  \n",
       "0             0.0          0.0              0.0  \n",
       "1             0.0          0.0              0.0  \n",
       "2             0.0          0.0              0.0  \n",
       "3             0.0          0.0              0.0  \n",
       "4             0.0          0.0              0.0  "
      ]
     },
     "execution_count": 61,
     "metadata": {},
     "output_type": "execute_result"
    }
   ],
   "source": [
    "cek_payments = payments.iloc[:,[0,2,4]]\n",
    "\n",
    "payment_orders = cek_payments.groupby(['order_id','payment_type']).sum().reset_index()\n",
    "\n",
    "# buat feature baru\n",
    "payment_orders = payment_orders.pivot_table('payment_value', ['order_id'], 'payment_type')\n",
    "\n",
    "# handling NaN\n",
    "payment_orders = payment_orders.fillna(0)\n",
    "\n",
    "# showing dataframe\n",
    "payment_orders = payment_orders.rename_axis(None, axis=1).reset_index()\n",
    "# payment_orders.sort_values(by='night', ascending=False).head()\n",
    "\n",
    "# rename columns\n",
    "payment_orders = payment_orders.rename({\n",
    "    'boleto' : 'pay_boleto',\n",
    "    'credit_card' : 'pay_credit_card',\n",
    "    'debit_card' : 'pay_debit_card',\n",
    "    'not_defined' : 'pay_not_defined',\n",
    "    'voucher' : 'pay_voucher'\n",
    "}, axis='columns') \n",
    "\n",
    "# merge jumlah pengeluaran masing2 order dengan orders\n",
    "payment_orders_val = payment_orders.merge(orders, on='order_id')\n",
    "payment_orders_val = payment_orders_val.iloc[:,:7]\n",
    "\n",
    "# merge dengan customer untuk mengetahui jumlah pengeluaran masing2 order tiap customer\n",
    "cust_payment_orders = payment_orders_val.merge(cust, on='customer_id')\n",
    "cust_payment_orders = cust_payment_orders.iloc[:,:8]\n",
    "cust_payment_orders_val = cust_payment_orders.groupby('customer_unique_id').sum().reset_index()\n",
    "cust_payment_orders_val = cust_payment_orders_val[['customer_unique_id', 'pay_boleto', 'pay_credit_card', 'pay_debit_card','pay_voucher','pay_not_defined']]\n",
    "cust_payment_orders_val.head()"
   ]
  },
  {
   "cell_type": "markdown",
   "id": "67a1be73",
   "metadata": {
    "papermill": {
     "duration": 0.035461,
     "end_time": "2022-10-02T08:13:26.300859",
     "exception": false,
     "start_time": "2022-10-02T08:13:26.265398",
     "status": "completed"
    },
    "tags": []
   },
   "source": [
    "# 3.10 Kategori Product Paling Sering Diorder Masing-Masing Customer"
   ]
  },
  {
   "cell_type": "code",
   "execution_count": 62,
   "id": "439c5e28",
   "metadata": {
    "execution": {
     "iopub.execute_input": "2022-10-02T08:13:26.375459Z",
     "iopub.status.busy": "2022-10-02T08:13:26.375071Z",
     "iopub.status.idle": "2022-10-02T08:13:39.569014Z",
     "shell.execute_reply": "2022-10-02T08:13:39.567897Z"
    },
    "papermill": {
     "duration": 13.229093,
     "end_time": "2022-10-02T08:13:39.571289",
     "exception": false,
     "start_time": "2022-10-02T08:13:26.342196",
     "status": "completed"
    },
    "tags": []
   },
   "outputs": [
    {
     "data": {
      "text/html": [
       "<div>\n",
       "<style scoped>\n",
       "    .dataframe tbody tr th:only-of-type {\n",
       "        vertical-align: middle;\n",
       "    }\n",
       "\n",
       "    .dataframe tbody tr th {\n",
       "        vertical-align: top;\n",
       "    }\n",
       "\n",
       "    .dataframe thead th {\n",
       "        text-align: right;\n",
       "    }\n",
       "</style>\n",
       "<table border=\"1\" class=\"dataframe\">\n",
       "  <thead>\n",
       "    <tr style=\"text-align: right;\">\n",
       "      <th></th>\n",
       "      <th>customer_unique_id</th>\n",
       "      <th>fav_category_product</th>\n",
       "    </tr>\n",
       "  </thead>\n",
       "  <tbody>\n",
       "    <tr>\n",
       "      <th>0</th>\n",
       "      <td>0000366f3b9a7992bf8c76cfdf3221e2</td>\n",
       "      <td>bed_bath_table</td>\n",
       "    </tr>\n",
       "    <tr>\n",
       "      <th>1</th>\n",
       "      <td>0000b849f77a49e4a4ce2b2a4ca5be3f</td>\n",
       "      <td>health_beauty</td>\n",
       "    </tr>\n",
       "    <tr>\n",
       "      <th>2</th>\n",
       "      <td>0000f46a3911fa3c0805444483337064</td>\n",
       "      <td>stationery</td>\n",
       "    </tr>\n",
       "    <tr>\n",
       "      <th>3</th>\n",
       "      <td>0000f6ccb0745a6a4b88665a16c9f078</td>\n",
       "      <td>telephony</td>\n",
       "    </tr>\n",
       "    <tr>\n",
       "      <th>4</th>\n",
       "      <td>0004aac84e0df4da2b147fca70cf8255</td>\n",
       "      <td>telephony</td>\n",
       "    </tr>\n",
       "  </tbody>\n",
       "</table>\n",
       "</div>"
      ],
      "text/plain": [
       "                 customer_unique_id fav_category_product\n",
       "0  0000366f3b9a7992bf8c76cfdf3221e2       bed_bath_table\n",
       "1  0000b849f77a49e4a4ce2b2a4ca5be3f        health_beauty\n",
       "2  0000f46a3911fa3c0805444483337064           stationery\n",
       "3  0000f6ccb0745a6a4b88665a16c9f078            telephony\n",
       "4  0004aac84e0df4da2b147fca70cf8255            telephony"
      ]
     },
     "execution_count": 62,
     "metadata": {},
     "output_type": "execute_result"
    }
   ],
   "source": [
    "# mengambil orderan customer\n",
    "cust_order = cust.merge(orders, on='customer_id')\n",
    "cust_order = cust_order.iloc[:,[1,5]]\n",
    "\n",
    "# mengambil item yang diorder\n",
    "item_order = cust_order.merge(items, on='order_id')\n",
    "item_order = item_order.iloc[:,[0,1,3]]\n",
    "\n",
    "# mengambil nama kategori productnya\n",
    "item_order_cat = item_order.merge(products, on='product_id')\n",
    "item_order_cat = item_order_cat.iloc[:,:4]\n",
    "item_cat = item_order_cat.merge(cat, on='product_category_name', how='outer')\n",
    "\n",
    "# ambil kategori product terfavorit masing-masing customer \n",
    "item_cat = item_cat.groupby('customer_unique_id')['product_category_name_english'].agg(pd.Series.mode).to_frame().reset_index()\n",
    "item_cat = item_cat.rename({\n",
    "    'product_category_name_english' : 'fav_category_product'\n",
    "}, axis='columns') \n",
    "item_cat.head()"
   ]
  },
  {
   "cell_type": "markdown",
   "id": "7ccbec6d",
   "metadata": {
    "papermill": {
     "duration": 0.029479,
     "end_time": "2022-10-02T08:13:39.630192",
     "exception": false,
     "start_time": "2022-10-02T08:13:39.600713",
     "status": "completed"
    },
    "tags": []
   },
   "source": [
    "# 4 Conclusion"
   ]
  },
  {
   "cell_type": "markdown",
   "id": "8e98cf93",
   "metadata": {
    "papermill": {
     "duration": 0.028815,
     "end_time": "2022-10-02T08:13:39.688289",
     "exception": false,
     "start_time": "2022-10-02T08:13:39.659474",
     "status": "completed"
    },
    "tags": []
   },
   "source": [
    "# 4.1 Conclusion Feature Yang Dipilih"
   ]
  },
  {
   "cell_type": "code",
   "execution_count": 63,
   "id": "ad52105b",
   "metadata": {
    "execution": {
     "iopub.execute_input": "2022-10-02T08:13:39.750071Z",
     "iopub.status.busy": "2022-10-02T08:13:39.749020Z",
     "iopub.status.idle": "2022-10-02T08:13:40.509208Z",
     "shell.execute_reply": "2022-10-02T08:13:40.508100Z"
    },
    "papermill": {
     "duration": 0.79393,
     "end_time": "2022-10-02T08:13:40.511777",
     "exception": false,
     "start_time": "2022-10-02T08:13:39.717847",
     "status": "completed"
    },
    "tags": []
   },
   "outputs": [
    {
     "data": {
      "text/html": [
       "<div>\n",
       "<style scoped>\n",
       "    .dataframe tbody tr th:only-of-type {\n",
       "        vertical-align: middle;\n",
       "    }\n",
       "\n",
       "    .dataframe tbody tr th {\n",
       "        vertical-align: top;\n",
       "    }\n",
       "\n",
       "    .dataframe thead th {\n",
       "        text-align: right;\n",
       "    }\n",
       "</style>\n",
       "<table border=\"1\" class=\"dataframe\">\n",
       "  <thead>\n",
       "    <tr style=\"text-align: right;\">\n",
       "      <th></th>\n",
       "      <th>customer_unique_id</th>\n",
       "      <th>orders_count</th>\n",
       "      <th>approved</th>\n",
       "      <th>canceled</th>\n",
       "      <th>created</th>\n",
       "      <th>delivered</th>\n",
       "      <th>invoiced</th>\n",
       "      <th>processing</th>\n",
       "      <th>shipped</th>\n",
       "      <th>unavailable</th>\n",
       "      <th>total_items</th>\n",
       "      <th>total_prices</th>\n",
       "      <th>total_freight_value</th>\n",
       "      <th>pay_boleto</th>\n",
       "      <th>pay_credit_card</th>\n",
       "      <th>pay_debit_card</th>\n",
       "      <th>pay_voucher</th>\n",
       "      <th>pay_not_defined</th>\n",
       "      <th>boleto_freq</th>\n",
       "      <th>credit_card_freq</th>\n",
       "      <th>debit_card_freq</th>\n",
       "      <th>voucher_freq</th>\n",
       "      <th>not_defined_freq</th>\n",
       "      <th>morning</th>\n",
       "      <th>noon</th>\n",
       "      <th>evening</th>\n",
       "      <th>night</th>\n",
       "      <th>midnight</th>\n",
       "      <th>beginning_month</th>\n",
       "      <th>middle_month</th>\n",
       "      <th>end_month</th>\n",
       "      <th>fav_category_product</th>\n",
       "    </tr>\n",
       "  </thead>\n",
       "  <tbody>\n",
       "    <tr>\n",
       "      <th>52973</th>\n",
       "      <td>8d50f5eadf50201ccdcedfb9e2ac8455</td>\n",
       "      <td>17</td>\n",
       "      <td>0.0</td>\n",
       "      <td>0.0</td>\n",
       "      <td>0.0</td>\n",
       "      <td>15.0</td>\n",
       "      <td>0.0</td>\n",
       "      <td>0.0</td>\n",
       "      <td>1.0</td>\n",
       "      <td>1.0</td>\n",
       "      <td>16.0</td>\n",
       "      <td>729.62</td>\n",
       "      <td>172.42</td>\n",
       "      <td>0.00</td>\n",
       "      <td>927.63</td>\n",
       "      <td>0.0</td>\n",
       "      <td>0.00</td>\n",
       "      <td>0.0</td>\n",
       "      <td>0.0</td>\n",
       "      <td>17.0</td>\n",
       "      <td>0.0</td>\n",
       "      <td>0.0</td>\n",
       "      <td>0.0</td>\n",
       "      <td>1.0</td>\n",
       "      <td>1.0</td>\n",
       "      <td>1.0</td>\n",
       "      <td>14.0</td>\n",
       "      <td>0.0</td>\n",
       "      <td>4.0</td>\n",
       "      <td>7.0</td>\n",
       "      <td>6.0</td>\n",
       "      <td>sports_leisure</td>\n",
       "    </tr>\n",
       "    <tr>\n",
       "      <th>23472</th>\n",
       "      <td>3e43e6105506432c953e165fb2acf44c</td>\n",
       "      <td>9</td>\n",
       "      <td>0.0</td>\n",
       "      <td>0.0</td>\n",
       "      <td>0.0</td>\n",
       "      <td>9.0</td>\n",
       "      <td>0.0</td>\n",
       "      <td>0.0</td>\n",
       "      <td>0.0</td>\n",
       "      <td>0.0</td>\n",
       "      <td>14.0</td>\n",
       "      <td>1000.85</td>\n",
       "      <td>171.82</td>\n",
       "      <td>0.00</td>\n",
       "      <td>1172.66</td>\n",
       "      <td>0.0</td>\n",
       "      <td>0.00</td>\n",
       "      <td>0.0</td>\n",
       "      <td>0.0</td>\n",
       "      <td>9.0</td>\n",
       "      <td>0.0</td>\n",
       "      <td>0.0</td>\n",
       "      <td>0.0</td>\n",
       "      <td>5.0</td>\n",
       "      <td>0.0</td>\n",
       "      <td>2.0</td>\n",
       "      <td>2.0</td>\n",
       "      <td>0.0</td>\n",
       "      <td>3.0</td>\n",
       "      <td>5.0</td>\n",
       "      <td>1.0</td>\n",
       "      <td>bed_bath_table</td>\n",
       "    </tr>\n",
       "    <tr>\n",
       "      <th>37797</th>\n",
       "      <td>6469f99c1f9dfae7733b25662e7f1782</td>\n",
       "      <td>7</td>\n",
       "      <td>0.0</td>\n",
       "      <td>0.0</td>\n",
       "      <td>0.0</td>\n",
       "      <td>7.0</td>\n",
       "      <td>0.0</td>\n",
       "      <td>0.0</td>\n",
       "      <td>0.0</td>\n",
       "      <td>0.0</td>\n",
       "      <td>9.0</td>\n",
       "      <td>664.20</td>\n",
       "      <td>94.63</td>\n",
       "      <td>0.00</td>\n",
       "      <td>758.83</td>\n",
       "      <td>0.0</td>\n",
       "      <td>0.00</td>\n",
       "      <td>0.0</td>\n",
       "      <td>0.0</td>\n",
       "      <td>7.0</td>\n",
       "      <td>0.0</td>\n",
       "      <td>0.0</td>\n",
       "      <td>0.0</td>\n",
       "      <td>0.0</td>\n",
       "      <td>2.0</td>\n",
       "      <td>1.0</td>\n",
       "      <td>2.0</td>\n",
       "      <td>2.0</td>\n",
       "      <td>1.0</td>\n",
       "      <td>3.0</td>\n",
       "      <td>3.0</td>\n",
       "      <td>bed_bath_table</td>\n",
       "    </tr>\n",
       "    <tr>\n",
       "      <th>76082</th>\n",
       "      <td>ca77025e7201e3b30c44b472ff346268</td>\n",
       "      <td>7</td>\n",
       "      <td>0.0</td>\n",
       "      <td>0.0</td>\n",
       "      <td>0.0</td>\n",
       "      <td>7.0</td>\n",
       "      <td>0.0</td>\n",
       "      <td>0.0</td>\n",
       "      <td>0.0</td>\n",
       "      <td>0.0</td>\n",
       "      <td>12.0</td>\n",
       "      <td>806.61</td>\n",
       "      <td>316.11</td>\n",
       "      <td>383.27</td>\n",
       "      <td>739.45</td>\n",
       "      <td>0.0</td>\n",
       "      <td>0.00</td>\n",
       "      <td>0.0</td>\n",
       "      <td>2.0</td>\n",
       "      <td>5.0</td>\n",
       "      <td>0.0</td>\n",
       "      <td>0.0</td>\n",
       "      <td>0.0</td>\n",
       "      <td>3.0</td>\n",
       "      <td>2.0</td>\n",
       "      <td>0.0</td>\n",
       "      <td>1.0</td>\n",
       "      <td>1.0</td>\n",
       "      <td>4.0</td>\n",
       "      <td>1.0</td>\n",
       "      <td>2.0</td>\n",
       "      <td>cool_stuff</td>\n",
       "    </tr>\n",
       "    <tr>\n",
       "      <th>10354</th>\n",
       "      <td>1b6c7548a2a1f9037c1fd3ddfed95f33</td>\n",
       "      <td>7</td>\n",
       "      <td>0.0</td>\n",
       "      <td>0.0</td>\n",
       "      <td>0.0</td>\n",
       "      <td>7.0</td>\n",
       "      <td>0.0</td>\n",
       "      <td>0.0</td>\n",
       "      <td>0.0</td>\n",
       "      <td>0.0</td>\n",
       "      <td>9.0</td>\n",
       "      <td>809.21</td>\n",
       "      <td>149.80</td>\n",
       "      <td>781.15</td>\n",
       "      <td>149.14</td>\n",
       "      <td>0.0</td>\n",
       "      <td>28.72</td>\n",
       "      <td>0.0</td>\n",
       "      <td>4.0</td>\n",
       "      <td>3.0</td>\n",
       "      <td>0.0</td>\n",
       "      <td>1.0</td>\n",
       "      <td>0.0</td>\n",
       "      <td>2.0</td>\n",
       "      <td>3.0</td>\n",
       "      <td>1.0</td>\n",
       "      <td>1.0</td>\n",
       "      <td>0.0</td>\n",
       "      <td>2.0</td>\n",
       "      <td>3.0</td>\n",
       "      <td>2.0</td>\n",
       "      <td>furniture_decor</td>\n",
       "    </tr>\n",
       "    <tr>\n",
       "      <th>7175</th>\n",
       "      <td>12f5d6e1cbf93dafd9dcc19095df0b3d</td>\n",
       "      <td>6</td>\n",
       "      <td>0.0</td>\n",
       "      <td>0.0</td>\n",
       "      <td>0.0</td>\n",
       "      <td>6.0</td>\n",
       "      <td>0.0</td>\n",
       "      <td>0.0</td>\n",
       "      <td>0.0</td>\n",
       "      <td>0.0</td>\n",
       "      <td>6.0</td>\n",
       "      <td>58.40</td>\n",
       "      <td>52.32</td>\n",
       "      <td>110.72</td>\n",
       "      <td>0.00</td>\n",
       "      <td>0.0</td>\n",
       "      <td>0.00</td>\n",
       "      <td>0.0</td>\n",
       "      <td>6.0</td>\n",
       "      <td>0.0</td>\n",
       "      <td>0.0</td>\n",
       "      <td>0.0</td>\n",
       "      <td>0.0</td>\n",
       "      <td>0.0</td>\n",
       "      <td>6.0</td>\n",
       "      <td>0.0</td>\n",
       "      <td>0.0</td>\n",
       "      <td>0.0</td>\n",
       "      <td>6.0</td>\n",
       "      <td>0.0</td>\n",
       "      <td>0.0</td>\n",
       "      <td>furniture_bedroom</td>\n",
       "    </tr>\n",
       "    <tr>\n",
       "      <th>83540</th>\n",
       "      <td>de34b16117594161a6a89c50b289d35a</td>\n",
       "      <td>6</td>\n",
       "      <td>0.0</td>\n",
       "      <td>0.0</td>\n",
       "      <td>0.0</td>\n",
       "      <td>5.0</td>\n",
       "      <td>0.0</td>\n",
       "      <td>0.0</td>\n",
       "      <td>0.0</td>\n",
       "      <td>1.0</td>\n",
       "      <td>5.0</td>\n",
       "      <td>486.00</td>\n",
       "      <td>44.38</td>\n",
       "      <td>0.00</td>\n",
       "      <td>660.94</td>\n",
       "      <td>0.0</td>\n",
       "      <td>0.00</td>\n",
       "      <td>0.0</td>\n",
       "      <td>0.0</td>\n",
       "      <td>6.0</td>\n",
       "      <td>0.0</td>\n",
       "      <td>0.0</td>\n",
       "      <td>0.0</td>\n",
       "      <td>0.0</td>\n",
       "      <td>1.0</td>\n",
       "      <td>0.0</td>\n",
       "      <td>3.0</td>\n",
       "      <td>2.0</td>\n",
       "      <td>3.0</td>\n",
       "      <td>3.0</td>\n",
       "      <td>0.0</td>\n",
       "      <td>watches_gifts</td>\n",
       "    </tr>\n",
       "    <tr>\n",
       "      <th>37585</th>\n",
       "      <td>63cfc61cee11cbe306bff5857d00bfe4</td>\n",
       "      <td>6</td>\n",
       "      <td>0.0</td>\n",
       "      <td>0.0</td>\n",
       "      <td>0.0</td>\n",
       "      <td>6.0</td>\n",
       "      <td>0.0</td>\n",
       "      <td>0.0</td>\n",
       "      <td>0.0</td>\n",
       "      <td>0.0</td>\n",
       "      <td>11.0</td>\n",
       "      <td>579.81</td>\n",
       "      <td>246.51</td>\n",
       "      <td>0.00</td>\n",
       "      <td>826.32</td>\n",
       "      <td>0.0</td>\n",
       "      <td>0.00</td>\n",
       "      <td>0.0</td>\n",
       "      <td>0.0</td>\n",
       "      <td>6.0</td>\n",
       "      <td>0.0</td>\n",
       "      <td>0.0</td>\n",
       "      <td>0.0</td>\n",
       "      <td>0.0</td>\n",
       "      <td>3.0</td>\n",
       "      <td>3.0</td>\n",
       "      <td>0.0</td>\n",
       "      <td>0.0</td>\n",
       "      <td>1.0</td>\n",
       "      <td>2.0</td>\n",
       "      <td>3.0</td>\n",
       "      <td>[construction_tools_construction, furniture_de...</td>\n",
       "    </tr>\n",
       "    <tr>\n",
       "      <th>90451</th>\n",
       "      <td>f0e310a6839dce9de1638e0fe5ab282a</td>\n",
       "      <td>6</td>\n",
       "      <td>0.0</td>\n",
       "      <td>0.0</td>\n",
       "      <td>0.0</td>\n",
       "      <td>6.0</td>\n",
       "      <td>0.0</td>\n",
       "      <td>0.0</td>\n",
       "      <td>0.0</td>\n",
       "      <td>0.0</td>\n",
       "      <td>6.0</td>\n",
       "      <td>438.09</td>\n",
       "      <td>102.60</td>\n",
       "      <td>201.73</td>\n",
       "      <td>338.96</td>\n",
       "      <td>0.0</td>\n",
       "      <td>0.00</td>\n",
       "      <td>0.0</td>\n",
       "      <td>3.0</td>\n",
       "      <td>3.0</td>\n",
       "      <td>0.0</td>\n",
       "      <td>0.0</td>\n",
       "      <td>0.0</td>\n",
       "      <td>4.0</td>\n",
       "      <td>0.0</td>\n",
       "      <td>0.0</td>\n",
       "      <td>2.0</td>\n",
       "      <td>0.0</td>\n",
       "      <td>2.0</td>\n",
       "      <td>3.0</td>\n",
       "      <td>1.0</td>\n",
       "      <td>bed_bath_table</td>\n",
       "    </tr>\n",
       "    <tr>\n",
       "      <th>27043</th>\n",
       "      <td>47c1a3033b8b77b3ab6e109eb4d5fdf3</td>\n",
       "      <td>6</td>\n",
       "      <td>0.0</td>\n",
       "      <td>0.0</td>\n",
       "      <td>0.0</td>\n",
       "      <td>6.0</td>\n",
       "      <td>0.0</td>\n",
       "      <td>0.0</td>\n",
       "      <td>0.0</td>\n",
       "      <td>0.0</td>\n",
       "      <td>7.0</td>\n",
       "      <td>836.60</td>\n",
       "      <td>107.61</td>\n",
       "      <td>944.21</td>\n",
       "      <td>0.00</td>\n",
       "      <td>0.0</td>\n",
       "      <td>0.00</td>\n",
       "      <td>0.0</td>\n",
       "      <td>6.0</td>\n",
       "      <td>0.0</td>\n",
       "      <td>0.0</td>\n",
       "      <td>0.0</td>\n",
       "      <td>0.0</td>\n",
       "      <td>2.0</td>\n",
       "      <td>3.0</td>\n",
       "      <td>1.0</td>\n",
       "      <td>0.0</td>\n",
       "      <td>0.0</td>\n",
       "      <td>2.0</td>\n",
       "      <td>0.0</td>\n",
       "      <td>4.0</td>\n",
       "      <td>[auto, cool_stuff]</td>\n",
       "    </tr>\n",
       "  </tbody>\n",
       "</table>\n",
       "</div>"
      ],
      "text/plain": [
       "                     customer_unique_id  orders_count  approved  canceled  \\\n",
       "52973  8d50f5eadf50201ccdcedfb9e2ac8455            17       0.0       0.0   \n",
       "23472  3e43e6105506432c953e165fb2acf44c             9       0.0       0.0   \n",
       "37797  6469f99c1f9dfae7733b25662e7f1782             7       0.0       0.0   \n",
       "76082  ca77025e7201e3b30c44b472ff346268             7       0.0       0.0   \n",
       "10354  1b6c7548a2a1f9037c1fd3ddfed95f33             7       0.0       0.0   \n",
       "7175   12f5d6e1cbf93dafd9dcc19095df0b3d             6       0.0       0.0   \n",
       "83540  de34b16117594161a6a89c50b289d35a             6       0.0       0.0   \n",
       "37585  63cfc61cee11cbe306bff5857d00bfe4             6       0.0       0.0   \n",
       "90451  f0e310a6839dce9de1638e0fe5ab282a             6       0.0       0.0   \n",
       "27043  47c1a3033b8b77b3ab6e109eb4d5fdf3             6       0.0       0.0   \n",
       "\n",
       "       created  delivered  invoiced  processing  shipped  unavailable  \\\n",
       "52973      0.0       15.0       0.0         0.0      1.0          1.0   \n",
       "23472      0.0        9.0       0.0         0.0      0.0          0.0   \n",
       "37797      0.0        7.0       0.0         0.0      0.0          0.0   \n",
       "76082      0.0        7.0       0.0         0.0      0.0          0.0   \n",
       "10354      0.0        7.0       0.0         0.0      0.0          0.0   \n",
       "7175       0.0        6.0       0.0         0.0      0.0          0.0   \n",
       "83540      0.0        5.0       0.0         0.0      0.0          1.0   \n",
       "37585      0.0        6.0       0.0         0.0      0.0          0.0   \n",
       "90451      0.0        6.0       0.0         0.0      0.0          0.0   \n",
       "27043      0.0        6.0       0.0         0.0      0.0          0.0   \n",
       "\n",
       "       total_items  total_prices  total_freight_value  pay_boleto  \\\n",
       "52973         16.0        729.62               172.42        0.00   \n",
       "23472         14.0       1000.85               171.82        0.00   \n",
       "37797          9.0        664.20                94.63        0.00   \n",
       "76082         12.0        806.61               316.11      383.27   \n",
       "10354          9.0        809.21               149.80      781.15   \n",
       "7175           6.0         58.40                52.32      110.72   \n",
       "83540          5.0        486.00                44.38        0.00   \n",
       "37585         11.0        579.81               246.51        0.00   \n",
       "90451          6.0        438.09               102.60      201.73   \n",
       "27043          7.0        836.60               107.61      944.21   \n",
       "\n",
       "       pay_credit_card  pay_debit_card  pay_voucher  pay_not_defined  \\\n",
       "52973           927.63             0.0         0.00              0.0   \n",
       "23472          1172.66             0.0         0.00              0.0   \n",
       "37797           758.83             0.0         0.00              0.0   \n",
       "76082           739.45             0.0         0.00              0.0   \n",
       "10354           149.14             0.0        28.72              0.0   \n",
       "7175              0.00             0.0         0.00              0.0   \n",
       "83540           660.94             0.0         0.00              0.0   \n",
       "37585           826.32             0.0         0.00              0.0   \n",
       "90451           338.96             0.0         0.00              0.0   \n",
       "27043             0.00             0.0         0.00              0.0   \n",
       "\n",
       "       boleto_freq  credit_card_freq  debit_card_freq  voucher_freq  \\\n",
       "52973          0.0              17.0              0.0           0.0   \n",
       "23472          0.0               9.0              0.0           0.0   \n",
       "37797          0.0               7.0              0.0           0.0   \n",
       "76082          2.0               5.0              0.0           0.0   \n",
       "10354          4.0               3.0              0.0           1.0   \n",
       "7175           6.0               0.0              0.0           0.0   \n",
       "83540          0.0               6.0              0.0           0.0   \n",
       "37585          0.0               6.0              0.0           0.0   \n",
       "90451          3.0               3.0              0.0           0.0   \n",
       "27043          6.0               0.0              0.0           0.0   \n",
       "\n",
       "       not_defined_freq  morning  noon  evening  night  midnight  \\\n",
       "52973               0.0      1.0   1.0      1.0   14.0       0.0   \n",
       "23472               0.0      5.0   0.0      2.0    2.0       0.0   \n",
       "37797               0.0      0.0   2.0      1.0    2.0       2.0   \n",
       "76082               0.0      3.0   2.0      0.0    1.0       1.0   \n",
       "10354               0.0      2.0   3.0      1.0    1.0       0.0   \n",
       "7175                0.0      0.0   6.0      0.0    0.0       0.0   \n",
       "83540               0.0      0.0   1.0      0.0    3.0       2.0   \n",
       "37585               0.0      0.0   3.0      3.0    0.0       0.0   \n",
       "90451               0.0      4.0   0.0      0.0    2.0       0.0   \n",
       "27043               0.0      2.0   3.0      1.0    0.0       0.0   \n",
       "\n",
       "       beginning_month  middle_month  end_month  \\\n",
       "52973              4.0           7.0        6.0   \n",
       "23472              3.0           5.0        1.0   \n",
       "37797              1.0           3.0        3.0   \n",
       "76082              4.0           1.0        2.0   \n",
       "10354              2.0           3.0        2.0   \n",
       "7175               6.0           0.0        0.0   \n",
       "83540              3.0           3.0        0.0   \n",
       "37585              1.0           2.0        3.0   \n",
       "90451              2.0           3.0        1.0   \n",
       "27043              2.0           0.0        4.0   \n",
       "\n",
       "                                    fav_category_product  \n",
       "52973                                     sports_leisure  \n",
       "23472                                     bed_bath_table  \n",
       "37797                                     bed_bath_table  \n",
       "76082                                         cool_stuff  \n",
       "10354                                    furniture_decor  \n",
       "7175                                   furniture_bedroom  \n",
       "83540                                      watches_gifts  \n",
       "37585  [construction_tools_construction, furniture_de...  \n",
       "90451                                     bed_bath_table  \n",
       "27043                                 [auto, cool_stuff]  "
      ]
     },
     "execution_count": 63,
     "metadata": {},
     "output_type": "execute_result"
    }
   ],
   "source": [
    "# merge total seluruh order dengan masing2 statusnya\n",
    "all_stat = cust_orders_freq.merge(cust_orders_status, on='customer_unique_id')\n",
    "\n",
    "# merge dengan item yang berhasil diorder\n",
    "order_items = all_stat.merge(total_items_prices, on='customer_unique_id', how='outer')\n",
    "\n",
    "# merge dengan pengeluaran tiap metode pembayaran masing-masing customer\n",
    "pay_order_items = order_items.merge(cust_payment_orders_val, on='customer_unique_id', how='outer') \n",
    "\n",
    "# merge dengan frequency metode pembayaran yang digunakan masing-masing customer\n",
    "freq_pay_order = pay_order_items.merge(cust_payments, on='customer_unique_id', how='outer')\n",
    "\n",
    "# merge dengan freq waktu (day) order masing2 customer\n",
    "time_order = freq_pay_order.merge(cust_orders_time, on='customer_unique_id', how='outer')\n",
    "\n",
    "# merge dengan freq waktu order (month) masing2 customer\n",
    "month_order = time_order.merge(cust_orders_month, on='customer_unique_id', how='outer')\n",
    "month_order = month_order.fillna(0)\n",
    "\n",
    "# merge dengan kategori product yang paling sering diorder masing-masing customer\n",
    "total_feature = month_order.merge(item_cat, on='customer_unique_id', how='outer' )\n",
    "\n",
    "# show all feature\n",
    "pd.set_option('display.max_columns', None)\n",
    "total_feature.sort_values('orders_count', ascending=False).head(10)"
   ]
  },
  {
   "cell_type": "markdown",
   "id": "a21a6dff",
   "metadata": {
    "papermill": {
     "duration": 0.031254,
     "end_time": "2022-10-02T08:13:40.573330",
     "exception": false,
     "start_time": "2022-10-02T08:13:40.542076",
     "status": "completed"
    },
    "tags": []
   },
   "source": [
    "# 4.2 Penjelasan Feature"
   ]
  },
  {
   "cell_type": "markdown",
   "id": "6ba529c3",
   "metadata": {
    "papermill": {
     "duration": 0.029688,
     "end_time": "2022-10-02T08:13:40.634337",
     "exception": false,
     "start_time": "2022-10-02T08:13:40.604649",
     "status": "completed"
    },
    "tags": []
   },
   "source": [
    "\n",
    "1. order_count \n",
    "        Total seluruh order masing-masing customer\n",
    "\n",
    "\n",
    "2. approved\n",
    "        Total order masing-masing customer yang statusnya approved (order disetujui)\n",
    "\n",
    "\n",
    "3. canceled\n",
    "        Total order masing-masing customer yang statusnya cancelled (order dibatalkan)\n",
    "\n",
    "\n",
    "4. created\n",
    "        Total order masing-masing customer yang statusnya created (order dibuat)\n",
    "\n",
    "\n",
    "5. delivered\n",
    "        Total order masing-masing customer yang statusnya delivered (order sudah diantar ke customer)\n",
    "\n",
    "\n",
    "6. invoiced\n",
    "        Total order masing-masing customer yang statusnya invoiced\n",
    "\n",
    "\n",
    "7. processing\n",
    "        Total order masing-masing customer yang statusnya processing (order diproses)\n",
    "\n",
    "\n",
    "8. shipped\n",
    "        Total order masing-masing customer yang statusnya shipped\n",
    "\n",
    "\n",
    "9. unavailable\n",
    "        Total order masing-masing customer yang statusnya unavailable (tidak tersedia)\n",
    "\n",
    "\n",
    "10. total_items\n",
    "        Total seluruh item yang diorder masing-masing customer\n",
    "\n",
    "\n",
    "11. total_prices\n",
    "        Total seluruh biaya item yang diorder masing-masing customer\n",
    "\n",
    "\n",
    "12. total_freight_value\n",
    "        Total seluruh biaya pengangkutan item yang diorder masing-masing customer\n",
    "\n",
    "\n",
    "13. pay_boleto\n",
    "        Total dana yang dibayarkan melalui boleto oleh masing-masing customer\n",
    "\n",
    "\n",
    "14. pay_credit_card\n",
    "        Total dana yang dibayarkan melalui credit card oleh masing-masing customer\n",
    "\n",
    "\n",
    "15. pay_debit_card\n",
    "        Total dana yang dibayarkan melalui debit card oleh masing-masing customer\n",
    "\n",
    "\n",
    "16. pay_not_defined\n",
    "        Total dana yang dibayarkan melalui metode yang tidak didefinikan\n",
    "\n",
    "\n",
    "17. pay_voucher\n",
    "        Total dana yang dibayarkan melalui voucher oleh masing-masing customer\n",
    "\n",
    "\n",
    "18. boleto_freq\n",
    "        Jumlah penggunaan boleto sebagai metode pembayaran yang dipilih oleh masing-masing customer\n",
    "\n",
    "\n",
    "19. credit_card_freq\n",
    "        Jumlah penggunaan credit card sebagai metode pembayaran yang dipilih oleh masing-masing customer\n",
    "\n",
    "\n",
    "20. debit_card_freq\n",
    "        Jumlah penggunaan debit card sebagai metode pembayaran yang dipilih oleh masing-masing customer\n",
    "\n",
    "\n",
    "21. not_defined_freq\n",
    "        Jumlah penggunaan not_define sebagai metode pembayaran yang dipilih oleh masing-masing customer\n",
    "\n",
    "\n",
    "22. voucher_freq\n",
    "        Jumlah penggunaan voucher sebagai metode pembayaran yang dipilih oleh masing-masing customer\n",
    "\n",
    "\n",
    "23. morning\n",
    "        Total order yang dilakukan customer pada pukul 06:00 - 12:00\n",
    "\n",
    "\n",
    "24. noon\n",
    "        Total order masing-masing customer yang statusnya unavailable (tidak tersedia)\n",
    "\n",
    "\n",
    "25. evening\n",
    "        Total order masing-masing customer yang statusnya unavailable (tidak tersedia)\n",
    "\n",
    "\n",
    "26. night\n",
    "        Total order masing-masing customer yang statusnya unavailable (tidak tersedia)\n",
    "\n",
    "\n",
    "27. midnight\n",
    "        Total order masing-masing customer yang statusnya unavailable (tidak tersedia)\n",
    "\n",
    "\n",
    "28. beginning_month\n",
    "        Total order masing-masing customer yang statusnya unavailable (tidak tersedia)\n",
    "\n",
    "\n",
    "29. middle_month\n",
    "        Total order masing-masing customer yang statusnya unavailable (tidak tersedia)\n",
    "\n",
    "\n",
    "30. end_month\n",
    "        Total order masing-masing customer yang statusnya unavailable (tidak tersedia)\n",
    "\n",
    "\n",
    "31. fav_category_product\n",
    "        Total order masing-masing customer yang statusnya unavailable (tidak tersedia)\n",
    "\n"
   ]
  }
 ],
 "metadata": {
  "kernelspec": {
   "display_name": "Python 3",
   "language": "python",
   "name": "python3"
  },
  "language_info": {
   "codemirror_mode": {
    "name": "ipython",
    "version": 3
   },
   "file_extension": ".py",
   "mimetype": "text/x-python",
   "name": "python",
   "nbconvert_exporter": "python",
   "pygments_lexer": "ipython3",
   "version": "3.7.12"
  },
  "papermill": {
   "default_parameters": {},
   "duration": 47.965114,
   "end_time": "2022-10-02T08:13:41.486112",
   "environment_variables": {},
   "exception": null,
   "input_path": "__notebook__.ipynb",
   "output_path": "__notebook__.ipynb",
   "parameters": {},
   "start_time": "2022-10-02T08:12:53.520998",
   "version": "2.3.4"
  }
 },
 "nbformat": 4,
 "nbformat_minor": 5
}
