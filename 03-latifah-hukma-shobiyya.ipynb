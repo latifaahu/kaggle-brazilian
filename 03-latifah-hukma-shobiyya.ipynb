{
 "cells": [
  {
   "cell_type": "markdown",
   "id": "87de4ae3",
   "metadata": {
    "papermill": {
     "duration": 0.020894,
     "end_time": "2022-10-01T09:18:11.517270",
     "exception": false,
     "start_time": "2022-10-01T09:18:11.496376",
     "status": "completed"
    },
    "tags": []
   },
   "source": [
    "# # Assignment 3 - Chapter 3: Reproducible Research (Insight-as-a-Code)\n",
    "\n",
    "Customer 360 Degree View Dataset Using Case Study: Brazilian E-Commerce Public Dataset by Olist\n",
    "\n",
    "> Name: Latifah Hukma S\n",
    "\n",
    "> ID: DS03083"
   ]
  },
  {
   "cell_type": "markdown",
   "id": "11f044cb",
   "metadata": {
    "papermill": {
     "duration": 0.014862,
     "end_time": "2022-10-01T09:18:11.547591",
     "exception": false,
     "start_time": "2022-10-01T09:18:11.532729",
     "status": "completed"
    },
    "tags": []
   },
   "source": [
    "# 1 Import & Load Data"
   ]
  },
  {
   "cell_type": "code",
   "execution_count": 1,
   "id": "1399f905",
   "metadata": {
    "execution": {
     "iopub.execute_input": "2022-10-01T09:18:11.580572Z",
     "iopub.status.busy": "2022-10-01T09:18:11.579741Z",
     "iopub.status.idle": "2022-10-01T09:18:12.706658Z",
     "shell.execute_reply": "2022-10-01T09:18:12.705710Z"
    },
    "papermill": {
     "duration": 1.146626,
     "end_time": "2022-10-01T09:18:12.709433",
     "exception": false,
     "start_time": "2022-10-01T09:18:11.562807",
     "status": "completed"
    },
    "tags": []
   },
   "outputs": [],
   "source": [
    "import numpy as np\n",
    "import pandas as pd\n",
    "import matplotlib.pyplot as plt\n",
    "import seaborn as sns\n",
    "plt.style.use('fivethirtyeight')\n",
    "import warnings\n",
    "warnings.filterwarnings('ignore')\n",
    "%matplotlib inline\n",
    "\n",
    "\n",
    "# import geoviews as gv\n",
    "# import geoviews.tile_sources as gvts\n",
    "# from geoviews import dim, opts\n",
    "# gv.extension('bokeh')"
   ]
  },
  {
   "cell_type": "code",
   "execution_count": 2,
   "id": "cb87cfb6",
   "metadata": {
    "execution": {
     "iopub.execute_input": "2022-10-01T09:18:12.742483Z",
     "iopub.status.busy": "2022-10-01T09:18:12.742096Z",
     "iopub.status.idle": "2022-10-01T09:18:16.945822Z",
     "shell.execute_reply": "2022-10-01T09:18:16.944822Z"
    },
    "papermill": {
     "duration": 4.223126,
     "end_time": "2022-10-01T09:18:16.948493",
     "exception": false,
     "start_time": "2022-10-01T09:18:12.725367",
     "status": "completed"
    },
    "tags": []
   },
   "outputs": [],
   "source": [
    "cust = pd.read_csv('../input/brazilian-ecommerce/olist_customers_dataset.csv')\n",
    "geo = pd.read_csv('../input/brazilian-ecommerce/olist_geolocation_dataset.csv')\n",
    "items = pd.read_csv('../input/brazilian-ecommerce/olist_order_items_dataset.csv')\n",
    "payments = pd.read_csv('../input/brazilian-ecommerce/olist_order_payments_dataset.csv')\n",
    "reviews = pd.read_csv('../input/brazilian-ecommerce/olist_order_reviews_dataset.csv')\n",
    "orders = pd.read_csv('../input/brazilian-ecommerce/olist_orders_dataset.csv')\n",
    "products = pd.read_csv('../input/brazilian-ecommerce/olist_products_dataset.csv')\n",
    "sellers = pd.read_csv('../input/brazilian-ecommerce/olist_sellers_dataset.csv')\n",
    "cat = pd.read_csv('../input/brazilian-ecommerce/product_category_name_translation.csv')"
   ]
  },
  {
   "cell_type": "markdown",
   "id": "2bdb0799",
   "metadata": {
    "papermill": {
     "duration": 0.015158,
     "end_time": "2022-10-01T09:18:16.982306",
     "exception": false,
     "start_time": "2022-10-01T09:18:16.967148",
     "status": "completed"
    },
    "tags": []
   },
   "source": [
    "# 2 Exploratory Data Analysis"
   ]
  },
  {
   "cell_type": "code",
   "execution_count": 3,
   "id": "2b49bfae",
   "metadata": {
    "execution": {
     "iopub.execute_input": "2022-10-01T09:18:17.015436Z",
     "iopub.status.busy": "2022-10-01T09:18:17.014912Z",
     "iopub.status.idle": "2022-10-01T09:18:17.037816Z",
     "shell.execute_reply": "2022-10-01T09:18:17.036684Z"
    },
    "papermill": {
     "duration": 0.041926,
     "end_time": "2022-10-01T09:18:17.040206",
     "exception": false,
     "start_time": "2022-10-01T09:18:16.998280",
     "status": "completed"
    },
    "tags": []
   },
   "outputs": [
    {
     "data": {
      "text/html": [
       "<div>\n",
       "<style scoped>\n",
       "    .dataframe tbody tr th:only-of-type {\n",
       "        vertical-align: middle;\n",
       "    }\n",
       "\n",
       "    .dataframe tbody tr th {\n",
       "        vertical-align: top;\n",
       "    }\n",
       "\n",
       "    .dataframe thead th {\n",
       "        text-align: right;\n",
       "    }\n",
       "</style>\n",
       "<table border=\"1\" class=\"dataframe\">\n",
       "  <thead>\n",
       "    <tr style=\"text-align: right;\">\n",
       "      <th></th>\n",
       "      <th>customer_id</th>\n",
       "      <th>customer_unique_id</th>\n",
       "      <th>customer_zip_code_prefix</th>\n",
       "      <th>customer_city</th>\n",
       "      <th>customer_state</th>\n",
       "    </tr>\n",
       "  </thead>\n",
       "  <tbody>\n",
       "    <tr>\n",
       "      <th>0</th>\n",
       "      <td>06b8999e2fba1a1fbc88172c00ba8bc7</td>\n",
       "      <td>861eff4711a542e4b93843c6dd7febb0</td>\n",
       "      <td>14409</td>\n",
       "      <td>franca</td>\n",
       "      <td>SP</td>\n",
       "    </tr>\n",
       "    <tr>\n",
       "      <th>1</th>\n",
       "      <td>18955e83d337fd6b2def6b18a428ac77</td>\n",
       "      <td>290c77bc529b7ac935b93aa66c333dc3</td>\n",
       "      <td>9790</td>\n",
       "      <td>sao bernardo do campo</td>\n",
       "      <td>SP</td>\n",
       "    </tr>\n",
       "    <tr>\n",
       "      <th>2</th>\n",
       "      <td>4e7b3e00288586ebd08712fdd0374a03</td>\n",
       "      <td>060e732b5b29e8181a18229c7b0b2b5e</td>\n",
       "      <td>1151</td>\n",
       "      <td>sao paulo</td>\n",
       "      <td>SP</td>\n",
       "    </tr>\n",
       "    <tr>\n",
       "      <th>3</th>\n",
       "      <td>b2b6027bc5c5109e529d4dc6358b12c3</td>\n",
       "      <td>259dac757896d24d7702b9acbbff3f3c</td>\n",
       "      <td>8775</td>\n",
       "      <td>mogi das cruzes</td>\n",
       "      <td>SP</td>\n",
       "    </tr>\n",
       "    <tr>\n",
       "      <th>4</th>\n",
       "      <td>4f2d8ab171c80ec8364f7c12e35b23ad</td>\n",
       "      <td>345ecd01c38d18a9036ed96c73b8d066</td>\n",
       "      <td>13056</td>\n",
       "      <td>campinas</td>\n",
       "      <td>SP</td>\n",
       "    </tr>\n",
       "  </tbody>\n",
       "</table>\n",
       "</div>"
      ],
      "text/plain": [
       "                        customer_id                customer_unique_id  \\\n",
       "0  06b8999e2fba1a1fbc88172c00ba8bc7  861eff4711a542e4b93843c6dd7febb0   \n",
       "1  18955e83d337fd6b2def6b18a428ac77  290c77bc529b7ac935b93aa66c333dc3   \n",
       "2  4e7b3e00288586ebd08712fdd0374a03  060e732b5b29e8181a18229c7b0b2b5e   \n",
       "3  b2b6027bc5c5109e529d4dc6358b12c3  259dac757896d24d7702b9acbbff3f3c   \n",
       "4  4f2d8ab171c80ec8364f7c12e35b23ad  345ecd01c38d18a9036ed96c73b8d066   \n",
       "\n",
       "   customer_zip_code_prefix          customer_city customer_state  \n",
       "0                     14409                 franca             SP  \n",
       "1                      9790  sao bernardo do campo             SP  \n",
       "2                      1151              sao paulo             SP  \n",
       "3                      8775        mogi das cruzes             SP  \n",
       "4                     13056               campinas             SP  "
      ]
     },
     "execution_count": 3,
     "metadata": {},
     "output_type": "execute_result"
    }
   ],
   "source": [
    "cust.head()"
   ]
  },
  {
   "cell_type": "code",
   "execution_count": 4,
   "id": "1f780d29",
   "metadata": {
    "execution": {
     "iopub.execute_input": "2022-10-01T09:18:17.073340Z",
     "iopub.status.busy": "2022-10-01T09:18:17.072899Z",
     "iopub.status.idle": "2022-10-01T09:18:17.120081Z",
     "shell.execute_reply": "2022-10-01T09:18:17.118633Z"
    },
    "papermill": {
     "duration": 0.067085,
     "end_time": "2022-10-01T09:18:17.123145",
     "exception": false,
     "start_time": "2022-10-01T09:18:17.056060",
     "status": "completed"
    },
    "tags": []
   },
   "outputs": [
    {
     "name": "stdout",
     "output_type": "stream",
     "text": [
      "<class 'pandas.core.frame.DataFrame'>\n",
      "RangeIndex: 99441 entries, 0 to 99440\n",
      "Data columns (total 5 columns):\n",
      " #   Column                    Non-Null Count  Dtype \n",
      "---  ------                    --------------  ----- \n",
      " 0   customer_id               99441 non-null  object\n",
      " 1   customer_unique_id        99441 non-null  object\n",
      " 2   customer_zip_code_prefix  99441 non-null  int64 \n",
      " 3   customer_city             99441 non-null  object\n",
      " 4   customer_state            99441 non-null  object\n",
      "dtypes: int64(1), object(4)\n",
      "memory usage: 3.8+ MB\n"
     ]
    }
   ],
   "source": [
    "cust.info()"
   ]
  },
  {
   "cell_type": "code",
   "execution_count": 5,
   "id": "bd81c7b2",
   "metadata": {
    "execution": {
     "iopub.execute_input": "2022-10-01T09:18:17.157050Z",
     "iopub.status.busy": "2022-10-01T09:18:17.156632Z",
     "iopub.status.idle": "2022-10-01T09:18:17.323032Z",
     "shell.execute_reply": "2022-10-01T09:18:17.321832Z"
    },
    "papermill": {
     "duration": 0.185768,
     "end_time": "2022-10-01T09:18:17.325405",
     "exception": false,
     "start_time": "2022-10-01T09:18:17.139637",
     "status": "completed"
    },
    "tags": []
   },
   "outputs": [
    {
     "data": {
      "text/html": [
       "<div>\n",
       "<style scoped>\n",
       "    .dataframe tbody tr th:only-of-type {\n",
       "        vertical-align: middle;\n",
       "    }\n",
       "\n",
       "    .dataframe tbody tr th {\n",
       "        vertical-align: top;\n",
       "    }\n",
       "\n",
       "    .dataframe thead th {\n",
       "        text-align: right;\n",
       "    }\n",
       "</style>\n",
       "<table border=\"1\" class=\"dataframe\">\n",
       "  <thead>\n",
       "    <tr style=\"text-align: right;\">\n",
       "      <th></th>\n",
       "      <th>customer_id</th>\n",
       "      <th>customer_unique_id</th>\n",
       "      <th>customer_city</th>\n",
       "      <th>customer_state</th>\n",
       "    </tr>\n",
       "  </thead>\n",
       "  <tbody>\n",
       "    <tr>\n",
       "      <th>count</th>\n",
       "      <td>99441</td>\n",
       "      <td>99441</td>\n",
       "      <td>99441</td>\n",
       "      <td>99441</td>\n",
       "    </tr>\n",
       "    <tr>\n",
       "      <th>unique</th>\n",
       "      <td>99441</td>\n",
       "      <td>96096</td>\n",
       "      <td>4119</td>\n",
       "      <td>27</td>\n",
       "    </tr>\n",
       "    <tr>\n",
       "      <th>top</th>\n",
       "      <td>06b8999e2fba1a1fbc88172c00ba8bc7</td>\n",
       "      <td>8d50f5eadf50201ccdcedfb9e2ac8455</td>\n",
       "      <td>sao paulo</td>\n",
       "      <td>SP</td>\n",
       "    </tr>\n",
       "    <tr>\n",
       "      <th>freq</th>\n",
       "      <td>1</td>\n",
       "      <td>17</td>\n",
       "      <td>15540</td>\n",
       "      <td>41746</td>\n",
       "    </tr>\n",
       "  </tbody>\n",
       "</table>\n",
       "</div>"
      ],
      "text/plain": [
       "                             customer_id                customer_unique_id  \\\n",
       "count                              99441                             99441   \n",
       "unique                             99441                             96096   \n",
       "top     06b8999e2fba1a1fbc88172c00ba8bc7  8d50f5eadf50201ccdcedfb9e2ac8455   \n",
       "freq                                   1                                17   \n",
       "\n",
       "       customer_city customer_state  \n",
       "count          99441          99441  \n",
       "unique          4119             27  \n",
       "top        sao paulo             SP  \n",
       "freq           15540          41746  "
      ]
     },
     "execution_count": 5,
     "metadata": {},
     "output_type": "execute_result"
    }
   ],
   "source": [
    "cust.describe(include=object)"
   ]
  },
  {
   "cell_type": "code",
   "execution_count": 6,
   "id": "c772e462",
   "metadata": {
    "execution": {
     "iopub.execute_input": "2022-10-01T09:18:17.359103Z",
     "iopub.status.busy": "2022-10-01T09:18:17.357977Z",
     "iopub.status.idle": "2022-10-01T09:18:17.386796Z",
     "shell.execute_reply": "2022-10-01T09:18:17.385477Z"
    },
    "papermill": {
     "duration": 0.048028,
     "end_time": "2022-10-01T09:18:17.389164",
     "exception": false,
     "start_time": "2022-10-01T09:18:17.341136",
     "status": "completed"
    },
    "tags": []
   },
   "outputs": [
    {
     "data": {
      "text/plain": [
       "customer_id                 0\n",
       "customer_unique_id          0\n",
       "customer_zip_code_prefix    0\n",
       "customer_city               0\n",
       "customer_state              0\n",
       "dtype: int64"
      ]
     },
     "execution_count": 6,
     "metadata": {},
     "output_type": "execute_result"
    }
   ],
   "source": [
    "cust.isna().sum()"
   ]
  },
  {
   "cell_type": "code",
   "execution_count": 7,
   "id": "2cb712ff",
   "metadata": {
    "execution": {
     "iopub.execute_input": "2022-10-01T09:18:17.422459Z",
     "iopub.status.busy": "2022-10-01T09:18:17.422049Z",
     "iopub.status.idle": "2022-10-01T09:18:17.435242Z",
     "shell.execute_reply": "2022-10-01T09:18:17.434078Z"
    },
    "papermill": {
     "duration": 0.0327,
     "end_time": "2022-10-01T09:18:17.437757",
     "exception": false,
     "start_time": "2022-10-01T09:18:17.405057",
     "status": "completed"
    },
    "tags": []
   },
   "outputs": [
    {
     "data": {
      "text/html": [
       "<div>\n",
       "<style scoped>\n",
       "    .dataframe tbody tr th:only-of-type {\n",
       "        vertical-align: middle;\n",
       "    }\n",
       "\n",
       "    .dataframe tbody tr th {\n",
       "        vertical-align: top;\n",
       "    }\n",
       "\n",
       "    .dataframe thead th {\n",
       "        text-align: right;\n",
       "    }\n",
       "</style>\n",
       "<table border=\"1\" class=\"dataframe\">\n",
       "  <thead>\n",
       "    <tr style=\"text-align: right;\">\n",
       "      <th></th>\n",
       "      <th>geolocation_zip_code_prefix</th>\n",
       "      <th>geolocation_lat</th>\n",
       "      <th>geolocation_lng</th>\n",
       "      <th>geolocation_city</th>\n",
       "      <th>geolocation_state</th>\n",
       "    </tr>\n",
       "  </thead>\n",
       "  <tbody>\n",
       "    <tr>\n",
       "      <th>0</th>\n",
       "      <td>1037</td>\n",
       "      <td>-23.545621</td>\n",
       "      <td>-46.639292</td>\n",
       "      <td>sao paulo</td>\n",
       "      <td>SP</td>\n",
       "    </tr>\n",
       "    <tr>\n",
       "      <th>1</th>\n",
       "      <td>1046</td>\n",
       "      <td>-23.546081</td>\n",
       "      <td>-46.644820</td>\n",
       "      <td>sao paulo</td>\n",
       "      <td>SP</td>\n",
       "    </tr>\n",
       "    <tr>\n",
       "      <th>2</th>\n",
       "      <td>1046</td>\n",
       "      <td>-23.546129</td>\n",
       "      <td>-46.642951</td>\n",
       "      <td>sao paulo</td>\n",
       "      <td>SP</td>\n",
       "    </tr>\n",
       "    <tr>\n",
       "      <th>3</th>\n",
       "      <td>1041</td>\n",
       "      <td>-23.544392</td>\n",
       "      <td>-46.639499</td>\n",
       "      <td>sao paulo</td>\n",
       "      <td>SP</td>\n",
       "    </tr>\n",
       "    <tr>\n",
       "      <th>4</th>\n",
       "      <td>1035</td>\n",
       "      <td>-23.541578</td>\n",
       "      <td>-46.641607</td>\n",
       "      <td>sao paulo</td>\n",
       "      <td>SP</td>\n",
       "    </tr>\n",
       "  </tbody>\n",
       "</table>\n",
       "</div>"
      ],
      "text/plain": [
       "   geolocation_zip_code_prefix  geolocation_lat  geolocation_lng  \\\n",
       "0                         1037       -23.545621       -46.639292   \n",
       "1                         1046       -23.546081       -46.644820   \n",
       "2                         1046       -23.546129       -46.642951   \n",
       "3                         1041       -23.544392       -46.639499   \n",
       "4                         1035       -23.541578       -46.641607   \n",
       "\n",
       "  geolocation_city geolocation_state  \n",
       "0        sao paulo                SP  \n",
       "1        sao paulo                SP  \n",
       "2        sao paulo                SP  \n",
       "3        sao paulo                SP  \n",
       "4        sao paulo                SP  "
      ]
     },
     "execution_count": 7,
     "metadata": {},
     "output_type": "execute_result"
    }
   ],
   "source": [
    "geo.head()"
   ]
  },
  {
   "cell_type": "code",
   "execution_count": 8,
   "id": "d46f3089",
   "metadata": {
    "execution": {
     "iopub.execute_input": "2022-10-01T09:18:17.472908Z",
     "iopub.status.busy": "2022-10-01T09:18:17.472500Z",
     "iopub.status.idle": "2022-10-01T09:18:17.574127Z",
     "shell.execute_reply": "2022-10-01T09:18:17.573003Z"
    },
    "papermill": {
     "duration": 0.12274,
     "end_time": "2022-10-01T09:18:17.576884",
     "exception": false,
     "start_time": "2022-10-01T09:18:17.454144",
     "status": "completed"
    },
    "tags": []
   },
   "outputs": [
    {
     "name": "stdout",
     "output_type": "stream",
     "text": [
      "<class 'pandas.core.frame.DataFrame'>\n",
      "RangeIndex: 1000163 entries, 0 to 1000162\n",
      "Data columns (total 5 columns):\n",
      " #   Column                       Non-Null Count    Dtype  \n",
      "---  ------                       --------------    -----  \n",
      " 0   geolocation_zip_code_prefix  1000163 non-null  int64  \n",
      " 1   geolocation_lat              1000163 non-null  float64\n",
      " 2   geolocation_lng              1000163 non-null  float64\n",
      " 3   geolocation_city             1000163 non-null  object \n",
      " 4   geolocation_state            1000163 non-null  object \n",
      "dtypes: float64(2), int64(1), object(2)\n",
      "memory usage: 38.2+ MB\n"
     ]
    }
   ],
   "source": [
    "geo.info()"
   ]
  },
  {
   "cell_type": "code",
   "execution_count": 9,
   "id": "3acc18f2",
   "metadata": {
    "execution": {
     "iopub.execute_input": "2022-10-01T09:18:17.611663Z",
     "iopub.status.busy": "2022-10-01T09:18:17.611250Z",
     "iopub.status.idle": "2022-10-01T09:18:17.760913Z",
     "shell.execute_reply": "2022-10-01T09:18:17.759527Z"
    },
    "papermill": {
     "duration": 0.170074,
     "end_time": "2022-10-01T09:18:17.763251",
     "exception": false,
     "start_time": "2022-10-01T09:18:17.593177",
     "status": "completed"
    },
    "tags": []
   },
   "outputs": [
    {
     "data": {
      "text/html": [
       "<div>\n",
       "<style scoped>\n",
       "    .dataframe tbody tr th:only-of-type {\n",
       "        vertical-align: middle;\n",
       "    }\n",
       "\n",
       "    .dataframe tbody tr th {\n",
       "        vertical-align: top;\n",
       "    }\n",
       "\n",
       "    .dataframe thead th {\n",
       "        text-align: right;\n",
       "    }\n",
       "</style>\n",
       "<table border=\"1\" class=\"dataframe\">\n",
       "  <thead>\n",
       "    <tr style=\"text-align: right;\">\n",
       "      <th></th>\n",
       "      <th>geolocation_zip_code_prefix</th>\n",
       "      <th>geolocation_lat</th>\n",
       "      <th>geolocation_lng</th>\n",
       "    </tr>\n",
       "  </thead>\n",
       "  <tbody>\n",
       "    <tr>\n",
       "      <th>count</th>\n",
       "      <td>1.000163e+06</td>\n",
       "      <td>1.000163e+06</td>\n",
       "      <td>1.000163e+06</td>\n",
       "    </tr>\n",
       "    <tr>\n",
       "      <th>mean</th>\n",
       "      <td>3.657417e+04</td>\n",
       "      <td>-2.117615e+01</td>\n",
       "      <td>-4.639054e+01</td>\n",
       "    </tr>\n",
       "    <tr>\n",
       "      <th>std</th>\n",
       "      <td>3.054934e+04</td>\n",
       "      <td>5.715866e+00</td>\n",
       "      <td>4.269748e+00</td>\n",
       "    </tr>\n",
       "    <tr>\n",
       "      <th>min</th>\n",
       "      <td>1.001000e+03</td>\n",
       "      <td>-3.660537e+01</td>\n",
       "      <td>-1.014668e+02</td>\n",
       "    </tr>\n",
       "    <tr>\n",
       "      <th>25%</th>\n",
       "      <td>1.107500e+04</td>\n",
       "      <td>-2.360355e+01</td>\n",
       "      <td>-4.857317e+01</td>\n",
       "    </tr>\n",
       "    <tr>\n",
       "      <th>50%</th>\n",
       "      <td>2.653000e+04</td>\n",
       "      <td>-2.291938e+01</td>\n",
       "      <td>-4.663788e+01</td>\n",
       "    </tr>\n",
       "    <tr>\n",
       "      <th>75%</th>\n",
       "      <td>6.350400e+04</td>\n",
       "      <td>-1.997962e+01</td>\n",
       "      <td>-4.376771e+01</td>\n",
       "    </tr>\n",
       "    <tr>\n",
       "      <th>max</th>\n",
       "      <td>9.999000e+04</td>\n",
       "      <td>4.506593e+01</td>\n",
       "      <td>1.211054e+02</td>\n",
       "    </tr>\n",
       "  </tbody>\n",
       "</table>\n",
       "</div>"
      ],
      "text/plain": [
       "       geolocation_zip_code_prefix  geolocation_lat  geolocation_lng\n",
       "count                 1.000163e+06     1.000163e+06     1.000163e+06\n",
       "mean                  3.657417e+04    -2.117615e+01    -4.639054e+01\n",
       "std                   3.054934e+04     5.715866e+00     4.269748e+00\n",
       "min                   1.001000e+03    -3.660537e+01    -1.014668e+02\n",
       "25%                   1.107500e+04    -2.360355e+01    -4.857317e+01\n",
       "50%                   2.653000e+04    -2.291938e+01    -4.663788e+01\n",
       "75%                   6.350400e+04    -1.997962e+01    -4.376771e+01\n",
       "max                   9.999000e+04     4.506593e+01     1.211054e+02"
      ]
     },
     "execution_count": 9,
     "metadata": {},
     "output_type": "execute_result"
    }
   ],
   "source": [
    "geo.describe()"
   ]
  },
  {
   "cell_type": "code",
   "execution_count": 10,
   "id": "ad58e7af",
   "metadata": {
    "execution": {
     "iopub.execute_input": "2022-10-01T09:18:17.798037Z",
     "iopub.status.busy": "2022-10-01T09:18:17.797368Z",
     "iopub.status.idle": "2022-10-01T09:18:18.016861Z",
     "shell.execute_reply": "2022-10-01T09:18:18.015374Z"
    },
    "papermill": {
     "duration": 0.239928,
     "end_time": "2022-10-01T09:18:18.019624",
     "exception": false,
     "start_time": "2022-10-01T09:18:17.779696",
     "status": "completed"
    },
    "tags": []
   },
   "outputs": [
    {
     "data": {
      "text/html": [
       "<div>\n",
       "<style scoped>\n",
       "    .dataframe tbody tr th:only-of-type {\n",
       "        vertical-align: middle;\n",
       "    }\n",
       "\n",
       "    .dataframe tbody tr th {\n",
       "        vertical-align: top;\n",
       "    }\n",
       "\n",
       "    .dataframe thead th {\n",
       "        text-align: right;\n",
       "    }\n",
       "</style>\n",
       "<table border=\"1\" class=\"dataframe\">\n",
       "  <thead>\n",
       "    <tr style=\"text-align: right;\">\n",
       "      <th></th>\n",
       "      <th>geolocation_city</th>\n",
       "      <th>geolocation_state</th>\n",
       "    </tr>\n",
       "  </thead>\n",
       "  <tbody>\n",
       "    <tr>\n",
       "      <th>count</th>\n",
       "      <td>1000163</td>\n",
       "      <td>1000163</td>\n",
       "    </tr>\n",
       "    <tr>\n",
       "      <th>unique</th>\n",
       "      <td>8011</td>\n",
       "      <td>27</td>\n",
       "    </tr>\n",
       "    <tr>\n",
       "      <th>top</th>\n",
       "      <td>sao paulo</td>\n",
       "      <td>SP</td>\n",
       "    </tr>\n",
       "    <tr>\n",
       "      <th>freq</th>\n",
       "      <td>135800</td>\n",
       "      <td>404268</td>\n",
       "    </tr>\n",
       "  </tbody>\n",
       "</table>\n",
       "</div>"
      ],
      "text/plain": [
       "       geolocation_city geolocation_state\n",
       "count           1000163           1000163\n",
       "unique             8011                27\n",
       "top           sao paulo                SP\n",
       "freq             135800            404268"
      ]
     },
     "execution_count": 10,
     "metadata": {},
     "output_type": "execute_result"
    }
   ],
   "source": [
    "geo.describe(include=object)"
   ]
  },
  {
   "cell_type": "code",
   "execution_count": 11,
   "id": "05126dc8",
   "metadata": {
    "execution": {
     "iopub.execute_input": "2022-10-01T09:18:18.054409Z",
     "iopub.status.busy": "2022-10-01T09:18:18.053996Z",
     "iopub.status.idle": "2022-10-01T09:18:18.068498Z",
     "shell.execute_reply": "2022-10-01T09:18:18.067418Z"
    },
    "papermill": {
     "duration": 0.034782,
     "end_time": "2022-10-01T09:18:18.070986",
     "exception": false,
     "start_time": "2022-10-01T09:18:18.036204",
     "status": "completed"
    },
    "tags": []
   },
   "outputs": [
    {
     "data": {
      "text/html": [
       "<div>\n",
       "<style scoped>\n",
       "    .dataframe tbody tr th:only-of-type {\n",
       "        vertical-align: middle;\n",
       "    }\n",
       "\n",
       "    .dataframe tbody tr th {\n",
       "        vertical-align: top;\n",
       "    }\n",
       "\n",
       "    .dataframe thead th {\n",
       "        text-align: right;\n",
       "    }\n",
       "</style>\n",
       "<table border=\"1\" class=\"dataframe\">\n",
       "  <thead>\n",
       "    <tr style=\"text-align: right;\">\n",
       "      <th></th>\n",
       "      <th>order_id</th>\n",
       "      <th>order_item_id</th>\n",
       "      <th>product_id</th>\n",
       "      <th>seller_id</th>\n",
       "      <th>shipping_limit_date</th>\n",
       "      <th>price</th>\n",
       "      <th>freight_value</th>\n",
       "    </tr>\n",
       "  </thead>\n",
       "  <tbody>\n",
       "    <tr>\n",
       "      <th>0</th>\n",
       "      <td>00010242fe8c5a6d1ba2dd792cb16214</td>\n",
       "      <td>1</td>\n",
       "      <td>4244733e06e7ecb4970a6e2683c13e61</td>\n",
       "      <td>48436dade18ac8b2bce089ec2a041202</td>\n",
       "      <td>2017-09-19 09:45:35</td>\n",
       "      <td>58.90</td>\n",
       "      <td>13.29</td>\n",
       "    </tr>\n",
       "    <tr>\n",
       "      <th>1</th>\n",
       "      <td>00018f77f2f0320c557190d7a144bdd3</td>\n",
       "      <td>1</td>\n",
       "      <td>e5f2d52b802189ee658865ca93d83a8f</td>\n",
       "      <td>dd7ddc04e1b6c2c614352b383efe2d36</td>\n",
       "      <td>2017-05-03 11:05:13</td>\n",
       "      <td>239.90</td>\n",
       "      <td>19.93</td>\n",
       "    </tr>\n",
       "    <tr>\n",
       "      <th>2</th>\n",
       "      <td>000229ec398224ef6ca0657da4fc703e</td>\n",
       "      <td>1</td>\n",
       "      <td>c777355d18b72b67abbeef9df44fd0fd</td>\n",
       "      <td>5b51032eddd242adc84c38acab88f23d</td>\n",
       "      <td>2018-01-18 14:48:30</td>\n",
       "      <td>199.00</td>\n",
       "      <td>17.87</td>\n",
       "    </tr>\n",
       "    <tr>\n",
       "      <th>3</th>\n",
       "      <td>00024acbcdf0a6daa1e931b038114c75</td>\n",
       "      <td>1</td>\n",
       "      <td>7634da152a4610f1595efa32f14722fc</td>\n",
       "      <td>9d7a1d34a5052409006425275ba1c2b4</td>\n",
       "      <td>2018-08-15 10:10:18</td>\n",
       "      <td>12.99</td>\n",
       "      <td>12.79</td>\n",
       "    </tr>\n",
       "    <tr>\n",
       "      <th>4</th>\n",
       "      <td>00042b26cf59d7ce69dfabb4e55b4fd9</td>\n",
       "      <td>1</td>\n",
       "      <td>ac6c3623068f30de03045865e4e10089</td>\n",
       "      <td>df560393f3a51e74553ab94004ba5c87</td>\n",
       "      <td>2017-02-13 13:57:51</td>\n",
       "      <td>199.90</td>\n",
       "      <td>18.14</td>\n",
       "    </tr>\n",
       "  </tbody>\n",
       "</table>\n",
       "</div>"
      ],
      "text/plain": [
       "                           order_id  order_item_id  \\\n",
       "0  00010242fe8c5a6d1ba2dd792cb16214              1   \n",
       "1  00018f77f2f0320c557190d7a144bdd3              1   \n",
       "2  000229ec398224ef6ca0657da4fc703e              1   \n",
       "3  00024acbcdf0a6daa1e931b038114c75              1   \n",
       "4  00042b26cf59d7ce69dfabb4e55b4fd9              1   \n",
       "\n",
       "                         product_id                         seller_id  \\\n",
       "0  4244733e06e7ecb4970a6e2683c13e61  48436dade18ac8b2bce089ec2a041202   \n",
       "1  e5f2d52b802189ee658865ca93d83a8f  dd7ddc04e1b6c2c614352b383efe2d36   \n",
       "2  c777355d18b72b67abbeef9df44fd0fd  5b51032eddd242adc84c38acab88f23d   \n",
       "3  7634da152a4610f1595efa32f14722fc  9d7a1d34a5052409006425275ba1c2b4   \n",
       "4  ac6c3623068f30de03045865e4e10089  df560393f3a51e74553ab94004ba5c87   \n",
       "\n",
       "   shipping_limit_date   price  freight_value  \n",
       "0  2017-09-19 09:45:35   58.90          13.29  \n",
       "1  2017-05-03 11:05:13  239.90          19.93  \n",
       "2  2018-01-18 14:48:30  199.00          17.87  \n",
       "3  2018-08-15 10:10:18   12.99          12.79  \n",
       "4  2017-02-13 13:57:51  199.90          18.14  "
      ]
     },
     "execution_count": 11,
     "metadata": {},
     "output_type": "execute_result"
    }
   ],
   "source": [
    "items.head()"
   ]
  },
  {
   "cell_type": "code",
   "execution_count": 12,
   "id": "ef12477b",
   "metadata": {
    "execution": {
     "iopub.execute_input": "2022-10-01T09:18:18.106773Z",
     "iopub.status.busy": "2022-10-01T09:18:18.106345Z",
     "iopub.status.idle": "2022-10-01T09:18:18.142989Z",
     "shell.execute_reply": "2022-10-01T09:18:18.141379Z"
    },
    "papermill": {
     "duration": 0.05764,
     "end_time": "2022-10-01T09:18:18.145848",
     "exception": false,
     "start_time": "2022-10-01T09:18:18.088208",
     "status": "completed"
    },
    "tags": []
   },
   "outputs": [
    {
     "name": "stdout",
     "output_type": "stream",
     "text": [
      "<class 'pandas.core.frame.DataFrame'>\n",
      "RangeIndex: 112650 entries, 0 to 112649\n",
      "Data columns (total 7 columns):\n",
      " #   Column               Non-Null Count   Dtype  \n",
      "---  ------               --------------   -----  \n",
      " 0   order_id             112650 non-null  object \n",
      " 1   order_item_id        112650 non-null  int64  \n",
      " 2   product_id           112650 non-null  object \n",
      " 3   seller_id            112650 non-null  object \n",
      " 4   shipping_limit_date  112650 non-null  object \n",
      " 5   price                112650 non-null  float64\n",
      " 6   freight_value        112650 non-null  float64\n",
      "dtypes: float64(2), int64(1), object(4)\n",
      "memory usage: 6.0+ MB\n"
     ]
    }
   ],
   "source": [
    "items.info()"
   ]
  },
  {
   "cell_type": "code",
   "execution_count": 13,
   "id": "8e117012",
   "metadata": {
    "execution": {
     "iopub.execute_input": "2022-10-01T09:18:18.181854Z",
     "iopub.status.busy": "2022-10-01T09:18:18.180932Z",
     "iopub.status.idle": "2022-10-01T09:18:18.209701Z",
     "shell.execute_reply": "2022-10-01T09:18:18.208565Z"
    },
    "papermill": {
     "duration": 0.049376,
     "end_time": "2022-10-01T09:18:18.212293",
     "exception": false,
     "start_time": "2022-10-01T09:18:18.162917",
     "status": "completed"
    },
    "tags": []
   },
   "outputs": [
    {
     "data": {
      "text/html": [
       "<div>\n",
       "<style scoped>\n",
       "    .dataframe tbody tr th:only-of-type {\n",
       "        vertical-align: middle;\n",
       "    }\n",
       "\n",
       "    .dataframe tbody tr th {\n",
       "        vertical-align: top;\n",
       "    }\n",
       "\n",
       "    .dataframe thead th {\n",
       "        text-align: right;\n",
       "    }\n",
       "</style>\n",
       "<table border=\"1\" class=\"dataframe\">\n",
       "  <thead>\n",
       "    <tr style=\"text-align: right;\">\n",
       "      <th></th>\n",
       "      <th>price</th>\n",
       "      <th>freight_value</th>\n",
       "    </tr>\n",
       "  </thead>\n",
       "  <tbody>\n",
       "    <tr>\n",
       "      <th>count</th>\n",
       "      <td>112650.000000</td>\n",
       "      <td>112650.000000</td>\n",
       "    </tr>\n",
       "    <tr>\n",
       "      <th>mean</th>\n",
       "      <td>120.653739</td>\n",
       "      <td>19.990320</td>\n",
       "    </tr>\n",
       "    <tr>\n",
       "      <th>std</th>\n",
       "      <td>183.633928</td>\n",
       "      <td>15.806405</td>\n",
       "    </tr>\n",
       "    <tr>\n",
       "      <th>min</th>\n",
       "      <td>0.850000</td>\n",
       "      <td>0.000000</td>\n",
       "    </tr>\n",
       "    <tr>\n",
       "      <th>25%</th>\n",
       "      <td>39.900000</td>\n",
       "      <td>13.080000</td>\n",
       "    </tr>\n",
       "    <tr>\n",
       "      <th>50%</th>\n",
       "      <td>74.990000</td>\n",
       "      <td>16.260000</td>\n",
       "    </tr>\n",
       "    <tr>\n",
       "      <th>75%</th>\n",
       "      <td>134.900000</td>\n",
       "      <td>21.150000</td>\n",
       "    </tr>\n",
       "    <tr>\n",
       "      <th>max</th>\n",
       "      <td>6735.000000</td>\n",
       "      <td>409.680000</td>\n",
       "    </tr>\n",
       "  </tbody>\n",
       "</table>\n",
       "</div>"
      ],
      "text/plain": [
       "               price  freight_value\n",
       "count  112650.000000  112650.000000\n",
       "mean      120.653739      19.990320\n",
       "std       183.633928      15.806405\n",
       "min         0.850000       0.000000\n",
       "25%        39.900000      13.080000\n",
       "50%        74.990000      16.260000\n",
       "75%       134.900000      21.150000\n",
       "max      6735.000000     409.680000"
      ]
     },
     "execution_count": 13,
     "metadata": {},
     "output_type": "execute_result"
    }
   ],
   "source": [
    "items.iloc[:,5:].describe()"
   ]
  },
  {
   "cell_type": "code",
   "execution_count": 14,
   "id": "2c4d11d3",
   "metadata": {
    "execution": {
     "iopub.execute_input": "2022-10-01T09:18:18.248325Z",
     "iopub.status.busy": "2022-10-01T09:18:18.247898Z",
     "iopub.status.idle": "2022-10-01T09:18:18.334173Z",
     "shell.execute_reply": "2022-10-01T09:18:18.333075Z"
    },
    "papermill": {
     "duration": 0.107076,
     "end_time": "2022-10-01T09:18:18.336648",
     "exception": false,
     "start_time": "2022-10-01T09:18:18.229572",
     "status": "completed"
    },
    "tags": []
   },
   "outputs": [
    {
     "data": {
      "text/html": [
       "<div>\n",
       "<style scoped>\n",
       "    .dataframe tbody tr th:only-of-type {\n",
       "        vertical-align: middle;\n",
       "    }\n",
       "\n",
       "    .dataframe tbody tr th {\n",
       "        vertical-align: top;\n",
       "    }\n",
       "\n",
       "    .dataframe thead th {\n",
       "        text-align: right;\n",
       "    }\n",
       "</style>\n",
       "<table border=\"1\" class=\"dataframe\">\n",
       "  <thead>\n",
       "    <tr style=\"text-align: right;\">\n",
       "      <th></th>\n",
       "      <th>shipping_limit_date</th>\n",
       "    </tr>\n",
       "  </thead>\n",
       "  <tbody>\n",
       "    <tr>\n",
       "      <th>count</th>\n",
       "      <td>112650</td>\n",
       "    </tr>\n",
       "    <tr>\n",
       "      <th>unique</th>\n",
       "      <td>93318</td>\n",
       "    </tr>\n",
       "    <tr>\n",
       "      <th>top</th>\n",
       "      <td>2017-07-21 18:25:23</td>\n",
       "    </tr>\n",
       "    <tr>\n",
       "      <th>freq</th>\n",
       "      <td>21</td>\n",
       "    </tr>\n",
       "  </tbody>\n",
       "</table>\n",
       "</div>"
      ],
      "text/plain": [
       "        shipping_limit_date\n",
       "count                112650\n",
       "unique                93318\n",
       "top     2017-07-21 18:25:23\n",
       "freq                     21"
      ]
     },
     "execution_count": 14,
     "metadata": {},
     "output_type": "execute_result"
    }
   ],
   "source": [
    "items.iloc[:,4:].describe(include=object)"
   ]
  },
  {
   "cell_type": "code",
   "execution_count": 15,
   "id": "8673f062",
   "metadata": {
    "execution": {
     "iopub.execute_input": "2022-10-01T09:18:18.373142Z",
     "iopub.status.busy": "2022-10-01T09:18:18.372728Z",
     "iopub.status.idle": "2022-10-01T09:18:18.404039Z",
     "shell.execute_reply": "2022-10-01T09:18:18.402958Z"
    },
    "papermill": {
     "duration": 0.052405,
     "end_time": "2022-10-01T09:18:18.406395",
     "exception": false,
     "start_time": "2022-10-01T09:18:18.353990",
     "status": "completed"
    },
    "tags": []
   },
   "outputs": [
    {
     "data": {
      "text/plain": [
       "order_id               0\n",
       "order_item_id          0\n",
       "product_id             0\n",
       "seller_id              0\n",
       "shipping_limit_date    0\n",
       "price                  0\n",
       "freight_value          0\n",
       "dtype: int64"
      ]
     },
     "execution_count": 15,
     "metadata": {},
     "output_type": "execute_result"
    }
   ],
   "source": [
    "items.isna().sum()"
   ]
  },
  {
   "cell_type": "code",
   "execution_count": 16,
   "id": "9b9c8e1e",
   "metadata": {
    "execution": {
     "iopub.execute_input": "2022-10-01T09:18:18.443055Z",
     "iopub.status.busy": "2022-10-01T09:18:18.442657Z",
     "iopub.status.idle": "2022-10-01T09:18:18.455335Z",
     "shell.execute_reply": "2022-10-01T09:18:18.454250Z"
    },
    "papermill": {
     "duration": 0.033611,
     "end_time": "2022-10-01T09:18:18.457454",
     "exception": false,
     "start_time": "2022-10-01T09:18:18.423843",
     "status": "completed"
    },
    "tags": []
   },
   "outputs": [
    {
     "data": {
      "text/html": [
       "<div>\n",
       "<style scoped>\n",
       "    .dataframe tbody tr th:only-of-type {\n",
       "        vertical-align: middle;\n",
       "    }\n",
       "\n",
       "    .dataframe tbody tr th {\n",
       "        vertical-align: top;\n",
       "    }\n",
       "\n",
       "    .dataframe thead th {\n",
       "        text-align: right;\n",
       "    }\n",
       "</style>\n",
       "<table border=\"1\" class=\"dataframe\">\n",
       "  <thead>\n",
       "    <tr style=\"text-align: right;\">\n",
       "      <th></th>\n",
       "      <th>order_id</th>\n",
       "      <th>payment_sequential</th>\n",
       "      <th>payment_type</th>\n",
       "      <th>payment_installments</th>\n",
       "      <th>payment_value</th>\n",
       "    </tr>\n",
       "  </thead>\n",
       "  <tbody>\n",
       "    <tr>\n",
       "      <th>0</th>\n",
       "      <td>b81ef226f3fe1789b1e8b2acac839d17</td>\n",
       "      <td>1</td>\n",
       "      <td>credit_card</td>\n",
       "      <td>8</td>\n",
       "      <td>99.33</td>\n",
       "    </tr>\n",
       "    <tr>\n",
       "      <th>1</th>\n",
       "      <td>a9810da82917af2d9aefd1278f1dcfa0</td>\n",
       "      <td>1</td>\n",
       "      <td>credit_card</td>\n",
       "      <td>1</td>\n",
       "      <td>24.39</td>\n",
       "    </tr>\n",
       "    <tr>\n",
       "      <th>2</th>\n",
       "      <td>25e8ea4e93396b6fa0d3dd708e76c1bd</td>\n",
       "      <td>1</td>\n",
       "      <td>credit_card</td>\n",
       "      <td>1</td>\n",
       "      <td>65.71</td>\n",
       "    </tr>\n",
       "    <tr>\n",
       "      <th>3</th>\n",
       "      <td>ba78997921bbcdc1373bb41e913ab953</td>\n",
       "      <td>1</td>\n",
       "      <td>credit_card</td>\n",
       "      <td>8</td>\n",
       "      <td>107.78</td>\n",
       "    </tr>\n",
       "    <tr>\n",
       "      <th>4</th>\n",
       "      <td>42fdf880ba16b47b59251dd489d4441a</td>\n",
       "      <td>1</td>\n",
       "      <td>credit_card</td>\n",
       "      <td>2</td>\n",
       "      <td>128.45</td>\n",
       "    </tr>\n",
       "  </tbody>\n",
       "</table>\n",
       "</div>"
      ],
      "text/plain": [
       "                           order_id  payment_sequential payment_type  \\\n",
       "0  b81ef226f3fe1789b1e8b2acac839d17                   1  credit_card   \n",
       "1  a9810da82917af2d9aefd1278f1dcfa0                   1  credit_card   \n",
       "2  25e8ea4e93396b6fa0d3dd708e76c1bd                   1  credit_card   \n",
       "3  ba78997921bbcdc1373bb41e913ab953                   1  credit_card   \n",
       "4  42fdf880ba16b47b59251dd489d4441a                   1  credit_card   \n",
       "\n",
       "   payment_installments  payment_value  \n",
       "0                     8          99.33  \n",
       "1                     1          24.39  \n",
       "2                     1          65.71  \n",
       "3                     8         107.78  \n",
       "4                     2         128.45  "
      ]
     },
     "execution_count": 16,
     "metadata": {},
     "output_type": "execute_result"
    }
   ],
   "source": [
    "payments.head()"
   ]
  },
  {
   "cell_type": "code",
   "execution_count": 17,
   "id": "833b8a1b",
   "metadata": {
    "execution": {
     "iopub.execute_input": "2022-10-01T09:18:18.495158Z",
     "iopub.status.busy": "2022-10-01T09:18:18.494736Z",
     "iopub.status.idle": "2022-10-01T09:18:18.518752Z",
     "shell.execute_reply": "2022-10-01T09:18:18.517449Z"
    },
    "papermill": {
     "duration": 0.04558,
     "end_time": "2022-10-01T09:18:18.521080",
     "exception": false,
     "start_time": "2022-10-01T09:18:18.475500",
     "status": "completed"
    },
    "tags": []
   },
   "outputs": [
    {
     "name": "stdout",
     "output_type": "stream",
     "text": [
      "<class 'pandas.core.frame.DataFrame'>\n",
      "RangeIndex: 103886 entries, 0 to 103885\n",
      "Data columns (total 5 columns):\n",
      " #   Column                Non-Null Count   Dtype  \n",
      "---  ------                --------------   -----  \n",
      " 0   order_id              103886 non-null  object \n",
      " 1   payment_sequential    103886 non-null  int64  \n",
      " 2   payment_type          103886 non-null  object \n",
      " 3   payment_installments  103886 non-null  int64  \n",
      " 4   payment_value         103886 non-null  float64\n",
      "dtypes: float64(1), int64(2), object(2)\n",
      "memory usage: 4.0+ MB\n"
     ]
    }
   ],
   "source": [
    "payments.info()"
   ]
  },
  {
   "cell_type": "code",
   "execution_count": 18,
   "id": "74e46935",
   "metadata": {
    "execution": {
     "iopub.execute_input": "2022-10-01T09:18:18.558500Z",
     "iopub.status.busy": "2022-10-01T09:18:18.557865Z",
     "iopub.status.idle": "2022-10-01T09:18:18.588702Z",
     "shell.execute_reply": "2022-10-01T09:18:18.587505Z"
    },
    "papermill": {
     "duration": 0.052187,
     "end_time": "2022-10-01T09:18:18.591003",
     "exception": false,
     "start_time": "2022-10-01T09:18:18.538816",
     "status": "completed"
    },
    "tags": []
   },
   "outputs": [
    {
     "data": {
      "text/html": [
       "<div>\n",
       "<style scoped>\n",
       "    .dataframe tbody tr th:only-of-type {\n",
       "        vertical-align: middle;\n",
       "    }\n",
       "\n",
       "    .dataframe tbody tr th {\n",
       "        vertical-align: top;\n",
       "    }\n",
       "\n",
       "    .dataframe thead th {\n",
       "        text-align: right;\n",
       "    }\n",
       "</style>\n",
       "<table border=\"1\" class=\"dataframe\">\n",
       "  <thead>\n",
       "    <tr style=\"text-align: right;\">\n",
       "      <th></th>\n",
       "      <th>payment_sequential</th>\n",
       "      <th>payment_installments</th>\n",
       "      <th>payment_value</th>\n",
       "    </tr>\n",
       "  </thead>\n",
       "  <tbody>\n",
       "    <tr>\n",
       "      <th>count</th>\n",
       "      <td>103886.000000</td>\n",
       "      <td>103886.000000</td>\n",
       "      <td>103886.000000</td>\n",
       "    </tr>\n",
       "    <tr>\n",
       "      <th>mean</th>\n",
       "      <td>1.092679</td>\n",
       "      <td>2.853349</td>\n",
       "      <td>154.100380</td>\n",
       "    </tr>\n",
       "    <tr>\n",
       "      <th>std</th>\n",
       "      <td>0.706584</td>\n",
       "      <td>2.687051</td>\n",
       "      <td>217.494064</td>\n",
       "    </tr>\n",
       "    <tr>\n",
       "      <th>min</th>\n",
       "      <td>1.000000</td>\n",
       "      <td>0.000000</td>\n",
       "      <td>0.000000</td>\n",
       "    </tr>\n",
       "    <tr>\n",
       "      <th>25%</th>\n",
       "      <td>1.000000</td>\n",
       "      <td>1.000000</td>\n",
       "      <td>56.790000</td>\n",
       "    </tr>\n",
       "    <tr>\n",
       "      <th>50%</th>\n",
       "      <td>1.000000</td>\n",
       "      <td>1.000000</td>\n",
       "      <td>100.000000</td>\n",
       "    </tr>\n",
       "    <tr>\n",
       "      <th>75%</th>\n",
       "      <td>1.000000</td>\n",
       "      <td>4.000000</td>\n",
       "      <td>171.837500</td>\n",
       "    </tr>\n",
       "    <tr>\n",
       "      <th>max</th>\n",
       "      <td>29.000000</td>\n",
       "      <td>24.000000</td>\n",
       "      <td>13664.080000</td>\n",
       "    </tr>\n",
       "  </tbody>\n",
       "</table>\n",
       "</div>"
      ],
      "text/plain": [
       "       payment_sequential  payment_installments  payment_value\n",
       "count       103886.000000         103886.000000  103886.000000\n",
       "mean             1.092679              2.853349     154.100380\n",
       "std              0.706584              2.687051     217.494064\n",
       "min              1.000000              0.000000       0.000000\n",
       "25%              1.000000              1.000000      56.790000\n",
       "50%              1.000000              1.000000     100.000000\n",
       "75%              1.000000              4.000000     171.837500\n",
       "max             29.000000             24.000000   13664.080000"
      ]
     },
     "execution_count": 18,
     "metadata": {},
     "output_type": "execute_result"
    }
   ],
   "source": [
    "payments.describe()"
   ]
  },
  {
   "cell_type": "code",
   "execution_count": 19,
   "id": "af47a9d6",
   "metadata": {
    "execution": {
     "iopub.execute_input": "2022-10-01T09:18:18.628681Z",
     "iopub.status.busy": "2022-10-01T09:18:18.628252Z",
     "iopub.status.idle": "2022-10-01T09:18:18.725186Z",
     "shell.execute_reply": "2022-10-01T09:18:18.724126Z"
    },
    "papermill": {
     "duration": 0.118776,
     "end_time": "2022-10-01T09:18:18.727746",
     "exception": false,
     "start_time": "2022-10-01T09:18:18.608970",
     "status": "completed"
    },
    "tags": []
   },
   "outputs": [
    {
     "data": {
      "text/html": [
       "<div>\n",
       "<style scoped>\n",
       "    .dataframe tbody tr th:only-of-type {\n",
       "        vertical-align: middle;\n",
       "    }\n",
       "\n",
       "    .dataframe tbody tr th {\n",
       "        vertical-align: top;\n",
       "    }\n",
       "\n",
       "    .dataframe thead th {\n",
       "        text-align: right;\n",
       "    }\n",
       "</style>\n",
       "<table border=\"1\" class=\"dataframe\">\n",
       "  <thead>\n",
       "    <tr style=\"text-align: right;\">\n",
       "      <th></th>\n",
       "      <th>order_id</th>\n",
       "      <th>payment_type</th>\n",
       "    </tr>\n",
       "  </thead>\n",
       "  <tbody>\n",
       "    <tr>\n",
       "      <th>count</th>\n",
       "      <td>103886</td>\n",
       "      <td>103886</td>\n",
       "    </tr>\n",
       "    <tr>\n",
       "      <th>unique</th>\n",
       "      <td>99440</td>\n",
       "      <td>5</td>\n",
       "    </tr>\n",
       "    <tr>\n",
       "      <th>top</th>\n",
       "      <td>fa65dad1b0e818e3ccc5cb0e39231352</td>\n",
       "      <td>credit_card</td>\n",
       "    </tr>\n",
       "    <tr>\n",
       "      <th>freq</th>\n",
       "      <td>29</td>\n",
       "      <td>76795</td>\n",
       "    </tr>\n",
       "  </tbody>\n",
       "</table>\n",
       "</div>"
      ],
      "text/plain": [
       "                                order_id payment_type\n",
       "count                             103886       103886\n",
       "unique                             99440            5\n",
       "top     fa65dad1b0e818e3ccc5cb0e39231352  credit_card\n",
       "freq                                  29        76795"
      ]
     },
     "execution_count": 19,
     "metadata": {},
     "output_type": "execute_result"
    }
   ],
   "source": [
    "payments.describe(include=object)"
   ]
  },
  {
   "cell_type": "code",
   "execution_count": 20,
   "id": "24234e96",
   "metadata": {
    "execution": {
     "iopub.execute_input": "2022-10-01T09:18:18.766063Z",
     "iopub.status.busy": "2022-10-01T09:18:18.765444Z",
     "iopub.status.idle": "2022-10-01T09:18:18.784881Z",
     "shell.execute_reply": "2022-10-01T09:18:18.783779Z"
    },
    "papermill": {
     "duration": 0.041465,
     "end_time": "2022-10-01T09:18:18.787467",
     "exception": false,
     "start_time": "2022-10-01T09:18:18.746002",
     "status": "completed"
    },
    "tags": []
   },
   "outputs": [
    {
     "data": {
      "text/plain": [
       "order_id                0\n",
       "payment_sequential      0\n",
       "payment_type            0\n",
       "payment_installments    0\n",
       "payment_value           0\n",
       "dtype: int64"
      ]
     },
     "execution_count": 20,
     "metadata": {},
     "output_type": "execute_result"
    }
   ],
   "source": [
    "payments.isna().sum()"
   ]
  },
  {
   "cell_type": "code",
   "execution_count": 21,
   "id": "5c4d7acb",
   "metadata": {
    "execution": {
     "iopub.execute_input": "2022-10-01T09:18:18.826062Z",
     "iopub.status.busy": "2022-10-01T09:18:18.825249Z",
     "iopub.status.idle": "2022-10-01T09:18:18.839176Z",
     "shell.execute_reply": "2022-10-01T09:18:18.838170Z"
    },
    "papermill": {
     "duration": 0.035453,
     "end_time": "2022-10-01T09:18:18.841366",
     "exception": false,
     "start_time": "2022-10-01T09:18:18.805913",
     "status": "completed"
    },
    "tags": []
   },
   "outputs": [
    {
     "data": {
      "text/html": [
       "<div>\n",
       "<style scoped>\n",
       "    .dataframe tbody tr th:only-of-type {\n",
       "        vertical-align: middle;\n",
       "    }\n",
       "\n",
       "    .dataframe tbody tr th {\n",
       "        vertical-align: top;\n",
       "    }\n",
       "\n",
       "    .dataframe thead th {\n",
       "        text-align: right;\n",
       "    }\n",
       "</style>\n",
       "<table border=\"1\" class=\"dataframe\">\n",
       "  <thead>\n",
       "    <tr style=\"text-align: right;\">\n",
       "      <th></th>\n",
       "      <th>review_id</th>\n",
       "      <th>order_id</th>\n",
       "      <th>review_score</th>\n",
       "      <th>review_comment_title</th>\n",
       "      <th>review_comment_message</th>\n",
       "      <th>review_creation_date</th>\n",
       "      <th>review_answer_timestamp</th>\n",
       "    </tr>\n",
       "  </thead>\n",
       "  <tbody>\n",
       "    <tr>\n",
       "      <th>0</th>\n",
       "      <td>7bc2406110b926393aa56f80a40eba40</td>\n",
       "      <td>73fc7af87114b39712e6da79b0a377eb</td>\n",
       "      <td>4</td>\n",
       "      <td>NaN</td>\n",
       "      <td>NaN</td>\n",
       "      <td>2018-01-18 00:00:00</td>\n",
       "      <td>2018-01-18 21:46:59</td>\n",
       "    </tr>\n",
       "    <tr>\n",
       "      <th>1</th>\n",
       "      <td>80e641a11e56f04c1ad469d5645fdfde</td>\n",
       "      <td>a548910a1c6147796b98fdf73dbeba33</td>\n",
       "      <td>5</td>\n",
       "      <td>NaN</td>\n",
       "      <td>NaN</td>\n",
       "      <td>2018-03-10 00:00:00</td>\n",
       "      <td>2018-03-11 03:05:13</td>\n",
       "    </tr>\n",
       "    <tr>\n",
       "      <th>2</th>\n",
       "      <td>228ce5500dc1d8e020d8d1322874b6f0</td>\n",
       "      <td>f9e4b658b201a9f2ecdecbb34bed034b</td>\n",
       "      <td>5</td>\n",
       "      <td>NaN</td>\n",
       "      <td>NaN</td>\n",
       "      <td>2018-02-17 00:00:00</td>\n",
       "      <td>2018-02-18 14:36:24</td>\n",
       "    </tr>\n",
       "    <tr>\n",
       "      <th>3</th>\n",
       "      <td>e64fb393e7b32834bb789ff8bb30750e</td>\n",
       "      <td>658677c97b385a9be170737859d3511b</td>\n",
       "      <td>5</td>\n",
       "      <td>NaN</td>\n",
       "      <td>Recebi bem antes do prazo estipulado.</td>\n",
       "      <td>2017-04-21 00:00:00</td>\n",
       "      <td>2017-04-21 22:02:06</td>\n",
       "    </tr>\n",
       "    <tr>\n",
       "      <th>4</th>\n",
       "      <td>f7c4243c7fe1938f181bec41a392bdeb</td>\n",
       "      <td>8e6bfb81e283fa7e4f11123a3fb894f1</td>\n",
       "      <td>5</td>\n",
       "      <td>NaN</td>\n",
       "      <td>Parabéns lojas lannister adorei comprar pela I...</td>\n",
       "      <td>2018-03-01 00:00:00</td>\n",
       "      <td>2018-03-02 10:26:53</td>\n",
       "    </tr>\n",
       "  </tbody>\n",
       "</table>\n",
       "</div>"
      ],
      "text/plain": [
       "                          review_id                          order_id  \\\n",
       "0  7bc2406110b926393aa56f80a40eba40  73fc7af87114b39712e6da79b0a377eb   \n",
       "1  80e641a11e56f04c1ad469d5645fdfde  a548910a1c6147796b98fdf73dbeba33   \n",
       "2  228ce5500dc1d8e020d8d1322874b6f0  f9e4b658b201a9f2ecdecbb34bed034b   \n",
       "3  e64fb393e7b32834bb789ff8bb30750e  658677c97b385a9be170737859d3511b   \n",
       "4  f7c4243c7fe1938f181bec41a392bdeb  8e6bfb81e283fa7e4f11123a3fb894f1   \n",
       "\n",
       "   review_score review_comment_title  \\\n",
       "0             4                  NaN   \n",
       "1             5                  NaN   \n",
       "2             5                  NaN   \n",
       "3             5                  NaN   \n",
       "4             5                  NaN   \n",
       "\n",
       "                              review_comment_message review_creation_date  \\\n",
       "0                                                NaN  2018-01-18 00:00:00   \n",
       "1                                                NaN  2018-03-10 00:00:00   \n",
       "2                                                NaN  2018-02-17 00:00:00   \n",
       "3              Recebi bem antes do prazo estipulado.  2017-04-21 00:00:00   \n",
       "4  Parabéns lojas lannister adorei comprar pela I...  2018-03-01 00:00:00   \n",
       "\n",
       "  review_answer_timestamp  \n",
       "0     2018-01-18 21:46:59  \n",
       "1     2018-03-11 03:05:13  \n",
       "2     2018-02-18 14:36:24  \n",
       "3     2017-04-21 22:02:06  \n",
       "4     2018-03-02 10:26:53  "
      ]
     },
     "execution_count": 21,
     "metadata": {},
     "output_type": "execute_result"
    }
   ],
   "source": [
    "reviews.head()"
   ]
  },
  {
   "cell_type": "code",
   "execution_count": 22,
   "id": "91c95f8d",
   "metadata": {
    "execution": {
     "iopub.execute_input": "2022-10-01T09:18:18.881673Z",
     "iopub.status.busy": "2022-10-01T09:18:18.880510Z",
     "iopub.status.idle": "2022-10-01T09:18:18.920691Z",
     "shell.execute_reply": "2022-10-01T09:18:18.919030Z"
    },
    "papermill": {
     "duration": 0.062879,
     "end_time": "2022-10-01T09:18:18.923301",
     "exception": false,
     "start_time": "2022-10-01T09:18:18.860422",
     "status": "completed"
    },
    "tags": []
   },
   "outputs": [
    {
     "name": "stdout",
     "output_type": "stream",
     "text": [
      "<class 'pandas.core.frame.DataFrame'>\n",
      "RangeIndex: 99224 entries, 0 to 99223\n",
      "Data columns (total 7 columns):\n",
      " #   Column                   Non-Null Count  Dtype \n",
      "---  ------                   --------------  ----- \n",
      " 0   review_id                99224 non-null  object\n",
      " 1   order_id                 99224 non-null  object\n",
      " 2   review_score             99224 non-null  int64 \n",
      " 3   review_comment_title     11568 non-null  object\n",
      " 4   review_comment_message   40977 non-null  object\n",
      " 5   review_creation_date     99224 non-null  object\n",
      " 6   review_answer_timestamp  99224 non-null  object\n",
      "dtypes: int64(1), object(6)\n",
      "memory usage: 5.3+ MB\n"
     ]
    }
   ],
   "source": [
    "reviews.info()"
   ]
  },
  {
   "cell_type": "code",
   "execution_count": 23,
   "id": "9896467f",
   "metadata": {
    "execution": {
     "iopub.execute_input": "2022-10-01T09:18:18.962317Z",
     "iopub.status.busy": "2022-10-01T09:18:18.961929Z",
     "iopub.status.idle": "2022-10-01T09:18:18.979464Z",
     "shell.execute_reply": "2022-10-01T09:18:18.978387Z"
    },
    "papermill": {
     "duration": 0.039932,
     "end_time": "2022-10-01T09:18:18.981867",
     "exception": false,
     "start_time": "2022-10-01T09:18:18.941935",
     "status": "completed"
    },
    "tags": []
   },
   "outputs": [
    {
     "data": {
      "text/html": [
       "<div>\n",
       "<style scoped>\n",
       "    .dataframe tbody tr th:only-of-type {\n",
       "        vertical-align: middle;\n",
       "    }\n",
       "\n",
       "    .dataframe tbody tr th {\n",
       "        vertical-align: top;\n",
       "    }\n",
       "\n",
       "    .dataframe thead th {\n",
       "        text-align: right;\n",
       "    }\n",
       "</style>\n",
       "<table border=\"1\" class=\"dataframe\">\n",
       "  <thead>\n",
       "    <tr style=\"text-align: right;\">\n",
       "      <th></th>\n",
       "      <th>review_score</th>\n",
       "    </tr>\n",
       "  </thead>\n",
       "  <tbody>\n",
       "    <tr>\n",
       "      <th>count</th>\n",
       "      <td>99224.000000</td>\n",
       "    </tr>\n",
       "    <tr>\n",
       "      <th>mean</th>\n",
       "      <td>4.086421</td>\n",
       "    </tr>\n",
       "    <tr>\n",
       "      <th>std</th>\n",
       "      <td>1.347579</td>\n",
       "    </tr>\n",
       "    <tr>\n",
       "      <th>min</th>\n",
       "      <td>1.000000</td>\n",
       "    </tr>\n",
       "    <tr>\n",
       "      <th>25%</th>\n",
       "      <td>4.000000</td>\n",
       "    </tr>\n",
       "    <tr>\n",
       "      <th>50%</th>\n",
       "      <td>5.000000</td>\n",
       "    </tr>\n",
       "    <tr>\n",
       "      <th>75%</th>\n",
       "      <td>5.000000</td>\n",
       "    </tr>\n",
       "    <tr>\n",
       "      <th>max</th>\n",
       "      <td>5.000000</td>\n",
       "    </tr>\n",
       "  </tbody>\n",
       "</table>\n",
       "</div>"
      ],
      "text/plain": [
       "       review_score\n",
       "count  99224.000000\n",
       "mean       4.086421\n",
       "std        1.347579\n",
       "min        1.000000\n",
       "25%        4.000000\n",
       "50%        5.000000\n",
       "75%        5.000000\n",
       "max        5.000000"
      ]
     },
     "execution_count": 23,
     "metadata": {},
     "output_type": "execute_result"
    }
   ],
   "source": [
    "reviews.describe()"
   ]
  },
  {
   "cell_type": "code",
   "execution_count": 24,
   "id": "7dcfa2bb",
   "metadata": {
    "execution": {
     "iopub.execute_input": "2022-10-01T09:18:19.021431Z",
     "iopub.status.busy": "2022-10-01T09:18:19.020714Z",
     "iopub.status.idle": "2022-10-01T09:18:19.169435Z",
     "shell.execute_reply": "2022-10-01T09:18:19.168250Z"
    },
    "papermill": {
     "duration": 0.171546,
     "end_time": "2022-10-01T09:18:19.172189",
     "exception": false,
     "start_time": "2022-10-01T09:18:19.000643",
     "status": "completed"
    },
    "tags": []
   },
   "outputs": [
    {
     "data": {
      "text/html": [
       "<div>\n",
       "<style scoped>\n",
       "    .dataframe tbody tr th:only-of-type {\n",
       "        vertical-align: middle;\n",
       "    }\n",
       "\n",
       "    .dataframe tbody tr th {\n",
       "        vertical-align: top;\n",
       "    }\n",
       "\n",
       "    .dataframe thead th {\n",
       "        text-align: right;\n",
       "    }\n",
       "</style>\n",
       "<table border=\"1\" class=\"dataframe\">\n",
       "  <thead>\n",
       "    <tr style=\"text-align: right;\">\n",
       "      <th></th>\n",
       "      <th>review_comment_title</th>\n",
       "      <th>review_comment_message</th>\n",
       "      <th>review_creation_date</th>\n",
       "      <th>review_answer_timestamp</th>\n",
       "    </tr>\n",
       "  </thead>\n",
       "  <tbody>\n",
       "    <tr>\n",
       "      <th>count</th>\n",
       "      <td>11568</td>\n",
       "      <td>40977</td>\n",
       "      <td>99224</td>\n",
       "      <td>99224</td>\n",
       "    </tr>\n",
       "    <tr>\n",
       "      <th>unique</th>\n",
       "      <td>4527</td>\n",
       "      <td>36159</td>\n",
       "      <td>636</td>\n",
       "      <td>98248</td>\n",
       "    </tr>\n",
       "    <tr>\n",
       "      <th>top</th>\n",
       "      <td>Recomendo</td>\n",
       "      <td>Muito bom</td>\n",
       "      <td>2017-12-19 00:00:00</td>\n",
       "      <td>2017-06-15 23:21:05</td>\n",
       "    </tr>\n",
       "    <tr>\n",
       "      <th>freq</th>\n",
       "      <td>423</td>\n",
       "      <td>230</td>\n",
       "      <td>463</td>\n",
       "      <td>4</td>\n",
       "    </tr>\n",
       "  </tbody>\n",
       "</table>\n",
       "</div>"
      ],
      "text/plain": [
       "       review_comment_title review_comment_message review_creation_date  \\\n",
       "count                 11568                  40977                99224   \n",
       "unique                 4527                  36159                  636   \n",
       "top               Recomendo              Muito bom  2017-12-19 00:00:00   \n",
       "freq                    423                    230                  463   \n",
       "\n",
       "       review_answer_timestamp  \n",
       "count                    99224  \n",
       "unique                   98248  \n",
       "top        2017-06-15 23:21:05  \n",
       "freq                         4  "
      ]
     },
     "execution_count": 24,
     "metadata": {},
     "output_type": "execute_result"
    }
   ],
   "source": [
    "reviews.iloc[:,2:].describe(include=object)"
   ]
  },
  {
   "cell_type": "code",
   "execution_count": 25,
   "id": "46864c9d",
   "metadata": {
    "execution": {
     "iopub.execute_input": "2022-10-01T09:18:19.213007Z",
     "iopub.status.busy": "2022-10-01T09:18:19.211781Z",
     "iopub.status.idle": "2022-10-01T09:18:19.249237Z",
     "shell.execute_reply": "2022-10-01T09:18:19.248044Z"
    },
    "papermill": {
     "duration": 0.060748,
     "end_time": "2022-10-01T09:18:19.252021",
     "exception": false,
     "start_time": "2022-10-01T09:18:19.191273",
     "status": "completed"
    },
    "tags": []
   },
   "outputs": [
    {
     "data": {
      "text/plain": [
       "review_id                      0\n",
       "order_id                       0\n",
       "review_score                   0\n",
       "review_comment_title       87656\n",
       "review_comment_message     58247\n",
       "review_creation_date           0\n",
       "review_answer_timestamp        0\n",
       "dtype: int64"
      ]
     },
     "execution_count": 25,
     "metadata": {},
     "output_type": "execute_result"
    }
   ],
   "source": [
    "reviews.isna().sum()"
   ]
  },
  {
   "cell_type": "code",
   "execution_count": 26,
   "id": "dd2b8da5",
   "metadata": {
    "execution": {
     "iopub.execute_input": "2022-10-01T09:18:19.292779Z",
     "iopub.status.busy": "2022-10-01T09:18:19.291982Z",
     "iopub.status.idle": "2022-10-01T09:18:19.307032Z",
     "shell.execute_reply": "2022-10-01T09:18:19.305637Z"
    },
    "papermill": {
     "duration": 0.038181,
     "end_time": "2022-10-01T09:18:19.309503",
     "exception": false,
     "start_time": "2022-10-01T09:18:19.271322",
     "status": "completed"
    },
    "tags": []
   },
   "outputs": [
    {
     "data": {
      "text/html": [
       "<div>\n",
       "<style scoped>\n",
       "    .dataframe tbody tr th:only-of-type {\n",
       "        vertical-align: middle;\n",
       "    }\n",
       "\n",
       "    .dataframe tbody tr th {\n",
       "        vertical-align: top;\n",
       "    }\n",
       "\n",
       "    .dataframe thead th {\n",
       "        text-align: right;\n",
       "    }\n",
       "</style>\n",
       "<table border=\"1\" class=\"dataframe\">\n",
       "  <thead>\n",
       "    <tr style=\"text-align: right;\">\n",
       "      <th></th>\n",
       "      <th>order_id</th>\n",
       "      <th>customer_id</th>\n",
       "      <th>order_status</th>\n",
       "      <th>order_purchase_timestamp</th>\n",
       "      <th>order_approved_at</th>\n",
       "      <th>order_delivered_carrier_date</th>\n",
       "      <th>order_delivered_customer_date</th>\n",
       "      <th>order_estimated_delivery_date</th>\n",
       "    </tr>\n",
       "  </thead>\n",
       "  <tbody>\n",
       "    <tr>\n",
       "      <th>0</th>\n",
       "      <td>e481f51cbdc54678b7cc49136f2d6af7</td>\n",
       "      <td>9ef432eb6251297304e76186b10a928d</td>\n",
       "      <td>delivered</td>\n",
       "      <td>2017-10-02 10:56:33</td>\n",
       "      <td>2017-10-02 11:07:15</td>\n",
       "      <td>2017-10-04 19:55:00</td>\n",
       "      <td>2017-10-10 21:25:13</td>\n",
       "      <td>2017-10-18 00:00:00</td>\n",
       "    </tr>\n",
       "    <tr>\n",
       "      <th>1</th>\n",
       "      <td>53cdb2fc8bc7dce0b6741e2150273451</td>\n",
       "      <td>b0830fb4747a6c6d20dea0b8c802d7ef</td>\n",
       "      <td>delivered</td>\n",
       "      <td>2018-07-24 20:41:37</td>\n",
       "      <td>2018-07-26 03:24:27</td>\n",
       "      <td>2018-07-26 14:31:00</td>\n",
       "      <td>2018-08-07 15:27:45</td>\n",
       "      <td>2018-08-13 00:00:00</td>\n",
       "    </tr>\n",
       "    <tr>\n",
       "      <th>2</th>\n",
       "      <td>47770eb9100c2d0c44946d9cf07ec65d</td>\n",
       "      <td>41ce2a54c0b03bf3443c3d931a367089</td>\n",
       "      <td>delivered</td>\n",
       "      <td>2018-08-08 08:38:49</td>\n",
       "      <td>2018-08-08 08:55:23</td>\n",
       "      <td>2018-08-08 13:50:00</td>\n",
       "      <td>2018-08-17 18:06:29</td>\n",
       "      <td>2018-09-04 00:00:00</td>\n",
       "    </tr>\n",
       "    <tr>\n",
       "      <th>3</th>\n",
       "      <td>949d5b44dbf5de918fe9c16f97b45f8a</td>\n",
       "      <td>f88197465ea7920adcdbec7375364d82</td>\n",
       "      <td>delivered</td>\n",
       "      <td>2017-11-18 19:28:06</td>\n",
       "      <td>2017-11-18 19:45:59</td>\n",
       "      <td>2017-11-22 13:39:59</td>\n",
       "      <td>2017-12-02 00:28:42</td>\n",
       "      <td>2017-12-15 00:00:00</td>\n",
       "    </tr>\n",
       "    <tr>\n",
       "      <th>4</th>\n",
       "      <td>ad21c59c0840e6cb83a9ceb5573f8159</td>\n",
       "      <td>8ab97904e6daea8866dbdbc4fb7aad2c</td>\n",
       "      <td>delivered</td>\n",
       "      <td>2018-02-13 21:18:39</td>\n",
       "      <td>2018-02-13 22:20:29</td>\n",
       "      <td>2018-02-14 19:46:34</td>\n",
       "      <td>2018-02-16 18:17:02</td>\n",
       "      <td>2018-02-26 00:00:00</td>\n",
       "    </tr>\n",
       "  </tbody>\n",
       "</table>\n",
       "</div>"
      ],
      "text/plain": [
       "                           order_id                       customer_id  \\\n",
       "0  e481f51cbdc54678b7cc49136f2d6af7  9ef432eb6251297304e76186b10a928d   \n",
       "1  53cdb2fc8bc7dce0b6741e2150273451  b0830fb4747a6c6d20dea0b8c802d7ef   \n",
       "2  47770eb9100c2d0c44946d9cf07ec65d  41ce2a54c0b03bf3443c3d931a367089   \n",
       "3  949d5b44dbf5de918fe9c16f97b45f8a  f88197465ea7920adcdbec7375364d82   \n",
       "4  ad21c59c0840e6cb83a9ceb5573f8159  8ab97904e6daea8866dbdbc4fb7aad2c   \n",
       "\n",
       "  order_status order_purchase_timestamp    order_approved_at  \\\n",
       "0    delivered      2017-10-02 10:56:33  2017-10-02 11:07:15   \n",
       "1    delivered      2018-07-24 20:41:37  2018-07-26 03:24:27   \n",
       "2    delivered      2018-08-08 08:38:49  2018-08-08 08:55:23   \n",
       "3    delivered      2017-11-18 19:28:06  2017-11-18 19:45:59   \n",
       "4    delivered      2018-02-13 21:18:39  2018-02-13 22:20:29   \n",
       "\n",
       "  order_delivered_carrier_date order_delivered_customer_date  \\\n",
       "0          2017-10-04 19:55:00           2017-10-10 21:25:13   \n",
       "1          2018-07-26 14:31:00           2018-08-07 15:27:45   \n",
       "2          2018-08-08 13:50:00           2018-08-17 18:06:29   \n",
       "3          2017-11-22 13:39:59           2017-12-02 00:28:42   \n",
       "4          2018-02-14 19:46:34           2018-02-16 18:17:02   \n",
       "\n",
       "  order_estimated_delivery_date  \n",
       "0           2017-10-18 00:00:00  \n",
       "1           2018-08-13 00:00:00  \n",
       "2           2018-09-04 00:00:00  \n",
       "3           2017-12-15 00:00:00  \n",
       "4           2018-02-26 00:00:00  "
      ]
     },
     "execution_count": 26,
     "metadata": {},
     "output_type": "execute_result"
    }
   ],
   "source": [
    "orders.head()"
   ]
  },
  {
   "cell_type": "code",
   "execution_count": 27,
   "id": "8b37e771",
   "metadata": {
    "execution": {
     "iopub.execute_input": "2022-10-01T09:18:19.349943Z",
     "iopub.status.busy": "2022-10-01T09:18:19.349527Z",
     "iopub.status.idle": "2022-10-01T09:18:19.397369Z",
     "shell.execute_reply": "2022-10-01T09:18:19.395823Z"
    },
    "papermill": {
     "duration": 0.071365,
     "end_time": "2022-10-01T09:18:19.400198",
     "exception": false,
     "start_time": "2022-10-01T09:18:19.328833",
     "status": "completed"
    },
    "tags": []
   },
   "outputs": [
    {
     "name": "stdout",
     "output_type": "stream",
     "text": [
      "<class 'pandas.core.frame.DataFrame'>\n",
      "RangeIndex: 99441 entries, 0 to 99440\n",
      "Data columns (total 8 columns):\n",
      " #   Column                         Non-Null Count  Dtype \n",
      "---  ------                         --------------  ----- \n",
      " 0   order_id                       99441 non-null  object\n",
      " 1   customer_id                    99441 non-null  object\n",
      " 2   order_status                   99441 non-null  object\n",
      " 3   order_purchase_timestamp       99441 non-null  object\n",
      " 4   order_approved_at              99281 non-null  object\n",
      " 5   order_delivered_carrier_date   97658 non-null  object\n",
      " 6   order_delivered_customer_date  96476 non-null  object\n",
      " 7   order_estimated_delivery_date  99441 non-null  object\n",
      "dtypes: object(8)\n",
      "memory usage: 6.1+ MB\n"
     ]
    }
   ],
   "source": [
    "orders.info()"
   ]
  },
  {
   "cell_type": "code",
   "execution_count": 28,
   "id": "2705b735",
   "metadata": {
    "execution": {
     "iopub.execute_input": "2022-10-01T09:18:19.441402Z",
     "iopub.status.busy": "2022-10-01T09:18:19.440635Z",
     "iopub.status.idle": "2022-10-01T09:18:19.728572Z",
     "shell.execute_reply": "2022-10-01T09:18:19.727284Z"
    },
    "papermill": {
     "duration": 0.311456,
     "end_time": "2022-10-01T09:18:19.731168",
     "exception": false,
     "start_time": "2022-10-01T09:18:19.419712",
     "status": "completed"
    },
    "tags": []
   },
   "outputs": [
    {
     "data": {
      "text/html": [
       "<div>\n",
       "<style scoped>\n",
       "    .dataframe tbody tr th:only-of-type {\n",
       "        vertical-align: middle;\n",
       "    }\n",
       "\n",
       "    .dataframe tbody tr th {\n",
       "        vertical-align: top;\n",
       "    }\n",
       "\n",
       "    .dataframe thead th {\n",
       "        text-align: right;\n",
       "    }\n",
       "</style>\n",
       "<table border=\"1\" class=\"dataframe\">\n",
       "  <thead>\n",
       "    <tr style=\"text-align: right;\">\n",
       "      <th></th>\n",
       "      <th>order_status</th>\n",
       "      <th>order_purchase_timestamp</th>\n",
       "      <th>order_approved_at</th>\n",
       "      <th>order_delivered_carrier_date</th>\n",
       "      <th>order_delivered_customer_date</th>\n",
       "      <th>order_estimated_delivery_date</th>\n",
       "    </tr>\n",
       "  </thead>\n",
       "  <tbody>\n",
       "    <tr>\n",
       "      <th>count</th>\n",
       "      <td>99441</td>\n",
       "      <td>99441</td>\n",
       "      <td>99281</td>\n",
       "      <td>97658</td>\n",
       "      <td>96476</td>\n",
       "      <td>99441</td>\n",
       "    </tr>\n",
       "    <tr>\n",
       "      <th>unique</th>\n",
       "      <td>8</td>\n",
       "      <td>98875</td>\n",
       "      <td>90733</td>\n",
       "      <td>81018</td>\n",
       "      <td>95664</td>\n",
       "      <td>459</td>\n",
       "    </tr>\n",
       "    <tr>\n",
       "      <th>top</th>\n",
       "      <td>delivered</td>\n",
       "      <td>2018-04-11 10:48:14</td>\n",
       "      <td>2018-02-27 04:31:10</td>\n",
       "      <td>2018-05-09 15:48:00</td>\n",
       "      <td>2018-05-08 23:38:46</td>\n",
       "      <td>2017-12-20 00:00:00</td>\n",
       "    </tr>\n",
       "    <tr>\n",
       "      <th>freq</th>\n",
       "      <td>96478</td>\n",
       "      <td>3</td>\n",
       "      <td>9</td>\n",
       "      <td>47</td>\n",
       "      <td>3</td>\n",
       "      <td>522</td>\n",
       "    </tr>\n",
       "  </tbody>\n",
       "</table>\n",
       "</div>"
      ],
      "text/plain": [
       "       order_status order_purchase_timestamp    order_approved_at  \\\n",
       "count         99441                    99441                99281   \n",
       "unique            8                    98875                90733   \n",
       "top       delivered      2018-04-11 10:48:14  2018-02-27 04:31:10   \n",
       "freq          96478                        3                    9   \n",
       "\n",
       "       order_delivered_carrier_date order_delivered_customer_date  \\\n",
       "count                         97658                         96476   \n",
       "unique                        81018                         95664   \n",
       "top             2018-05-09 15:48:00           2018-05-08 23:38:46   \n",
       "freq                             47                             3   \n",
       "\n",
       "       order_estimated_delivery_date  \n",
       "count                          99441  \n",
       "unique                           459  \n",
       "top              2017-12-20 00:00:00  \n",
       "freq                             522  "
      ]
     },
     "execution_count": 28,
     "metadata": {},
     "output_type": "execute_result"
    }
   ],
   "source": [
    "orders.iloc[:,2:].describe()"
   ]
  },
  {
   "cell_type": "code",
   "execution_count": 29,
   "id": "7c54deea",
   "metadata": {
    "execution": {
     "iopub.execute_input": "2022-10-01T09:18:19.774790Z",
     "iopub.status.busy": "2022-10-01T09:18:19.773764Z",
     "iopub.status.idle": "2022-10-01T09:18:19.818451Z",
     "shell.execute_reply": "2022-10-01T09:18:19.817133Z"
    },
    "papermill": {
     "duration": 0.06923,
     "end_time": "2022-10-01T09:18:19.821149",
     "exception": false,
     "start_time": "2022-10-01T09:18:19.751919",
     "status": "completed"
    },
    "tags": []
   },
   "outputs": [
    {
     "data": {
      "text/plain": [
       "order_id                            0\n",
       "customer_id                         0\n",
       "order_status                        0\n",
       "order_purchase_timestamp            0\n",
       "order_approved_at                 160\n",
       "order_delivered_carrier_date     1783\n",
       "order_delivered_customer_date    2965\n",
       "order_estimated_delivery_date       0\n",
       "dtype: int64"
      ]
     },
     "execution_count": 29,
     "metadata": {},
     "output_type": "execute_result"
    }
   ],
   "source": [
    "orders.isna().sum()"
   ]
  },
  {
   "cell_type": "code",
   "execution_count": 30,
   "id": "418cea30",
   "metadata": {
    "execution": {
     "iopub.execute_input": "2022-10-01T09:18:19.863596Z",
     "iopub.status.busy": "2022-10-01T09:18:19.862898Z",
     "iopub.status.idle": "2022-10-01T09:18:19.881861Z",
     "shell.execute_reply": "2022-10-01T09:18:19.880337Z"
    },
    "papermill": {
     "duration": 0.043233,
     "end_time": "2022-10-01T09:18:19.884603",
     "exception": false,
     "start_time": "2022-10-01T09:18:19.841370",
     "status": "completed"
    },
    "tags": []
   },
   "outputs": [
    {
     "data": {
      "text/html": [
       "<div>\n",
       "<style scoped>\n",
       "    .dataframe tbody tr th:only-of-type {\n",
       "        vertical-align: middle;\n",
       "    }\n",
       "\n",
       "    .dataframe tbody tr th {\n",
       "        vertical-align: top;\n",
       "    }\n",
       "\n",
       "    .dataframe thead th {\n",
       "        text-align: right;\n",
       "    }\n",
       "</style>\n",
       "<table border=\"1\" class=\"dataframe\">\n",
       "  <thead>\n",
       "    <tr style=\"text-align: right;\">\n",
       "      <th></th>\n",
       "      <th>product_id</th>\n",
       "      <th>product_category_name</th>\n",
       "      <th>product_name_lenght</th>\n",
       "      <th>product_description_lenght</th>\n",
       "      <th>product_photos_qty</th>\n",
       "      <th>product_weight_g</th>\n",
       "      <th>product_length_cm</th>\n",
       "      <th>product_height_cm</th>\n",
       "      <th>product_width_cm</th>\n",
       "    </tr>\n",
       "  </thead>\n",
       "  <tbody>\n",
       "    <tr>\n",
       "      <th>0</th>\n",
       "      <td>1e9e8ef04dbcff4541ed26657ea517e5</td>\n",
       "      <td>perfumaria</td>\n",
       "      <td>40.0</td>\n",
       "      <td>287.0</td>\n",
       "      <td>1.0</td>\n",
       "      <td>225.0</td>\n",
       "      <td>16.0</td>\n",
       "      <td>10.0</td>\n",
       "      <td>14.0</td>\n",
       "    </tr>\n",
       "    <tr>\n",
       "      <th>1</th>\n",
       "      <td>3aa071139cb16b67ca9e5dea641aaa2f</td>\n",
       "      <td>artes</td>\n",
       "      <td>44.0</td>\n",
       "      <td>276.0</td>\n",
       "      <td>1.0</td>\n",
       "      <td>1000.0</td>\n",
       "      <td>30.0</td>\n",
       "      <td>18.0</td>\n",
       "      <td>20.0</td>\n",
       "    </tr>\n",
       "    <tr>\n",
       "      <th>2</th>\n",
       "      <td>96bd76ec8810374ed1b65e291975717f</td>\n",
       "      <td>esporte_lazer</td>\n",
       "      <td>46.0</td>\n",
       "      <td>250.0</td>\n",
       "      <td>1.0</td>\n",
       "      <td>154.0</td>\n",
       "      <td>18.0</td>\n",
       "      <td>9.0</td>\n",
       "      <td>15.0</td>\n",
       "    </tr>\n",
       "    <tr>\n",
       "      <th>3</th>\n",
       "      <td>cef67bcfe19066a932b7673e239eb23d</td>\n",
       "      <td>bebes</td>\n",
       "      <td>27.0</td>\n",
       "      <td>261.0</td>\n",
       "      <td>1.0</td>\n",
       "      <td>371.0</td>\n",
       "      <td>26.0</td>\n",
       "      <td>4.0</td>\n",
       "      <td>26.0</td>\n",
       "    </tr>\n",
       "    <tr>\n",
       "      <th>4</th>\n",
       "      <td>9dc1a7de274444849c219cff195d0b71</td>\n",
       "      <td>utilidades_domesticas</td>\n",
       "      <td>37.0</td>\n",
       "      <td>402.0</td>\n",
       "      <td>4.0</td>\n",
       "      <td>625.0</td>\n",
       "      <td>20.0</td>\n",
       "      <td>17.0</td>\n",
       "      <td>13.0</td>\n",
       "    </tr>\n",
       "  </tbody>\n",
       "</table>\n",
       "</div>"
      ],
      "text/plain": [
       "                         product_id  product_category_name  \\\n",
       "0  1e9e8ef04dbcff4541ed26657ea517e5             perfumaria   \n",
       "1  3aa071139cb16b67ca9e5dea641aaa2f                  artes   \n",
       "2  96bd76ec8810374ed1b65e291975717f          esporte_lazer   \n",
       "3  cef67bcfe19066a932b7673e239eb23d                  bebes   \n",
       "4  9dc1a7de274444849c219cff195d0b71  utilidades_domesticas   \n",
       "\n",
       "   product_name_lenght  product_description_lenght  product_photos_qty  \\\n",
       "0                 40.0                       287.0                 1.0   \n",
       "1                 44.0                       276.0                 1.0   \n",
       "2                 46.0                       250.0                 1.0   \n",
       "3                 27.0                       261.0                 1.0   \n",
       "4                 37.0                       402.0                 4.0   \n",
       "\n",
       "   product_weight_g  product_length_cm  product_height_cm  product_width_cm  \n",
       "0             225.0               16.0               10.0              14.0  \n",
       "1            1000.0               30.0               18.0              20.0  \n",
       "2             154.0               18.0                9.0              15.0  \n",
       "3             371.0               26.0                4.0              26.0  \n",
       "4             625.0               20.0               17.0              13.0  "
      ]
     },
     "execution_count": 30,
     "metadata": {},
     "output_type": "execute_result"
    }
   ],
   "source": [
    "products.head()"
   ]
  },
  {
   "cell_type": "code",
   "execution_count": 31,
   "id": "840459f7",
   "metadata": {
    "execution": {
     "iopub.execute_input": "2022-10-01T09:18:19.927638Z",
     "iopub.status.busy": "2022-10-01T09:18:19.926934Z",
     "iopub.status.idle": "2022-10-01T09:18:19.944522Z",
     "shell.execute_reply": "2022-10-01T09:18:19.942820Z"
    },
    "papermill": {
     "duration": 0.041672,
     "end_time": "2022-10-01T09:18:19.946857",
     "exception": false,
     "start_time": "2022-10-01T09:18:19.905185",
     "status": "completed"
    },
    "tags": []
   },
   "outputs": [
    {
     "name": "stdout",
     "output_type": "stream",
     "text": [
      "<class 'pandas.core.frame.DataFrame'>\n",
      "RangeIndex: 32951 entries, 0 to 32950\n",
      "Data columns (total 9 columns):\n",
      " #   Column                      Non-Null Count  Dtype  \n",
      "---  ------                      --------------  -----  \n",
      " 0   product_id                  32951 non-null  object \n",
      " 1   product_category_name       32341 non-null  object \n",
      " 2   product_name_lenght         32341 non-null  float64\n",
      " 3   product_description_lenght  32341 non-null  float64\n",
      " 4   product_photos_qty          32341 non-null  float64\n",
      " 5   product_weight_g            32949 non-null  float64\n",
      " 6   product_length_cm           32949 non-null  float64\n",
      " 7   product_height_cm           32949 non-null  float64\n",
      " 8   product_width_cm            32949 non-null  float64\n",
      "dtypes: float64(7), object(2)\n",
      "memory usage: 2.3+ MB\n"
     ]
    }
   ],
   "source": [
    "products.info()"
   ]
  },
  {
   "cell_type": "code",
   "execution_count": 32,
   "id": "777f1e66",
   "metadata": {
    "execution": {
     "iopub.execute_input": "2022-10-01T09:18:19.989406Z",
     "iopub.status.busy": "2022-10-01T09:18:19.989018Z",
     "iopub.status.idle": "2022-10-01T09:18:20.034162Z",
     "shell.execute_reply": "2022-10-01T09:18:20.033058Z"
    },
    "papermill": {
     "duration": 0.068983,
     "end_time": "2022-10-01T09:18:20.036669",
     "exception": false,
     "start_time": "2022-10-01T09:18:19.967686",
     "status": "completed"
    },
    "tags": []
   },
   "outputs": [
    {
     "data": {
      "text/html": [
       "<div>\n",
       "<style scoped>\n",
       "    .dataframe tbody tr th:only-of-type {\n",
       "        vertical-align: middle;\n",
       "    }\n",
       "\n",
       "    .dataframe tbody tr th {\n",
       "        vertical-align: top;\n",
       "    }\n",
       "\n",
       "    .dataframe thead th {\n",
       "        text-align: right;\n",
       "    }\n",
       "</style>\n",
       "<table border=\"1\" class=\"dataframe\">\n",
       "  <thead>\n",
       "    <tr style=\"text-align: right;\">\n",
       "      <th></th>\n",
       "      <th>product_name_lenght</th>\n",
       "      <th>product_description_lenght</th>\n",
       "      <th>product_photos_qty</th>\n",
       "      <th>product_weight_g</th>\n",
       "      <th>product_length_cm</th>\n",
       "      <th>product_height_cm</th>\n",
       "      <th>product_width_cm</th>\n",
       "    </tr>\n",
       "  </thead>\n",
       "  <tbody>\n",
       "    <tr>\n",
       "      <th>count</th>\n",
       "      <td>32341.000000</td>\n",
       "      <td>32341.000000</td>\n",
       "      <td>32341.000000</td>\n",
       "      <td>32949.000000</td>\n",
       "      <td>32949.000000</td>\n",
       "      <td>32949.000000</td>\n",
       "      <td>32949.000000</td>\n",
       "    </tr>\n",
       "    <tr>\n",
       "      <th>mean</th>\n",
       "      <td>48.476949</td>\n",
       "      <td>771.495285</td>\n",
       "      <td>2.188986</td>\n",
       "      <td>2276.472488</td>\n",
       "      <td>30.815078</td>\n",
       "      <td>16.937661</td>\n",
       "      <td>23.196728</td>\n",
       "    </tr>\n",
       "    <tr>\n",
       "      <th>std</th>\n",
       "      <td>10.245741</td>\n",
       "      <td>635.115225</td>\n",
       "      <td>1.736766</td>\n",
       "      <td>4282.038731</td>\n",
       "      <td>16.914458</td>\n",
       "      <td>13.637554</td>\n",
       "      <td>12.079047</td>\n",
       "    </tr>\n",
       "    <tr>\n",
       "      <th>min</th>\n",
       "      <td>5.000000</td>\n",
       "      <td>4.000000</td>\n",
       "      <td>1.000000</td>\n",
       "      <td>0.000000</td>\n",
       "      <td>7.000000</td>\n",
       "      <td>2.000000</td>\n",
       "      <td>6.000000</td>\n",
       "    </tr>\n",
       "    <tr>\n",
       "      <th>25%</th>\n",
       "      <td>42.000000</td>\n",
       "      <td>339.000000</td>\n",
       "      <td>1.000000</td>\n",
       "      <td>300.000000</td>\n",
       "      <td>18.000000</td>\n",
       "      <td>8.000000</td>\n",
       "      <td>15.000000</td>\n",
       "    </tr>\n",
       "    <tr>\n",
       "      <th>50%</th>\n",
       "      <td>51.000000</td>\n",
       "      <td>595.000000</td>\n",
       "      <td>1.000000</td>\n",
       "      <td>700.000000</td>\n",
       "      <td>25.000000</td>\n",
       "      <td>13.000000</td>\n",
       "      <td>20.000000</td>\n",
       "    </tr>\n",
       "    <tr>\n",
       "      <th>75%</th>\n",
       "      <td>57.000000</td>\n",
       "      <td>972.000000</td>\n",
       "      <td>3.000000</td>\n",
       "      <td>1900.000000</td>\n",
       "      <td>38.000000</td>\n",
       "      <td>21.000000</td>\n",
       "      <td>30.000000</td>\n",
       "    </tr>\n",
       "    <tr>\n",
       "      <th>max</th>\n",
       "      <td>76.000000</td>\n",
       "      <td>3992.000000</td>\n",
       "      <td>20.000000</td>\n",
       "      <td>40425.000000</td>\n",
       "      <td>105.000000</td>\n",
       "      <td>105.000000</td>\n",
       "      <td>118.000000</td>\n",
       "    </tr>\n",
       "  </tbody>\n",
       "</table>\n",
       "</div>"
      ],
      "text/plain": [
       "       product_name_lenght  product_description_lenght  product_photos_qty  \\\n",
       "count         32341.000000                32341.000000        32341.000000   \n",
       "mean             48.476949                  771.495285            2.188986   \n",
       "std              10.245741                  635.115225            1.736766   \n",
       "min               5.000000                    4.000000            1.000000   \n",
       "25%              42.000000                  339.000000            1.000000   \n",
       "50%              51.000000                  595.000000            1.000000   \n",
       "75%              57.000000                  972.000000            3.000000   \n",
       "max              76.000000                 3992.000000           20.000000   \n",
       "\n",
       "       product_weight_g  product_length_cm  product_height_cm  \\\n",
       "count      32949.000000       32949.000000       32949.000000   \n",
       "mean        2276.472488          30.815078          16.937661   \n",
       "std         4282.038731          16.914458          13.637554   \n",
       "min            0.000000           7.000000           2.000000   \n",
       "25%          300.000000          18.000000           8.000000   \n",
       "50%          700.000000          25.000000          13.000000   \n",
       "75%         1900.000000          38.000000          21.000000   \n",
       "max        40425.000000         105.000000         105.000000   \n",
       "\n",
       "       product_width_cm  \n",
       "count      32949.000000  \n",
       "mean          23.196728  \n",
       "std           12.079047  \n",
       "min            6.000000  \n",
       "25%           15.000000  \n",
       "50%           20.000000  \n",
       "75%           30.000000  \n",
       "max          118.000000  "
      ]
     },
     "execution_count": 32,
     "metadata": {},
     "output_type": "execute_result"
    }
   ],
   "source": [
    "products.describe()"
   ]
  },
  {
   "cell_type": "code",
   "execution_count": 33,
   "id": "efaa1fb3",
   "metadata": {
    "execution": {
     "iopub.execute_input": "2022-10-01T09:18:20.078894Z",
     "iopub.status.busy": "2022-10-01T09:18:20.078458Z",
     "iopub.status.idle": "2022-10-01T09:18:20.096640Z",
     "shell.execute_reply": "2022-10-01T09:18:20.095314Z"
    },
    "papermill": {
     "duration": 0.042162,
     "end_time": "2022-10-01T09:18:20.098911",
     "exception": false,
     "start_time": "2022-10-01T09:18:20.056749",
     "status": "completed"
    },
    "tags": []
   },
   "outputs": [
    {
     "data": {
      "text/html": [
       "<div>\n",
       "<style scoped>\n",
       "    .dataframe tbody tr th:only-of-type {\n",
       "        vertical-align: middle;\n",
       "    }\n",
       "\n",
       "    .dataframe tbody tr th {\n",
       "        vertical-align: top;\n",
       "    }\n",
       "\n",
       "    .dataframe thead th {\n",
       "        text-align: right;\n",
       "    }\n",
       "</style>\n",
       "<table border=\"1\" class=\"dataframe\">\n",
       "  <thead>\n",
       "    <tr style=\"text-align: right;\">\n",
       "      <th></th>\n",
       "      <th>product_category_name</th>\n",
       "    </tr>\n",
       "  </thead>\n",
       "  <tbody>\n",
       "    <tr>\n",
       "      <th>count</th>\n",
       "      <td>32341</td>\n",
       "    </tr>\n",
       "    <tr>\n",
       "      <th>unique</th>\n",
       "      <td>73</td>\n",
       "    </tr>\n",
       "    <tr>\n",
       "      <th>top</th>\n",
       "      <td>cama_mesa_banho</td>\n",
       "    </tr>\n",
       "    <tr>\n",
       "      <th>freq</th>\n",
       "      <td>3029</td>\n",
       "    </tr>\n",
       "  </tbody>\n",
       "</table>\n",
       "</div>"
      ],
      "text/plain": [
       "       product_category_name\n",
       "count                  32341\n",
       "unique                    73\n",
       "top          cama_mesa_banho\n",
       "freq                    3029"
      ]
     },
     "execution_count": 33,
     "metadata": {},
     "output_type": "execute_result"
    }
   ],
   "source": [
    "products.iloc[:,1:].describe(include=object)"
   ]
  },
  {
   "cell_type": "code",
   "execution_count": 34,
   "id": "536c1b51",
   "metadata": {
    "execution": {
     "iopub.execute_input": "2022-10-01T09:18:20.142424Z",
     "iopub.status.busy": "2022-10-01T09:18:20.141797Z",
     "iopub.status.idle": "2022-10-01T09:18:20.154715Z",
     "shell.execute_reply": "2022-10-01T09:18:20.153475Z"
    },
    "papermill": {
     "duration": 0.03776,
     "end_time": "2022-10-01T09:18:20.157152",
     "exception": false,
     "start_time": "2022-10-01T09:18:20.119392",
     "status": "completed"
    },
    "tags": []
   },
   "outputs": [
    {
     "data": {
      "text/plain": [
       "product_id                      0\n",
       "product_category_name         610\n",
       "product_name_lenght           610\n",
       "product_description_lenght    610\n",
       "product_photos_qty            610\n",
       "product_weight_g                2\n",
       "product_length_cm               2\n",
       "product_height_cm               2\n",
       "product_width_cm                2\n",
       "dtype: int64"
      ]
     },
     "execution_count": 34,
     "metadata": {},
     "output_type": "execute_result"
    }
   ],
   "source": [
    "products.isna().sum()"
   ]
  },
  {
   "cell_type": "code",
   "execution_count": 35,
   "id": "11a1ef69",
   "metadata": {
    "execution": {
     "iopub.execute_input": "2022-10-01T09:18:20.200294Z",
     "iopub.status.busy": "2022-10-01T09:18:20.199914Z",
     "iopub.status.idle": "2022-10-01T09:18:20.211305Z",
     "shell.execute_reply": "2022-10-01T09:18:20.210094Z"
    },
    "papermill": {
     "duration": 0.036011,
     "end_time": "2022-10-01T09:18:20.213857",
     "exception": false,
     "start_time": "2022-10-01T09:18:20.177846",
     "status": "completed"
    },
    "tags": []
   },
   "outputs": [
    {
     "data": {
      "text/html": [
       "<div>\n",
       "<style scoped>\n",
       "    .dataframe tbody tr th:only-of-type {\n",
       "        vertical-align: middle;\n",
       "    }\n",
       "\n",
       "    .dataframe tbody tr th {\n",
       "        vertical-align: top;\n",
       "    }\n",
       "\n",
       "    .dataframe thead th {\n",
       "        text-align: right;\n",
       "    }\n",
       "</style>\n",
       "<table border=\"1\" class=\"dataframe\">\n",
       "  <thead>\n",
       "    <tr style=\"text-align: right;\">\n",
       "      <th></th>\n",
       "      <th>seller_id</th>\n",
       "      <th>seller_zip_code_prefix</th>\n",
       "      <th>seller_city</th>\n",
       "      <th>seller_state</th>\n",
       "    </tr>\n",
       "  </thead>\n",
       "  <tbody>\n",
       "    <tr>\n",
       "      <th>0</th>\n",
       "      <td>3442f8959a84dea7ee197c632cb2df15</td>\n",
       "      <td>13023</td>\n",
       "      <td>campinas</td>\n",
       "      <td>SP</td>\n",
       "    </tr>\n",
       "    <tr>\n",
       "      <th>1</th>\n",
       "      <td>d1b65fc7debc3361ea86b5f14c68d2e2</td>\n",
       "      <td>13844</td>\n",
       "      <td>mogi guacu</td>\n",
       "      <td>SP</td>\n",
       "    </tr>\n",
       "    <tr>\n",
       "      <th>2</th>\n",
       "      <td>ce3ad9de960102d0677a81f5d0bb7b2d</td>\n",
       "      <td>20031</td>\n",
       "      <td>rio de janeiro</td>\n",
       "      <td>RJ</td>\n",
       "    </tr>\n",
       "    <tr>\n",
       "      <th>3</th>\n",
       "      <td>c0f3eea2e14555b6faeea3dd58c1b1c3</td>\n",
       "      <td>4195</td>\n",
       "      <td>sao paulo</td>\n",
       "      <td>SP</td>\n",
       "    </tr>\n",
       "    <tr>\n",
       "      <th>4</th>\n",
       "      <td>51a04a8a6bdcb23deccc82b0b80742cf</td>\n",
       "      <td>12914</td>\n",
       "      <td>braganca paulista</td>\n",
       "      <td>SP</td>\n",
       "    </tr>\n",
       "  </tbody>\n",
       "</table>\n",
       "</div>"
      ],
      "text/plain": [
       "                          seller_id  seller_zip_code_prefix  \\\n",
       "0  3442f8959a84dea7ee197c632cb2df15                   13023   \n",
       "1  d1b65fc7debc3361ea86b5f14c68d2e2                   13844   \n",
       "2  ce3ad9de960102d0677a81f5d0bb7b2d                   20031   \n",
       "3  c0f3eea2e14555b6faeea3dd58c1b1c3                    4195   \n",
       "4  51a04a8a6bdcb23deccc82b0b80742cf                   12914   \n",
       "\n",
       "         seller_city seller_state  \n",
       "0           campinas           SP  \n",
       "1         mogi guacu           SP  \n",
       "2     rio de janeiro           RJ  \n",
       "3          sao paulo           SP  \n",
       "4  braganca paulista           SP  "
      ]
     },
     "execution_count": 35,
     "metadata": {},
     "output_type": "execute_result"
    }
   ],
   "source": [
    "sellers.head()"
   ]
  },
  {
   "cell_type": "code",
   "execution_count": 36,
   "id": "848067f1",
   "metadata": {
    "execution": {
     "iopub.execute_input": "2022-10-01T09:18:20.256773Z",
     "iopub.status.busy": "2022-10-01T09:18:20.256352Z",
     "iopub.status.idle": "2022-10-01T09:18:20.268755Z",
     "shell.execute_reply": "2022-10-01T09:18:20.267650Z"
    },
    "papermill": {
     "duration": 0.036795,
     "end_time": "2022-10-01T09:18:20.271272",
     "exception": false,
     "start_time": "2022-10-01T09:18:20.234477",
     "status": "completed"
    },
    "tags": []
   },
   "outputs": [
    {
     "name": "stdout",
     "output_type": "stream",
     "text": [
      "<class 'pandas.core.frame.DataFrame'>\n",
      "RangeIndex: 3095 entries, 0 to 3094\n",
      "Data columns (total 4 columns):\n",
      " #   Column                  Non-Null Count  Dtype \n",
      "---  ------                  --------------  ----- \n",
      " 0   seller_id               3095 non-null   object\n",
      " 1   seller_zip_code_prefix  3095 non-null   int64 \n",
      " 2   seller_city             3095 non-null   object\n",
      " 3   seller_state            3095 non-null   object\n",
      "dtypes: int64(1), object(3)\n",
      "memory usage: 96.8+ KB\n"
     ]
    }
   ],
   "source": [
    "sellers.info()"
   ]
  },
  {
   "cell_type": "code",
   "execution_count": 37,
   "id": "2f3a89cb",
   "metadata": {
    "execution": {
     "iopub.execute_input": "2022-10-01T09:18:20.314286Z",
     "iopub.status.busy": "2022-10-01T09:18:20.313897Z",
     "iopub.status.idle": "2022-10-01T09:18:20.330800Z",
     "shell.execute_reply": "2022-10-01T09:18:20.329772Z"
    },
    "papermill": {
     "duration": 0.041208,
     "end_time": "2022-10-01T09:18:20.332991",
     "exception": false,
     "start_time": "2022-10-01T09:18:20.291783",
     "status": "completed"
    },
    "tags": []
   },
   "outputs": [
    {
     "data": {
      "text/html": [
       "<div>\n",
       "<style scoped>\n",
       "    .dataframe tbody tr th:only-of-type {\n",
       "        vertical-align: middle;\n",
       "    }\n",
       "\n",
       "    .dataframe tbody tr th {\n",
       "        vertical-align: top;\n",
       "    }\n",
       "\n",
       "    .dataframe thead th {\n",
       "        text-align: right;\n",
       "    }\n",
       "</style>\n",
       "<table border=\"1\" class=\"dataframe\">\n",
       "  <thead>\n",
       "    <tr style=\"text-align: right;\">\n",
       "      <th></th>\n",
       "      <th>seller_city</th>\n",
       "      <th>seller_state</th>\n",
       "    </tr>\n",
       "  </thead>\n",
       "  <tbody>\n",
       "    <tr>\n",
       "      <th>count</th>\n",
       "      <td>3095</td>\n",
       "      <td>3095</td>\n",
       "    </tr>\n",
       "    <tr>\n",
       "      <th>unique</th>\n",
       "      <td>611</td>\n",
       "      <td>23</td>\n",
       "    </tr>\n",
       "    <tr>\n",
       "      <th>top</th>\n",
       "      <td>sao paulo</td>\n",
       "      <td>SP</td>\n",
       "    </tr>\n",
       "    <tr>\n",
       "      <th>freq</th>\n",
       "      <td>694</td>\n",
       "      <td>1849</td>\n",
       "    </tr>\n",
       "  </tbody>\n",
       "</table>\n",
       "</div>"
      ],
      "text/plain": [
       "       seller_city seller_state\n",
       "count         3095         3095\n",
       "unique         611           23\n",
       "top      sao paulo           SP\n",
       "freq           694         1849"
      ]
     },
     "execution_count": 37,
     "metadata": {},
     "output_type": "execute_result"
    }
   ],
   "source": [
    "sellers.iloc[:,2:].describe()"
   ]
  },
  {
   "cell_type": "code",
   "execution_count": 38,
   "id": "bdd8b885",
   "metadata": {
    "execution": {
     "iopub.execute_input": "2022-10-01T09:18:20.376388Z",
     "iopub.status.busy": "2022-10-01T09:18:20.375967Z",
     "iopub.status.idle": "2022-10-01T09:18:20.386358Z",
     "shell.execute_reply": "2022-10-01T09:18:20.385124Z"
    },
    "papermill": {
     "duration": 0.034876,
     "end_time": "2022-10-01T09:18:20.388703",
     "exception": false,
     "start_time": "2022-10-01T09:18:20.353827",
     "status": "completed"
    },
    "tags": []
   },
   "outputs": [
    {
     "data": {
      "text/plain": [
       "seller_id                 0\n",
       "seller_zip_code_prefix    0\n",
       "seller_city               0\n",
       "seller_state              0\n",
       "dtype: int64"
      ]
     },
     "execution_count": 38,
     "metadata": {},
     "output_type": "execute_result"
    }
   ],
   "source": [
    "sellers.isna().sum()"
   ]
  },
  {
   "cell_type": "code",
   "execution_count": 39,
   "id": "e7855c30",
   "metadata": {
    "execution": {
     "iopub.execute_input": "2022-10-01T09:18:20.432433Z",
     "iopub.status.busy": "2022-10-01T09:18:20.432024Z",
     "iopub.status.idle": "2022-10-01T09:18:20.442869Z",
     "shell.execute_reply": "2022-10-01T09:18:20.441713Z"
    },
    "papermill": {
     "duration": 0.035371,
     "end_time": "2022-10-01T09:18:20.445012",
     "exception": false,
     "start_time": "2022-10-01T09:18:20.409641",
     "status": "completed"
    },
    "tags": []
   },
   "outputs": [
    {
     "data": {
      "text/html": [
       "<div>\n",
       "<style scoped>\n",
       "    .dataframe tbody tr th:only-of-type {\n",
       "        vertical-align: middle;\n",
       "    }\n",
       "\n",
       "    .dataframe tbody tr th {\n",
       "        vertical-align: top;\n",
       "    }\n",
       "\n",
       "    .dataframe thead th {\n",
       "        text-align: right;\n",
       "    }\n",
       "</style>\n",
       "<table border=\"1\" class=\"dataframe\">\n",
       "  <thead>\n",
       "    <tr style=\"text-align: right;\">\n",
       "      <th></th>\n",
       "      <th>product_category_name</th>\n",
       "      <th>product_category_name_english</th>\n",
       "    </tr>\n",
       "  </thead>\n",
       "  <tbody>\n",
       "    <tr>\n",
       "      <th>0</th>\n",
       "      <td>beleza_saude</td>\n",
       "      <td>health_beauty</td>\n",
       "    </tr>\n",
       "    <tr>\n",
       "      <th>1</th>\n",
       "      <td>informatica_acessorios</td>\n",
       "      <td>computers_accessories</td>\n",
       "    </tr>\n",
       "    <tr>\n",
       "      <th>2</th>\n",
       "      <td>automotivo</td>\n",
       "      <td>auto</td>\n",
       "    </tr>\n",
       "    <tr>\n",
       "      <th>3</th>\n",
       "      <td>cama_mesa_banho</td>\n",
       "      <td>bed_bath_table</td>\n",
       "    </tr>\n",
       "    <tr>\n",
       "      <th>4</th>\n",
       "      <td>moveis_decoracao</td>\n",
       "      <td>furniture_decor</td>\n",
       "    </tr>\n",
       "  </tbody>\n",
       "</table>\n",
       "</div>"
      ],
      "text/plain": [
       "    product_category_name product_category_name_english\n",
       "0            beleza_saude                 health_beauty\n",
       "1  informatica_acessorios         computers_accessories\n",
       "2              automotivo                          auto\n",
       "3         cama_mesa_banho                bed_bath_table\n",
       "4        moveis_decoracao               furniture_decor"
      ]
     },
     "execution_count": 39,
     "metadata": {},
     "output_type": "execute_result"
    }
   ],
   "source": [
    "cat.head()"
   ]
  },
  {
   "cell_type": "code",
   "execution_count": 40,
   "id": "bf970cb2",
   "metadata": {
    "execution": {
     "iopub.execute_input": "2022-10-01T09:18:20.501432Z",
     "iopub.status.busy": "2022-10-01T09:18:20.500998Z",
     "iopub.status.idle": "2022-10-01T09:18:20.516282Z",
     "shell.execute_reply": "2022-10-01T09:18:20.515179Z"
    },
    "papermill": {
     "duration": 0.048715,
     "end_time": "2022-10-01T09:18:20.519001",
     "exception": false,
     "start_time": "2022-10-01T09:18:20.470286",
     "status": "completed"
    },
    "tags": []
   },
   "outputs": [
    {
     "name": "stdout",
     "output_type": "stream",
     "text": [
      "<class 'pandas.core.frame.DataFrame'>\n",
      "RangeIndex: 71 entries, 0 to 70\n",
      "Data columns (total 2 columns):\n",
      " #   Column                         Non-Null Count  Dtype \n",
      "---  ------                         --------------  ----- \n",
      " 0   product_category_name          71 non-null     object\n",
      " 1   product_category_name_english  71 non-null     object\n",
      "dtypes: object(2)\n",
      "memory usage: 1.2+ KB\n"
     ]
    }
   ],
   "source": [
    "cat.info()"
   ]
  },
  {
   "cell_type": "code",
   "execution_count": 41,
   "id": "b740f267",
   "metadata": {
    "execution": {
     "iopub.execute_input": "2022-10-01T09:18:20.585188Z",
     "iopub.status.busy": "2022-10-01T09:18:20.584040Z",
     "iopub.status.idle": "2022-10-01T09:18:20.610996Z",
     "shell.execute_reply": "2022-10-01T09:18:20.609520Z"
    },
    "papermill": {
     "duration": 0.062615,
     "end_time": "2022-10-01T09:18:20.613521",
     "exception": false,
     "start_time": "2022-10-01T09:18:20.550906",
     "status": "completed"
    },
    "tags": []
   },
   "outputs": [
    {
     "data": {
      "text/html": [
       "<div>\n",
       "<style scoped>\n",
       "    .dataframe tbody tr th:only-of-type {\n",
       "        vertical-align: middle;\n",
       "    }\n",
       "\n",
       "    .dataframe tbody tr th {\n",
       "        vertical-align: top;\n",
       "    }\n",
       "\n",
       "    .dataframe thead th {\n",
       "        text-align: right;\n",
       "    }\n",
       "</style>\n",
       "<table border=\"1\" class=\"dataframe\">\n",
       "  <thead>\n",
       "    <tr style=\"text-align: right;\">\n",
       "      <th></th>\n",
       "      <th>product_category_name</th>\n",
       "      <th>product_category_name_english</th>\n",
       "    </tr>\n",
       "  </thead>\n",
       "  <tbody>\n",
       "    <tr>\n",
       "      <th>count</th>\n",
       "      <td>71</td>\n",
       "      <td>71</td>\n",
       "    </tr>\n",
       "    <tr>\n",
       "      <th>unique</th>\n",
       "      <td>71</td>\n",
       "      <td>71</td>\n",
       "    </tr>\n",
       "    <tr>\n",
       "      <th>top</th>\n",
       "      <td>beleza_saude</td>\n",
       "      <td>health_beauty</td>\n",
       "    </tr>\n",
       "    <tr>\n",
       "      <th>freq</th>\n",
       "      <td>1</td>\n",
       "      <td>1</td>\n",
       "    </tr>\n",
       "  </tbody>\n",
       "</table>\n",
       "</div>"
      ],
      "text/plain": [
       "       product_category_name product_category_name_english\n",
       "count                     71                            71\n",
       "unique                    71                            71\n",
       "top             beleza_saude                 health_beauty\n",
       "freq                       1                             1"
      ]
     },
     "execution_count": 41,
     "metadata": {},
     "output_type": "execute_result"
    }
   ],
   "source": [
    "cat.describe(include=object)"
   ]
  },
  {
   "cell_type": "code",
   "execution_count": 42,
   "id": "80424cf5",
   "metadata": {
    "execution": {
     "iopub.execute_input": "2022-10-01T09:18:20.675085Z",
     "iopub.status.busy": "2022-10-01T09:18:20.674260Z",
     "iopub.status.idle": "2022-10-01T09:18:20.682874Z",
     "shell.execute_reply": "2022-10-01T09:18:20.681775Z"
    },
    "papermill": {
     "duration": 0.044172,
     "end_time": "2022-10-01T09:18:20.685444",
     "exception": false,
     "start_time": "2022-10-01T09:18:20.641272",
     "status": "completed"
    },
    "tags": []
   },
   "outputs": [
    {
     "data": {
      "text/plain": [
       "product_category_name            0\n",
       "product_category_name_english    0\n",
       "dtype: int64"
      ]
     },
     "execution_count": 42,
     "metadata": {},
     "output_type": "execute_result"
    }
   ],
   "source": [
    "cat.isna().sum()"
   ]
  },
  {
   "cell_type": "markdown",
   "id": "b2cc1c7f",
   "metadata": {
    "papermill": {
     "duration": 0.022242,
     "end_time": "2022-10-01T09:18:20.732929",
     "exception": false,
     "start_time": "2022-10-01T09:18:20.710687",
     "status": "completed"
    },
    "tags": []
   },
   "source": [
    "# 2.1 Perbandingan Customer Repurchased vs Tidak"
   ]
  },
  {
   "cell_type": "code",
   "execution_count": 43,
   "id": "5bb5aba7",
   "metadata": {
    "execution": {
     "iopub.execute_input": "2022-10-01T09:18:20.793693Z",
     "iopub.status.busy": "2022-10-01T09:18:20.792951Z",
     "iopub.status.idle": "2022-10-01T09:18:21.033813Z",
     "shell.execute_reply": "2022-10-01T09:18:21.032610Z"
    },
    "papermill": {
     "duration": 0.278536,
     "end_time": "2022-10-01T09:18:21.037738",
     "exception": false,
     "start_time": "2022-10-01T09:18:20.759202",
     "status": "completed"
    },
    "tags": []
   },
   "outputs": [
    {
     "data": {
      "image/png": "[encoded data removed]",
      "text/plain": [
       "<Figure size 432x288 with 1 Axes>"
      ]
     },
     "metadata": {},
     "output_type": "display_data"
    }
   ],
   "source": [
    "# menghitung total customer asli\n",
    "unique = cust['customer_unique_id'].value_counts()\n",
    "\n",
    "# menghitung total customer asli yang melakukan repurchase\n",
    "repurchase = unique[unique > 1]\n",
    "\n",
    "# menghitung total customer asli yang melakukan tidak repurchase\n",
    "buy_one = unique[unique == 1]\n",
    "\n",
    "# memplot perbandingan customer yang melakukan repurchased dengan yang tidak\n",
    "labels = ['customer_not_repurchase', 'customer_repurchase']\n",
    "data = [buy_one.size, repurchase.size]\n",
    "\n",
    "plt.title(label=\"Customer\", fontsize=20)\n",
    "plt.pie(data, labels = labels, autopct='%1.1f%%')\n",
    "plt.axis('equal')\n",
    "plt.show()"
   ]
  },
  {
   "cell_type": "code",
   "execution_count": 44,
   "id": "3fc2737f",
   "metadata": {
    "execution": {
     "iopub.execute_input": "2022-10-01T09:18:21.115746Z",
     "iopub.status.busy": "2022-10-01T09:18:21.115323Z",
     "iopub.status.idle": "2022-10-01T09:18:21.286812Z",
     "shell.execute_reply": "2022-10-01T09:18:21.285981Z"
    },
    "papermill": {
     "duration": 0.197971,
     "end_time": "2022-10-01T09:18:21.289153",
     "exception": false,
     "start_time": "2022-10-01T09:18:21.091182",
     "status": "completed"
    },
    "tags": []
   },
   "outputs": [
    {
     "data": {
      "image/png": "[encoded data removed]",
      "text/plain": [
       "<Figure size 432x288 with 1 Axes>"
      ]
     },
     "metadata": {
      "needs_background": "light"
     },
     "output_type": "display_data"
    }
   ],
   "source": [
    "plt.bar(labels, data, color ='olive', width = 0.4)\n",
    "plt.title(\"Customer\")\n",
    "plt.show()"
   ]
  },
  {
   "cell_type": "markdown",
   "id": "57f7d08b",
   "metadata": {
    "papermill": {
     "duration": 0.022226,
     "end_time": "2022-10-01T09:18:21.333661",
     "exception": false,
     "start_time": "2022-10-01T09:18:21.311435",
     "status": "completed"
    },
    "tags": []
   },
   "source": [
    "<font size=\"4\">Tampak bahwa **dari total seluruh customer, hanya 3.1% yang melakukan repurchase** product. Dengan kata lain, dari 96096 customer, terdapat 2997 customer yang melakukan pembelian kembali di store, sedangkan sisanya tidak.</font>"
   ]
  },
  {
   "cell_type": "markdown",
   "id": "7de40671",
   "metadata": {
    "papermill": {
     "duration": 0.022143,
     "end_time": "2022-10-01T09:18:21.378204",
     "exception": false,
     "start_time": "2022-10-01T09:18:21.356061",
     "status": "completed"
    },
    "tags": []
   },
   "source": [
    "# 2.2 Persebaran Lokasi Customer"
   ]
  },
  {
   "cell_type": "code",
   "execution_count": 45,
   "id": "b5d36e04",
   "metadata": {
    "execution": {
     "iopub.execute_input": "2022-10-01T09:18:21.425054Z",
     "iopub.status.busy": "2022-10-01T09:18:21.424662Z",
     "iopub.status.idle": "2022-10-01T09:18:21.808401Z",
     "shell.execute_reply": "2022-10-01T09:18:21.807506Z"
    },
    "papermill": {
     "duration": 0.409592,
     "end_time": "2022-10-01T09:18:21.810436",
     "exception": false,
     "start_time": "2022-10-01T09:18:21.400844",
     "status": "completed"
    },
    "tags": []
   },
   "outputs": [
    {
     "data": {
      "text/plain": [
       "<AxesSubplot:title={'center':'Top 20 Kota Tujuan Order Terbanyak'}>"
      ]
     },
     "execution_count": 45,
     "metadata": {},
     "output_type": "execute_result"
    },
    {
     "data": {
      "image/png": "[encoded data removed]",
      "text/plain": [
       "<Figure size 864x288 with 1 Axes>"
      ]
     },
     "metadata": {
      "needs_background": "light"
     },
     "output_type": "display_data"
    }
   ],
   "source": [
    "a = cust['customer_city'].value_counts().head(20)\n",
    "\n",
    "a.plot(kind='bar', color='olive', width=0.9, figsize=(12,4), title='Top 20 Kota Tujuan Order Terbanyak', grid=True)"
   ]
  },
  {
   "cell_type": "markdown",
   "id": "77584f7a",
   "metadata": {
    "papermill": {
     "duration": 0.022921,
     "end_time": "2022-10-01T09:18:21.855963",
     "exception": false,
     "start_time": "2022-10-01T09:18:21.833042",
     "status": "completed"
    },
    "tags": []
   },
   "source": [
    "<font size=\"4\">Grafik di atas merupakan data 20 kota yang memiliki total order terbanyak. **Kota Sao Paulo menempati posisi pertama** sebagai kota dengan jumlah order customer terbanyak, yakni mendekati 16000 order. Di posisi kedua terdapat Kota Rio de Janeiro dengan total order mendekati 7000 order, sedangkan di posisi ketiga terdapat Kota Belo Horizonte. Dengan kata lain, **masyarakat Kota Sao Paulo lebih sering melakukan kegiatan belanja di marketplace e-commerce dibandingkan masyarakat kota lain di Brazil**.</font>"
   ]
  },
  {
   "cell_type": "markdown",
   "id": "c5ffce77",
   "metadata": {
    "papermill": {
     "duration": 0.023526,
     "end_time": "2022-10-01T09:18:21.902936",
     "exception": false,
     "start_time": "2022-10-01T09:18:21.879410",
     "status": "completed"
    },
    "tags": []
   },
   "source": [
    "# 2.3 Product Terlaris"
   ]
  },
  {
   "cell_type": "code",
   "execution_count": 46,
   "id": "69f7a76e",
   "metadata": {
    "execution": {
     "iopub.execute_input": "2022-10-01T09:18:21.951429Z",
     "iopub.status.busy": "2022-10-01T09:18:21.951043Z",
     "iopub.status.idle": "2022-10-01T09:18:22.406715Z",
     "shell.execute_reply": "2022-10-01T09:18:22.405555Z"
    },
    "papermill": {
     "duration": 0.482291,
     "end_time": "2022-10-01T09:18:22.408905",
     "exception": false,
     "start_time": "2022-10-01T09:18:21.926614",
     "status": "completed"
    },
    "tags": []
   },
   "outputs": [
    {
     "data": {
      "text/plain": [
       "<AxesSubplot:title={'center':'Top 10 Kategori Product dengan Penjualan Terbanyak'}, xlabel='product_category_name_english'>"
      ]
     },
     "execution_count": 46,
     "metadata": {},
     "output_type": "execute_result"
    },
    {
     "data": {
      "image/png": "[encoded data removed]",
      "text/plain": [
       "<Figure size 864x288 with 1 Axes>"
      ]
     },
     "metadata": {
      "needs_background": "light"
     },
     "output_type": "display_data"
    }
   ],
   "source": [
    "# mengambil total product yang terjual\n",
    "total_items_sold = items[['product_id']].value_counts().rename_axis('product_id').reset_index(name='total')\n",
    "\n",
    "# merging total product dengan kategorinya\n",
    "total_items_sold = total_items_sold.merge(products, on='product_id')\n",
    "total_items_sold = total_items_sold.iloc[:,:3]\n",
    "total_items_sold = total_items_sold.merge(cat, on='product_category_name')\n",
    "\n",
    "# menjumlahkan total masing-masing kategori yang terjual\n",
    "total_items_sold_eng = total_items_sold.groupby('product_category_name_english').sum().sort_values(by='total', ascending=False)\n",
    "\n",
    "# plot top 10 kategori product yang terlaris\n",
    "total_items_sold_eng.head(10).plot(kind='bar', \n",
    "                                   color='goldenrod', \n",
    "                                   width=0.5, \n",
    "                                   figsize=(12,4), \n",
    "                                   title='Top 10 Kategori Product dengan Penjualan Terbanyak', \n",
    "                                   grid=True)"
   ]
  },
  {
   "cell_type": "markdown",
   "id": "6bde5efa",
   "metadata": {
    "papermill": {
     "duration": 0.023184,
     "end_time": "2022-10-01T09:18:22.456008",
     "exception": false,
     "start_time": "2022-10-01T09:18:22.432824",
     "status": "completed"
    },
    "tags": []
   },
   "source": [
    "# 3 Feature Engineering"
   ]
  },
  {
   "cell_type": "markdown",
   "id": "20b8b0a3",
   "metadata": {
    "papermill": {
     "duration": 0.023314,
     "end_time": "2022-10-01T09:18:22.502730",
     "exception": false,
     "start_time": "2022-10-01T09:18:22.479416",
     "status": "completed"
    },
    "tags": []
   },
   "source": [
    "# 3.1 Total Order Tiap Customer"
   ]
  },
  {
   "cell_type": "code",
   "execution_count": 47,
   "id": "31e7ae4c",
   "metadata": {
    "execution": {
     "iopub.execute_input": "2022-10-01T09:18:22.550858Z",
     "iopub.status.busy": "2022-10-01T09:18:22.549883Z",
     "iopub.status.idle": "2022-10-01T09:18:22.898401Z",
     "shell.execute_reply": "2022-10-01T09:18:22.897224Z"
    },
    "papermill": {
     "duration": 0.374974,
     "end_time": "2022-10-01T09:18:22.900754",
     "exception": false,
     "start_time": "2022-10-01T09:18:22.525780",
     "status": "completed"
    },
    "tags": []
   },
   "outputs": [
    {
     "data": {
      "text/html": [
       "<div>\n",
       "<style scoped>\n",
       "    .dataframe tbody tr th:only-of-type {\n",
       "        vertical-align: middle;\n",
       "    }\n",
       "\n",
       "    .dataframe tbody tr th {\n",
       "        vertical-align: top;\n",
       "    }\n",
       "\n",
       "    .dataframe thead th {\n",
       "        text-align: right;\n",
       "    }\n",
       "</style>\n",
       "<table border=\"1\" class=\"dataframe\">\n",
       "  <thead>\n",
       "    <tr style=\"text-align: right;\">\n",
       "      <th></th>\n",
       "      <th>customer_unique_id</th>\n",
       "      <th>total_order</th>\n",
       "    </tr>\n",
       "  </thead>\n",
       "  <tbody>\n",
       "    <tr>\n",
       "      <th>0</th>\n",
       "      <td>8d50f5eadf50201ccdcedfb9e2ac8455</td>\n",
       "      <td>17</td>\n",
       "    </tr>\n",
       "    <tr>\n",
       "      <th>1</th>\n",
       "      <td>3e43e6105506432c953e165fb2acf44c</td>\n",
       "      <td>9</td>\n",
       "    </tr>\n",
       "    <tr>\n",
       "      <th>2</th>\n",
       "      <td>6469f99c1f9dfae7733b25662e7f1782</td>\n",
       "      <td>7</td>\n",
       "    </tr>\n",
       "    <tr>\n",
       "      <th>3</th>\n",
       "      <td>ca77025e7201e3b30c44b472ff346268</td>\n",
       "      <td>7</td>\n",
       "    </tr>\n",
       "    <tr>\n",
       "      <th>4</th>\n",
       "      <td>1b6c7548a2a1f9037c1fd3ddfed95f33</td>\n",
       "      <td>7</td>\n",
       "    </tr>\n",
       "    <tr>\n",
       "      <th>...</th>\n",
       "      <td>...</td>\n",
       "      <td>...</td>\n",
       "    </tr>\n",
       "    <tr>\n",
       "      <th>96091</th>\n",
       "      <td>5657dfebff5868c4dc7e8355fea865c4</td>\n",
       "      <td>1</td>\n",
       "    </tr>\n",
       "    <tr>\n",
       "      <th>96092</th>\n",
       "      <td>5657596addb4d7b07b32cd330614bdf8</td>\n",
       "      <td>1</td>\n",
       "    </tr>\n",
       "    <tr>\n",
       "      <th>96093</th>\n",
       "      <td>5656eb169546146caeab56c3ffc3d268</td>\n",
       "      <td>1</td>\n",
       "    </tr>\n",
       "    <tr>\n",
       "      <th>96094</th>\n",
       "      <td>5656a8fabc8629ff96b2bc14f8c09a27</td>\n",
       "      <td>1</td>\n",
       "    </tr>\n",
       "    <tr>\n",
       "      <th>96095</th>\n",
       "      <td>ffffd2657e2aad2907e67c3e9daecbeb</td>\n",
       "      <td>1</td>\n",
       "    </tr>\n",
       "  </tbody>\n",
       "</table>\n",
       "<p>96096 rows × 2 columns</p>\n",
       "</div>"
      ],
      "text/plain": [
       "                     customer_unique_id  total_order\n",
       "0      8d50f5eadf50201ccdcedfb9e2ac8455           17\n",
       "1      3e43e6105506432c953e165fb2acf44c            9\n",
       "2      6469f99c1f9dfae7733b25662e7f1782            7\n",
       "3      ca77025e7201e3b30c44b472ff346268            7\n",
       "4      1b6c7548a2a1f9037c1fd3ddfed95f33            7\n",
       "...                                 ...          ...\n",
       "96091  5657dfebff5868c4dc7e8355fea865c4            1\n",
       "96092  5657596addb4d7b07b32cd330614bdf8            1\n",
       "96093  5656eb169546146caeab56c3ffc3d268            1\n",
       "96094  5656a8fabc8629ff96b2bc14f8c09a27            1\n",
       "96095  ffffd2657e2aad2907e67c3e9daecbeb            1\n",
       "\n",
       "[96096 rows x 2 columns]"
      ]
     },
     "execution_count": 47,
     "metadata": {},
     "output_type": "execute_result"
    }
   ],
   "source": [
    "cust[['customer_unique_id']].value_counts().rename_axis('customer_unique_id').reset_index(name='total_order')"
   ]
  },
  {
   "cell_type": "markdown",
   "id": "ad15eabe",
   "metadata": {
    "papermill": {
     "duration": 0.02321,
     "end_time": "2022-10-01T09:18:22.947821",
     "exception": false,
     "start_time": "2022-10-01T09:18:22.924611",
     "status": "completed"
    },
    "tags": []
   },
   "source": [
    "# 3.2 Waktu Purchase Tiap Customer"
   ]
  },
  {
   "cell_type": "markdown",
   "id": "588ea38a",
   "metadata": {
    "papermill": {
     "duration": 0.025645,
     "end_time": "2022-10-01T09:18:22.996915",
     "exception": false,
     "start_time": "2022-10-01T09:18:22.971270",
     "status": "completed"
    },
    "tags": []
   },
   "source": [
    "## 3.2.1 Waktu Purchase Tiap Customer (Time)"
   ]
  },
  {
   "cell_type": "code",
   "execution_count": 48,
   "id": "9544ed18",
   "metadata": {
    "execution": {
     "iopub.execute_input": "2022-10-01T09:18:23.046984Z",
     "iopub.status.busy": "2022-10-01T09:18:23.045848Z",
     "iopub.status.idle": "2022-10-01T09:18:26.442118Z",
     "shell.execute_reply": "2022-10-01T09:18:26.440961Z"
    },
    "papermill": {
     "duration": 3.423552,
     "end_time": "2022-10-01T09:18:26.444621",
     "exception": false,
     "start_time": "2022-10-01T09:18:23.021069",
     "status": "completed"
    },
    "tags": []
   },
   "outputs": [
    {
     "data": {
      "text/html": [
       "<div>\n",
       "<style scoped>\n",
       "    .dataframe tbody tr th:only-of-type {\n",
       "        vertical-align: middle;\n",
       "    }\n",
       "\n",
       "    .dataframe tbody tr th {\n",
       "        vertical-align: top;\n",
       "    }\n",
       "\n",
       "    .dataframe thead th {\n",
       "        text-align: right;\n",
       "    }\n",
       "</style>\n",
       "<table border=\"1\" class=\"dataframe\">\n",
       "  <thead>\n",
       "    <tr style=\"text-align: right;\">\n",
       "      <th></th>\n",
       "      <th>customer_id</th>\n",
       "      <th>order_purchase_timestamp</th>\n",
       "      <th>customer_unique_id</th>\n",
       "      <th>purchase_time</th>\n",
       "    </tr>\n",
       "  </thead>\n",
       "  <tbody>\n",
       "    <tr>\n",
       "      <th>0</th>\n",
       "      <td>9ef432eb6251297304e76186b10a928d</td>\n",
       "      <td>2017-10-02 10:56:33</td>\n",
       "      <td>7c396fd4830fd04220f754e42b4e5bff</td>\n",
       "      <td>morning</td>\n",
       "    </tr>\n",
       "    <tr>\n",
       "      <th>1</th>\n",
       "      <td>b0830fb4747a6c6d20dea0b8c802d7ef</td>\n",
       "      <td>2018-07-24 20:41:37</td>\n",
       "      <td>af07308b275d755c9edb36a90c618231</td>\n",
       "      <td>night</td>\n",
       "    </tr>\n",
       "    <tr>\n",
       "      <th>2</th>\n",
       "      <td>41ce2a54c0b03bf3443c3d931a367089</td>\n",
       "      <td>2018-08-08 08:38:49</td>\n",
       "      <td>3a653a41f6f9fc3d2a113cf8398680e8</td>\n",
       "      <td>morning</td>\n",
       "    </tr>\n",
       "    <tr>\n",
       "      <th>3</th>\n",
       "      <td>f88197465ea7920adcdbec7375364d82</td>\n",
       "      <td>2017-11-18 19:28:06</td>\n",
       "      <td>7c142cf63193a1473d2e66489a9ae977</td>\n",
       "      <td>night</td>\n",
       "    </tr>\n",
       "    <tr>\n",
       "      <th>4</th>\n",
       "      <td>8ab97904e6daea8866dbdbc4fb7aad2c</td>\n",
       "      <td>2018-02-13 21:18:39</td>\n",
       "      <td>72632f0f9dd73dfee390c9b22eb56dd6</td>\n",
       "      <td>night</td>\n",
       "    </tr>\n",
       "    <tr>\n",
       "      <th>...</th>\n",
       "      <td>...</td>\n",
       "      <td>...</td>\n",
       "      <td>...</td>\n",
       "      <td>...</td>\n",
       "    </tr>\n",
       "    <tr>\n",
       "      <th>99436</th>\n",
       "      <td>39bd1228ee8140590ac3aca26f2dfe00</td>\n",
       "      <td>2017-03-09 09:54:05</td>\n",
       "      <td>6359f309b166b0196dbf7ad2ac62bb5a</td>\n",
       "      <td>morning</td>\n",
       "    </tr>\n",
       "    <tr>\n",
       "      <th>99437</th>\n",
       "      <td>1fca14ff2861355f6e5f14306ff977a7</td>\n",
       "      <td>2018-02-06 12:58:58</td>\n",
       "      <td>da62f9e57a76d978d02ab5362c509660</td>\n",
       "      <td>noon</td>\n",
       "    </tr>\n",
       "    <tr>\n",
       "      <th>99438</th>\n",
       "      <td>1aa71eb042121263aafbe80c1b562c9c</td>\n",
       "      <td>2017-08-27 14:46:43</td>\n",
       "      <td>737520a9aad80b3fbbdad19b66b37b30</td>\n",
       "      <td>noon</td>\n",
       "    </tr>\n",
       "    <tr>\n",
       "      <th>99439</th>\n",
       "      <td>b331b74b18dc79bcdf6532d51e1637c1</td>\n",
       "      <td>2018-01-08 21:28:27</td>\n",
       "      <td>5097a5312c8b157bb7be58ae360ef43c</td>\n",
       "      <td>night</td>\n",
       "    </tr>\n",
       "    <tr>\n",
       "      <th>99440</th>\n",
       "      <td>edb027a75a1449115f6b43211ae02a24</td>\n",
       "      <td>2018-03-08 20:57:30</td>\n",
       "      <td>60350aa974b26ff12caad89e55993bd6</td>\n",
       "      <td>night</td>\n",
       "    </tr>\n",
       "  </tbody>\n",
       "</table>\n",
       "<p>99441 rows × 4 columns</p>\n",
       "</div>"
      ],
      "text/plain": [
       "                            customer_id order_purchase_timestamp  \\\n",
       "0      9ef432eb6251297304e76186b10a928d      2017-10-02 10:56:33   \n",
       "1      b0830fb4747a6c6d20dea0b8c802d7ef      2018-07-24 20:41:37   \n",
       "2      41ce2a54c0b03bf3443c3d931a367089      2018-08-08 08:38:49   \n",
       "3      f88197465ea7920adcdbec7375364d82      2017-11-18 19:28:06   \n",
       "4      8ab97904e6daea8866dbdbc4fb7aad2c      2018-02-13 21:18:39   \n",
       "...                                 ...                      ...   \n",
       "99436  39bd1228ee8140590ac3aca26f2dfe00      2017-03-09 09:54:05   \n",
       "99437  1fca14ff2861355f6e5f14306ff977a7      2018-02-06 12:58:58   \n",
       "99438  1aa71eb042121263aafbe80c1b562c9c      2017-08-27 14:46:43   \n",
       "99439  b331b74b18dc79bcdf6532d51e1637c1      2018-01-08 21:28:27   \n",
       "99440  edb027a75a1449115f6b43211ae02a24      2018-03-08 20:57:30   \n",
       "\n",
       "                     customer_unique_id purchase_time  \n",
       "0      7c396fd4830fd04220f754e42b4e5bff       morning  \n",
       "1      af07308b275d755c9edb36a90c618231         night  \n",
       "2      3a653a41f6f9fc3d2a113cf8398680e8       morning  \n",
       "3      7c142cf63193a1473d2e66489a9ae977         night  \n",
       "4      72632f0f9dd73dfee390c9b22eb56dd6         night  \n",
       "...                                 ...           ...  \n",
       "99436  6359f309b166b0196dbf7ad2ac62bb5a       morning  \n",
       "99437  da62f9e57a76d978d02ab5362c509660          noon  \n",
       "99438  737520a9aad80b3fbbdad19b66b37b30          noon  \n",
       "99439  5097a5312c8b157bb7be58ae360ef43c         night  \n",
       "99440  60350aa974b26ff12caad89e55993bd6         night  \n",
       "\n",
       "[99441 rows x 4 columns]"
      ]
     },
     "execution_count": 48,
     "metadata": {},
     "output_type": "execute_result"
    }
   ],
   "source": [
    "cust_orders = orders.iloc[:,[1,3]].merge(cust, on='customer_id')\n",
    "cust_orders = cust_orders.iloc[:,:3]\n",
    "\n",
    "# ambil waktunya\n",
    "cust_orders['purchase_time'] = cust_orders['order_purchase_timestamp'].str.split().str.get(1)\n",
    "cust_orders['purchase_time'] = cust_orders['purchase_time'].str.split(':').str.get(0)\n",
    "cust_orders['purchase_time'] = cust_orders['purchase_time'].astype(int)\n",
    "\n",
    "# menentukan waktu\n",
    "def func(row):\n",
    "    if row['purchase_time'] >= 6 and row['purchase_time'] < 12:\n",
    "        return 'morning'\n",
    "    elif row['purchase_time'] >= 12 and row['purchase_time'] < 16:\n",
    "        return 'noon'\n",
    "    elif row['purchase_time'] >= 16 and row['purchase_time'] < 19:\n",
    "        return 'evening'\n",
    "    elif row['purchase_time'] >= 19 and row['purchase_time'] < 24:\n",
    "        return 'night'\n",
    "    else:\n",
    "        return 'midnight'\n",
    "\n",
    "cust_orders['purchase_time'] = cust_orders.apply(func, axis=1)\n",
    "\n",
    "cust_orders"
   ]
  },
  {
   "cell_type": "code",
   "execution_count": 49,
   "id": "ee7b225a",
   "metadata": {
    "execution": {
     "iopub.execute_input": "2022-10-01T09:18:26.493639Z",
     "iopub.status.busy": "2022-10-01T09:18:26.493236Z",
     "iopub.status.idle": "2022-10-01T09:18:27.026292Z",
     "shell.execute_reply": "2022-10-01T09:18:27.024846Z"
    },
    "papermill": {
     "duration": 0.560644,
     "end_time": "2022-10-01T09:18:27.028785",
     "exception": false,
     "start_time": "2022-10-01T09:18:26.468141",
     "status": "completed"
    },
    "tags": []
   },
   "outputs": [
    {
     "data": {
      "text/html": [
       "<div>\n",
       "<style scoped>\n",
       "    .dataframe tbody tr th:only-of-type {\n",
       "        vertical-align: middle;\n",
       "    }\n",
       "\n",
       "    .dataframe tbody tr th {\n",
       "        vertical-align: top;\n",
       "    }\n",
       "\n",
       "    .dataframe thead th {\n",
       "        text-align: right;\n",
       "    }\n",
       "</style>\n",
       "<table border=\"1\" class=\"dataframe\">\n",
       "  <thead>\n",
       "    <tr style=\"text-align: right;\">\n",
       "      <th></th>\n",
       "      <th>customer_unique_id</th>\n",
       "      <th>evening</th>\n",
       "      <th>midnight</th>\n",
       "      <th>morning</th>\n",
       "      <th>night</th>\n",
       "      <th>noon</th>\n",
       "    </tr>\n",
       "  </thead>\n",
       "  <tbody>\n",
       "    <tr>\n",
       "      <th>52973</th>\n",
       "      <td>8d50f5eadf50201ccdcedfb9e2ac8455</td>\n",
       "      <td>1.0</td>\n",
       "      <td>0.0</td>\n",
       "      <td>1.0</td>\n",
       "      <td>14.0</td>\n",
       "      <td>1.0</td>\n",
       "    </tr>\n",
       "    <tr>\n",
       "      <th>43934</th>\n",
       "      <td>74cb1ad7e6d5674325c1f99b5ea30d82</td>\n",
       "      <td>0.0</td>\n",
       "      <td>1.0</td>\n",
       "      <td>0.0</td>\n",
       "      <td>4.0</td>\n",
       "      <td>0.0</td>\n",
       "    </tr>\n",
       "    <tr>\n",
       "      <th>43352</th>\n",
       "      <td>732d307839b02bc2d3a4c26b515ea2b9</td>\n",
       "      <td>0.0</td>\n",
       "      <td>0.0</td>\n",
       "      <td>0.0</td>\n",
       "      <td>3.0</td>\n",
       "      <td>0.0</td>\n",
       "    </tr>\n",
       "    <tr>\n",
       "      <th>58920</th>\n",
       "      <td>9cc5a07f169a1606fd347a56683e6ea6</td>\n",
       "      <td>0.0</td>\n",
       "      <td>1.0</td>\n",
       "      <td>0.0</td>\n",
       "      <td>3.0</td>\n",
       "      <td>0.0</td>\n",
       "    </tr>\n",
       "    <tr>\n",
       "      <th>70413</th>\n",
       "      <td>bb58670190dba4e9b320f84cb98317a3</td>\n",
       "      <td>0.0</td>\n",
       "      <td>0.0</td>\n",
       "      <td>0.0</td>\n",
       "      <td>3.0</td>\n",
       "      <td>0.0</td>\n",
       "    </tr>\n",
       "    <tr>\n",
       "      <th>...</th>\n",
       "      <td>...</td>\n",
       "      <td>...</td>\n",
       "      <td>...</td>\n",
       "      <td>...</td>\n",
       "      <td>...</td>\n",
       "      <td>...</td>\n",
       "    </tr>\n",
       "    <tr>\n",
       "      <th>47529</th>\n",
       "      <td>7e48fce1b9f081327baf3aabf7d1a993</td>\n",
       "      <td>1.0</td>\n",
       "      <td>0.0</td>\n",
       "      <td>0.0</td>\n",
       "      <td>0.0</td>\n",
       "      <td>0.0</td>\n",
       "    </tr>\n",
       "    <tr>\n",
       "      <th>14219</th>\n",
       "      <td>25b2ebd48f0514f355a8294c53d9df25</td>\n",
       "      <td>1.0</td>\n",
       "      <td>0.0</td>\n",
       "      <td>0.0</td>\n",
       "      <td>0.0</td>\n",
       "      <td>0.0</td>\n",
       "    </tr>\n",
       "    <tr>\n",
       "      <th>47531</th>\n",
       "      <td>7e492b1caa3a7f4b2cde0d3f2316ae2b</td>\n",
       "      <td>0.0</td>\n",
       "      <td>0.0</td>\n",
       "      <td>0.0</td>\n",
       "      <td>0.0</td>\n",
       "      <td>1.0</td>\n",
       "    </tr>\n",
       "    <tr>\n",
       "      <th>47532</th>\n",
       "      <td>7e494da033761889a5e8cd607219cd24</td>\n",
       "      <td>1.0</td>\n",
       "      <td>0.0</td>\n",
       "      <td>0.0</td>\n",
       "      <td>0.0</td>\n",
       "      <td>0.0</td>\n",
       "    </tr>\n",
       "    <tr>\n",
       "      <th>0</th>\n",
       "      <td>0000366f3b9a7992bf8c76cfdf3221e2</td>\n",
       "      <td>0.0</td>\n",
       "      <td>0.0</td>\n",
       "      <td>1.0</td>\n",
       "      <td>0.0</td>\n",
       "      <td>0.0</td>\n",
       "    </tr>\n",
       "  </tbody>\n",
       "</table>\n",
       "<p>96096 rows × 6 columns</p>\n",
       "</div>"
      ],
      "text/plain": [
       "                     customer_unique_id  evening  midnight  morning  night  \\\n",
       "52973  8d50f5eadf50201ccdcedfb9e2ac8455      1.0       0.0      1.0   14.0   \n",
       "43934  74cb1ad7e6d5674325c1f99b5ea30d82      0.0       1.0      0.0    4.0   \n",
       "43352  732d307839b02bc2d3a4c26b515ea2b9      0.0       0.0      0.0    3.0   \n",
       "58920  9cc5a07f169a1606fd347a56683e6ea6      0.0       1.0      0.0    3.0   \n",
       "70413  bb58670190dba4e9b320f84cb98317a3      0.0       0.0      0.0    3.0   \n",
       "...                                 ...      ...       ...      ...    ...   \n",
       "47529  7e48fce1b9f081327baf3aabf7d1a993      1.0       0.0      0.0    0.0   \n",
       "14219  25b2ebd48f0514f355a8294c53d9df25      1.0       0.0      0.0    0.0   \n",
       "47531  7e492b1caa3a7f4b2cde0d3f2316ae2b      0.0       0.0      0.0    0.0   \n",
       "47532  7e494da033761889a5e8cd607219cd24      1.0       0.0      0.0    0.0   \n",
       "0      0000366f3b9a7992bf8c76cfdf3221e2      0.0       0.0      1.0    0.0   \n",
       "\n",
       "       noon  \n",
       "52973   1.0  \n",
       "43934   0.0  \n",
       "43352   0.0  \n",
       "58920   0.0  \n",
       "70413   0.0  \n",
       "...     ...  \n",
       "47529   0.0  \n",
       "14219   0.0  \n",
       "47531   1.0  \n",
       "47532   0.0  \n",
       "0       0.0  \n",
       "\n",
       "[96096 rows x 6 columns]"
      ]
     },
     "execution_count": 49,
     "metadata": {},
     "output_type": "execute_result"
    }
   ],
   "source": [
    "# ambil frequency waktu purchase masing-masing customer\n",
    "cust_orders_time = cust_orders[['customer_unique_id','purchase_time','customer_id']].groupby(['customer_unique_id','purchase_time']).count().reset_index()\n",
    "\n",
    "# buat feature baru\n",
    "cust_orders_time = cust_orders_time.pivot_table('customer_id', ['customer_unique_id'], 'purchase_time')\n",
    "\n",
    "# handling NaN\n",
    "cust_orders_time = cust_orders_time.fillna(0)\n",
    "\n",
    "# showing dataframe\n",
    "cust_orders_time = cust_orders_time.rename_axis(None, axis=1).reset_index()\n",
    "cust_orders_time.sort_values(by='night', ascending=False)"
   ]
  },
  {
   "cell_type": "markdown",
   "id": "3cdee486",
   "metadata": {
    "papermill": {
     "duration": 0.023645,
     "end_time": "2022-10-01T09:18:27.077635",
     "exception": false,
     "start_time": "2022-10-01T09:18:27.053990",
     "status": "completed"
    },
    "tags": []
   },
   "source": [
    "<font size=\"4\">Data di atas merupakan persebaran waktu pembelian masing-masing customer. Waktu terbagi menjadi morning, noon, evening, night, dan midnight, dengan ketentuan sebagai berikut\n",
    "\n",
    "    morning  = 06:00 - 12:00\n",
    "    noon     = 12:00 - 15:00\n",
    "    evening  = 15:00 - 18:00\n",
    "    night    = 18:00 - 23:00\n",
    "    midnight = 23:00 - 06:00\n",
    "    \n",
    "</font>"
   ]
  },
  {
   "cell_type": "markdown",
   "id": "56232fbf",
   "metadata": {
    "papermill": {
     "duration": 0.024479,
     "end_time": "2022-10-01T09:18:27.126014",
     "exception": false,
     "start_time": "2022-10-01T09:18:27.101535",
     "status": "completed"
    },
    "tags": []
   },
   "source": [
    "## 3.2.2 Sebaran Waktu Purchase Seluruh Customer (Time)"
   ]
  },
  {
   "cell_type": "code",
   "execution_count": 50,
   "id": "1a7b0a4c",
   "metadata": {
    "execution": {
     "iopub.execute_input": "2022-10-01T09:18:27.176584Z",
     "iopub.status.busy": "2022-10-01T09:18:27.176136Z",
     "iopub.status.idle": "2022-10-01T09:18:27.208962Z",
     "shell.execute_reply": "2022-10-01T09:18:27.207854Z"
    },
    "papermill": {
     "duration": 0.06106,
     "end_time": "2022-10-01T09:18:27.211186",
     "exception": false,
     "start_time": "2022-10-01T09:18:27.150126",
     "status": "completed"
    },
    "tags": []
   },
   "outputs": [
    {
     "data": {
      "text/html": [
       "<div>\n",
       "<style scoped>\n",
       "    .dataframe tbody tr th:only-of-type {\n",
       "        vertical-align: middle;\n",
       "    }\n",
       "\n",
       "    .dataframe tbody tr th {\n",
       "        vertical-align: top;\n",
       "    }\n",
       "\n",
       "    .dataframe thead th {\n",
       "        text-align: right;\n",
       "    }\n",
       "</style>\n",
       "<table border=\"1\" class=\"dataframe\">\n",
       "  <thead>\n",
       "    <tr style=\"text-align: right;\">\n",
       "      <th></th>\n",
       "      <th>customer_id</th>\n",
       "    </tr>\n",
       "    <tr>\n",
       "      <th>purchase_time</th>\n",
       "      <th></th>\n",
       "    </tr>\n",
       "  </thead>\n",
       "  <tbody>\n",
       "    <tr>\n",
       "      <th>night</th>\n",
       "      <td>28331</td>\n",
       "    </tr>\n",
       "    <tr>\n",
       "      <th>noon</th>\n",
       "      <td>25536</td>\n",
       "    </tr>\n",
       "    <tr>\n",
       "      <th>morning</th>\n",
       "      <td>22240</td>\n",
       "    </tr>\n",
       "    <tr>\n",
       "      <th>evening</th>\n",
       "      <td>18594</td>\n",
       "    </tr>\n",
       "    <tr>\n",
       "      <th>midnight</th>\n",
       "      <td>4740</td>\n",
       "    </tr>\n",
       "  </tbody>\n",
       "</table>\n",
       "</div>"
      ],
      "text/plain": [
       "               customer_id\n",
       "purchase_time             \n",
       "night                28331\n",
       "noon                 25536\n",
       "morning              22240\n",
       "evening              18594\n",
       "midnight              4740"
      ]
     },
     "execution_count": 50,
     "metadata": {},
     "output_type": "execute_result"
    }
   ],
   "source": [
    "cust_time_purchase = cust_orders[['customer_id','purchase_time']].groupby('purchase_time').count()\n",
    "cust_time_purchase.sort_values(by='customer_id', ascending=False)"
   ]
  },
  {
   "cell_type": "markdown",
   "id": "9fdbf3ce",
   "metadata": {
    "papermill": {
     "duration": 0.023641,
     "end_time": "2022-10-01T09:18:27.258958",
     "exception": false,
     "start_time": "2022-10-01T09:18:27.235317",
     "status": "completed"
    },
    "tags": []
   },
   "source": [
    "<font size=\"4\">Mayoritas customer membeli pada saat malam hari, yakni antara jam 18:00 - 23:00</font>"
   ]
  },
  {
   "cell_type": "markdown",
   "id": "a5f08a06",
   "metadata": {
    "papermill": {
     "duration": 0.023816,
     "end_time": "2022-10-01T09:18:27.306844",
     "exception": false,
     "start_time": "2022-10-01T09:18:27.283028",
     "status": "completed"
    },
    "tags": []
   },
   "source": [
    "## 3.2.3 Waktu Purchase Tiap Customer (Month)"
   ]
  },
  {
   "cell_type": "code",
   "execution_count": 51,
   "id": "59ce7cb3",
   "metadata": {
    "execution": {
     "iopub.execute_input": "2022-10-01T09:18:27.357064Z",
     "iopub.status.busy": "2022-10-01T09:18:27.356631Z",
     "iopub.status.idle": "2022-10-01T09:18:29.482329Z",
     "shell.execute_reply": "2022-10-01T09:18:29.481081Z"
    },
    "papermill": {
     "duration": 2.154009,
     "end_time": "2022-10-01T09:18:29.484937",
     "exception": false,
     "start_time": "2022-10-01T09:18:27.330928",
     "status": "completed"
    },
    "tags": []
   },
   "outputs": [
    {
     "data": {
      "text/html": [
       "<div>\n",
       "<style scoped>\n",
       "    .dataframe tbody tr th:only-of-type {\n",
       "        vertical-align: middle;\n",
       "    }\n",
       "\n",
       "    .dataframe tbody tr th {\n",
       "        vertical-align: top;\n",
       "    }\n",
       "\n",
       "    .dataframe thead th {\n",
       "        text-align: right;\n",
       "    }\n",
       "</style>\n",
       "<table border=\"1\" class=\"dataframe\">\n",
       "  <thead>\n",
       "    <tr style=\"text-align: right;\">\n",
       "      <th></th>\n",
       "      <th>customer_id</th>\n",
       "      <th>order_purchase_timestamp</th>\n",
       "      <th>customer_unique_id</th>\n",
       "      <th>purchase_date</th>\n",
       "    </tr>\n",
       "  </thead>\n",
       "  <tbody>\n",
       "    <tr>\n",
       "      <th>0</th>\n",
       "      <td>9ef432eb6251297304e76186b10a928d</td>\n",
       "      <td>2017-10-02 10:56:33</td>\n",
       "      <td>7c396fd4830fd04220f754e42b4e5bff</td>\n",
       "      <td>beginning_month</td>\n",
       "    </tr>\n",
       "    <tr>\n",
       "      <th>1</th>\n",
       "      <td>b0830fb4747a6c6d20dea0b8c802d7ef</td>\n",
       "      <td>2018-07-24 20:41:37</td>\n",
       "      <td>af07308b275d755c9edb36a90c618231</td>\n",
       "      <td>end_month</td>\n",
       "    </tr>\n",
       "    <tr>\n",
       "      <th>2</th>\n",
       "      <td>41ce2a54c0b03bf3443c3d931a367089</td>\n",
       "      <td>2018-08-08 08:38:49</td>\n",
       "      <td>3a653a41f6f9fc3d2a113cf8398680e8</td>\n",
       "      <td>beginning_month</td>\n",
       "    </tr>\n",
       "    <tr>\n",
       "      <th>3</th>\n",
       "      <td>f88197465ea7920adcdbec7375364d82</td>\n",
       "      <td>2017-11-18 19:28:06</td>\n",
       "      <td>7c142cf63193a1473d2e66489a9ae977</td>\n",
       "      <td>middle_month</td>\n",
       "    </tr>\n",
       "    <tr>\n",
       "      <th>4</th>\n",
       "      <td>8ab97904e6daea8866dbdbc4fb7aad2c</td>\n",
       "      <td>2018-02-13 21:18:39</td>\n",
       "      <td>72632f0f9dd73dfee390c9b22eb56dd6</td>\n",
       "      <td>middle_month</td>\n",
       "    </tr>\n",
       "    <tr>\n",
       "      <th>...</th>\n",
       "      <td>...</td>\n",
       "      <td>...</td>\n",
       "      <td>...</td>\n",
       "      <td>...</td>\n",
       "    </tr>\n",
       "    <tr>\n",
       "      <th>99436</th>\n",
       "      <td>39bd1228ee8140590ac3aca26f2dfe00</td>\n",
       "      <td>2017-03-09 09:54:05</td>\n",
       "      <td>6359f309b166b0196dbf7ad2ac62bb5a</td>\n",
       "      <td>beginning_month</td>\n",
       "    </tr>\n",
       "    <tr>\n",
       "      <th>99437</th>\n",
       "      <td>1fca14ff2861355f6e5f14306ff977a7</td>\n",
       "      <td>2018-02-06 12:58:58</td>\n",
       "      <td>da62f9e57a76d978d02ab5362c509660</td>\n",
       "      <td>beginning_month</td>\n",
       "    </tr>\n",
       "    <tr>\n",
       "      <th>99438</th>\n",
       "      <td>1aa71eb042121263aafbe80c1b562c9c</td>\n",
       "      <td>2017-08-27 14:46:43</td>\n",
       "      <td>737520a9aad80b3fbbdad19b66b37b30</td>\n",
       "      <td>end_month</td>\n",
       "    </tr>\n",
       "    <tr>\n",
       "      <th>99439</th>\n",
       "      <td>b331b74b18dc79bcdf6532d51e1637c1</td>\n",
       "      <td>2018-01-08 21:28:27</td>\n",
       "      <td>5097a5312c8b157bb7be58ae360ef43c</td>\n",
       "      <td>beginning_month</td>\n",
       "    </tr>\n",
       "    <tr>\n",
       "      <th>99440</th>\n",
       "      <td>edb027a75a1449115f6b43211ae02a24</td>\n",
       "      <td>2018-03-08 20:57:30</td>\n",
       "      <td>60350aa974b26ff12caad89e55993bd6</td>\n",
       "      <td>beginning_month</td>\n",
       "    </tr>\n",
       "  </tbody>\n",
       "</table>\n",
       "<p>99441 rows × 4 columns</p>\n",
       "</div>"
      ],
      "text/plain": [
       "                            customer_id order_purchase_timestamp  \\\n",
       "0      9ef432eb6251297304e76186b10a928d      2017-10-02 10:56:33   \n",
       "1      b0830fb4747a6c6d20dea0b8c802d7ef      2018-07-24 20:41:37   \n",
       "2      41ce2a54c0b03bf3443c3d931a367089      2018-08-08 08:38:49   \n",
       "3      f88197465ea7920adcdbec7375364d82      2017-11-18 19:28:06   \n",
       "4      8ab97904e6daea8866dbdbc4fb7aad2c      2018-02-13 21:18:39   \n",
       "...                                 ...                      ...   \n",
       "99436  39bd1228ee8140590ac3aca26f2dfe00      2017-03-09 09:54:05   \n",
       "99437  1fca14ff2861355f6e5f14306ff977a7      2018-02-06 12:58:58   \n",
       "99438  1aa71eb042121263aafbe80c1b562c9c      2017-08-27 14:46:43   \n",
       "99439  b331b74b18dc79bcdf6532d51e1637c1      2018-01-08 21:28:27   \n",
       "99440  edb027a75a1449115f6b43211ae02a24      2018-03-08 20:57:30   \n",
       "\n",
       "                     customer_unique_id    purchase_date  \n",
       "0      7c396fd4830fd04220f754e42b4e5bff  beginning_month  \n",
       "1      af07308b275d755c9edb36a90c618231        end_month  \n",
       "2      3a653a41f6f9fc3d2a113cf8398680e8  beginning_month  \n",
       "3      7c142cf63193a1473d2e66489a9ae977     middle_month  \n",
       "4      72632f0f9dd73dfee390c9b22eb56dd6     middle_month  \n",
       "...                                 ...              ...  \n",
       "99436  6359f309b166b0196dbf7ad2ac62bb5a  beginning_month  \n",
       "99437  da62f9e57a76d978d02ab5362c509660  beginning_month  \n",
       "99438  737520a9aad80b3fbbdad19b66b37b30        end_month  \n",
       "99439  5097a5312c8b157bb7be58ae360ef43c  beginning_month  \n",
       "99440  60350aa974b26ff12caad89e55993bd6  beginning_month  \n",
       "\n",
       "[99441 rows x 4 columns]"
      ]
     },
     "execution_count": 51,
     "metadata": {},
     "output_type": "execute_result"
    }
   ],
   "source": [
    "cust_orders_date = cust_orders.iloc[:,:3]\n",
    "\n",
    "# ambil tanggalnya\n",
    "cust_orders_date['purchase_date'] = cust_orders_date['order_purchase_timestamp'].str.split().str.get(0)\n",
    "cust_orders_date['purchase_date'] = cust_orders_date['purchase_date'].str.split('-').str.get(2)\n",
    "cust_orders_date['purchase_date'] = cust_orders_date['purchase_date'].astype(int)\n",
    "\n",
    "# menentukan waktu\n",
    "def func(row):\n",
    "    if row['purchase_date'] <= 10:\n",
    "        return 'beginning_month'\n",
    "    elif row['purchase_date'] > 10 and row['purchase_date'] <= 20:\n",
    "        return 'middle_month'\n",
    "    else:\n",
    "        return 'end_month'\n",
    "\n",
    "cust_orders_date['purchase_date'] = cust_orders_date.apply(func, axis=1)\n",
    "\n",
    "# cust_orders\n",
    "cust_orders_date"
   ]
  },
  {
   "cell_type": "code",
   "execution_count": 52,
   "id": "7bf09831",
   "metadata": {
    "execution": {
     "iopub.execute_input": "2022-10-01T09:18:29.537747Z",
     "iopub.status.busy": "2022-10-01T09:18:29.537314Z",
     "iopub.status.idle": "2022-10-01T09:18:30.051565Z",
     "shell.execute_reply": "2022-10-01T09:18:30.050433Z"
    },
    "papermill": {
     "duration": 0.544011,
     "end_time": "2022-10-01T09:18:30.054266",
     "exception": false,
     "start_time": "2022-10-01T09:18:29.510255",
     "status": "completed"
    },
    "tags": []
   },
   "outputs": [
    {
     "data": {
      "text/html": [
       "<div>\n",
       "<style scoped>\n",
       "    .dataframe tbody tr th:only-of-type {\n",
       "        vertical-align: middle;\n",
       "    }\n",
       "\n",
       "    .dataframe tbody tr th {\n",
       "        vertical-align: top;\n",
       "    }\n",
       "\n",
       "    .dataframe thead th {\n",
       "        text-align: right;\n",
       "    }\n",
       "</style>\n",
       "<table border=\"1\" class=\"dataframe\">\n",
       "  <thead>\n",
       "    <tr style=\"text-align: right;\">\n",
       "      <th></th>\n",
       "      <th>customer_unique_id</th>\n",
       "      <th>beginning_month</th>\n",
       "      <th>end_month</th>\n",
       "      <th>middle_month</th>\n",
       "    </tr>\n",
       "  </thead>\n",
       "  <tbody>\n",
       "    <tr>\n",
       "      <th>52973</th>\n",
       "      <td>8d50f5eadf50201ccdcedfb9e2ac8455</td>\n",
       "      <td>4.0</td>\n",
       "      <td>6.0</td>\n",
       "      <td>7.0</td>\n",
       "    </tr>\n",
       "    <tr>\n",
       "      <th>23472</th>\n",
       "      <td>3e43e6105506432c953e165fb2acf44c</td>\n",
       "      <td>3.0</td>\n",
       "      <td>1.0</td>\n",
       "      <td>5.0</td>\n",
       "    </tr>\n",
       "    <tr>\n",
       "      <th>3966</th>\n",
       "      <td>0a61b571f594b6919601bcf3380da7f7</td>\n",
       "      <td>0.0</td>\n",
       "      <td>0.0</td>\n",
       "      <td>3.0</td>\n",
       "    </tr>\n",
       "    <tr>\n",
       "      <th>21578</th>\n",
       "      <td>394ac4de8f3acb14253c177f0e15bc58</td>\n",
       "      <td>1.0</td>\n",
       "      <td>1.0</td>\n",
       "      <td>3.0</td>\n",
       "    </tr>\n",
       "    <tr>\n",
       "      <th>21638</th>\n",
       "      <td>397b44d5bb99eabf54ea9c2b41ebb905</td>\n",
       "      <td>1.0</td>\n",
       "      <td>0.0</td>\n",
       "      <td>3.0</td>\n",
       "    </tr>\n",
       "    <tr>\n",
       "      <th>...</th>\n",
       "      <td>...</td>\n",
       "      <td>...</td>\n",
       "      <td>...</td>\n",
       "      <td>...</td>\n",
       "    </tr>\n",
       "    <tr>\n",
       "      <th>38734</th>\n",
       "      <td>66deee474bda15823465c6f18a05ebb7</td>\n",
       "      <td>1.0</td>\n",
       "      <td>0.0</td>\n",
       "      <td>0.0</td>\n",
       "    </tr>\n",
       "    <tr>\n",
       "      <th>38733</th>\n",
       "      <td>66dd7b48d24397d554c2af2b30cbd407</td>\n",
       "      <td>0.0</td>\n",
       "      <td>1.0</td>\n",
       "      <td>0.0</td>\n",
       "    </tr>\n",
       "    <tr>\n",
       "      <th>38732</th>\n",
       "      <td>66dc6011c7df478233a09360f68dea20</td>\n",
       "      <td>1.0</td>\n",
       "      <td>0.0</td>\n",
       "      <td>0.0</td>\n",
       "    </tr>\n",
       "    <tr>\n",
       "      <th>38731</th>\n",
       "      <td>66d916b6e4e889e481c2b7a32da0f10a</td>\n",
       "      <td>0.0</td>\n",
       "      <td>1.0</td>\n",
       "      <td>0.0</td>\n",
       "    </tr>\n",
       "    <tr>\n",
       "      <th>96095</th>\n",
       "      <td>ffffd2657e2aad2907e67c3e9daecbeb</td>\n",
       "      <td>1.0</td>\n",
       "      <td>0.0</td>\n",
       "      <td>0.0</td>\n",
       "    </tr>\n",
       "  </tbody>\n",
       "</table>\n",
       "<p>96096 rows × 4 columns</p>\n",
       "</div>"
      ],
      "text/plain": [
       "                     customer_unique_id  beginning_month  end_month  \\\n",
       "52973  8d50f5eadf50201ccdcedfb9e2ac8455              4.0        6.0   \n",
       "23472  3e43e6105506432c953e165fb2acf44c              3.0        1.0   \n",
       "3966   0a61b571f594b6919601bcf3380da7f7              0.0        0.0   \n",
       "21578  394ac4de8f3acb14253c177f0e15bc58              1.0        1.0   \n",
       "21638  397b44d5bb99eabf54ea9c2b41ebb905              1.0        0.0   \n",
       "...                                 ...              ...        ...   \n",
       "38734  66deee474bda15823465c6f18a05ebb7              1.0        0.0   \n",
       "38733  66dd7b48d24397d554c2af2b30cbd407              0.0        1.0   \n",
       "38732  66dc6011c7df478233a09360f68dea20              1.0        0.0   \n",
       "38731  66d916b6e4e889e481c2b7a32da0f10a              0.0        1.0   \n",
       "96095  ffffd2657e2aad2907e67c3e9daecbeb              1.0        0.0   \n",
       "\n",
       "       middle_month  \n",
       "52973           7.0  \n",
       "23472           5.0  \n",
       "3966            3.0  \n",
       "21578           3.0  \n",
       "21638           3.0  \n",
       "...             ...  \n",
       "38734           0.0  \n",
       "38733           0.0  \n",
       "38732           0.0  \n",
       "38731           0.0  \n",
       "96095           0.0  \n",
       "\n",
       "[96096 rows x 4 columns]"
      ]
     },
     "execution_count": 52,
     "metadata": {},
     "output_type": "execute_result"
    }
   ],
   "source": [
    "# ambil frequency waktu (tanggal_bulan) purchase masing-masing customer\n",
    "cust_orders_month = cust_orders_date[['customer_unique_id','purchase_date','customer_id']].groupby(['customer_unique_id','purchase_date']).count().reset_index()\n",
    "\n",
    "# buat feature baru\n",
    "cust_orders_month = cust_orders_month.pivot_table('customer_id', ['customer_unique_id'], 'purchase_date')\n",
    "\n",
    "# handling NaN\n",
    "cust_orders_month = cust_orders_month.fillna(0)\n",
    "\n",
    "# showing dataframe\n",
    "cust_orders_month = cust_orders_month.rename_axis(None, axis=1).reset_index()\n",
    "cust_orders_month.sort_values(by='middle_month', ascending=False)"
   ]
  },
  {
   "cell_type": "markdown",
   "id": "dd188605",
   "metadata": {
    "papermill": {
     "duration": 0.024542,
     "end_time": "2022-10-01T09:18:30.104285",
     "exception": false,
     "start_time": "2022-10-01T09:18:30.079743",
     "status": "completed"
    },
    "tags": []
   },
   "source": [
    "<font size=\"4\">Data di atas merupakan persebaran waktu pembelian masing-masing customer (dalam periode bulan). Waktu terbagi menjadi beginning_month, middle_month, end_month, dengan ketentuan sebagai berikut\n",
    "\n",
    "    beginning_month  = tanggal 1 - 10\n",
    "    middle_month     = tanggal 11 - 20\n",
    "    end_month        = tanggal 21 - 31\n",
    "    \n",
    "</font>"
   ]
  },
  {
   "cell_type": "markdown",
   "id": "314c750e",
   "metadata": {
    "papermill": {
     "duration": 0.025067,
     "end_time": "2022-10-01T09:18:30.154131",
     "exception": false,
     "start_time": "2022-10-01T09:18:30.129064",
     "status": "completed"
    },
    "tags": []
   },
   "source": [
    "# 3.3 Metode Pembayaran Tiap Customer Yang Order"
   ]
  },
  {
   "cell_type": "code",
   "execution_count": 53,
   "id": "4695f07a",
   "metadata": {
    "execution": {
     "iopub.execute_input": "2022-10-01T09:18:30.205531Z",
     "iopub.status.busy": "2022-10-01T09:18:30.205147Z",
     "iopub.status.idle": "2022-10-01T09:18:31.243971Z",
     "shell.execute_reply": "2022-10-01T09:18:31.243140Z"
    },
    "papermill": {
     "duration": 1.06735,
     "end_time": "2022-10-01T09:18:31.246132",
     "exception": false,
     "start_time": "2022-10-01T09:18:30.178782",
     "status": "completed"
    },
    "tags": []
   },
   "outputs": [
    {
     "data": {
      "text/html": [
       "<div>\n",
       "<style scoped>\n",
       "    .dataframe tbody tr th:only-of-type {\n",
       "        vertical-align: middle;\n",
       "    }\n",
       "\n",
       "    .dataframe tbody tr th {\n",
       "        vertical-align: top;\n",
       "    }\n",
       "\n",
       "    .dataframe thead th {\n",
       "        text-align: right;\n",
       "    }\n",
       "</style>\n",
       "<table border=\"1\" class=\"dataframe\">\n",
       "  <thead>\n",
       "    <tr style=\"text-align: right;\">\n",
       "      <th></th>\n",
       "      <th>customer_unique_id</th>\n",
       "      <th>boleto</th>\n",
       "      <th>credit_card</th>\n",
       "      <th>debit_card</th>\n",
       "      <th>not_defined</th>\n",
       "      <th>voucher</th>\n",
       "    </tr>\n",
       "  </thead>\n",
       "  <tbody>\n",
       "    <tr>\n",
       "      <th>0</th>\n",
       "      <td>0000366f3b9a7992bf8c76cfdf3221e2</td>\n",
       "      <td>0.0</td>\n",
       "      <td>1.0</td>\n",
       "      <td>0.0</td>\n",
       "      <td>0.0</td>\n",
       "      <td>0.0</td>\n",
       "    </tr>\n",
       "    <tr>\n",
       "      <th>1</th>\n",
       "      <td>0000b849f77a49e4a4ce2b2a4ca5be3f</td>\n",
       "      <td>0.0</td>\n",
       "      <td>1.0</td>\n",
       "      <td>0.0</td>\n",
       "      <td>0.0</td>\n",
       "      <td>0.0</td>\n",
       "    </tr>\n",
       "    <tr>\n",
       "      <th>2</th>\n",
       "      <td>0000f46a3911fa3c0805444483337064</td>\n",
       "      <td>0.0</td>\n",
       "      <td>1.0</td>\n",
       "      <td>0.0</td>\n",
       "      <td>0.0</td>\n",
       "      <td>0.0</td>\n",
       "    </tr>\n",
       "    <tr>\n",
       "      <th>3</th>\n",
       "      <td>0000f6ccb0745a6a4b88665a16c9f078</td>\n",
       "      <td>0.0</td>\n",
       "      <td>1.0</td>\n",
       "      <td>0.0</td>\n",
       "      <td>0.0</td>\n",
       "      <td>0.0</td>\n",
       "    </tr>\n",
       "    <tr>\n",
       "      <th>4</th>\n",
       "      <td>0004aac84e0df4da2b147fca70cf8255</td>\n",
       "      <td>0.0</td>\n",
       "      <td>1.0</td>\n",
       "      <td>0.0</td>\n",
       "      <td>0.0</td>\n",
       "      <td>0.0</td>\n",
       "    </tr>\n",
       "    <tr>\n",
       "      <th>...</th>\n",
       "      <td>...</td>\n",
       "      <td>...</td>\n",
       "      <td>...</td>\n",
       "      <td>...</td>\n",
       "      <td>...</td>\n",
       "      <td>...</td>\n",
       "    </tr>\n",
       "    <tr>\n",
       "      <th>96090</th>\n",
       "      <td>fffcf5a5ff07b0908bd4e2dbc735a684</td>\n",
       "      <td>0.0</td>\n",
       "      <td>1.0</td>\n",
       "      <td>0.0</td>\n",
       "      <td>0.0</td>\n",
       "      <td>0.0</td>\n",
       "    </tr>\n",
       "    <tr>\n",
       "      <th>96091</th>\n",
       "      <td>fffea47cd6d3cc0a88bd621562a9d061</td>\n",
       "      <td>0.0</td>\n",
       "      <td>1.0</td>\n",
       "      <td>0.0</td>\n",
       "      <td>0.0</td>\n",
       "      <td>0.0</td>\n",
       "    </tr>\n",
       "    <tr>\n",
       "      <th>96092</th>\n",
       "      <td>ffff371b4d645b6ecea244b27531430a</td>\n",
       "      <td>0.0</td>\n",
       "      <td>1.0</td>\n",
       "      <td>0.0</td>\n",
       "      <td>0.0</td>\n",
       "      <td>0.0</td>\n",
       "    </tr>\n",
       "    <tr>\n",
       "      <th>96093</th>\n",
       "      <td>ffff5962728ec6157033ef9805bacc48</td>\n",
       "      <td>0.0</td>\n",
       "      <td>1.0</td>\n",
       "      <td>0.0</td>\n",
       "      <td>0.0</td>\n",
       "      <td>0.0</td>\n",
       "    </tr>\n",
       "    <tr>\n",
       "      <th>96094</th>\n",
       "      <td>ffffd2657e2aad2907e67c3e9daecbeb</td>\n",
       "      <td>0.0</td>\n",
       "      <td>1.0</td>\n",
       "      <td>0.0</td>\n",
       "      <td>0.0</td>\n",
       "      <td>0.0</td>\n",
       "    </tr>\n",
       "  </tbody>\n",
       "</table>\n",
       "<p>96095 rows × 6 columns</p>\n",
       "</div>"
      ],
      "text/plain": [
       "                     customer_unique_id  boleto  credit_card  debit_card  \\\n",
       "0      0000366f3b9a7992bf8c76cfdf3221e2     0.0          1.0         0.0   \n",
       "1      0000b849f77a49e4a4ce2b2a4ca5be3f     0.0          1.0         0.0   \n",
       "2      0000f46a3911fa3c0805444483337064     0.0          1.0         0.0   \n",
       "3      0000f6ccb0745a6a4b88665a16c9f078     0.0          1.0         0.0   \n",
       "4      0004aac84e0df4da2b147fca70cf8255     0.0          1.0         0.0   \n",
       "...                                 ...     ...          ...         ...   \n",
       "96090  fffcf5a5ff07b0908bd4e2dbc735a684     0.0          1.0         0.0   \n",
       "96091  fffea47cd6d3cc0a88bd621562a9d061     0.0          1.0         0.0   \n",
       "96092  ffff371b4d645b6ecea244b27531430a     0.0          1.0         0.0   \n",
       "96093  ffff5962728ec6157033ef9805bacc48     0.0          1.0         0.0   \n",
       "96094  ffffd2657e2aad2907e67c3e9daecbeb     0.0          1.0         0.0   \n",
       "\n",
       "       not_defined  voucher  \n",
       "0              0.0      0.0  \n",
       "1              0.0      0.0  \n",
       "2              0.0      0.0  \n",
       "3              0.0      0.0  \n",
       "4              0.0      0.0  \n",
       "...            ...      ...  \n",
       "96090          0.0      0.0  \n",
       "96091          0.0      0.0  \n",
       "96092          0.0      0.0  \n",
       "96093          0.0      0.0  \n",
       "96094          0.0      0.0  \n",
       "\n",
       "[96095 rows x 6 columns]"
      ]
     },
     "execution_count": 53,
     "metadata": {},
     "output_type": "execute_result"
    }
   ],
   "source": [
    "# merging dengan data cust\n",
    "cust_payments = payments.iloc[:,[0,2]].merge(orders, on='order_id')\n",
    "cust_payments = cust_payments.iloc[:,:3]\n",
    "\n",
    "# ambil frequency metode pembayaran masing-masing order\n",
    "cust_payments = cust_payments[['order_id','payment_type','customer_id']].groupby(['customer_id','payment_type']).count().reset_index()\n",
    "# cust_payments\n",
    "\n",
    "# buat feature baru\n",
    "cust_payments = cust_payments.pivot_table('order_id', ['customer_id'], 'payment_type')\n",
    "\n",
    "# handling NaN\n",
    "cust_payments = cust_payments.fillna(0)\n",
    "\n",
    "# showing dataframe\n",
    "cust_payments = cust_payments.rename_axis(None, axis=1).reset_index()\n",
    "cust_payments = cust_payments.merge(cust, on='customer_id')\n",
    "cust_payments = cust_payments.iloc[:,:7]\n",
    "cust_payments = cust_payments.groupby('customer_unique_id').sum().reset_index()\n",
    "cust_payments"
   ]
  },
  {
   "cell_type": "code",
   "execution_count": 54,
   "id": "7eb4efdc",
   "metadata": {
    "execution": {
     "iopub.execute_input": "2022-10-01T09:18:31.298471Z",
     "iopub.status.busy": "2022-10-01T09:18:31.298100Z",
     "iopub.status.idle": "2022-10-01T09:18:31.557721Z",
     "shell.execute_reply": "2022-10-01T09:18:31.556318Z"
    },
    "papermill": {
     "duration": 0.288904,
     "end_time": "2022-10-01T09:18:31.560533",
     "exception": false,
     "start_time": "2022-10-01T09:18:31.271629",
     "status": "completed"
    },
    "tags": []
   },
   "outputs": [
    {
     "name": "stdout",
     "output_type": "stream",
     "text": [
      "total order yang telah melakukan pembayaran = 99440\n",
      "total order yang masuk = 99441\n"
     ]
    }
   ],
   "source": [
    "# merging dengan data cust\n",
    "cust_payments_all = payments.iloc[:,[0,2]].merge(orders, on='order_id')\n",
    "\n",
    "# cek orderan yang sudah selesai proses pembayaran\n",
    "print(\"total order yang telah melakukan pembayaran =\", cust_payments_all['customer_id'].value_counts().size)\n",
    "print(\"total order yang masuk =\", cust['customer_id'].value_counts().size)"
   ]
  },
  {
   "cell_type": "markdown",
   "id": "d011452d",
   "metadata": {
    "papermill": {
     "duration": 0.024754,
     "end_time": "2022-10-01T09:18:31.610394",
     "exception": false,
     "start_time": "2022-10-01T09:18:31.585640",
     "status": "completed"
    },
    "tags": []
   },
   "source": [
    "<font size=\"4\">Tampak bahwa ada 1 orderan yang belum menyelesaikan pembayaran</font>"
   ]
  },
  {
   "cell_type": "markdown",
   "id": "5cb90101",
   "metadata": {
    "papermill": {
     "duration": 0.024767,
     "end_time": "2022-10-01T09:18:31.660210",
     "exception": false,
     "start_time": "2022-10-01T09:18:31.635443",
     "status": "completed"
    },
    "tags": []
   },
   "source": [
    "## 3.3.1 Sebaran Metode Pembayaran Seluruh Order"
   ]
  },
  {
   "cell_type": "code",
   "execution_count": 55,
   "id": "7ce0c985",
   "metadata": {
    "execution": {
     "iopub.execute_input": "2022-10-01T09:18:31.712733Z",
     "iopub.status.busy": "2022-10-01T09:18:31.712297Z",
     "iopub.status.idle": "2022-10-01T09:18:31.728517Z",
     "shell.execute_reply": "2022-10-01T09:18:31.727377Z"
    },
    "papermill": {
     "duration": 0.045746,
     "end_time": "2022-10-01T09:18:31.730937",
     "exception": false,
     "start_time": "2022-10-01T09:18:31.685191",
     "status": "completed"
    },
    "tags": []
   },
   "outputs": [
    {
     "data": {
      "text/html": [
       "<div>\n",
       "<style scoped>\n",
       "    .dataframe tbody tr th:only-of-type {\n",
       "        vertical-align: middle;\n",
       "    }\n",
       "\n",
       "    .dataframe tbody tr th {\n",
       "        vertical-align: top;\n",
       "    }\n",
       "\n",
       "    .dataframe thead th {\n",
       "        text-align: right;\n",
       "    }\n",
       "</style>\n",
       "<table border=\"1\" class=\"dataframe\">\n",
       "  <thead>\n",
       "    <tr style=\"text-align: right;\">\n",
       "      <th></th>\n",
       "      <th>payment_type</th>\n",
       "    </tr>\n",
       "  </thead>\n",
       "  <tbody>\n",
       "    <tr>\n",
       "      <th>credit_card</th>\n",
       "      <td>76795</td>\n",
       "    </tr>\n",
       "    <tr>\n",
       "      <th>boleto</th>\n",
       "      <td>19784</td>\n",
       "    </tr>\n",
       "    <tr>\n",
       "      <th>voucher</th>\n",
       "      <td>5775</td>\n",
       "    </tr>\n",
       "    <tr>\n",
       "      <th>debit_card</th>\n",
       "      <td>1529</td>\n",
       "    </tr>\n",
       "    <tr>\n",
       "      <th>not_defined</th>\n",
       "      <td>3</td>\n",
       "    </tr>\n",
       "  </tbody>\n",
       "</table>\n",
       "</div>"
      ],
      "text/plain": [
       "             payment_type\n",
       "credit_card         76795\n",
       "boleto              19784\n",
       "voucher              5775\n",
       "debit_card           1529\n",
       "not_defined             3"
      ]
     },
     "execution_count": 55,
     "metadata": {},
     "output_type": "execute_result"
    }
   ],
   "source": [
    "payments['payment_type'].value_counts().to_frame()"
   ]
  },
  {
   "cell_type": "markdown",
   "id": "385cecfa",
   "metadata": {
    "papermill": {
     "duration": 0.025865,
     "end_time": "2022-10-01T09:18:31.782738",
     "exception": false,
     "start_time": "2022-10-01T09:18:31.756873",
     "status": "completed"
    },
    "tags": []
   },
   "source": [
    "<font size=\"4\">Credit card merupakan metode pembayaran yang paling banyak dipilih customer dalam melakukan proses pembayaran</font>"
   ]
  }
 ],
 "metadata": {
  "kernelspec": {
   "display_name": "Python 3",
   "language": "python",
   "name": "python3"
  },
  "language_info": {
   "codemirror_mode": {
    "name": "ipython",
    "version": 3
   },
   "file_extension": ".py",
   "mimetype": "text/x-python",
   "name": "python",
   "nbconvert_exporter": "python",
   "pygments_lexer": "ipython3",
   "version": "3.7.12"
  },
  "papermill": {
   "default_parameters": {},
   "duration": 30.333524,
   "end_time": "2022-10-01T09:18:32.631953",
   "environment_variables": {},
   "exception": null,
   "input_path": "__notebook__.ipynb",
   "output_path": "__notebook__.ipynb",
   "parameters": {},
   "start_time": "2022-10-01T09:18:02.298429",
   "version": "2.3.4"
  }
 },
 "nbformat": 4,
 "nbformat_minor": 5
}
